{
 "cells": [
  {
   "cell_type": "markdown",
   "metadata": {},
   "source": [
    "<div style=\"border:solid Chocolate 2px; padding: 40px\">\n",
    "    \n",
    " <b>Добрый день, Сергей!</b>\n",
    "    \n",
    "Меня зовут Ксения Цыганова, и я буду комментировать твою работу и помогать тебе сделать ее сильнее. В Практикуме мы общаемся на «ты», но если тебе это будет некомфортно, пожалуйста, скажи, и мы будем обращаться друг к другу на «вы».\n",
    "    \n",
    "Все мои комментарии делятся на три вида:\n",
    "\n",
    "    \n",
    "👍 Здесь все отлично, идем дальше! - <font color='green'> зеленый цвет </font>\n",
    "    \n",
    "💡 Все хорошо, однако, можно оптимизировать или рассмотреть другие способы (необязательно для исполнения, чтобы пройти дальше) - <font color='gold'>желтый цвет</font>\n",
    "    \n",
    "🤔 Необходимо внести исправления, без которых я не смогу принять проект - <font color='red'>красный цвет</font>\n",
    "    \n",
    "    \n",
    "Свои комментарии я буду выделять заголовком «комментарий ревьюера». Пожалуйста, не удаляй их, это поможет сократить время проверки на повторных ревью.Ты также можешь писать свои комментарии к моим и выделять их любым понравившимся способом, отличным от моего. Если у тебя будут возникать вопросы в течение нашей работы, я с радостью на них отвечу.\n",
    "\n",
    "Цель моего ревью не критика и не возможность дать тебе готовые ответы, это способ привести тебя в нужное русло, чтобы ты смог развить собственные идеи и решения. Твой будущий работодатель будет поступать похожим образом. \n",
    "        \n",
    "   <b>У тебя все получится!</b>"
   ]
  },
  {
   "cell_type": "code",
   "execution_count": 1,
   "metadata": {},
   "outputs": [
    {
     "name": "stdout",
     "output_type": "stream",
     "text": [
      "2e78ac4a-3fd0-4088-acad-e57113fd9bfc.ipynb\r\n",
      "61a94980-bc3e-4dc6-89cf-a299622bf523.ipynb\r\n",
      "67f13a7e-98ca-41e6-bde1-9fbd7fe6744a.ipynb\r\n",
      "69be281c-2180-4a34-88e9-116487c403e8.ipynb\r\n",
      "90289507-c16d-4627-b0ad-914b36f98d8a.ipynb\r\n",
      "951c8476-14b3-4121-9d5c-68b4e8470103.ipynb\r\n",
      "af3e037f-d6ab-4f64-b0f2-2f6c7159523e.ipynb\r\n",
      "be88d78f-11e0-45d0-b489-acfea88c50f2.ipynb\r\n",
      "d11dfd07-1855-413a-b591-15d13f4190ed.ipynb\r\n",
      "d261bbd2-c486-48d3-9e93-4a16fa5c4738.ipynb\r\n",
      "de110122-0376-4fea-9c2b-7af45a17bfcd.ipynb\r\n",
      "eae32377-5cf3-48cc-84dc-7b2d4d5d126f.ipynb\r\n",
      "fedb9f5b-e73a-4983-a300-54cf533e1cdd.ipynb\r\n",
      "home\r\n",
      "pr_2_start-Copy1.ipynb\r\n",
      "pr_2_start.ipynb\r\n",
      "pr_3_start.ipynb\r\n",
      "Projekt1.ipynb\r\n",
      "Untitled.ipynb\r\n"
     ]
    }
   ],
   "source": [
    "!ls"
   ]
  },
  {
   "cell_type": "markdown",
   "metadata": {},
   "source": [
    "# Прогнозирование оттока клиентов в сети отелей «Как в гостях»"
   ]
  },
  {
   "cell_type": "markdown",
   "metadata": {},
   "source": [
    "Заказчик этого исследования — сеть отелей «Как в гостях». \n",
    "Чтобы привлечь клиентов, эта сеть отелей добавила на свой сайт возможность забронировать номер без предоплаты. Однако если клиент отменял бронирование, то компания терпела убытки. Сотрудники отеля могли, например, закупить продукты к приезду гостя или просто не успеть найти другого клиента.\n",
    "Чтобы решить эту проблему, вам нужно разработать систему, которая предсказывает отказ от брони. Если модель покажет, что бронь будет отменена, то клиенту предлагается внести депозит. Размер депозита — 80% от стоимости номера за одни сутки и затрат на разовую уборку. Деньги будут списаны со счёта клиента, если он всё же отменит бронь."
   ]
  },
  {
   "cell_type": "markdown",
   "metadata": {},
   "source": [
    "План выполнения задания:\n",
    "    -обраборать и изучить данные\n",
    "    -найти закономерности\n",
    "    -подгатовка данных для построения моделей\n",
    "    -построение и изучение моделей, оценка качества моделей\n",
    "    -применение моделей к бизнес задаче\n",
    "    -обработка результатов\n",
    "    "
   ]
  },
  {
   "cell_type": "markdown",
   "metadata": {},
   "source": [
    "<div class=\"alert alert-success\">\n",
    "<h2> Комментарий ревьюера <a class=\"tocSkip\"> </h2>\n",
    "\n",
    "<b>Все отлично!👍:</b> \n",
    "    \n",
    "Отлично, что есть вступительный комментарий "
   ]
  },
  {
   "cell_type": "markdown",
   "metadata": {},
   "source": [
    "### Шаг 1. Откройте файлы с данными"
   ]
  },
  {
   "cell_type": "markdown",
   "metadata": {},
   "source": [
    "Импортируем все необходимые инструменты для работы с данными."
   ]
  },
  {
   "cell_type": "code",
   "execution_count": 1,
   "metadata": {},
   "outputs": [],
   "source": [
    "import pandas as pd\n",
    "from sklearn.model_selection import train_test_split\n",
    "import numpy as np\n",
    "from sklearn.preprocessing import RobustScaler\n",
    "from sklearn.preprocessing import StandardScaler\n",
    "pd.options.mode.chained_assignment = None\n",
    "from sklearn.metrics import accuracy_score, mean_squared_error, r2_score\n",
    "from sklearn.metrics import f1_score\n",
    "from sklearn.metrics import recall_score , precision_score\n",
    "from sklearn.linear_model import LinearRegression\n",
    "from sklearn.ensemble import RandomForestClassifier\n",
    "from sklearn.linear_model import LogisticRegression\n",
    "from sklearn.utils import shuffle\n",
    "import matplotlib.pyplot as plt\n",
    "from scipy import stats as st\n",
    "from sklearn.tree import DecisionTreeClassifier\n",
    "from sklearn.model_selection import cross_val_score\n",
    "from sklearn.preprocessing import OrdinalEncoder \n",
    "import math"
   ]
  },
  {
   "cell_type": "markdown",
   "metadata": {},
   "source": [
    "<div class=\"alert alert-success\">\n",
    "<h2> Комментарий ревьюера <a class=\"tocSkip\"> </h2>\n",
    "\n",
    "    \n",
    "<b>Все отлично!👍:</b> \n",
    "    \n",
    "Отлично, что все импорты собраны в одном месте в начале проекта. Это поможет в случае чего сразу увидеть, какие библиотеки следует доустановить."
   ]
  },
  {
   "cell_type": "markdown",
   "metadata": {},
   "source": [
    "<div class=\"alert alert-warning\">\n",
    "    <h2> Комментарий ревьюера <a class=\"tocSkip\"> </h2>\n",
    "    \n",
    "<b>Некоторые замечания и рекомендации💡:</b> \n",
    "\n",
    "\"Согласно руководству по написанию кода PEP8 все импорты должны располагаться сразу после комментариев к модулю и строк документации, но перед объявлением констант. При этом группировать их желательно в следующем порядке:\n",
    "\n",
    "импорты из стандартной библиотеки,\n",
    "импорты из сторонних библиотек,\n",
    "импорты пользовательских модулей текущего проекта.\"\n",
    "        \n",
    "И между группами стоит оставлять пустую строку.\n",
    "        \n",
    "        \n",
    "Вот еще хорошая статья:\n",
    "        \n",
    "https://okpython.net/python/python_uchebnik/osnovy/moduli_i_pakety_v_python.html\n",
    "        \n",
    "Какие модули входят в стандартную библиотеку можно посмотреть вот здесь:\n",
    "        \n",
    "https://docs.python.org/3/library/exceptions.html#warnings\n",
    "    "
   ]
  },
  {
   "cell_type": "code",
   "execution_count": 2,
   "metadata": {},
   "outputs": [],
   "source": [
    "d1 = pd.read_csv('/datasets/hotel_train.csv') \n",
    "d2 = pd.read_csv('/datasets/hotel_test.csv') "
   ]
  },
  {
   "cell_type": "markdown",
   "metadata": {},
   "source": [
    "<div class=\"alert alert-warning\">\n",
    "    <h2> Комментарий ревьюера <a class=\"tocSkip\"> </h2>\n",
    "    \n",
    "<b>Некоторые замечания и рекомендации💡:</b> \n",
    "        \n",
    "Для загрузки данных можно использовать библиотеку os или констукцию try/except. Это поможет работать с проектом как локально, так и через Jupyter Hub, не внося дополнительных правок."
   ]
  },
  {
   "cell_type": "markdown",
   "metadata": {},
   "source": [
    "### Шаг 2. Предобработка и исследовательский анализ данных"
   ]
  },
  {
   "cell_type": "markdown",
   "metadata": {},
   "source": [
    "Посмотрим на общую информацию о таблицах."
   ]
  },
  {
   "cell_type": "code",
   "execution_count": 3,
   "metadata": {},
   "outputs": [
    {
     "name": "stdout",
     "output_type": "stream",
     "text": [
      "<class 'pandas.core.frame.DataFrame'>\n",
      "RangeIndex: 65229 entries, 0 to 65228\n",
      "Data columns (total 25 columns):\n",
      " #   Column                          Non-Null Count  Dtype  \n",
      "---  ------                          --------------  -----  \n",
      " 0   id                              65229 non-null  int64  \n",
      " 1   is_canceled                     65229 non-null  int64  \n",
      " 2   lead_time                       65229 non-null  float64\n",
      " 3   arrival_date_year               65229 non-null  int64  \n",
      " 4   arrival_date_month              65229 non-null  object \n",
      " 5   arrival_date_week_number        65229 non-null  int64  \n",
      " 6   arrival_date_day_of_month       65229 non-null  int64  \n",
      " 7   stays_in_weekend_nights         65229 non-null  int64  \n",
      " 8   stays_in_week_nights            65229 non-null  int64  \n",
      " 9   adults                          65229 non-null  float64\n",
      " 10  children                        65229 non-null  float64\n",
      " 11  babies                          65229 non-null  float64\n",
      " 12  meal                            65229 non-null  object \n",
      " 13  country                         65229 non-null  object \n",
      " 14  distribution_channel            65229 non-null  object \n",
      " 15  is_repeated_guest               65229 non-null  int64  \n",
      " 16  previous_cancellations          65229 non-null  int64  \n",
      " 17  previous_bookings_not_canceled  65229 non-null  int64  \n",
      " 18  reserved_room_type              65229 non-null  object \n",
      " 19  booking_changes                 65229 non-null  int64  \n",
      " 20  days_in_waiting_list            65229 non-null  int64  \n",
      " 21  customer_type                   65229 non-null  object \n",
      " 22  required_car_parking_spaces     65229 non-null  int64  \n",
      " 23  total_of_special_requests       65229 non-null  int64  \n",
      " 24  total_nights                    65229 non-null  int64  \n",
      "dtypes: float64(4), int64(15), object(6)\n",
      "memory usage: 12.4+ MB\n"
     ]
    }
   ],
   "source": [
    "d1.info()"
   ]
  },
  {
   "cell_type": "code",
   "execution_count": 4,
   "metadata": {},
   "outputs": [
    {
     "name": "stdout",
     "output_type": "stream",
     "text": [
      "<class 'pandas.core.frame.DataFrame'>\n",
      "RangeIndex: 32412 entries, 0 to 32411\n",
      "Data columns (total 25 columns):\n",
      " #   Column                          Non-Null Count  Dtype  \n",
      "---  ------                          --------------  -----  \n",
      " 0   id                              32412 non-null  int64  \n",
      " 1   is_canceled                     32412 non-null  int64  \n",
      " 2   lead_time                       32412 non-null  float64\n",
      " 3   arrival_date_year               32412 non-null  int64  \n",
      " 4   arrival_date_month              32412 non-null  object \n",
      " 5   arrival_date_week_number        32412 non-null  int64  \n",
      " 6   arrival_date_day_of_month       32412 non-null  int64  \n",
      " 7   stays_in_weekend_nights         32412 non-null  int64  \n",
      " 8   stays_in_week_nights            32412 non-null  int64  \n",
      " 9   adults                          32412 non-null  float64\n",
      " 10  children                        32412 non-null  float64\n",
      " 11  babies                          32412 non-null  float64\n",
      " 12  meal                            32412 non-null  object \n",
      " 13  country                         32412 non-null  object \n",
      " 14  distribution_channel            32412 non-null  object \n",
      " 15  is_repeated_guest               32412 non-null  int64  \n",
      " 16  previous_cancellations          32412 non-null  int64  \n",
      " 17  previous_bookings_not_canceled  32412 non-null  int64  \n",
      " 18  reserved_room_type              32412 non-null  object \n",
      " 19  booking_changes                 32412 non-null  int64  \n",
      " 20  days_in_waiting_list            32412 non-null  int64  \n",
      " 21  customer_type                   32412 non-null  object \n",
      " 22  required_car_parking_spaces     32412 non-null  int64  \n",
      " 23  total_of_special_requests       32412 non-null  int64  \n",
      " 24  total_nights                    32412 non-null  int64  \n",
      "dtypes: float64(4), int64(15), object(6)\n",
      "memory usage: 6.2+ MB\n"
     ]
    }
   ],
   "source": [
    "d2.info()"
   ]
  },
  {
   "cell_type": "code",
   "execution_count": 5,
   "metadata": {},
   "outputs": [
    {
     "data": {
      "text/html": [
       "<div>\n",
       "<style scoped>\n",
       "    .dataframe tbody tr th:only-of-type {\n",
       "        vertical-align: middle;\n",
       "    }\n",
       "\n",
       "    .dataframe tbody tr th {\n",
       "        vertical-align: top;\n",
       "    }\n",
       "\n",
       "    .dataframe thead th {\n",
       "        text-align: right;\n",
       "    }\n",
       "</style>\n",
       "<table border=\"1\" class=\"dataframe\">\n",
       "  <thead>\n",
       "    <tr style=\"text-align: right;\">\n",
       "      <th></th>\n",
       "      <th>id</th>\n",
       "      <th>is_canceled</th>\n",
       "      <th>lead_time</th>\n",
       "      <th>arrival_date_year</th>\n",
       "      <th>arrival_date_month</th>\n",
       "      <th>arrival_date_week_number</th>\n",
       "      <th>arrival_date_day_of_month</th>\n",
       "      <th>stays_in_weekend_nights</th>\n",
       "      <th>stays_in_week_nights</th>\n",
       "      <th>adults</th>\n",
       "      <th>...</th>\n",
       "      <th>is_repeated_guest</th>\n",
       "      <th>previous_cancellations</th>\n",
       "      <th>previous_bookings_not_canceled</th>\n",
       "      <th>reserved_room_type</th>\n",
       "      <th>booking_changes</th>\n",
       "      <th>days_in_waiting_list</th>\n",
       "      <th>customer_type</th>\n",
       "      <th>required_car_parking_spaces</th>\n",
       "      <th>total_of_special_requests</th>\n",
       "      <th>total_nights</th>\n",
       "    </tr>\n",
       "  </thead>\n",
       "  <tbody>\n",
       "    <tr>\n",
       "      <th>0</th>\n",
       "      <td>0</td>\n",
       "      <td>0</td>\n",
       "      <td>7.0</td>\n",
       "      <td>2015</td>\n",
       "      <td>July</td>\n",
       "      <td>27</td>\n",
       "      <td>1</td>\n",
       "      <td>0</td>\n",
       "      <td>1</td>\n",
       "      <td>1.0</td>\n",
       "      <td>...</td>\n",
       "      <td>0</td>\n",
       "      <td>0</td>\n",
       "      <td>0</td>\n",
       "      <td>A</td>\n",
       "      <td>0</td>\n",
       "      <td>0</td>\n",
       "      <td>Transient</td>\n",
       "      <td>0</td>\n",
       "      <td>0</td>\n",
       "      <td>1</td>\n",
       "    </tr>\n",
       "    <tr>\n",
       "      <th>1</th>\n",
       "      <td>1</td>\n",
       "      <td>0</td>\n",
       "      <td>14.0</td>\n",
       "      <td>2015</td>\n",
       "      <td>July</td>\n",
       "      <td>27</td>\n",
       "      <td>1</td>\n",
       "      <td>0</td>\n",
       "      <td>2</td>\n",
       "      <td>2.0</td>\n",
       "      <td>...</td>\n",
       "      <td>0</td>\n",
       "      <td>0</td>\n",
       "      <td>0</td>\n",
       "      <td>A</td>\n",
       "      <td>0</td>\n",
       "      <td>0</td>\n",
       "      <td>Transient</td>\n",
       "      <td>0</td>\n",
       "      <td>1</td>\n",
       "      <td>2</td>\n",
       "    </tr>\n",
       "    <tr>\n",
       "      <th>2</th>\n",
       "      <td>2</td>\n",
       "      <td>0</td>\n",
       "      <td>0.0</td>\n",
       "      <td>2015</td>\n",
       "      <td>July</td>\n",
       "      <td>27</td>\n",
       "      <td>1</td>\n",
       "      <td>0</td>\n",
       "      <td>2</td>\n",
       "      <td>2.0</td>\n",
       "      <td>...</td>\n",
       "      <td>0</td>\n",
       "      <td>0</td>\n",
       "      <td>0</td>\n",
       "      <td>C</td>\n",
       "      <td>0</td>\n",
       "      <td>0</td>\n",
       "      <td>Transient</td>\n",
       "      <td>0</td>\n",
       "      <td>0</td>\n",
       "      <td>2</td>\n",
       "    </tr>\n",
       "    <tr>\n",
       "      <th>3</th>\n",
       "      <td>3</td>\n",
       "      <td>0</td>\n",
       "      <td>9.0</td>\n",
       "      <td>2015</td>\n",
       "      <td>July</td>\n",
       "      <td>27</td>\n",
       "      <td>1</td>\n",
       "      <td>0</td>\n",
       "      <td>2</td>\n",
       "      <td>2.0</td>\n",
       "      <td>...</td>\n",
       "      <td>0</td>\n",
       "      <td>0</td>\n",
       "      <td>0</td>\n",
       "      <td>C</td>\n",
       "      <td>0</td>\n",
       "      <td>0</td>\n",
       "      <td>Transient</td>\n",
       "      <td>0</td>\n",
       "      <td>1</td>\n",
       "      <td>2</td>\n",
       "    </tr>\n",
       "    <tr>\n",
       "      <th>4</th>\n",
       "      <td>4</td>\n",
       "      <td>1</td>\n",
       "      <td>85.0</td>\n",
       "      <td>2015</td>\n",
       "      <td>July</td>\n",
       "      <td>27</td>\n",
       "      <td>1</td>\n",
       "      <td>0</td>\n",
       "      <td>3</td>\n",
       "      <td>2.0</td>\n",
       "      <td>...</td>\n",
       "      <td>0</td>\n",
       "      <td>0</td>\n",
       "      <td>0</td>\n",
       "      <td>A</td>\n",
       "      <td>0</td>\n",
       "      <td>0</td>\n",
       "      <td>Transient</td>\n",
       "      <td>0</td>\n",
       "      <td>1</td>\n",
       "      <td>3</td>\n",
       "    </tr>\n",
       "    <tr>\n",
       "      <th>...</th>\n",
       "      <td>...</td>\n",
       "      <td>...</td>\n",
       "      <td>...</td>\n",
       "      <td>...</td>\n",
       "      <td>...</td>\n",
       "      <td>...</td>\n",
       "      <td>...</td>\n",
       "      <td>...</td>\n",
       "      <td>...</td>\n",
       "      <td>...</td>\n",
       "      <td>...</td>\n",
       "      <td>...</td>\n",
       "      <td>...</td>\n",
       "      <td>...</td>\n",
       "      <td>...</td>\n",
       "      <td>...</td>\n",
       "      <td>...</td>\n",
       "      <td>...</td>\n",
       "      <td>...</td>\n",
       "      <td>...</td>\n",
       "      <td>...</td>\n",
       "    </tr>\n",
       "    <tr>\n",
       "      <th>65224</th>\n",
       "      <td>84057</td>\n",
       "      <td>0</td>\n",
       "      <td>23.0</td>\n",
       "      <td>2016</td>\n",
       "      <td>December</td>\n",
       "      <td>53</td>\n",
       "      <td>30</td>\n",
       "      <td>2</td>\n",
       "      <td>4</td>\n",
       "      <td>2.0</td>\n",
       "      <td>...</td>\n",
       "      <td>0</td>\n",
       "      <td>0</td>\n",
       "      <td>0</td>\n",
       "      <td>D</td>\n",
       "      <td>0</td>\n",
       "      <td>0</td>\n",
       "      <td>Transient</td>\n",
       "      <td>0</td>\n",
       "      <td>2</td>\n",
       "      <td>6</td>\n",
       "    </tr>\n",
       "    <tr>\n",
       "      <th>65225</th>\n",
       "      <td>84063</td>\n",
       "      <td>0</td>\n",
       "      <td>53.0</td>\n",
       "      <td>2016</td>\n",
       "      <td>December</td>\n",
       "      <td>53</td>\n",
       "      <td>31</td>\n",
       "      <td>2</td>\n",
       "      <td>3</td>\n",
       "      <td>2.0</td>\n",
       "      <td>...</td>\n",
       "      <td>0</td>\n",
       "      <td>0</td>\n",
       "      <td>0</td>\n",
       "      <td>D</td>\n",
       "      <td>0</td>\n",
       "      <td>0</td>\n",
       "      <td>Transient</td>\n",
       "      <td>0</td>\n",
       "      <td>3</td>\n",
       "      <td>5</td>\n",
       "    </tr>\n",
       "    <tr>\n",
       "      <th>65226</th>\n",
       "      <td>84094</td>\n",
       "      <td>0</td>\n",
       "      <td>7.0</td>\n",
       "      <td>2016</td>\n",
       "      <td>December</td>\n",
       "      <td>53</td>\n",
       "      <td>31</td>\n",
       "      <td>2</td>\n",
       "      <td>4</td>\n",
       "      <td>2.0</td>\n",
       "      <td>...</td>\n",
       "      <td>0</td>\n",
       "      <td>0</td>\n",
       "      <td>0</td>\n",
       "      <td>D</td>\n",
       "      <td>0</td>\n",
       "      <td>0</td>\n",
       "      <td>Transient</td>\n",
       "      <td>0</td>\n",
       "      <td>1</td>\n",
       "      <td>6</td>\n",
       "    </tr>\n",
       "    <tr>\n",
       "      <th>65227</th>\n",
       "      <td>84117</td>\n",
       "      <td>0</td>\n",
       "      <td>17.0</td>\n",
       "      <td>2016</td>\n",
       "      <td>December</td>\n",
       "      <td>53</td>\n",
       "      <td>30</td>\n",
       "      <td>2</td>\n",
       "      <td>5</td>\n",
       "      <td>2.0</td>\n",
       "      <td>...</td>\n",
       "      <td>0</td>\n",
       "      <td>0</td>\n",
       "      <td>0</td>\n",
       "      <td>A</td>\n",
       "      <td>0</td>\n",
       "      <td>0</td>\n",
       "      <td>Transient</td>\n",
       "      <td>0</td>\n",
       "      <td>1</td>\n",
       "      <td>7</td>\n",
       "    </tr>\n",
       "    <tr>\n",
       "      <th>65228</th>\n",
       "      <td>84121</td>\n",
       "      <td>0</td>\n",
       "      <td>107.0</td>\n",
       "      <td>2016</td>\n",
       "      <td>December</td>\n",
       "      <td>53</td>\n",
       "      <td>31</td>\n",
       "      <td>2</td>\n",
       "      <td>5</td>\n",
       "      <td>2.0</td>\n",
       "      <td>...</td>\n",
       "      <td>0</td>\n",
       "      <td>0</td>\n",
       "      <td>0</td>\n",
       "      <td>A</td>\n",
       "      <td>0</td>\n",
       "      <td>0</td>\n",
       "      <td>Transient</td>\n",
       "      <td>0</td>\n",
       "      <td>0</td>\n",
       "      <td>7</td>\n",
       "    </tr>\n",
       "  </tbody>\n",
       "</table>\n",
       "<p>65229 rows × 25 columns</p>\n",
       "</div>"
      ],
      "text/plain": [
       "          id  is_canceled  lead_time  arrival_date_year arrival_date_month  \\\n",
       "0          0            0        7.0               2015               July   \n",
       "1          1            0       14.0               2015               July   \n",
       "2          2            0        0.0               2015               July   \n",
       "3          3            0        9.0               2015               July   \n",
       "4          4            1       85.0               2015               July   \n",
       "...      ...          ...        ...                ...                ...   \n",
       "65224  84057            0       23.0               2016           December   \n",
       "65225  84063            0       53.0               2016           December   \n",
       "65226  84094            0        7.0               2016           December   \n",
       "65227  84117            0       17.0               2016           December   \n",
       "65228  84121            0      107.0               2016           December   \n",
       "\n",
       "       arrival_date_week_number  arrival_date_day_of_month  \\\n",
       "0                            27                          1   \n",
       "1                            27                          1   \n",
       "2                            27                          1   \n",
       "3                            27                          1   \n",
       "4                            27                          1   \n",
       "...                         ...                        ...   \n",
       "65224                        53                         30   \n",
       "65225                        53                         31   \n",
       "65226                        53                         31   \n",
       "65227                        53                         30   \n",
       "65228                        53                         31   \n",
       "\n",
       "       stays_in_weekend_nights  stays_in_week_nights  adults  ...  \\\n",
       "0                            0                     1     1.0  ...   \n",
       "1                            0                     2     2.0  ...   \n",
       "2                            0                     2     2.0  ...   \n",
       "3                            0                     2     2.0  ...   \n",
       "4                            0                     3     2.0  ...   \n",
       "...                        ...                   ...     ...  ...   \n",
       "65224                        2                     4     2.0  ...   \n",
       "65225                        2                     3     2.0  ...   \n",
       "65226                        2                     4     2.0  ...   \n",
       "65227                        2                     5     2.0  ...   \n",
       "65228                        2                     5     2.0  ...   \n",
       "\n",
       "       is_repeated_guest  previous_cancellations  \\\n",
       "0                      0                       0   \n",
       "1                      0                       0   \n",
       "2                      0                       0   \n",
       "3                      0                       0   \n",
       "4                      0                       0   \n",
       "...                  ...                     ...   \n",
       "65224                  0                       0   \n",
       "65225                  0                       0   \n",
       "65226                  0                       0   \n",
       "65227                  0                       0   \n",
       "65228                  0                       0   \n",
       "\n",
       "      previous_bookings_not_canceled reserved_room_type booking_changes  \\\n",
       "0                                  0   A                              0   \n",
       "1                                  0   A                              0   \n",
       "2                                  0   C                              0   \n",
       "3                                  0   C                              0   \n",
       "4                                  0   A                              0   \n",
       "...                              ...                ...             ...   \n",
       "65224                              0   D                              0   \n",
       "65225                              0   D                              0   \n",
       "65226                              0   D                              0   \n",
       "65227                              0   A                              0   \n",
       "65228                              0   A                              0   \n",
       "\n",
       "       days_in_waiting_list  customer_type  required_car_parking_spaces  \\\n",
       "0                         0      Transient                            0   \n",
       "1                         0      Transient                            0   \n",
       "2                         0      Transient                            0   \n",
       "3                         0      Transient                            0   \n",
       "4                         0      Transient                            0   \n",
       "...                     ...            ...                          ...   \n",
       "65224                     0      Transient                            0   \n",
       "65225                     0      Transient                            0   \n",
       "65226                     0      Transient                            0   \n",
       "65227                     0      Transient                            0   \n",
       "65228                     0      Transient                            0   \n",
       "\n",
       "      total_of_special_requests  total_nights  \n",
       "0                             0             1  \n",
       "1                             1             2  \n",
       "2                             0             2  \n",
       "3                             1             2  \n",
       "4                             1             3  \n",
       "...                         ...           ...  \n",
       "65224                         2             6  \n",
       "65225                         3             5  \n",
       "65226                         1             6  \n",
       "65227                         1             7  \n",
       "65228                         0             7  \n",
       "\n",
       "[65229 rows x 25 columns]"
      ]
     },
     "execution_count": 5,
     "metadata": {},
     "output_type": "execute_result"
    }
   ],
   "source": [
    "d1"
   ]
  },
  {
   "cell_type": "markdown",
   "metadata": {},
   "source": [
    "<div class=\"alert alert-warning\">\n",
    "    <h2> Комментарий ревьюера <a class=\"tocSkip\"> </h2>\n",
    "    \n",
    "<b>Некоторые замечания и рекомендации💡:</b> \n",
    "        \n",
    "        \n",
    "Для вывода датафрейма на экран оптимальнее использовать методы sample, tail, head"
   ]
  },
  {
   "cell_type": "markdown",
   "metadata": {},
   "source": [
    "Посмотрим на срез данных с главным положительным признаком(положительный класс признака отказ от брони)."
   ]
  },
  {
   "cell_type": "markdown",
   "metadata": {},
   "source": [
    "\n",
    "<div class=\"alert alert-block alert-danger\">\n",
    "<h2> Комментарий ревьюера <a class=\"tocSkip\"></h2>\n",
    "\n",
    "    \n",
    "<b>На доработку🤔:</b>\n",
    "    \n",
    "Стоит добавить более подробные пояснения к своим действиям"
   ]
  },
  {
   "cell_type": "code",
   "execution_count": 6,
   "metadata": {},
   "outputs": [
    {
     "data": {
      "text/html": [
       "<div>\n",
       "<style scoped>\n",
       "    .dataframe tbody tr th:only-of-type {\n",
       "        vertical-align: middle;\n",
       "    }\n",
       "\n",
       "    .dataframe tbody tr th {\n",
       "        vertical-align: top;\n",
       "    }\n",
       "\n",
       "    .dataframe thead th {\n",
       "        text-align: right;\n",
       "    }\n",
       "</style>\n",
       "<table border=\"1\" class=\"dataframe\">\n",
       "  <thead>\n",
       "    <tr style=\"text-align: right;\">\n",
       "      <th></th>\n",
       "      <th>id</th>\n",
       "      <th>is_canceled</th>\n",
       "      <th>lead_time</th>\n",
       "      <th>arrival_date_year</th>\n",
       "      <th>arrival_date_month</th>\n",
       "      <th>arrival_date_week_number</th>\n",
       "      <th>arrival_date_day_of_month</th>\n",
       "      <th>stays_in_weekend_nights</th>\n",
       "      <th>stays_in_week_nights</th>\n",
       "      <th>adults</th>\n",
       "      <th>...</th>\n",
       "      <th>is_repeated_guest</th>\n",
       "      <th>previous_cancellations</th>\n",
       "      <th>previous_bookings_not_canceled</th>\n",
       "      <th>reserved_room_type</th>\n",
       "      <th>booking_changes</th>\n",
       "      <th>days_in_waiting_list</th>\n",
       "      <th>customer_type</th>\n",
       "      <th>required_car_parking_spaces</th>\n",
       "      <th>total_of_special_requests</th>\n",
       "      <th>total_nights</th>\n",
       "    </tr>\n",
       "  </thead>\n",
       "  <tbody>\n",
       "    <tr>\n",
       "      <th>4</th>\n",
       "      <td>4</td>\n",
       "      <td>1</td>\n",
       "      <td>85.0</td>\n",
       "      <td>2015</td>\n",
       "      <td>July</td>\n",
       "      <td>27</td>\n",
       "      <td>1</td>\n",
       "      <td>0</td>\n",
       "      <td>3</td>\n",
       "      <td>2.0</td>\n",
       "      <td>...</td>\n",
       "      <td>0</td>\n",
       "      <td>0</td>\n",
       "      <td>0</td>\n",
       "      <td>A</td>\n",
       "      <td>0</td>\n",
       "      <td>0</td>\n",
       "      <td>Transient</td>\n",
       "      <td>0</td>\n",
       "      <td>1</td>\n",
       "      <td>3</td>\n",
       "    </tr>\n",
       "    <tr>\n",
       "      <th>5</th>\n",
       "      <td>5</td>\n",
       "      <td>1</td>\n",
       "      <td>75.0</td>\n",
       "      <td>2015</td>\n",
       "      <td>July</td>\n",
       "      <td>27</td>\n",
       "      <td>1</td>\n",
       "      <td>0</td>\n",
       "      <td>3</td>\n",
       "      <td>2.0</td>\n",
       "      <td>...</td>\n",
       "      <td>0</td>\n",
       "      <td>0</td>\n",
       "      <td>0</td>\n",
       "      <td>D</td>\n",
       "      <td>0</td>\n",
       "      <td>0</td>\n",
       "      <td>Transient</td>\n",
       "      <td>0</td>\n",
       "      <td>0</td>\n",
       "      <td>3</td>\n",
       "    </tr>\n",
       "    <tr>\n",
       "      <th>6</th>\n",
       "      <td>6</td>\n",
       "      <td>1</td>\n",
       "      <td>23.0</td>\n",
       "      <td>2015</td>\n",
       "      <td>July</td>\n",
       "      <td>27</td>\n",
       "      <td>1</td>\n",
       "      <td>0</td>\n",
       "      <td>4</td>\n",
       "      <td>2.0</td>\n",
       "      <td>...</td>\n",
       "      <td>0</td>\n",
       "      <td>0</td>\n",
       "      <td>0</td>\n",
       "      <td>E</td>\n",
       "      <td>0</td>\n",
       "      <td>0</td>\n",
       "      <td>Transient</td>\n",
       "      <td>0</td>\n",
       "      <td>0</td>\n",
       "      <td>4</td>\n",
       "    </tr>\n",
       "    <tr>\n",
       "      <th>18</th>\n",
       "      <td>18</td>\n",
       "      <td>1</td>\n",
       "      <td>40.0</td>\n",
       "      <td>2015</td>\n",
       "      <td>July</td>\n",
       "      <td>27</td>\n",
       "      <td>2</td>\n",
       "      <td>1</td>\n",
       "      <td>3</td>\n",
       "      <td>3.0</td>\n",
       "      <td>...</td>\n",
       "      <td>0</td>\n",
       "      <td>0</td>\n",
       "      <td>0</td>\n",
       "      <td>D</td>\n",
       "      <td>0</td>\n",
       "      <td>0</td>\n",
       "      <td>Transient</td>\n",
       "      <td>0</td>\n",
       "      <td>1</td>\n",
       "      <td>4</td>\n",
       "    </tr>\n",
       "    <tr>\n",
       "      <th>22</th>\n",
       "      <td>22</td>\n",
       "      <td>1</td>\n",
       "      <td>45.0</td>\n",
       "      <td>2015</td>\n",
       "      <td>July</td>\n",
       "      <td>27</td>\n",
       "      <td>2</td>\n",
       "      <td>2</td>\n",
       "      <td>3</td>\n",
       "      <td>2.0</td>\n",
       "      <td>...</td>\n",
       "      <td>0</td>\n",
       "      <td>0</td>\n",
       "      <td>0</td>\n",
       "      <td>G</td>\n",
       "      <td>0</td>\n",
       "      <td>0</td>\n",
       "      <td>Transient</td>\n",
       "      <td>0</td>\n",
       "      <td>0</td>\n",
       "      <td>5</td>\n",
       "    </tr>\n",
       "    <tr>\n",
       "      <th>...</th>\n",
       "      <td>...</td>\n",
       "      <td>...</td>\n",
       "      <td>...</td>\n",
       "      <td>...</td>\n",
       "      <td>...</td>\n",
       "      <td>...</td>\n",
       "      <td>...</td>\n",
       "      <td>...</td>\n",
       "      <td>...</td>\n",
       "      <td>...</td>\n",
       "      <td>...</td>\n",
       "      <td>...</td>\n",
       "      <td>...</td>\n",
       "      <td>...</td>\n",
       "      <td>...</td>\n",
       "      <td>...</td>\n",
       "      <td>...</td>\n",
       "      <td>...</td>\n",
       "      <td>...</td>\n",
       "      <td>...</td>\n",
       "      <td>...</td>\n",
       "    </tr>\n",
       "    <tr>\n",
       "      <th>56255</th>\n",
       "      <td>74879</td>\n",
       "      <td>1</td>\n",
       "      <td>6.0</td>\n",
       "      <td>2016</td>\n",
       "      <td>November</td>\n",
       "      <td>48</td>\n",
       "      <td>24</td>\n",
       "      <td>0</td>\n",
       "      <td>1</td>\n",
       "      <td>1.0</td>\n",
       "      <td>...</td>\n",
       "      <td>1</td>\n",
       "      <td>1</td>\n",
       "      <td>3</td>\n",
       "      <td>A</td>\n",
       "      <td>0</td>\n",
       "      <td>0</td>\n",
       "      <td>Transient</td>\n",
       "      <td>0</td>\n",
       "      <td>1</td>\n",
       "      <td>1</td>\n",
       "    </tr>\n",
       "    <tr>\n",
       "      <th>56267</th>\n",
       "      <td>74896</td>\n",
       "      <td>1</td>\n",
       "      <td>3.0</td>\n",
       "      <td>2016</td>\n",
       "      <td>September</td>\n",
       "      <td>38</td>\n",
       "      <td>12</td>\n",
       "      <td>1</td>\n",
       "      <td>2</td>\n",
       "      <td>1.0</td>\n",
       "      <td>...</td>\n",
       "      <td>1</td>\n",
       "      <td>0</td>\n",
       "      <td>1</td>\n",
       "      <td>A</td>\n",
       "      <td>0</td>\n",
       "      <td>0</td>\n",
       "      <td>Transient</td>\n",
       "      <td>0</td>\n",
       "      <td>1</td>\n",
       "      <td>3</td>\n",
       "    </tr>\n",
       "    <tr>\n",
       "      <th>57717</th>\n",
       "      <td>76356</td>\n",
       "      <td>1</td>\n",
       "      <td>12.0</td>\n",
       "      <td>2016</td>\n",
       "      <td>October</td>\n",
       "      <td>42</td>\n",
       "      <td>12</td>\n",
       "      <td>0</td>\n",
       "      <td>2</td>\n",
       "      <td>1.0</td>\n",
       "      <td>...</td>\n",
       "      <td>1</td>\n",
       "      <td>0</td>\n",
       "      <td>4</td>\n",
       "      <td>A</td>\n",
       "      <td>0</td>\n",
       "      <td>0</td>\n",
       "      <td>Transient</td>\n",
       "      <td>0</td>\n",
       "      <td>1</td>\n",
       "      <td>2</td>\n",
       "    </tr>\n",
       "    <tr>\n",
       "      <th>59663</th>\n",
       "      <td>78334</td>\n",
       "      <td>1</td>\n",
       "      <td>0.0</td>\n",
       "      <td>2016</td>\n",
       "      <td>October</td>\n",
       "      <td>42</td>\n",
       "      <td>10</td>\n",
       "      <td>1</td>\n",
       "      <td>2</td>\n",
       "      <td>1.0</td>\n",
       "      <td>...</td>\n",
       "      <td>1</td>\n",
       "      <td>0</td>\n",
       "      <td>1</td>\n",
       "      <td>A</td>\n",
       "      <td>0</td>\n",
       "      <td>0</td>\n",
       "      <td>Transient</td>\n",
       "      <td>0</td>\n",
       "      <td>0</td>\n",
       "      <td>3</td>\n",
       "    </tr>\n",
       "    <tr>\n",
       "      <th>60450</th>\n",
       "      <td>79128</td>\n",
       "      <td>1</td>\n",
       "      <td>0.0</td>\n",
       "      <td>2016</td>\n",
       "      <td>December</td>\n",
       "      <td>51</td>\n",
       "      <td>12</td>\n",
       "      <td>1</td>\n",
       "      <td>0</td>\n",
       "      <td>2.0</td>\n",
       "      <td>...</td>\n",
       "      <td>1</td>\n",
       "      <td>0</td>\n",
       "      <td>1</td>\n",
       "      <td>A</td>\n",
       "      <td>0</td>\n",
       "      <td>0</td>\n",
       "      <td>Transient</td>\n",
       "      <td>0</td>\n",
       "      <td>2</td>\n",
       "      <td>1</td>\n",
       "    </tr>\n",
       "  </tbody>\n",
       "</table>\n",
       "<p>24044 rows × 25 columns</p>\n",
       "</div>"
      ],
      "text/plain": [
       "          id  is_canceled  lead_time  arrival_date_year arrival_date_month  \\\n",
       "4          4            1       85.0               2015               July   \n",
       "5          5            1       75.0               2015               July   \n",
       "6          6            1       23.0               2015               July   \n",
       "18        18            1       40.0               2015               July   \n",
       "22        22            1       45.0               2015               July   \n",
       "...      ...          ...        ...                ...                ...   \n",
       "56255  74879            1        6.0               2016           November   \n",
       "56267  74896            1        3.0               2016          September   \n",
       "57717  76356            1       12.0               2016            October   \n",
       "59663  78334            1        0.0               2016            October   \n",
       "60450  79128            1        0.0               2016           December   \n",
       "\n",
       "       arrival_date_week_number  arrival_date_day_of_month  \\\n",
       "4                            27                          1   \n",
       "5                            27                          1   \n",
       "6                            27                          1   \n",
       "18                           27                          2   \n",
       "22                           27                          2   \n",
       "...                         ...                        ...   \n",
       "56255                        48                         24   \n",
       "56267                        38                         12   \n",
       "57717                        42                         12   \n",
       "59663                        42                         10   \n",
       "60450                        51                         12   \n",
       "\n",
       "       stays_in_weekend_nights  stays_in_week_nights  adults  ...  \\\n",
       "4                            0                     3     2.0  ...   \n",
       "5                            0                     3     2.0  ...   \n",
       "6                            0                     4     2.0  ...   \n",
       "18                           1                     3     3.0  ...   \n",
       "22                           2                     3     2.0  ...   \n",
       "...                        ...                   ...     ...  ...   \n",
       "56255                        0                     1     1.0  ...   \n",
       "56267                        1                     2     1.0  ...   \n",
       "57717                        0                     2     1.0  ...   \n",
       "59663                        1                     2     1.0  ...   \n",
       "60450                        1                     0     2.0  ...   \n",
       "\n",
       "       is_repeated_guest  previous_cancellations  \\\n",
       "4                      0                       0   \n",
       "5                      0                       0   \n",
       "6                      0                       0   \n",
       "18                     0                       0   \n",
       "22                     0                       0   \n",
       "...                  ...                     ...   \n",
       "56255                  1                       1   \n",
       "56267                  1                       0   \n",
       "57717                  1                       0   \n",
       "59663                  1                       0   \n",
       "60450                  1                       0   \n",
       "\n",
       "      previous_bookings_not_canceled reserved_room_type booking_changes  \\\n",
       "4                                  0   A                              0   \n",
       "5                                  0   D                              0   \n",
       "6                                  0   E                              0   \n",
       "18                                 0   D                              0   \n",
       "22                                 0   G                              0   \n",
       "...                              ...                ...             ...   \n",
       "56255                              3   A                              0   \n",
       "56267                              1   A                              0   \n",
       "57717                              4   A                              0   \n",
       "59663                              1   A                              0   \n",
       "60450                              1   A                              0   \n",
       "\n",
       "       days_in_waiting_list  customer_type  required_car_parking_spaces  \\\n",
       "4                         0      Transient                            0   \n",
       "5                         0      Transient                            0   \n",
       "6                         0      Transient                            0   \n",
       "18                        0      Transient                            0   \n",
       "22                        0      Transient                            0   \n",
       "...                     ...            ...                          ...   \n",
       "56255                     0      Transient                            0   \n",
       "56267                     0      Transient                            0   \n",
       "57717                     0      Transient                            0   \n",
       "59663                     0      Transient                            0   \n",
       "60450                     0      Transient                            0   \n",
       "\n",
       "      total_of_special_requests  total_nights  \n",
       "4                             1             3  \n",
       "5                             0             3  \n",
       "6                             0             4  \n",
       "18                            1             4  \n",
       "22                            0             5  \n",
       "...                         ...           ...  \n",
       "56255                         1             1  \n",
       "56267                         1             3  \n",
       "57717                         1             2  \n",
       "59663                         0             3  \n",
       "60450                         2             1  \n",
       "\n",
       "[24044 rows x 25 columns]"
      ]
     },
     "execution_count": 6,
     "metadata": {},
     "output_type": "execute_result"
    }
   ],
   "source": [
    "d1[d1['is_canceled']==1]"
   ]
  },
  {
   "cell_type": "code",
   "execution_count": 7,
   "metadata": {},
   "outputs": [
    {
     "data": {
      "text/plain": [
       "(64.0, 96.33791718407457)"
      ]
     },
     "execution_count": 7,
     "metadata": {},
     "output_type": "execute_result"
    }
   ],
   "source": [
    "d1['lead_time'].median(),d1['lead_time'].mean()"
   ]
  },
  {
   "cell_type": "code",
   "execution_count": 8,
   "metadata": {},
   "outputs": [
    {
     "data": {
      "text/html": [
       "<div>\n",
       "<style scoped>\n",
       "    .dataframe tbody tr th:only-of-type {\n",
       "        vertical-align: middle;\n",
       "    }\n",
       "\n",
       "    .dataframe tbody tr th {\n",
       "        vertical-align: top;\n",
       "    }\n",
       "\n",
       "    .dataframe thead th {\n",
       "        text-align: right;\n",
       "    }\n",
       "</style>\n",
       "<table border=\"1\" class=\"dataframe\">\n",
       "  <thead>\n",
       "    <tr style=\"text-align: right;\">\n",
       "      <th></th>\n",
       "      <th>id</th>\n",
       "      <th>is_canceled</th>\n",
       "      <th>lead_time</th>\n",
       "      <th>arrival_date_year</th>\n",
       "      <th>arrival_date_month</th>\n",
       "      <th>arrival_date_week_number</th>\n",
       "      <th>arrival_date_day_of_month</th>\n",
       "      <th>stays_in_weekend_nights</th>\n",
       "      <th>stays_in_week_nights</th>\n",
       "      <th>adults</th>\n",
       "      <th>...</th>\n",
       "      <th>is_repeated_guest</th>\n",
       "      <th>previous_cancellations</th>\n",
       "      <th>previous_bookings_not_canceled</th>\n",
       "      <th>reserved_room_type</th>\n",
       "      <th>booking_changes</th>\n",
       "      <th>days_in_waiting_list</th>\n",
       "      <th>customer_type</th>\n",
       "      <th>required_car_parking_spaces</th>\n",
       "      <th>total_of_special_requests</th>\n",
       "      <th>total_nights</th>\n",
       "    </tr>\n",
       "  </thead>\n",
       "  <tbody>\n",
       "    <tr>\n",
       "      <th>45</th>\n",
       "      <td>45</td>\n",
       "      <td>1</td>\n",
       "      <td>101.0</td>\n",
       "      <td>2015</td>\n",
       "      <td>July</td>\n",
       "      <td>27</td>\n",
       "      <td>3</td>\n",
       "      <td>0</td>\n",
       "      <td>2</td>\n",
       "      <td>2.0</td>\n",
       "      <td>...</td>\n",
       "      <td>0</td>\n",
       "      <td>0</td>\n",
       "      <td>0</td>\n",
       "      <td>A</td>\n",
       "      <td>0</td>\n",
       "      <td>0</td>\n",
       "      <td>Transient</td>\n",
       "      <td>0</td>\n",
       "      <td>1</td>\n",
       "      <td>2</td>\n",
       "    </tr>\n",
       "    <tr>\n",
       "      <th>57</th>\n",
       "      <td>57</td>\n",
       "      <td>1</td>\n",
       "      <td>109.0</td>\n",
       "      <td>2015</td>\n",
       "      <td>July</td>\n",
       "      <td>27</td>\n",
       "      <td>3</td>\n",
       "      <td>0</td>\n",
       "      <td>2</td>\n",
       "      <td>2.0</td>\n",
       "      <td>...</td>\n",
       "      <td>0</td>\n",
       "      <td>0</td>\n",
       "      <td>0</td>\n",
       "      <td>A</td>\n",
       "      <td>0</td>\n",
       "      <td>0</td>\n",
       "      <td>Transient</td>\n",
       "      <td>0</td>\n",
       "      <td>1</td>\n",
       "      <td>2</td>\n",
       "    </tr>\n",
       "    <tr>\n",
       "      <th>69</th>\n",
       "      <td>70</td>\n",
       "      <td>1</td>\n",
       "      <td>101.0</td>\n",
       "      <td>2015</td>\n",
       "      <td>July</td>\n",
       "      <td>27</td>\n",
       "      <td>4</td>\n",
       "      <td>2</td>\n",
       "      <td>6</td>\n",
       "      <td>2.0</td>\n",
       "      <td>...</td>\n",
       "      <td>0</td>\n",
       "      <td>0</td>\n",
       "      <td>0</td>\n",
       "      <td>E</td>\n",
       "      <td>0</td>\n",
       "      <td>0</td>\n",
       "      <td>Transient</td>\n",
       "      <td>0</td>\n",
       "      <td>1</td>\n",
       "      <td>8</td>\n",
       "    </tr>\n",
       "    <tr>\n",
       "      <th>95</th>\n",
       "      <td>98</td>\n",
       "      <td>1</td>\n",
       "      <td>101.0</td>\n",
       "      <td>2015</td>\n",
       "      <td>July</td>\n",
       "      <td>28</td>\n",
       "      <td>5</td>\n",
       "      <td>2</td>\n",
       "      <td>5</td>\n",
       "      <td>2.0</td>\n",
       "      <td>...</td>\n",
       "      <td>0</td>\n",
       "      <td>0</td>\n",
       "      <td>0</td>\n",
       "      <td>A</td>\n",
       "      <td>0</td>\n",
       "      <td>0</td>\n",
       "      <td>Transient</td>\n",
       "      <td>0</td>\n",
       "      <td>1</td>\n",
       "      <td>7</td>\n",
       "    </tr>\n",
       "    <tr>\n",
       "      <th>123</th>\n",
       "      <td>126</td>\n",
       "      <td>1</td>\n",
       "      <td>113.0</td>\n",
       "      <td>2015</td>\n",
       "      <td>July</td>\n",
       "      <td>28</td>\n",
       "      <td>8</td>\n",
       "      <td>0</td>\n",
       "      <td>4</td>\n",
       "      <td>2.0</td>\n",
       "      <td>...</td>\n",
       "      <td>0</td>\n",
       "      <td>0</td>\n",
       "      <td>0</td>\n",
       "      <td>A</td>\n",
       "      <td>0</td>\n",
       "      <td>0</td>\n",
       "      <td>Transient</td>\n",
       "      <td>0</td>\n",
       "      <td>1</td>\n",
       "      <td>4</td>\n",
       "    </tr>\n",
       "    <tr>\n",
       "      <th>...</th>\n",
       "      <td>...</td>\n",
       "      <td>...</td>\n",
       "      <td>...</td>\n",
       "      <td>...</td>\n",
       "      <td>...</td>\n",
       "      <td>...</td>\n",
       "      <td>...</td>\n",
       "      <td>...</td>\n",
       "      <td>...</td>\n",
       "      <td>...</td>\n",
       "      <td>...</td>\n",
       "      <td>...</td>\n",
       "      <td>...</td>\n",
       "      <td>...</td>\n",
       "      <td>...</td>\n",
       "      <td>...</td>\n",
       "      <td>...</td>\n",
       "      <td>...</td>\n",
       "      <td>...</td>\n",
       "      <td>...</td>\n",
       "      <td>...</td>\n",
       "    </tr>\n",
       "    <tr>\n",
       "      <th>45637</th>\n",
       "      <td>64085</td>\n",
       "      <td>1</td>\n",
       "      <td>190.0</td>\n",
       "      <td>2016</td>\n",
       "      <td>April</td>\n",
       "      <td>15</td>\n",
       "      <td>9</td>\n",
       "      <td>1</td>\n",
       "      <td>1</td>\n",
       "      <td>2.0</td>\n",
       "      <td>...</td>\n",
       "      <td>0</td>\n",
       "      <td>3</td>\n",
       "      <td>4</td>\n",
       "      <td>A</td>\n",
       "      <td>0</td>\n",
       "      <td>31</td>\n",
       "      <td>Transient-Party</td>\n",
       "      <td>0</td>\n",
       "      <td>0</td>\n",
       "      <td>2</td>\n",
       "    </tr>\n",
       "    <tr>\n",
       "      <th>45638</th>\n",
       "      <td>64086</td>\n",
       "      <td>1</td>\n",
       "      <td>191.0</td>\n",
       "      <td>2016</td>\n",
       "      <td>April</td>\n",
       "      <td>16</td>\n",
       "      <td>10</td>\n",
       "      <td>2</td>\n",
       "      <td>0</td>\n",
       "      <td>2.0</td>\n",
       "      <td>...</td>\n",
       "      <td>0</td>\n",
       "      <td>3</td>\n",
       "      <td>4</td>\n",
       "      <td>A</td>\n",
       "      <td>0</td>\n",
       "      <td>31</td>\n",
       "      <td>Transient-Party</td>\n",
       "      <td>0</td>\n",
       "      <td>0</td>\n",
       "      <td>2</td>\n",
       "    </tr>\n",
       "    <tr>\n",
       "      <th>47660</th>\n",
       "      <td>66133</td>\n",
       "      <td>1</td>\n",
       "      <td>304.0</td>\n",
       "      <td>2016</td>\n",
       "      <td>December</td>\n",
       "      <td>53</td>\n",
       "      <td>26</td>\n",
       "      <td>1</td>\n",
       "      <td>2</td>\n",
       "      <td>1.0</td>\n",
       "      <td>...</td>\n",
       "      <td>0</td>\n",
       "      <td>1</td>\n",
       "      <td>29</td>\n",
       "      <td>E</td>\n",
       "      <td>0</td>\n",
       "      <td>0</td>\n",
       "      <td>Transient-Party</td>\n",
       "      <td>0</td>\n",
       "      <td>0</td>\n",
       "      <td>3</td>\n",
       "    </tr>\n",
       "    <tr>\n",
       "      <th>50029</th>\n",
       "      <td>68533</td>\n",
       "      <td>1</td>\n",
       "      <td>315.0</td>\n",
       "      <td>2016</td>\n",
       "      <td>November</td>\n",
       "      <td>48</td>\n",
       "      <td>25</td>\n",
       "      <td>0</td>\n",
       "      <td>1</td>\n",
       "      <td>2.0</td>\n",
       "      <td>...</td>\n",
       "      <td>0</td>\n",
       "      <td>2</td>\n",
       "      <td>4</td>\n",
       "      <td>B</td>\n",
       "      <td>0</td>\n",
       "      <td>0</td>\n",
       "      <td>Transient-Party</td>\n",
       "      <td>0</td>\n",
       "      <td>1</td>\n",
       "      <td>1</td>\n",
       "    </tr>\n",
       "    <tr>\n",
       "      <th>50030</th>\n",
       "      <td>68534</td>\n",
       "      <td>1</td>\n",
       "      <td>312.0</td>\n",
       "      <td>2016</td>\n",
       "      <td>November</td>\n",
       "      <td>48</td>\n",
       "      <td>25</td>\n",
       "      <td>0</td>\n",
       "      <td>1</td>\n",
       "      <td>1.0</td>\n",
       "      <td>...</td>\n",
       "      <td>0</td>\n",
       "      <td>2</td>\n",
       "      <td>4</td>\n",
       "      <td>B</td>\n",
       "      <td>0</td>\n",
       "      <td>0</td>\n",
       "      <td>Transient-Party</td>\n",
       "      <td>0</td>\n",
       "      <td>1</td>\n",
       "      <td>1</td>\n",
       "    </tr>\n",
       "  </tbody>\n",
       "</table>\n",
       "<p>13227 rows × 25 columns</p>\n",
       "</div>"
      ],
      "text/plain": [
       "          id  is_canceled  lead_time  arrival_date_year arrival_date_month  \\\n",
       "45        45            1      101.0               2015               July   \n",
       "57        57            1      109.0               2015               July   \n",
       "69        70            1      101.0               2015               July   \n",
       "95        98            1      101.0               2015               July   \n",
       "123      126            1      113.0               2015               July   \n",
       "...      ...          ...        ...                ...                ...   \n",
       "45637  64085            1      190.0               2016              April   \n",
       "45638  64086            1      191.0               2016              April   \n",
       "47660  66133            1      304.0               2016           December   \n",
       "50029  68533            1      315.0               2016           November   \n",
       "50030  68534            1      312.0               2016           November   \n",
       "\n",
       "       arrival_date_week_number  arrival_date_day_of_month  \\\n",
       "45                           27                          3   \n",
       "57                           27                          3   \n",
       "69                           27                          4   \n",
       "95                           28                          5   \n",
       "123                          28                          8   \n",
       "...                         ...                        ...   \n",
       "45637                        15                          9   \n",
       "45638                        16                         10   \n",
       "47660                        53                         26   \n",
       "50029                        48                         25   \n",
       "50030                        48                         25   \n",
       "\n",
       "       stays_in_weekend_nights  stays_in_week_nights  adults  ...  \\\n",
       "45                           0                     2     2.0  ...   \n",
       "57                           0                     2     2.0  ...   \n",
       "69                           2                     6     2.0  ...   \n",
       "95                           2                     5     2.0  ...   \n",
       "123                          0                     4     2.0  ...   \n",
       "...                        ...                   ...     ...  ...   \n",
       "45637                        1                     1     2.0  ...   \n",
       "45638                        2                     0     2.0  ...   \n",
       "47660                        1                     2     1.0  ...   \n",
       "50029                        0                     1     2.0  ...   \n",
       "50030                        0                     1     1.0  ...   \n",
       "\n",
       "       is_repeated_guest  previous_cancellations  \\\n",
       "45                     0                       0   \n",
       "57                     0                       0   \n",
       "69                     0                       0   \n",
       "95                     0                       0   \n",
       "123                    0                       0   \n",
       "...                  ...                     ...   \n",
       "45637                  0                       3   \n",
       "45638                  0                       3   \n",
       "47660                  0                       1   \n",
       "50029                  0                       2   \n",
       "50030                  0                       2   \n",
       "\n",
       "      previous_bookings_not_canceled reserved_room_type booking_changes  \\\n",
       "45                                 0   A                              0   \n",
       "57                                 0   A                              0   \n",
       "69                                 0   E                              0   \n",
       "95                                 0   A                              0   \n",
       "123                                0   A                              0   \n",
       "...                              ...                ...             ...   \n",
       "45637                              4   A                              0   \n",
       "45638                              4   A                              0   \n",
       "47660                             29   E                              0   \n",
       "50029                              4   B                              0   \n",
       "50030                              4   B                              0   \n",
       "\n",
       "       days_in_waiting_list    customer_type  required_car_parking_spaces  \\\n",
       "45                        0        Transient                            0   \n",
       "57                        0        Transient                            0   \n",
       "69                        0        Transient                            0   \n",
       "95                        0        Transient                            0   \n",
       "123                       0        Transient                            0   \n",
       "...                     ...              ...                          ...   \n",
       "45637                    31  Transient-Party                            0   \n",
       "45638                    31  Transient-Party                            0   \n",
       "47660                     0  Transient-Party                            0   \n",
       "50029                     0  Transient-Party                            0   \n",
       "50030                     0  Transient-Party                            0   \n",
       "\n",
       "      total_of_special_requests  total_nights  \n",
       "45                            1             2  \n",
       "57                            1             2  \n",
       "69                            1             8  \n",
       "95                            1             7  \n",
       "123                           1             4  \n",
       "...                         ...           ...  \n",
       "45637                         0             2  \n",
       "45638                         0             2  \n",
       "47660                         0             3  \n",
       "50029                         1             1  \n",
       "50030                         1             1  \n",
       "\n",
       "[13227 rows x 25 columns]"
      ]
     },
     "execution_count": 8,
     "metadata": {},
     "output_type": "execute_result"
    }
   ],
   "source": [
    "d1[(d1['is_canceled']==1) & (d1['lead_time']>96)]"
   ]
  },
  {
   "cell_type": "markdown",
   "metadata": {},
   "source": [
    "Изучим уникальные значения столбцов c категориальными значениями."
   ]
  },
  {
   "cell_type": "code",
   "execution_count": 9,
   "metadata": {},
   "outputs": [],
   "source": [
    "columns = ['arrival_date_month', 'reserved_room_type', 'customer_type', 'meal'] "
   ]
  },
  {
   "cell_type": "code",
   "execution_count": 10,
   "metadata": {},
   "outputs": [
    {
     "name": "stdout",
     "output_type": "stream",
     "text": [
      "['July' 'August' 'September' 'October' 'November' 'December' 'January'\n",
      " 'February' 'March' 'April' 'May' 'June']\n",
      "['A               ' 'C               ' 'D               '\n",
      " 'E               ' 'G               ' 'F               '\n",
      " 'B               ']\n",
      "['Transient' 'Contract' 'Transient-Party' 'Group']\n",
      "['BB       ' 'FB       ' 'HB       ' 'SC       ' 'SC']\n"
     ]
    }
   ],
   "source": [
    "for i in columns:\n",
    "    print(d1[i].unique())"
   ]
  },
  {
   "cell_type": "markdown",
   "metadata": {},
   "source": [
    "В значениях столбца категория комнаты много пробелов, чтобы упростить \n",
    "дальнейшие вычисления избавимся от пробелов в обоих датасетах(d1 и d2)."
   ]
  },
  {
   "cell_type": "code",
   "execution_count": 11,
   "metadata": {},
   "outputs": [
    {
     "data": {
      "text/html": [
       "<div>\n",
       "<style scoped>\n",
       "    .dataframe tbody tr th:only-of-type {\n",
       "        vertical-align: middle;\n",
       "    }\n",
       "\n",
       "    .dataframe tbody tr th {\n",
       "        vertical-align: top;\n",
       "    }\n",
       "\n",
       "    .dataframe thead th {\n",
       "        text-align: right;\n",
       "    }\n",
       "</style>\n",
       "<table border=\"1\" class=\"dataframe\">\n",
       "  <thead>\n",
       "    <tr style=\"text-align: right;\">\n",
       "      <th></th>\n",
       "      <th>id</th>\n",
       "      <th>is_canceled</th>\n",
       "      <th>lead_time</th>\n",
       "      <th>arrival_date_year</th>\n",
       "      <th>arrival_date_month</th>\n",
       "      <th>arrival_date_week_number</th>\n",
       "      <th>arrival_date_day_of_month</th>\n",
       "      <th>stays_in_weekend_nights</th>\n",
       "      <th>stays_in_week_nights</th>\n",
       "      <th>adults</th>\n",
       "      <th>...</th>\n",
       "      <th>is_repeated_guest</th>\n",
       "      <th>previous_cancellations</th>\n",
       "      <th>previous_bookings_not_canceled</th>\n",
       "      <th>reserved_room_type</th>\n",
       "      <th>booking_changes</th>\n",
       "      <th>days_in_waiting_list</th>\n",
       "      <th>customer_type</th>\n",
       "      <th>required_car_parking_spaces</th>\n",
       "      <th>total_of_special_requests</th>\n",
       "      <th>total_nights</th>\n",
       "    </tr>\n",
       "  </thead>\n",
       "  <tbody>\n",
       "    <tr>\n",
       "      <th>0</th>\n",
       "      <td>0</td>\n",
       "      <td>0</td>\n",
       "      <td>7.0</td>\n",
       "      <td>2015</td>\n",
       "      <td>July</td>\n",
       "      <td>27</td>\n",
       "      <td>1</td>\n",
       "      <td>0</td>\n",
       "      <td>1</td>\n",
       "      <td>1.0</td>\n",
       "      <td>...</td>\n",
       "      <td>0</td>\n",
       "      <td>0</td>\n",
       "      <td>0</td>\n",
       "      <td>A</td>\n",
       "      <td>0</td>\n",
       "      <td>0</td>\n",
       "      <td>Transient</td>\n",
       "      <td>0</td>\n",
       "      <td>0</td>\n",
       "      <td>1</td>\n",
       "    </tr>\n",
       "    <tr>\n",
       "      <th>1</th>\n",
       "      <td>1</td>\n",
       "      <td>0</td>\n",
       "      <td>14.0</td>\n",
       "      <td>2015</td>\n",
       "      <td>July</td>\n",
       "      <td>27</td>\n",
       "      <td>1</td>\n",
       "      <td>0</td>\n",
       "      <td>2</td>\n",
       "      <td>2.0</td>\n",
       "      <td>...</td>\n",
       "      <td>0</td>\n",
       "      <td>0</td>\n",
       "      <td>0</td>\n",
       "      <td>A</td>\n",
       "      <td>0</td>\n",
       "      <td>0</td>\n",
       "      <td>Transient</td>\n",
       "      <td>0</td>\n",
       "      <td>1</td>\n",
       "      <td>2</td>\n",
       "    </tr>\n",
       "    <tr>\n",
       "      <th>2</th>\n",
       "      <td>2</td>\n",
       "      <td>0</td>\n",
       "      <td>0.0</td>\n",
       "      <td>2015</td>\n",
       "      <td>July</td>\n",
       "      <td>27</td>\n",
       "      <td>1</td>\n",
       "      <td>0</td>\n",
       "      <td>2</td>\n",
       "      <td>2.0</td>\n",
       "      <td>...</td>\n",
       "      <td>0</td>\n",
       "      <td>0</td>\n",
       "      <td>0</td>\n",
       "      <td>C</td>\n",
       "      <td>0</td>\n",
       "      <td>0</td>\n",
       "      <td>Transient</td>\n",
       "      <td>0</td>\n",
       "      <td>0</td>\n",
       "      <td>2</td>\n",
       "    </tr>\n",
       "    <tr>\n",
       "      <th>3</th>\n",
       "      <td>3</td>\n",
       "      <td>0</td>\n",
       "      <td>9.0</td>\n",
       "      <td>2015</td>\n",
       "      <td>July</td>\n",
       "      <td>27</td>\n",
       "      <td>1</td>\n",
       "      <td>0</td>\n",
       "      <td>2</td>\n",
       "      <td>2.0</td>\n",
       "      <td>...</td>\n",
       "      <td>0</td>\n",
       "      <td>0</td>\n",
       "      <td>0</td>\n",
       "      <td>C</td>\n",
       "      <td>0</td>\n",
       "      <td>0</td>\n",
       "      <td>Transient</td>\n",
       "      <td>0</td>\n",
       "      <td>1</td>\n",
       "      <td>2</td>\n",
       "    </tr>\n",
       "    <tr>\n",
       "      <th>4</th>\n",
       "      <td>4</td>\n",
       "      <td>1</td>\n",
       "      <td>85.0</td>\n",
       "      <td>2015</td>\n",
       "      <td>July</td>\n",
       "      <td>27</td>\n",
       "      <td>1</td>\n",
       "      <td>0</td>\n",
       "      <td>3</td>\n",
       "      <td>2.0</td>\n",
       "      <td>...</td>\n",
       "      <td>0</td>\n",
       "      <td>0</td>\n",
       "      <td>0</td>\n",
       "      <td>A</td>\n",
       "      <td>0</td>\n",
       "      <td>0</td>\n",
       "      <td>Transient</td>\n",
       "      <td>0</td>\n",
       "      <td>1</td>\n",
       "      <td>3</td>\n",
       "    </tr>\n",
       "    <tr>\n",
       "      <th>...</th>\n",
       "      <td>...</td>\n",
       "      <td>...</td>\n",
       "      <td>...</td>\n",
       "      <td>...</td>\n",
       "      <td>...</td>\n",
       "      <td>...</td>\n",
       "      <td>...</td>\n",
       "      <td>...</td>\n",
       "      <td>...</td>\n",
       "      <td>...</td>\n",
       "      <td>...</td>\n",
       "      <td>...</td>\n",
       "      <td>...</td>\n",
       "      <td>...</td>\n",
       "      <td>...</td>\n",
       "      <td>...</td>\n",
       "      <td>...</td>\n",
       "      <td>...</td>\n",
       "      <td>...</td>\n",
       "      <td>...</td>\n",
       "      <td>...</td>\n",
       "    </tr>\n",
       "    <tr>\n",
       "      <th>65224</th>\n",
       "      <td>84057</td>\n",
       "      <td>0</td>\n",
       "      <td>23.0</td>\n",
       "      <td>2016</td>\n",
       "      <td>December</td>\n",
       "      <td>53</td>\n",
       "      <td>30</td>\n",
       "      <td>2</td>\n",
       "      <td>4</td>\n",
       "      <td>2.0</td>\n",
       "      <td>...</td>\n",
       "      <td>0</td>\n",
       "      <td>0</td>\n",
       "      <td>0</td>\n",
       "      <td>D</td>\n",
       "      <td>0</td>\n",
       "      <td>0</td>\n",
       "      <td>Transient</td>\n",
       "      <td>0</td>\n",
       "      <td>2</td>\n",
       "      <td>6</td>\n",
       "    </tr>\n",
       "    <tr>\n",
       "      <th>65225</th>\n",
       "      <td>84063</td>\n",
       "      <td>0</td>\n",
       "      <td>53.0</td>\n",
       "      <td>2016</td>\n",
       "      <td>December</td>\n",
       "      <td>53</td>\n",
       "      <td>31</td>\n",
       "      <td>2</td>\n",
       "      <td>3</td>\n",
       "      <td>2.0</td>\n",
       "      <td>...</td>\n",
       "      <td>0</td>\n",
       "      <td>0</td>\n",
       "      <td>0</td>\n",
       "      <td>D</td>\n",
       "      <td>0</td>\n",
       "      <td>0</td>\n",
       "      <td>Transient</td>\n",
       "      <td>0</td>\n",
       "      <td>3</td>\n",
       "      <td>5</td>\n",
       "    </tr>\n",
       "    <tr>\n",
       "      <th>65226</th>\n",
       "      <td>84094</td>\n",
       "      <td>0</td>\n",
       "      <td>7.0</td>\n",
       "      <td>2016</td>\n",
       "      <td>December</td>\n",
       "      <td>53</td>\n",
       "      <td>31</td>\n",
       "      <td>2</td>\n",
       "      <td>4</td>\n",
       "      <td>2.0</td>\n",
       "      <td>...</td>\n",
       "      <td>0</td>\n",
       "      <td>0</td>\n",
       "      <td>0</td>\n",
       "      <td>D</td>\n",
       "      <td>0</td>\n",
       "      <td>0</td>\n",
       "      <td>Transient</td>\n",
       "      <td>0</td>\n",
       "      <td>1</td>\n",
       "      <td>6</td>\n",
       "    </tr>\n",
       "    <tr>\n",
       "      <th>65227</th>\n",
       "      <td>84117</td>\n",
       "      <td>0</td>\n",
       "      <td>17.0</td>\n",
       "      <td>2016</td>\n",
       "      <td>December</td>\n",
       "      <td>53</td>\n",
       "      <td>30</td>\n",
       "      <td>2</td>\n",
       "      <td>5</td>\n",
       "      <td>2.0</td>\n",
       "      <td>...</td>\n",
       "      <td>0</td>\n",
       "      <td>0</td>\n",
       "      <td>0</td>\n",
       "      <td>A</td>\n",
       "      <td>0</td>\n",
       "      <td>0</td>\n",
       "      <td>Transient</td>\n",
       "      <td>0</td>\n",
       "      <td>1</td>\n",
       "      <td>7</td>\n",
       "    </tr>\n",
       "    <tr>\n",
       "      <th>65228</th>\n",
       "      <td>84121</td>\n",
       "      <td>0</td>\n",
       "      <td>107.0</td>\n",
       "      <td>2016</td>\n",
       "      <td>December</td>\n",
       "      <td>53</td>\n",
       "      <td>31</td>\n",
       "      <td>2</td>\n",
       "      <td>5</td>\n",
       "      <td>2.0</td>\n",
       "      <td>...</td>\n",
       "      <td>0</td>\n",
       "      <td>0</td>\n",
       "      <td>0</td>\n",
       "      <td>A</td>\n",
       "      <td>0</td>\n",
       "      <td>0</td>\n",
       "      <td>Transient</td>\n",
       "      <td>0</td>\n",
       "      <td>0</td>\n",
       "      <td>7</td>\n",
       "    </tr>\n",
       "  </tbody>\n",
       "</table>\n",
       "<p>65229 rows × 25 columns</p>\n",
       "</div>"
      ],
      "text/plain": [
       "          id  is_canceled  lead_time  arrival_date_year arrival_date_month  \\\n",
       "0          0            0        7.0               2015               July   \n",
       "1          1            0       14.0               2015               July   \n",
       "2          2            0        0.0               2015               July   \n",
       "3          3            0        9.0               2015               July   \n",
       "4          4            1       85.0               2015               July   \n",
       "...      ...          ...        ...                ...                ...   \n",
       "65224  84057            0       23.0               2016           December   \n",
       "65225  84063            0       53.0               2016           December   \n",
       "65226  84094            0        7.0               2016           December   \n",
       "65227  84117            0       17.0               2016           December   \n",
       "65228  84121            0      107.0               2016           December   \n",
       "\n",
       "       arrival_date_week_number  arrival_date_day_of_month  \\\n",
       "0                            27                          1   \n",
       "1                            27                          1   \n",
       "2                            27                          1   \n",
       "3                            27                          1   \n",
       "4                            27                          1   \n",
       "...                         ...                        ...   \n",
       "65224                        53                         30   \n",
       "65225                        53                         31   \n",
       "65226                        53                         31   \n",
       "65227                        53                         30   \n",
       "65228                        53                         31   \n",
       "\n",
       "       stays_in_weekend_nights  stays_in_week_nights  adults  ...  \\\n",
       "0                            0                     1     1.0  ...   \n",
       "1                            0                     2     2.0  ...   \n",
       "2                            0                     2     2.0  ...   \n",
       "3                            0                     2     2.0  ...   \n",
       "4                            0                     3     2.0  ...   \n",
       "...                        ...                   ...     ...  ...   \n",
       "65224                        2                     4     2.0  ...   \n",
       "65225                        2                     3     2.0  ...   \n",
       "65226                        2                     4     2.0  ...   \n",
       "65227                        2                     5     2.0  ...   \n",
       "65228                        2                     5     2.0  ...   \n",
       "\n",
       "       is_repeated_guest  previous_cancellations  \\\n",
       "0                      0                       0   \n",
       "1                      0                       0   \n",
       "2                      0                       0   \n",
       "3                      0                       0   \n",
       "4                      0                       0   \n",
       "...                  ...                     ...   \n",
       "65224                  0                       0   \n",
       "65225                  0                       0   \n",
       "65226                  0                       0   \n",
       "65227                  0                       0   \n",
       "65228                  0                       0   \n",
       "\n",
       "      previous_bookings_not_canceled reserved_room_type booking_changes  \\\n",
       "0                                  0                  A               0   \n",
       "1                                  0                  A               0   \n",
       "2                                  0                  C               0   \n",
       "3                                  0                  C               0   \n",
       "4                                  0                  A               0   \n",
       "...                              ...                ...             ...   \n",
       "65224                              0                  D               0   \n",
       "65225                              0                  D               0   \n",
       "65226                              0                  D               0   \n",
       "65227                              0                  A               0   \n",
       "65228                              0                  A               0   \n",
       "\n",
       "       days_in_waiting_list  customer_type  required_car_parking_spaces  \\\n",
       "0                         0      Transient                            0   \n",
       "1                         0      Transient                            0   \n",
       "2                         0      Transient                            0   \n",
       "3                         0      Transient                            0   \n",
       "4                         0      Transient                            0   \n",
       "...                     ...            ...                          ...   \n",
       "65224                     0      Transient                            0   \n",
       "65225                     0      Transient                            0   \n",
       "65226                     0      Transient                            0   \n",
       "65227                     0      Transient                            0   \n",
       "65228                     0      Transient                            0   \n",
       "\n",
       "      total_of_special_requests  total_nights  \n",
       "0                             0             1  \n",
       "1                             1             2  \n",
       "2                             0             2  \n",
       "3                             1             2  \n",
       "4                             1             3  \n",
       "...                         ...           ...  \n",
       "65224                         2             6  \n",
       "65225                         3             5  \n",
       "65226                         1             6  \n",
       "65227                         1             7  \n",
       "65228                         0             7  \n",
       "\n",
       "[65229 rows x 25 columns]"
      ]
     },
     "execution_count": 11,
     "metadata": {},
     "output_type": "execute_result"
    }
   ],
   "source": [
    "d1['reserved_room_type'] = d1['reserved_room_type'].str.strip()\n",
    "d2['reserved_room_type'] = d2['reserved_room_type'].str.strip()\n",
    "d1['meal'] = d1['meal'].str.strip()\n",
    "d2['meal'] = d2['meal'].str.strip()\n",
    "d1"
   ]
  },
  {
   "cell_type": "markdown",
   "metadata": {},
   "source": [
    "<div class=\"alert alert-success\">\n",
    "<h2> Комментарий ревьюера №2<a class=\"tocSkip\"> </h2>\n",
    "\n",
    "<b>Все отлично!👍</b> "
   ]
  },
  {
   "cell_type": "markdown",
   "metadata": {},
   "source": [
    "<div class=\"alert alert-success\">\n",
    "<h2> Комментарий ревьюера <a class=\"tocSkip\"> </h2>\n",
    "\n",
    "<b>Все отлично!👍:</b> \n",
    "    \n",
    "Молодец, что проводишь работу со строковыми значениями.\n",
    "    "
   ]
  },
  {
   "cell_type": "markdown",
   "metadata": {},
   "source": [
    "\n",
    "<div class=\"alert alert-block alert-danger\">\n",
    "<h2> Комментарий ревьюера <a class=\"tocSkip\"></h2>\n",
    "\n",
    "    \n",
    "<b>На доработку🤔:</b>\n",
    "    \n",
    "Также стоит обратить внимание на признак meal\n",
    "    "
   ]
  },
  {
   "cell_type": "markdown",
   "metadata": {},
   "source": [
    "Посмотрим на таблицу d2(тестовую выборку)"
   ]
  },
  {
   "cell_type": "code",
   "execution_count": 12,
   "metadata": {},
   "outputs": [
    {
     "data": {
      "text/html": [
       "<div>\n",
       "<style scoped>\n",
       "    .dataframe tbody tr th:only-of-type {\n",
       "        vertical-align: middle;\n",
       "    }\n",
       "\n",
       "    .dataframe tbody tr th {\n",
       "        vertical-align: top;\n",
       "    }\n",
       "\n",
       "    .dataframe thead th {\n",
       "        text-align: right;\n",
       "    }\n",
       "</style>\n",
       "<table border=\"1\" class=\"dataframe\">\n",
       "  <thead>\n",
       "    <tr style=\"text-align: right;\">\n",
       "      <th></th>\n",
       "      <th>id</th>\n",
       "      <th>is_canceled</th>\n",
       "      <th>lead_time</th>\n",
       "      <th>arrival_date_year</th>\n",
       "      <th>arrival_date_month</th>\n",
       "      <th>arrival_date_week_number</th>\n",
       "      <th>arrival_date_day_of_month</th>\n",
       "      <th>stays_in_weekend_nights</th>\n",
       "      <th>stays_in_week_nights</th>\n",
       "      <th>adults</th>\n",
       "      <th>...</th>\n",
       "      <th>is_repeated_guest</th>\n",
       "      <th>previous_cancellations</th>\n",
       "      <th>previous_bookings_not_canceled</th>\n",
       "      <th>reserved_room_type</th>\n",
       "      <th>booking_changes</th>\n",
       "      <th>days_in_waiting_list</th>\n",
       "      <th>customer_type</th>\n",
       "      <th>required_car_parking_spaces</th>\n",
       "      <th>total_of_special_requests</th>\n",
       "      <th>total_nights</th>\n",
       "    </tr>\n",
       "  </thead>\n",
       "  <tbody>\n",
       "    <tr>\n",
       "      <th>0</th>\n",
       "      <td>6086</td>\n",
       "      <td>1</td>\n",
       "      <td>74.0</td>\n",
       "      <td>2017</td>\n",
       "      <td>January</td>\n",
       "      <td>1</td>\n",
       "      <td>1</td>\n",
       "      <td>1</td>\n",
       "      <td>0</td>\n",
       "      <td>2.0</td>\n",
       "      <td>...</td>\n",
       "      <td>0</td>\n",
       "      <td>0</td>\n",
       "      <td>0</td>\n",
       "      <td>A</td>\n",
       "      <td>0</td>\n",
       "      <td>0</td>\n",
       "      <td>Transient</td>\n",
       "      <td>0</td>\n",
       "      <td>0</td>\n",
       "      <td>1</td>\n",
       "    </tr>\n",
       "    <tr>\n",
       "      <th>1</th>\n",
       "      <td>6087</td>\n",
       "      <td>1</td>\n",
       "      <td>62.0</td>\n",
       "      <td>2017</td>\n",
       "      <td>January</td>\n",
       "      <td>1</td>\n",
       "      <td>1</td>\n",
       "      <td>2</td>\n",
       "      <td>2</td>\n",
       "      <td>2.0</td>\n",
       "      <td>...</td>\n",
       "      <td>0</td>\n",
       "      <td>0</td>\n",
       "      <td>0</td>\n",
       "      <td>A</td>\n",
       "      <td>0</td>\n",
       "      <td>0</td>\n",
       "      <td>Transient</td>\n",
       "      <td>0</td>\n",
       "      <td>1</td>\n",
       "      <td>4</td>\n",
       "    </tr>\n",
       "    <tr>\n",
       "      <th>2</th>\n",
       "      <td>6088</td>\n",
       "      <td>1</td>\n",
       "      <td>62.0</td>\n",
       "      <td>2017</td>\n",
       "      <td>January</td>\n",
       "      <td>1</td>\n",
       "      <td>1</td>\n",
       "      <td>2</td>\n",
       "      <td>2</td>\n",
       "      <td>2.0</td>\n",
       "      <td>...</td>\n",
       "      <td>0</td>\n",
       "      <td>0</td>\n",
       "      <td>0</td>\n",
       "      <td>A</td>\n",
       "      <td>0</td>\n",
       "      <td>0</td>\n",
       "      <td>Transient</td>\n",
       "      <td>0</td>\n",
       "      <td>1</td>\n",
       "      <td>4</td>\n",
       "    </tr>\n",
       "    <tr>\n",
       "      <th>3</th>\n",
       "      <td>6089</td>\n",
       "      <td>1</td>\n",
       "      <td>71.0</td>\n",
       "      <td>2017</td>\n",
       "      <td>January</td>\n",
       "      <td>1</td>\n",
       "      <td>1</td>\n",
       "      <td>2</td>\n",
       "      <td>2</td>\n",
       "      <td>1.0</td>\n",
       "      <td>...</td>\n",
       "      <td>0</td>\n",
       "      <td>0</td>\n",
       "      <td>0</td>\n",
       "      <td>A</td>\n",
       "      <td>0</td>\n",
       "      <td>0</td>\n",
       "      <td>Transient</td>\n",
       "      <td>0</td>\n",
       "      <td>1</td>\n",
       "      <td>4</td>\n",
       "    </tr>\n",
       "    <tr>\n",
       "      <th>4</th>\n",
       "      <td>6090</td>\n",
       "      <td>1</td>\n",
       "      <td>172.0</td>\n",
       "      <td>2017</td>\n",
       "      <td>January</td>\n",
       "      <td>1</td>\n",
       "      <td>1</td>\n",
       "      <td>2</td>\n",
       "      <td>5</td>\n",
       "      <td>2.0</td>\n",
       "      <td>...</td>\n",
       "      <td>0</td>\n",
       "      <td>0</td>\n",
       "      <td>0</td>\n",
       "      <td>A</td>\n",
       "      <td>0</td>\n",
       "      <td>0</td>\n",
       "      <td>Transient</td>\n",
       "      <td>0</td>\n",
       "      <td>0</td>\n",
       "      <td>7</td>\n",
       "    </tr>\n",
       "    <tr>\n",
       "      <th>...</th>\n",
       "      <td>...</td>\n",
       "      <td>...</td>\n",
       "      <td>...</td>\n",
       "      <td>...</td>\n",
       "      <td>...</td>\n",
       "      <td>...</td>\n",
       "      <td>...</td>\n",
       "      <td>...</td>\n",
       "      <td>...</td>\n",
       "      <td>...</td>\n",
       "      <td>...</td>\n",
       "      <td>...</td>\n",
       "      <td>...</td>\n",
       "      <td>...</td>\n",
       "      <td>...</td>\n",
       "      <td>...</td>\n",
       "      <td>...</td>\n",
       "      <td>...</td>\n",
       "      <td>...</td>\n",
       "      <td>...</td>\n",
       "      <td>...</td>\n",
       "    </tr>\n",
       "    <tr>\n",
       "      <th>32407</th>\n",
       "      <td>97899</td>\n",
       "      <td>0</td>\n",
       "      <td>164.0</td>\n",
       "      <td>2017</td>\n",
       "      <td>August</td>\n",
       "      <td>35</td>\n",
       "      <td>31</td>\n",
       "      <td>2</td>\n",
       "      <td>4</td>\n",
       "      <td>2.0</td>\n",
       "      <td>...</td>\n",
       "      <td>0</td>\n",
       "      <td>0</td>\n",
       "      <td>0</td>\n",
       "      <td>A</td>\n",
       "      <td>0</td>\n",
       "      <td>0</td>\n",
       "      <td>Transient</td>\n",
       "      <td>0</td>\n",
       "      <td>0</td>\n",
       "      <td>6</td>\n",
       "    </tr>\n",
       "    <tr>\n",
       "      <th>32408</th>\n",
       "      <td>97900</td>\n",
       "      <td>0</td>\n",
       "      <td>21.0</td>\n",
       "      <td>2017</td>\n",
       "      <td>August</td>\n",
       "      <td>35</td>\n",
       "      <td>30</td>\n",
       "      <td>2</td>\n",
       "      <td>5</td>\n",
       "      <td>2.0</td>\n",
       "      <td>...</td>\n",
       "      <td>0</td>\n",
       "      <td>0</td>\n",
       "      <td>0</td>\n",
       "      <td>A</td>\n",
       "      <td>0</td>\n",
       "      <td>0</td>\n",
       "      <td>Transient</td>\n",
       "      <td>0</td>\n",
       "      <td>2</td>\n",
       "      <td>7</td>\n",
       "    </tr>\n",
       "    <tr>\n",
       "      <th>32409</th>\n",
       "      <td>97901</td>\n",
       "      <td>0</td>\n",
       "      <td>23.0</td>\n",
       "      <td>2017</td>\n",
       "      <td>August</td>\n",
       "      <td>35</td>\n",
       "      <td>30</td>\n",
       "      <td>2</td>\n",
       "      <td>5</td>\n",
       "      <td>2.0</td>\n",
       "      <td>...</td>\n",
       "      <td>0</td>\n",
       "      <td>0</td>\n",
       "      <td>0</td>\n",
       "      <td>A</td>\n",
       "      <td>0</td>\n",
       "      <td>0</td>\n",
       "      <td>Transient</td>\n",
       "      <td>0</td>\n",
       "      <td>0</td>\n",
       "      <td>7</td>\n",
       "    </tr>\n",
       "    <tr>\n",
       "      <th>32410</th>\n",
       "      <td>97902</td>\n",
       "      <td>0</td>\n",
       "      <td>34.0</td>\n",
       "      <td>2017</td>\n",
       "      <td>August</td>\n",
       "      <td>35</td>\n",
       "      <td>31</td>\n",
       "      <td>2</td>\n",
       "      <td>5</td>\n",
       "      <td>2.0</td>\n",
       "      <td>...</td>\n",
       "      <td>0</td>\n",
       "      <td>0</td>\n",
       "      <td>0</td>\n",
       "      <td>D</td>\n",
       "      <td>0</td>\n",
       "      <td>0</td>\n",
       "      <td>Transient</td>\n",
       "      <td>0</td>\n",
       "      <td>4</td>\n",
       "      <td>7</td>\n",
       "    </tr>\n",
       "    <tr>\n",
       "      <th>32411</th>\n",
       "      <td>97903</td>\n",
       "      <td>0</td>\n",
       "      <td>109.0</td>\n",
       "      <td>2017</td>\n",
       "      <td>August</td>\n",
       "      <td>35</td>\n",
       "      <td>31</td>\n",
       "      <td>2</td>\n",
       "      <td>5</td>\n",
       "      <td>2.0</td>\n",
       "      <td>...</td>\n",
       "      <td>0</td>\n",
       "      <td>0</td>\n",
       "      <td>0</td>\n",
       "      <td>A</td>\n",
       "      <td>0</td>\n",
       "      <td>0</td>\n",
       "      <td>Transient</td>\n",
       "      <td>0</td>\n",
       "      <td>0</td>\n",
       "      <td>7</td>\n",
       "    </tr>\n",
       "  </tbody>\n",
       "</table>\n",
       "<p>32412 rows × 25 columns</p>\n",
       "</div>"
      ],
      "text/plain": [
       "          id  is_canceled  lead_time  arrival_date_year arrival_date_month  \\\n",
       "0       6086            1       74.0               2017            January   \n",
       "1       6087            1       62.0               2017            January   \n",
       "2       6088            1       62.0               2017            January   \n",
       "3       6089            1       71.0               2017            January   \n",
       "4       6090            1      172.0               2017            January   \n",
       "...      ...          ...        ...                ...                ...   \n",
       "32407  97899            0      164.0               2017             August   \n",
       "32408  97900            0       21.0               2017             August   \n",
       "32409  97901            0       23.0               2017             August   \n",
       "32410  97902            0       34.0               2017             August   \n",
       "32411  97903            0      109.0               2017             August   \n",
       "\n",
       "       arrival_date_week_number  arrival_date_day_of_month  \\\n",
       "0                             1                          1   \n",
       "1                             1                          1   \n",
       "2                             1                          1   \n",
       "3                             1                          1   \n",
       "4                             1                          1   \n",
       "...                         ...                        ...   \n",
       "32407                        35                         31   \n",
       "32408                        35                         30   \n",
       "32409                        35                         30   \n",
       "32410                        35                         31   \n",
       "32411                        35                         31   \n",
       "\n",
       "       stays_in_weekend_nights  stays_in_week_nights  adults  ...  \\\n",
       "0                            1                     0     2.0  ...   \n",
       "1                            2                     2     2.0  ...   \n",
       "2                            2                     2     2.0  ...   \n",
       "3                            2                     2     1.0  ...   \n",
       "4                            2                     5     2.0  ...   \n",
       "...                        ...                   ...     ...  ...   \n",
       "32407                        2                     4     2.0  ...   \n",
       "32408                        2                     5     2.0  ...   \n",
       "32409                        2                     5     2.0  ...   \n",
       "32410                        2                     5     2.0  ...   \n",
       "32411                        2                     5     2.0  ...   \n",
       "\n",
       "       is_repeated_guest  previous_cancellations  \\\n",
       "0                      0                       0   \n",
       "1                      0                       0   \n",
       "2                      0                       0   \n",
       "3                      0                       0   \n",
       "4                      0                       0   \n",
       "...                  ...                     ...   \n",
       "32407                  0                       0   \n",
       "32408                  0                       0   \n",
       "32409                  0                       0   \n",
       "32410                  0                       0   \n",
       "32411                  0                       0   \n",
       "\n",
       "      previous_bookings_not_canceled reserved_room_type booking_changes  \\\n",
       "0                                  0                  A               0   \n",
       "1                                  0                  A               0   \n",
       "2                                  0                  A               0   \n",
       "3                                  0                  A               0   \n",
       "4                                  0                  A               0   \n",
       "...                              ...                ...             ...   \n",
       "32407                              0                  A               0   \n",
       "32408                              0                  A               0   \n",
       "32409                              0                  A               0   \n",
       "32410                              0                  D               0   \n",
       "32411                              0                  A               0   \n",
       "\n",
       "       days_in_waiting_list  customer_type  required_car_parking_spaces  \\\n",
       "0                         0      Transient                            0   \n",
       "1                         0      Transient                            0   \n",
       "2                         0      Transient                            0   \n",
       "3                         0      Transient                            0   \n",
       "4                         0      Transient                            0   \n",
       "...                     ...            ...                          ...   \n",
       "32407                     0      Transient                            0   \n",
       "32408                     0      Transient                            0   \n",
       "32409                     0      Transient                            0   \n",
       "32410                     0      Transient                            0   \n",
       "32411                     0      Transient                            0   \n",
       "\n",
       "      total_of_special_requests  total_nights  \n",
       "0                             0             1  \n",
       "1                             1             4  \n",
       "2                             1             4  \n",
       "3                             1             4  \n",
       "4                             0             7  \n",
       "...                         ...           ...  \n",
       "32407                         0             6  \n",
       "32408                         2             7  \n",
       "32409                         0             7  \n",
       "32410                         4             7  \n",
       "32411                         0             7  \n",
       "\n",
       "[32412 rows x 25 columns]"
      ]
     },
     "execution_count": 12,
     "metadata": {},
     "output_type": "execute_result"
    }
   ],
   "source": [
    "d2"
   ]
  },
  {
   "cell_type": "code",
   "execution_count": 13,
   "metadata": {},
   "outputs": [
    {
     "data": {
      "text/plain": [
       "id                                0\n",
       "is_canceled                       0\n",
       "lead_time                         0\n",
       "arrival_date_year                 0\n",
       "arrival_date_month                0\n",
       "arrival_date_week_number          0\n",
       "arrival_date_day_of_month         0\n",
       "stays_in_weekend_nights           0\n",
       "stays_in_week_nights              0\n",
       "adults                            0\n",
       "children                          0\n",
       "babies                            0\n",
       "meal                              0\n",
       "country                           0\n",
       "distribution_channel              0\n",
       "is_repeated_guest                 0\n",
       "previous_cancellations            0\n",
       "previous_bookings_not_canceled    0\n",
       "reserved_room_type                0\n",
       "booking_changes                   0\n",
       "days_in_waiting_list              0\n",
       "customer_type                     0\n",
       "required_car_parking_spaces       0\n",
       "total_of_special_requests         0\n",
       "total_nights                      0\n",
       "dtype: int64"
      ]
     },
     "execution_count": 13,
     "metadata": {},
     "output_type": "execute_result"
    }
   ],
   "source": [
    "d1.isna().sum()"
   ]
  },
  {
   "cell_type": "code",
   "execution_count": 14,
   "metadata": {
    "scrolled": true
   },
   "outputs": [
    {
     "data": {
      "text/plain": [
       "id                                0\n",
       "is_canceled                       0\n",
       "lead_time                         0\n",
       "arrival_date_year                 0\n",
       "arrival_date_month                0\n",
       "arrival_date_week_number          0\n",
       "arrival_date_day_of_month         0\n",
       "stays_in_weekend_nights           0\n",
       "stays_in_week_nights              0\n",
       "adults                            0\n",
       "children                          0\n",
       "babies                            0\n",
       "meal                              0\n",
       "country                           0\n",
       "distribution_channel              0\n",
       "is_repeated_guest                 0\n",
       "previous_cancellations            0\n",
       "previous_bookings_not_canceled    0\n",
       "reserved_room_type                0\n",
       "booking_changes                   0\n",
       "days_in_waiting_list              0\n",
       "customer_type                     0\n",
       "required_car_parking_spaces       0\n",
       "total_of_special_requests         0\n",
       "total_nights                      0\n",
       "dtype: int64"
      ]
     },
     "execution_count": 14,
     "metadata": {},
     "output_type": "execute_result"
    }
   ],
   "source": [
    "d2.isna().sum()"
   ]
  },
  {
   "cell_type": "markdown",
   "metadata": {},
   "source": [
    "Проверим таблицы на присутствие явных дубликатов. "
   ]
  },
  {
   "cell_type": "code",
   "execution_count": 15,
   "metadata": {},
   "outputs": [
    {
     "data": {
      "text/plain": [
       "0"
      ]
     },
     "execution_count": 15,
     "metadata": {},
     "output_type": "execute_result"
    }
   ],
   "source": [
    "d1.duplicated().sum()"
   ]
  },
  {
   "cell_type": "code",
   "execution_count": 16,
   "metadata": {},
   "outputs": [
    {
     "data": {
      "text/plain": [
       "0"
      ]
     },
     "execution_count": 16,
     "metadata": {},
     "output_type": "execute_result"
    }
   ],
   "source": [
    "d2.duplicated().sum()"
   ]
  },
  {
   "cell_type": "markdown",
   "metadata": {},
   "source": [
    "<div class=\"alert alert-success\">\n",
    "<h2> Комментарий ревьюера <a class=\"tocSkip\"> </h2>\n",
    "\n",
    "<b>Все отлично!👍:</b> \n",
    "    \n",
    "Молодец, что проверяешь данные на наличе пропусков и дубликатов."
   ]
  },
  {
   "cell_type": "markdown",
   "metadata": {},
   "source": [
    "Посмотрим на гистограмы таблиц "
   ]
  },
  {
   "cell_type": "code",
   "execution_count": 17,
   "metadata": {},
   "outputs": [
    {
     "data": {
      "text/plain": [
       "array([[<AxesSubplot:title={'center':'id'}>,\n",
       "        <AxesSubplot:title={'center':'is_canceled'}>,\n",
       "        <AxesSubplot:title={'center':'lead_time'}>,\n",
       "        <AxesSubplot:title={'center':'arrival_date_year'}>],\n",
       "       [<AxesSubplot:title={'center':'arrival_date_week_number'}>,\n",
       "        <AxesSubplot:title={'center':'arrival_date_day_of_month'}>,\n",
       "        <AxesSubplot:title={'center':'stays_in_weekend_nights'}>,\n",
       "        <AxesSubplot:title={'center':'stays_in_week_nights'}>],\n",
       "       [<AxesSubplot:title={'center':'adults'}>,\n",
       "        <AxesSubplot:title={'center':'children'}>,\n",
       "        <AxesSubplot:title={'center':'babies'}>,\n",
       "        <AxesSubplot:title={'center':'is_repeated_guest'}>],\n",
       "       [<AxesSubplot:title={'center':'previous_cancellations'}>,\n",
       "        <AxesSubplot:title={'center':'previous_bookings_not_canceled'}>,\n",
       "        <AxesSubplot:title={'center':'booking_changes'}>,\n",
       "        <AxesSubplot:title={'center':'days_in_waiting_list'}>],\n",
       "       [<AxesSubplot:title={'center':'required_car_parking_spaces'}>,\n",
       "        <AxesSubplot:title={'center':'total_of_special_requests'}>,\n",
       "        <AxesSubplot:title={'center':'total_nights'}>, <AxesSubplot:>]],\n",
       "      dtype=object)"
      ]
     },
     "execution_count": 17,
     "metadata": {},
     "output_type": "execute_result"
    },
    {
     "data": {
      "image/png": "[encoded data removed]",
      "text/plain": [
       "<Figure size 1368x1080 with 20 Axes>"
      ]
     },
     "metadata": {
      "needs_background": "light"
     },
     "output_type": "display_data"
    }
   ],
   "source": [
    "d1.hist(bins =30, figsize =(19,15))"
   ]
  },
  {
   "cell_type": "markdown",
   "metadata": {},
   "source": [
    "Дополнительно проверим столбец total_nights(общее количество ночей)."
   ]
  },
  {
   "cell_type": "code",
   "execution_count": 18,
   "metadata": {},
   "outputs": [
    {
     "data": {
      "text/plain": [
       "(1, 10)"
      ]
     },
     "execution_count": 18,
     "metadata": {},
     "output_type": "execute_result"
    }
   ],
   "source": [
    "d1['total_nights'].min(), d1['total_nights'].max()"
   ]
  },
  {
   "cell_type": "markdown",
   "metadata": {},
   "source": [
    "Дополнительно проверим столбец lead_time( количество дней между датой бронирования и датой прибытия)."
   ]
  },
  {
   "cell_type": "code",
   "execution_count": 19,
   "metadata": {},
   "outputs": [
    {
     "data": {
      "text/html": [
       "<div>\n",
       "<style scoped>\n",
       "    .dataframe tbody tr th:only-of-type {\n",
       "        vertical-align: middle;\n",
       "    }\n",
       "\n",
       "    .dataframe tbody tr th {\n",
       "        vertical-align: top;\n",
       "    }\n",
       "\n",
       "    .dataframe thead th {\n",
       "        text-align: right;\n",
       "    }\n",
       "</style>\n",
       "<table border=\"1\" class=\"dataframe\">\n",
       "  <thead>\n",
       "    <tr style=\"text-align: right;\">\n",
       "      <th></th>\n",
       "      <th>id</th>\n",
       "      <th>is_canceled</th>\n",
       "      <th>lead_time</th>\n",
       "      <th>arrival_date_year</th>\n",
       "      <th>arrival_date_month</th>\n",
       "      <th>arrival_date_week_number</th>\n",
       "      <th>arrival_date_day_of_month</th>\n",
       "      <th>stays_in_weekend_nights</th>\n",
       "      <th>stays_in_week_nights</th>\n",
       "      <th>adults</th>\n",
       "      <th>...</th>\n",
       "      <th>is_repeated_guest</th>\n",
       "      <th>previous_cancellations</th>\n",
       "      <th>previous_bookings_not_canceled</th>\n",
       "      <th>reserved_room_type</th>\n",
       "      <th>booking_changes</th>\n",
       "      <th>days_in_waiting_list</th>\n",
       "      <th>customer_type</th>\n",
       "      <th>required_car_parking_spaces</th>\n",
       "      <th>total_of_special_requests</th>\n",
       "      <th>total_nights</th>\n",
       "    </tr>\n",
       "  </thead>\n",
       "  <tbody>\n",
       "    <tr>\n",
       "      <th>30405</th>\n",
       "      <td>38345</td>\n",
       "      <td>1</td>\n",
       "      <td>372.0</td>\n",
       "      <td>2016</td>\n",
       "      <td>July</td>\n",
       "      <td>29</td>\n",
       "      <td>14</td>\n",
       "      <td>0</td>\n",
       "      <td>1</td>\n",
       "      <td>1.0</td>\n",
       "      <td>...</td>\n",
       "      <td>0</td>\n",
       "      <td>0</td>\n",
       "      <td>0</td>\n",
       "      <td>A</td>\n",
       "      <td>0</td>\n",
       "      <td>0</td>\n",
       "      <td>Transient</td>\n",
       "      <td>0</td>\n",
       "      <td>0</td>\n",
       "      <td>1</td>\n",
       "    </tr>\n",
       "    <tr>\n",
       "      <th>30407</th>\n",
       "      <td>38347</td>\n",
       "      <td>1</td>\n",
       "      <td>372.0</td>\n",
       "      <td>2016</td>\n",
       "      <td>July</td>\n",
       "      <td>29</td>\n",
       "      <td>14</td>\n",
       "      <td>0</td>\n",
       "      <td>1</td>\n",
       "      <td>1.0</td>\n",
       "      <td>...</td>\n",
       "      <td>0</td>\n",
       "      <td>0</td>\n",
       "      <td>0</td>\n",
       "      <td>A</td>\n",
       "      <td>0</td>\n",
       "      <td>0</td>\n",
       "      <td>Transient</td>\n",
       "      <td>0</td>\n",
       "      <td>0</td>\n",
       "      <td>1</td>\n",
       "    </tr>\n",
       "    <tr>\n",
       "      <th>30408</th>\n",
       "      <td>38348</td>\n",
       "      <td>1</td>\n",
       "      <td>372.0</td>\n",
       "      <td>2016</td>\n",
       "      <td>July</td>\n",
       "      <td>29</td>\n",
       "      <td>14</td>\n",
       "      <td>0</td>\n",
       "      <td>2</td>\n",
       "      <td>2.0</td>\n",
       "      <td>...</td>\n",
       "      <td>0</td>\n",
       "      <td>0</td>\n",
       "      <td>0</td>\n",
       "      <td>A</td>\n",
       "      <td>0</td>\n",
       "      <td>0</td>\n",
       "      <td>Transient</td>\n",
       "      <td>0</td>\n",
       "      <td>0</td>\n",
       "      <td>2</td>\n",
       "    </tr>\n",
       "    <tr>\n",
       "      <th>30409</th>\n",
       "      <td>38349</td>\n",
       "      <td>1</td>\n",
       "      <td>372.0</td>\n",
       "      <td>2016</td>\n",
       "      <td>July</td>\n",
       "      <td>29</td>\n",
       "      <td>14</td>\n",
       "      <td>0</td>\n",
       "      <td>2</td>\n",
       "      <td>2.0</td>\n",
       "      <td>...</td>\n",
       "      <td>0</td>\n",
       "      <td>0</td>\n",
       "      <td>0</td>\n",
       "      <td>A</td>\n",
       "      <td>0</td>\n",
       "      <td>0</td>\n",
       "      <td>Transient</td>\n",
       "      <td>0</td>\n",
       "      <td>0</td>\n",
       "      <td>2</td>\n",
       "    </tr>\n",
       "    <tr>\n",
       "      <th>30410</th>\n",
       "      <td>38350</td>\n",
       "      <td>1</td>\n",
       "      <td>372.0</td>\n",
       "      <td>2016</td>\n",
       "      <td>July</td>\n",
       "      <td>29</td>\n",
       "      <td>14</td>\n",
       "      <td>0</td>\n",
       "      <td>2</td>\n",
       "      <td>2.0</td>\n",
       "      <td>...</td>\n",
       "      <td>0</td>\n",
       "      <td>0</td>\n",
       "      <td>0</td>\n",
       "      <td>A</td>\n",
       "      <td>0</td>\n",
       "      <td>0</td>\n",
       "      <td>Transient</td>\n",
       "      <td>0</td>\n",
       "      <td>0</td>\n",
       "      <td>2</td>\n",
       "    </tr>\n",
       "    <tr>\n",
       "      <th>...</th>\n",
       "      <td>...</td>\n",
       "      <td>...</td>\n",
       "      <td>...</td>\n",
       "      <td>...</td>\n",
       "      <td>...</td>\n",
       "      <td>...</td>\n",
       "      <td>...</td>\n",
       "      <td>...</td>\n",
       "      <td>...</td>\n",
       "      <td>...</td>\n",
       "      <td>...</td>\n",
       "      <td>...</td>\n",
       "      <td>...</td>\n",
       "      <td>...</td>\n",
       "      <td>...</td>\n",
       "      <td>...</td>\n",
       "      <td>...</td>\n",
       "      <td>...</td>\n",
       "      <td>...</td>\n",
       "      <td>...</td>\n",
       "      <td>...</td>\n",
       "    </tr>\n",
       "    <tr>\n",
       "      <th>37841</th>\n",
       "      <td>56196</td>\n",
       "      <td>1</td>\n",
       "      <td>374.0</td>\n",
       "      <td>2015</td>\n",
       "      <td>October</td>\n",
       "      <td>44</td>\n",
       "      <td>26</td>\n",
       "      <td>1</td>\n",
       "      <td>1</td>\n",
       "      <td>2.0</td>\n",
       "      <td>...</td>\n",
       "      <td>0</td>\n",
       "      <td>1</td>\n",
       "      <td>0</td>\n",
       "      <td>A</td>\n",
       "      <td>0</td>\n",
       "      <td>0</td>\n",
       "      <td>Contract</td>\n",
       "      <td>0</td>\n",
       "      <td>0</td>\n",
       "      <td>2</td>\n",
       "    </tr>\n",
       "    <tr>\n",
       "      <th>37842</th>\n",
       "      <td>56197</td>\n",
       "      <td>1</td>\n",
       "      <td>374.0</td>\n",
       "      <td>2015</td>\n",
       "      <td>October</td>\n",
       "      <td>44</td>\n",
       "      <td>26</td>\n",
       "      <td>1</td>\n",
       "      <td>1</td>\n",
       "      <td>2.0</td>\n",
       "      <td>...</td>\n",
       "      <td>0</td>\n",
       "      <td>1</td>\n",
       "      <td>0</td>\n",
       "      <td>A</td>\n",
       "      <td>0</td>\n",
       "      <td>0</td>\n",
       "      <td>Contract</td>\n",
       "      <td>0</td>\n",
       "      <td>0</td>\n",
       "      <td>2</td>\n",
       "    </tr>\n",
       "    <tr>\n",
       "      <th>37843</th>\n",
       "      <td>56198</td>\n",
       "      <td>1</td>\n",
       "      <td>374.0</td>\n",
       "      <td>2015</td>\n",
       "      <td>October</td>\n",
       "      <td>44</td>\n",
       "      <td>26</td>\n",
       "      <td>1</td>\n",
       "      <td>1</td>\n",
       "      <td>2.0</td>\n",
       "      <td>...</td>\n",
       "      <td>0</td>\n",
       "      <td>1</td>\n",
       "      <td>0</td>\n",
       "      <td>A</td>\n",
       "      <td>0</td>\n",
       "      <td>0</td>\n",
       "      <td>Contract</td>\n",
       "      <td>0</td>\n",
       "      <td>0</td>\n",
       "      <td>2</td>\n",
       "    </tr>\n",
       "    <tr>\n",
       "      <th>37844</th>\n",
       "      <td>56199</td>\n",
       "      <td>1</td>\n",
       "      <td>374.0</td>\n",
       "      <td>2015</td>\n",
       "      <td>October</td>\n",
       "      <td>44</td>\n",
       "      <td>26</td>\n",
       "      <td>1</td>\n",
       "      <td>1</td>\n",
       "      <td>2.0</td>\n",
       "      <td>...</td>\n",
       "      <td>0</td>\n",
       "      <td>1</td>\n",
       "      <td>0</td>\n",
       "      <td>A</td>\n",
       "      <td>0</td>\n",
       "      <td>0</td>\n",
       "      <td>Contract</td>\n",
       "      <td>0</td>\n",
       "      <td>0</td>\n",
       "      <td>2</td>\n",
       "    </tr>\n",
       "    <tr>\n",
       "      <th>37845</th>\n",
       "      <td>56200</td>\n",
       "      <td>1</td>\n",
       "      <td>374.0</td>\n",
       "      <td>2015</td>\n",
       "      <td>October</td>\n",
       "      <td>44</td>\n",
       "      <td>26</td>\n",
       "      <td>1</td>\n",
       "      <td>1</td>\n",
       "      <td>2.0</td>\n",
       "      <td>...</td>\n",
       "      <td>0</td>\n",
       "      <td>1</td>\n",
       "      <td>0</td>\n",
       "      <td>A</td>\n",
       "      <td>0</td>\n",
       "      <td>0</td>\n",
       "      <td>Contract</td>\n",
       "      <td>0</td>\n",
       "      <td>0</td>\n",
       "      <td>2</td>\n",
       "    </tr>\n",
       "  </tbody>\n",
       "</table>\n",
       "<p>73 rows × 25 columns</p>\n",
       "</div>"
      ],
      "text/plain": [
       "          id  is_canceled  lead_time  arrival_date_year arrival_date_month  \\\n",
       "30405  38345            1      372.0               2016               July   \n",
       "30407  38347            1      372.0               2016               July   \n",
       "30408  38348            1      372.0               2016               July   \n",
       "30409  38349            1      372.0               2016               July   \n",
       "30410  38350            1      372.0               2016               July   \n",
       "...      ...          ...        ...                ...                ...   \n",
       "37841  56196            1      374.0               2015            October   \n",
       "37842  56197            1      374.0               2015            October   \n",
       "37843  56198            1      374.0               2015            October   \n",
       "37844  56199            1      374.0               2015            October   \n",
       "37845  56200            1      374.0               2015            October   \n",
       "\n",
       "       arrival_date_week_number  arrival_date_day_of_month  \\\n",
       "30405                        29                         14   \n",
       "30407                        29                         14   \n",
       "30408                        29                         14   \n",
       "30409                        29                         14   \n",
       "30410                        29                         14   \n",
       "...                         ...                        ...   \n",
       "37841                        44                         26   \n",
       "37842                        44                         26   \n",
       "37843                        44                         26   \n",
       "37844                        44                         26   \n",
       "37845                        44                         26   \n",
       "\n",
       "       stays_in_weekend_nights  stays_in_week_nights  adults  ...  \\\n",
       "30405                        0                     1     1.0  ...   \n",
       "30407                        0                     1     1.0  ...   \n",
       "30408                        0                     2     2.0  ...   \n",
       "30409                        0                     2     2.0  ...   \n",
       "30410                        0                     2     2.0  ...   \n",
       "...                        ...                   ...     ...  ...   \n",
       "37841                        1                     1     2.0  ...   \n",
       "37842                        1                     1     2.0  ...   \n",
       "37843                        1                     1     2.0  ...   \n",
       "37844                        1                     1     2.0  ...   \n",
       "37845                        1                     1     2.0  ...   \n",
       "\n",
       "       is_repeated_guest  previous_cancellations  \\\n",
       "30405                  0                       0   \n",
       "30407                  0                       0   \n",
       "30408                  0                       0   \n",
       "30409                  0                       0   \n",
       "30410                  0                       0   \n",
       "...                  ...                     ...   \n",
       "37841                  0                       1   \n",
       "37842                  0                       1   \n",
       "37843                  0                       1   \n",
       "37844                  0                       1   \n",
       "37845                  0                       1   \n",
       "\n",
       "      previous_bookings_not_canceled reserved_room_type booking_changes  \\\n",
       "30405                              0                  A               0   \n",
       "30407                              0                  A               0   \n",
       "30408                              0                  A               0   \n",
       "30409                              0                  A               0   \n",
       "30410                              0                  A               0   \n",
       "...                              ...                ...             ...   \n",
       "37841                              0                  A               0   \n",
       "37842                              0                  A               0   \n",
       "37843                              0                  A               0   \n",
       "37844                              0                  A               0   \n",
       "37845                              0                  A               0   \n",
       "\n",
       "       days_in_waiting_list  customer_type  required_car_parking_spaces  \\\n",
       "30405                     0      Transient                            0   \n",
       "30407                     0      Transient                            0   \n",
       "30408                     0      Transient                            0   \n",
       "30409                     0      Transient                            0   \n",
       "30410                     0      Transient                            0   \n",
       "...                     ...            ...                          ...   \n",
       "37841                     0       Contract                            0   \n",
       "37842                     0       Contract                            0   \n",
       "37843                     0       Contract                            0   \n",
       "37844                     0       Contract                            0   \n",
       "37845                     0       Contract                            0   \n",
       "\n",
       "      total_of_special_requests  total_nights  \n",
       "30405                         0             1  \n",
       "30407                         0             1  \n",
       "30408                         0             2  \n",
       "30409                         0             2  \n",
       "30410                         0             2  \n",
       "...                         ...           ...  \n",
       "37841                         0             2  \n",
       "37842                         0             2  \n",
       "37843                         0             2  \n",
       "37844                         0             2  \n",
       "37845                         0             2  \n",
       "\n",
       "[73 rows x 25 columns]"
      ]
     },
     "execution_count": 19,
     "metadata": {},
     "output_type": "execute_result"
    }
   ],
   "source": [
    "d1[(d1['lead_time']>365) & (d1['is_canceled']==1)]"
   ]
  },
  {
   "cell_type": "markdown",
   "metadata": {},
   "source": [
    "Почти все клиенты которые забронировали отель более чем за год отказались от брони."
   ]
  },
  {
   "cell_type": "markdown",
   "metadata": {},
   "source": [
    "Посмотрим на гистограммы столбцов с категориальными значениями таблици d1."
   ]
  },
  {
   "cell_type": "code",
   "execution_count": 20,
   "metadata": {},
   "outputs": [
    {
     "data": {
      "text/plain": [
       "<AxesSubplot:>"
      ]
     },
     "execution_count": 20,
     "metadata": {},
     "output_type": "execute_result"
    },
    {
     "data": {
      "image/png": "[encoded data removed]",
      "text/plain": [
       "<Figure size 432x288 with 1 Axes>"
      ]
     },
     "metadata": {
      "needs_background": "light"
     },
     "output_type": "display_data"
    }
   ],
   "source": [
    "d1['customer_type'].hist()"
   ]
  },
  {
   "cell_type": "markdown",
   "metadata": {},
   "source": [
    "<div class=\"alert alert-warning\">\n",
    "    <h2> Комментарий ревьюера <a class=\"tocSkip\"> </h2>\n",
    "    \n",
    "<b>Некоторые замечания и рекомендации💡:</b> \n",
    "        \n",
    "        \n",
    "Для визуализации распределений данных по категориям больше подходят графики столбчатых диаграмм\n",
    "        \n",
    "https://matplotlib.org/stable/api/_as_gen/matplotlib.pyplot.bar.html\n",
    "        \n",
    "На графики стоит добавить заголовки и подписи осей."
   ]
  },
  {
   "cell_type": "code",
   "execution_count": 21,
   "metadata": {},
   "outputs": [
    {
     "data": {
      "text/plain": [
       "<AxesSubplot:>"
      ]
     },
     "execution_count": 21,
     "metadata": {},
     "output_type": "execute_result"
    },
    {
     "data": {
      "image/png": "[encoded data removed]",
      "text/plain": [
       "<Figure size 432x288 with 1 Axes>"
      ]
     },
     "metadata": {
      "needs_background": "light"
     },
     "output_type": "display_data"
    }
   ],
   "source": [
    "d1['distribution_channel'].hist(bins = 7)"
   ]
  },
  {
   "cell_type": "code",
   "execution_count": 22,
   "metadata": {},
   "outputs": [
    {
     "data": {
      "text/plain": [
       "<AxesSubplot:>"
      ]
     },
     "execution_count": 22,
     "metadata": {},
     "output_type": "execute_result"
    },
    {
     "data": {
      "image/png": "[encoded data removed]",
      "text/plain": [
       "<Figure size 432x288 with 1 Axes>"
      ]
     },
     "metadata": {
      "needs_background": "light"
     },
     "output_type": "display_data"
    }
   ],
   "source": [
    "d1['reserved_room_type'].hist()"
   ]
  },
  {
   "cell_type": "code",
   "execution_count": 23,
   "metadata": {},
   "outputs": [
    {
     "data": {
      "text/plain": [
       "<AxesSubplot:>"
      ]
     },
     "execution_count": 23,
     "metadata": {},
     "output_type": "execute_result"
    },
    {
     "data": {
      "image/png": "[encoded data removed]",
      "text/plain": [
       "<Figure size 432x288 with 1 Axes>"
      ]
     },
     "metadata": {
      "needs_background": "light"
     },
     "output_type": "display_data"
    }
   ],
   "source": [
    "d1['meal'].hist()"
   ]
  },
  {
   "cell_type": "markdown",
   "metadata": {},
   "source": [
    "Столбец гражданство постояльца(country), в нем 143 страны, отобразим на графике первые\n",
    "10 стран по убыванию колличества постояльцев из них."
   ]
  },
  {
   "cell_type": "code",
   "execution_count": 24,
   "metadata": {},
   "outputs": [
    {
     "data": {
      "text/plain": [
       "<AxesSubplot:xlabel='country'>"
      ]
     },
     "execution_count": 24,
     "metadata": {},
     "output_type": "execute_result"
    },
    {
     "data": {
      "image/png": "[encoded data removed]",
      "text/plain": [
       "<Figure size 1080x360 with 1 Axes>"
      ]
     },
     "metadata": {
      "needs_background": "light"
     },
     "output_type": "display_data"
    }
   ],
   "source": [
    "graf = d1.groupby('country')['country'].count().sort_values(ascending=False)\n",
    "graf1 = graf[:10]\n",
    "graf1.plot( kind='bar', figsize = (15,5))"
   ]
  },
  {
   "cell_type": "markdown",
   "metadata": {},
   "source": [
    "Посмотрим на последние 53 значения."
   ]
  },
  {
   "cell_type": "code",
   "execution_count": 25,
   "metadata": {},
   "outputs": [
    {
     "data": {
      "text/plain": [
       "<AxesSubplot:xlabel='country'>"
      ]
     },
     "execution_count": 25,
     "metadata": {},
     "output_type": "execute_result"
    },
    {
     "data": {
      "image/png": "[encoded data removed]",
      "text/plain": [
       "<Figure size 1080x360 with 1 Axes>"
      ]
     },
     "metadata": {
      "needs_background": "light"
     },
     "output_type": "display_data"
    }
   ],
   "source": [
    "graf2 = graf[90:]\n",
    "graf2.plot( kind='bar', figsize = (15,5))"
   ]
  },
  {
   "cell_type": "markdown",
   "metadata": {},
   "source": [
    "Что бы избежать ошибок при кодировании признаков необходимо избавиться от очень маленьких значений сумм кол-ва постояльцев по разным странам, на графике видно, что из некоторых стран мало постояльцев а в поледних 33-х вообще по одному, объядиним их по признаку частоты уникальных значений и прискоим им значение SSS. "
   ]
  },
  {
   "cell_type": "code",
   "execution_count": 26,
   "metadata": {},
   "outputs": [],
   "source": [
    "sort1 = d1['country'].value_counts(normalize=True)\n",
    "d1.loc[d1['country'].isin(sort1[sort1 < 0.001].index), 'country'] = 'SSS'"
   ]
  },
  {
   "cell_type": "markdown",
   "metadata": {},
   "source": [
    "Обработаем выбросы."
   ]
  },
  {
   "cell_type": "markdown",
   "metadata": {},
   "source": [
    "По предварительному осмотру в столбце adults  — количество взрослых постояльцев\n",
    "есть значения с нулевым показателем. Иследуем этот столбец."
   ]
  },
  {
   "cell_type": "code",
   "execution_count": 27,
   "metadata": {},
   "outputs": [
    {
     "data": {
      "text/html": [
       "<div>\n",
       "<style scoped>\n",
       "    .dataframe tbody tr th:only-of-type {\n",
       "        vertical-align: middle;\n",
       "    }\n",
       "\n",
       "    .dataframe tbody tr th {\n",
       "        vertical-align: top;\n",
       "    }\n",
       "\n",
       "    .dataframe thead th {\n",
       "        text-align: right;\n",
       "    }\n",
       "</style>\n",
       "<table border=\"1\" class=\"dataframe\">\n",
       "  <thead>\n",
       "    <tr style=\"text-align: right;\">\n",
       "      <th></th>\n",
       "      <th>children</th>\n",
       "      <th>customer_type</th>\n",
       "      <th>booking_changes</th>\n",
       "      <th>meal</th>\n",
       "      <th>required_car_parking_spaces</th>\n",
       "    </tr>\n",
       "  </thead>\n",
       "  <tbody>\n",
       "    <tr>\n",
       "      <th>17540</th>\n",
       "      <td>3.0</td>\n",
       "      <td>Transient-Party</td>\n",
       "      <td>1</td>\n",
       "      <td>BB</td>\n",
       "      <td>0</td>\n",
       "    </tr>\n",
       "    <tr>\n",
       "      <th>17598</th>\n",
       "      <td>2.0</td>\n",
       "      <td>Transient-Party</td>\n",
       "      <td>1</td>\n",
       "      <td>BB</td>\n",
       "      <td>0</td>\n",
       "    </tr>\n",
       "    <tr>\n",
       "      <th>17982</th>\n",
       "      <td>2.0</td>\n",
       "      <td>Transient-Party</td>\n",
       "      <td>1</td>\n",
       "      <td>BB</td>\n",
       "      <td>0</td>\n",
       "    </tr>\n",
       "    <tr>\n",
       "      <th>21556</th>\n",
       "      <td>2.0</td>\n",
       "      <td>Transient-Party</td>\n",
       "      <td>0</td>\n",
       "      <td>BB</td>\n",
       "      <td>0</td>\n",
       "    </tr>\n",
       "    <tr>\n",
       "      <th>22516</th>\n",
       "      <td>3.0</td>\n",
       "      <td>Transient-Party</td>\n",
       "      <td>0</td>\n",
       "      <td>BB</td>\n",
       "      <td>0</td>\n",
       "    </tr>\n",
       "    <tr>\n",
       "      <th>...</th>\n",
       "      <td>...</td>\n",
       "      <td>...</td>\n",
       "      <td>...</td>\n",
       "      <td>...</td>\n",
       "      <td>...</td>\n",
       "    </tr>\n",
       "    <tr>\n",
       "      <th>61557</th>\n",
       "      <td>2.0</td>\n",
       "      <td>Transient-Party</td>\n",
       "      <td>0</td>\n",
       "      <td>BB</td>\n",
       "      <td>0</td>\n",
       "    </tr>\n",
       "    <tr>\n",
       "      <th>61819</th>\n",
       "      <td>2.0</td>\n",
       "      <td>Transient-Party</td>\n",
       "      <td>3</td>\n",
       "      <td>BB</td>\n",
       "      <td>0</td>\n",
       "    </tr>\n",
       "    <tr>\n",
       "      <th>62220</th>\n",
       "      <td>2.0</td>\n",
       "      <td>Transient-Party</td>\n",
       "      <td>0</td>\n",
       "      <td>BB</td>\n",
       "      <td>0</td>\n",
       "    </tr>\n",
       "    <tr>\n",
       "      <th>64257</th>\n",
       "      <td>2.0</td>\n",
       "      <td>Transient-Party</td>\n",
       "      <td>0</td>\n",
       "      <td>BB</td>\n",
       "      <td>0</td>\n",
       "    </tr>\n",
       "    <tr>\n",
       "      <th>64751</th>\n",
       "      <td>3.0</td>\n",
       "      <td>Transient-Party</td>\n",
       "      <td>7</td>\n",
       "      <td>HB</td>\n",
       "      <td>0</td>\n",
       "    </tr>\n",
       "  </tbody>\n",
       "</table>\n",
       "<p>73 rows × 5 columns</p>\n",
       "</div>"
      ],
      "text/plain": [
       "       children    customer_type  booking_changes meal  \\\n",
       "17540       3.0  Transient-Party                1   BB   \n",
       "17598       2.0  Transient-Party                1   BB   \n",
       "17982       2.0  Transient-Party                1   BB   \n",
       "21556       2.0  Transient-Party                0   BB   \n",
       "22516       3.0  Transient-Party                0   BB   \n",
       "...         ...              ...              ...  ...   \n",
       "61557       2.0  Transient-Party                0   BB   \n",
       "61819       2.0  Transient-Party                3   BB   \n",
       "62220       2.0  Transient-Party                0   BB   \n",
       "64257       2.0  Transient-Party                0   BB   \n",
       "64751       3.0  Transient-Party                7   HB   \n",
       "\n",
       "       required_car_parking_spaces  \n",
       "17540                            0  \n",
       "17598                            0  \n",
       "17982                            0  \n",
       "21556                            0  \n",
       "22516                            0  \n",
       "...                            ...  \n",
       "61557                            0  \n",
       "61819                            0  \n",
       "62220                            0  \n",
       "64257                            0  \n",
       "64751                            0  \n",
       "\n",
       "[73 rows x 5 columns]"
      ]
     },
     "execution_count": 27,
     "metadata": {},
     "output_type": "execute_result"
    }
   ],
   "source": [
    "dd = d1[d1['adults']==0]\n",
    "dd = dd[['children', 'customer_type', 'booking_changes', 'meal', 'required_car_parking_spaces']]\n",
    "dd[dd['customer_type']=='Transient-Party']"
   ]
  },
  {
   "cell_type": "code",
   "execution_count": 28,
   "metadata": {},
   "outputs": [
    {
     "data": {
      "text/html": [
       "<div>\n",
       "<style scoped>\n",
       "    .dataframe tbody tr th:only-of-type {\n",
       "        vertical-align: middle;\n",
       "    }\n",
       "\n",
       "    .dataframe tbody tr th {\n",
       "        vertical-align: top;\n",
       "    }\n",
       "\n",
       "    .dataframe thead th {\n",
       "        text-align: right;\n",
       "    }\n",
       "</style>\n",
       "<table border=\"1\" class=\"dataframe\">\n",
       "  <thead>\n",
       "    <tr style=\"text-align: right;\">\n",
       "      <th></th>\n",
       "      <th>children</th>\n",
       "      <th>customer_type</th>\n",
       "      <th>booking_changes</th>\n",
       "      <th>meal</th>\n",
       "      <th>required_car_parking_spaces</th>\n",
       "    </tr>\n",
       "  </thead>\n",
       "  <tbody>\n",
       "    <tr>\n",
       "      <th>17540</th>\n",
       "      <td>3.0</td>\n",
       "      <td>Transient-Party</td>\n",
       "      <td>1</td>\n",
       "      <td>BB</td>\n",
       "      <td>0</td>\n",
       "    </tr>\n",
       "    <tr>\n",
       "      <th>17598</th>\n",
       "      <td>2.0</td>\n",
       "      <td>Transient-Party</td>\n",
       "      <td>1</td>\n",
       "      <td>BB</td>\n",
       "      <td>0</td>\n",
       "    </tr>\n",
       "    <tr>\n",
       "      <th>17982</th>\n",
       "      <td>2.0</td>\n",
       "      <td>Transient-Party</td>\n",
       "      <td>1</td>\n",
       "      <td>BB</td>\n",
       "      <td>0</td>\n",
       "    </tr>\n",
       "    <tr>\n",
       "      <th>21556</th>\n",
       "      <td>2.0</td>\n",
       "      <td>Transient-Party</td>\n",
       "      <td>0</td>\n",
       "      <td>BB</td>\n",
       "      <td>0</td>\n",
       "    </tr>\n",
       "    <tr>\n",
       "      <th>22516</th>\n",
       "      <td>3.0</td>\n",
       "      <td>Transient-Party</td>\n",
       "      <td>0</td>\n",
       "      <td>BB</td>\n",
       "      <td>0</td>\n",
       "    </tr>\n",
       "    <tr>\n",
       "      <th>...</th>\n",
       "      <td>...</td>\n",
       "      <td>...</td>\n",
       "      <td>...</td>\n",
       "      <td>...</td>\n",
       "      <td>...</td>\n",
       "    </tr>\n",
       "    <tr>\n",
       "      <th>64641</th>\n",
       "      <td>2.0</td>\n",
       "      <td>Transient</td>\n",
       "      <td>0</td>\n",
       "      <td>BB</td>\n",
       "      <td>0</td>\n",
       "    </tr>\n",
       "    <tr>\n",
       "      <th>64751</th>\n",
       "      <td>3.0</td>\n",
       "      <td>Transient-Party</td>\n",
       "      <td>7</td>\n",
       "      <td>HB</td>\n",
       "      <td>0</td>\n",
       "    </tr>\n",
       "    <tr>\n",
       "      <th>64882</th>\n",
       "      <td>2.0</td>\n",
       "      <td>Transient</td>\n",
       "      <td>1</td>\n",
       "      <td>BB</td>\n",
       "      <td>0</td>\n",
       "    </tr>\n",
       "    <tr>\n",
       "      <th>64892</th>\n",
       "      <td>2.0</td>\n",
       "      <td>Transient</td>\n",
       "      <td>0</td>\n",
       "      <td>BB</td>\n",
       "      <td>0</td>\n",
       "    </tr>\n",
       "    <tr>\n",
       "      <th>64903</th>\n",
       "      <td>2.0</td>\n",
       "      <td>Transient</td>\n",
       "      <td>0</td>\n",
       "      <td>BB</td>\n",
       "      <td>0</td>\n",
       "    </tr>\n",
       "  </tbody>\n",
       "</table>\n",
       "<p>151 rows × 5 columns</p>\n",
       "</div>"
      ],
      "text/plain": [
       "       children    customer_type  booking_changes meal  \\\n",
       "17540       3.0  Transient-Party                1   BB   \n",
       "17598       2.0  Transient-Party                1   BB   \n",
       "17982       2.0  Transient-Party                1   BB   \n",
       "21556       2.0  Transient-Party                0   BB   \n",
       "22516       3.0  Transient-Party                0   BB   \n",
       "...         ...              ...              ...  ...   \n",
       "64641       2.0        Transient                0   BB   \n",
       "64751       3.0  Transient-Party                7   HB   \n",
       "64882       2.0        Transient                1   BB   \n",
       "64892       2.0        Transient                0   BB   \n",
       "64903       2.0        Transient                0   BB   \n",
       "\n",
       "       required_car_parking_spaces  \n",
       "17540                            0  \n",
       "17598                            0  \n",
       "17982                            0  \n",
       "21556                            0  \n",
       "22516                            0  \n",
       "...                            ...  \n",
       "64641                            0  \n",
       "64751                            0  \n",
       "64882                            0  \n",
       "64892                            0  \n",
       "64903                            0  \n",
       "\n",
       "[151 rows x 5 columns]"
      ]
     },
     "execution_count": 28,
     "metadata": {},
     "output_type": "execute_result"
    }
   ],
   "source": [
    "dd[dd['children']>0]"
   ]
  },
  {
   "cell_type": "markdown",
   "metadata": {},
   "source": [
    "Проверим строки на отсутствие постояльцев."
   ]
  },
  {
   "cell_type": "code",
   "execution_count": 29,
   "metadata": {},
   "outputs": [
    {
     "data": {
      "text/html": [
       "<div>\n",
       "<style scoped>\n",
       "    .dataframe tbody tr th:only-of-type {\n",
       "        vertical-align: middle;\n",
       "    }\n",
       "\n",
       "    .dataframe tbody tr th {\n",
       "        vertical-align: top;\n",
       "    }\n",
       "\n",
       "    .dataframe thead th {\n",
       "        text-align: right;\n",
       "    }\n",
       "</style>\n",
       "<table border=\"1\" class=\"dataframe\">\n",
       "  <thead>\n",
       "    <tr style=\"text-align: right;\">\n",
       "      <th></th>\n",
       "      <th>id</th>\n",
       "      <th>is_canceled</th>\n",
       "      <th>lead_time</th>\n",
       "      <th>arrival_date_year</th>\n",
       "      <th>arrival_date_month</th>\n",
       "      <th>arrival_date_week_number</th>\n",
       "      <th>arrival_date_day_of_month</th>\n",
       "      <th>stays_in_weekend_nights</th>\n",
       "      <th>stays_in_week_nights</th>\n",
       "      <th>adults</th>\n",
       "      <th>...</th>\n",
       "      <th>is_repeated_guest</th>\n",
       "      <th>previous_cancellations</th>\n",
       "      <th>previous_bookings_not_canceled</th>\n",
       "      <th>reserved_room_type</th>\n",
       "      <th>booking_changes</th>\n",
       "      <th>days_in_waiting_list</th>\n",
       "      <th>customer_type</th>\n",
       "      <th>required_car_parking_spaces</th>\n",
       "      <th>total_of_special_requests</th>\n",
       "      <th>total_nights</th>\n",
       "    </tr>\n",
       "  </thead>\n",
       "  <tbody>\n",
       "    <tr>\n",
       "      <th>23770</th>\n",
       "      <td>31710</td>\n",
       "      <td>0</td>\n",
       "      <td>48.0</td>\n",
       "      <td>2016</td>\n",
       "      <td>February</td>\n",
       "      <td>9</td>\n",
       "      <td>21</td>\n",
       "      <td>2</td>\n",
       "      <td>4</td>\n",
       "      <td>0.0</td>\n",
       "      <td>...</td>\n",
       "      <td>0</td>\n",
       "      <td>0</td>\n",
       "      <td>0</td>\n",
       "      <td>B</td>\n",
       "      <td>2</td>\n",
       "      <td>0</td>\n",
       "      <td>Transient-Party</td>\n",
       "      <td>0</td>\n",
       "      <td>0</td>\n",
       "      <td>6</td>\n",
       "    </tr>\n",
       "    <tr>\n",
       "      <th>26878</th>\n",
       "      <td>34818</td>\n",
       "      <td>0</td>\n",
       "      <td>122.0</td>\n",
       "      <td>2016</td>\n",
       "      <td>May</td>\n",
       "      <td>19</td>\n",
       "      <td>5</td>\n",
       "      <td>2</td>\n",
       "      <td>4</td>\n",
       "      <td>0.0</td>\n",
       "      <td>...</td>\n",
       "      <td>0</td>\n",
       "      <td>0</td>\n",
       "      <td>0</td>\n",
       "      <td>E</td>\n",
       "      <td>3</td>\n",
       "      <td>0</td>\n",
       "      <td>Transient</td>\n",
       "      <td>0</td>\n",
       "      <td>0</td>\n",
       "      <td>6</td>\n",
       "    </tr>\n",
       "    <tr>\n",
       "      <th>26879</th>\n",
       "      <td>34819</td>\n",
       "      <td>0</td>\n",
       "      <td>122.0</td>\n",
       "      <td>2016</td>\n",
       "      <td>May</td>\n",
       "      <td>19</td>\n",
       "      <td>5</td>\n",
       "      <td>2</td>\n",
       "      <td>4</td>\n",
       "      <td>0.0</td>\n",
       "      <td>...</td>\n",
       "      <td>0</td>\n",
       "      <td>0</td>\n",
       "      <td>0</td>\n",
       "      <td>E</td>\n",
       "      <td>3</td>\n",
       "      <td>0</td>\n",
       "      <td>Transient</td>\n",
       "      <td>0</td>\n",
       "      <td>0</td>\n",
       "      <td>6</td>\n",
       "    </tr>\n",
       "    <tr>\n",
       "      <th>31570</th>\n",
       "      <td>39510</td>\n",
       "      <td>0</td>\n",
       "      <td>256.0</td>\n",
       "      <td>2016</td>\n",
       "      <td>August</td>\n",
       "      <td>35</td>\n",
       "      <td>21</td>\n",
       "      <td>3</td>\n",
       "      <td>5</td>\n",
       "      <td>0.0</td>\n",
       "      <td>...</td>\n",
       "      <td>0</td>\n",
       "      <td>0</td>\n",
       "      <td>0</td>\n",
       "      <td>A</td>\n",
       "      <td>1</td>\n",
       "      <td>0</td>\n",
       "      <td>Transient</td>\n",
       "      <td>0</td>\n",
       "      <td>0</td>\n",
       "      <td>8</td>\n",
       "    </tr>\n",
       "    <tr>\n",
       "      <th>41461</th>\n",
       "      <td>59858</td>\n",
       "      <td>0</td>\n",
       "      <td>0.0</td>\n",
       "      <td>2015</td>\n",
       "      <td>November</td>\n",
       "      <td>49</td>\n",
       "      <td>30</td>\n",
       "      <td>1</td>\n",
       "      <td>2</td>\n",
       "      <td>0.0</td>\n",
       "      <td>...</td>\n",
       "      <td>1</td>\n",
       "      <td>0</td>\n",
       "      <td>1</td>\n",
       "      <td>A</td>\n",
       "      <td>2</td>\n",
       "      <td>0</td>\n",
       "      <td>Transient</td>\n",
       "      <td>0</td>\n",
       "      <td>0</td>\n",
       "      <td>3</td>\n",
       "    </tr>\n",
       "    <tr>\n",
       "      <th>50744</th>\n",
       "      <td>69262</td>\n",
       "      <td>0</td>\n",
       "      <td>52.0</td>\n",
       "      <td>2016</td>\n",
       "      <td>April</td>\n",
       "      <td>18</td>\n",
       "      <td>30</td>\n",
       "      <td>2</td>\n",
       "      <td>4</td>\n",
       "      <td>0.0</td>\n",
       "      <td>...</td>\n",
       "      <td>0</td>\n",
       "      <td>0</td>\n",
       "      <td>0</td>\n",
       "      <td>E</td>\n",
       "      <td>2</td>\n",
       "      <td>0</td>\n",
       "      <td>Transient-Party</td>\n",
       "      <td>0</td>\n",
       "      <td>1</td>\n",
       "      <td>6</td>\n",
       "    </tr>\n",
       "    <tr>\n",
       "      <th>54881</th>\n",
       "      <td>73467</td>\n",
       "      <td>0</td>\n",
       "      <td>108.0</td>\n",
       "      <td>2016</td>\n",
       "      <td>July</td>\n",
       "      <td>28</td>\n",
       "      <td>5</td>\n",
       "      <td>2</td>\n",
       "      <td>5</td>\n",
       "      <td>0.0</td>\n",
       "      <td>...</td>\n",
       "      <td>0</td>\n",
       "      <td>0</td>\n",
       "      <td>0</td>\n",
       "      <td>A</td>\n",
       "      <td>0</td>\n",
       "      <td>0</td>\n",
       "      <td>Transient</td>\n",
       "      <td>0</td>\n",
       "      <td>0</td>\n",
       "      <td>7</td>\n",
       "    </tr>\n",
       "    <tr>\n",
       "      <th>56674</th>\n",
       "      <td>75308</td>\n",
       "      <td>0</td>\n",
       "      <td>4.0</td>\n",
       "      <td>2016</td>\n",
       "      <td>August</td>\n",
       "      <td>32</td>\n",
       "      <td>5</td>\n",
       "      <td>2</td>\n",
       "      <td>2</td>\n",
       "      <td>0.0</td>\n",
       "      <td>...</td>\n",
       "      <td>0</td>\n",
       "      <td>0</td>\n",
       "      <td>0</td>\n",
       "      <td>A</td>\n",
       "      <td>2</td>\n",
       "      <td>0</td>\n",
       "      <td>Transient</td>\n",
       "      <td>0</td>\n",
       "      <td>2</td>\n",
       "      <td>4</td>\n",
       "    </tr>\n",
       "    <tr>\n",
       "      <th>57390</th>\n",
       "      <td>76028</td>\n",
       "      <td>0</td>\n",
       "      <td>88.0</td>\n",
       "      <td>2016</td>\n",
       "      <td>August</td>\n",
       "      <td>34</td>\n",
       "      <td>16</td>\n",
       "      <td>0</td>\n",
       "      <td>4</td>\n",
       "      <td>0.0</td>\n",
       "      <td>...</td>\n",
       "      <td>0</td>\n",
       "      <td>0</td>\n",
       "      <td>0</td>\n",
       "      <td>D</td>\n",
       "      <td>5</td>\n",
       "      <td>0</td>\n",
       "      <td>Transient</td>\n",
       "      <td>0</td>\n",
       "      <td>2</td>\n",
       "      <td>4</td>\n",
       "    </tr>\n",
       "    <tr>\n",
       "      <th>58416</th>\n",
       "      <td>77078</td>\n",
       "      <td>0</td>\n",
       "      <td>36.0</td>\n",
       "      <td>2016</td>\n",
       "      <td>August</td>\n",
       "      <td>35</td>\n",
       "      <td>27</td>\n",
       "      <td>3</td>\n",
       "      <td>6</td>\n",
       "      <td>0.0</td>\n",
       "      <td>...</td>\n",
       "      <td>0</td>\n",
       "      <td>0</td>\n",
       "      <td>0</td>\n",
       "      <td>A</td>\n",
       "      <td>2</td>\n",
       "      <td>0</td>\n",
       "      <td>Transient</td>\n",
       "      <td>0</td>\n",
       "      <td>2</td>\n",
       "      <td>9</td>\n",
       "    </tr>\n",
       "    <tr>\n",
       "      <th>62781</th>\n",
       "      <td>81483</td>\n",
       "      <td>0</td>\n",
       "      <td>57.0</td>\n",
       "      <td>2016</td>\n",
       "      <td>November</td>\n",
       "      <td>46</td>\n",
       "      <td>9</td>\n",
       "      <td>0</td>\n",
       "      <td>2</td>\n",
       "      <td>0.0</td>\n",
       "      <td>...</td>\n",
       "      <td>0</td>\n",
       "      <td>0</td>\n",
       "      <td>0</td>\n",
       "      <td>A</td>\n",
       "      <td>0</td>\n",
       "      <td>0</td>\n",
       "      <td>Transient</td>\n",
       "      <td>0</td>\n",
       "      <td>2</td>\n",
       "      <td>2</td>\n",
       "    </tr>\n",
       "    <tr>\n",
       "      <th>62783</th>\n",
       "      <td>81485</td>\n",
       "      <td>0</td>\n",
       "      <td>74.0</td>\n",
       "      <td>2016</td>\n",
       "      <td>November</td>\n",
       "      <td>46</td>\n",
       "      <td>7</td>\n",
       "      <td>1</td>\n",
       "      <td>3</td>\n",
       "      <td>0.0</td>\n",
       "      <td>...</td>\n",
       "      <td>0</td>\n",
       "      <td>0</td>\n",
       "      <td>0</td>\n",
       "      <td>A</td>\n",
       "      <td>3</td>\n",
       "      <td>0</td>\n",
       "      <td>Transient</td>\n",
       "      <td>0</td>\n",
       "      <td>1</td>\n",
       "      <td>4</td>\n",
       "    </tr>\n",
       "    <tr>\n",
       "      <th>63311</th>\n",
       "      <td>82015</td>\n",
       "      <td>0</td>\n",
       "      <td>37.0</td>\n",
       "      <td>2016</td>\n",
       "      <td>November</td>\n",
       "      <td>47</td>\n",
       "      <td>17</td>\n",
       "      <td>1</td>\n",
       "      <td>3</td>\n",
       "      <td>0.0</td>\n",
       "      <td>...</td>\n",
       "      <td>0</td>\n",
       "      <td>0</td>\n",
       "      <td>0</td>\n",
       "      <td>A</td>\n",
       "      <td>1</td>\n",
       "      <td>0</td>\n",
       "      <td>Transient</td>\n",
       "      <td>1</td>\n",
       "      <td>1</td>\n",
       "      <td>4</td>\n",
       "    </tr>\n",
       "    <tr>\n",
       "      <th>63360</th>\n",
       "      <td>82064</td>\n",
       "      <td>0</td>\n",
       "      <td>1.0</td>\n",
       "      <td>2016</td>\n",
       "      <td>November</td>\n",
       "      <td>47</td>\n",
       "      <td>18</td>\n",
       "      <td>1</td>\n",
       "      <td>2</td>\n",
       "      <td>0.0</td>\n",
       "      <td>...</td>\n",
       "      <td>0</td>\n",
       "      <td>0</td>\n",
       "      <td>0</td>\n",
       "      <td>A</td>\n",
       "      <td>1</td>\n",
       "      <td>0</td>\n",
       "      <td>Transient</td>\n",
       "      <td>0</td>\n",
       "      <td>2</td>\n",
       "      <td>3</td>\n",
       "    </tr>\n",
       "    <tr>\n",
       "      <th>64980</th>\n",
       "      <td>83710</td>\n",
       "      <td>0</td>\n",
       "      <td>255.0</td>\n",
       "      <td>2016</td>\n",
       "      <td>December</td>\n",
       "      <td>53</td>\n",
       "      <td>27</td>\n",
       "      <td>0</td>\n",
       "      <td>3</td>\n",
       "      <td>0.0</td>\n",
       "      <td>...</td>\n",
       "      <td>0</td>\n",
       "      <td>0</td>\n",
       "      <td>0</td>\n",
       "      <td>A</td>\n",
       "      <td>3</td>\n",
       "      <td>0</td>\n",
       "      <td>Transient</td>\n",
       "      <td>0</td>\n",
       "      <td>0</td>\n",
       "      <td>3</td>\n",
       "    </tr>\n",
       "  </tbody>\n",
       "</table>\n",
       "<p>15 rows × 25 columns</p>\n",
       "</div>"
      ],
      "text/plain": [
       "          id  is_canceled  lead_time  arrival_date_year arrival_date_month  \\\n",
       "23770  31710            0       48.0               2016           February   \n",
       "26878  34818            0      122.0               2016                May   \n",
       "26879  34819            0      122.0               2016                May   \n",
       "31570  39510            0      256.0               2016             August   \n",
       "41461  59858            0        0.0               2015           November   \n",
       "50744  69262            0       52.0               2016              April   \n",
       "54881  73467            0      108.0               2016               July   \n",
       "56674  75308            0        4.0               2016             August   \n",
       "57390  76028            0       88.0               2016             August   \n",
       "58416  77078            0       36.0               2016             August   \n",
       "62781  81483            0       57.0               2016           November   \n",
       "62783  81485            0       74.0               2016           November   \n",
       "63311  82015            0       37.0               2016           November   \n",
       "63360  82064            0        1.0               2016           November   \n",
       "64980  83710            0      255.0               2016           December   \n",
       "\n",
       "       arrival_date_week_number  arrival_date_day_of_month  \\\n",
       "23770                         9                         21   \n",
       "26878                        19                          5   \n",
       "26879                        19                          5   \n",
       "31570                        35                         21   \n",
       "41461                        49                         30   \n",
       "50744                        18                         30   \n",
       "54881                        28                          5   \n",
       "56674                        32                          5   \n",
       "57390                        34                         16   \n",
       "58416                        35                         27   \n",
       "62781                        46                          9   \n",
       "62783                        46                          7   \n",
       "63311                        47                         17   \n",
       "63360                        47                         18   \n",
       "64980                        53                         27   \n",
       "\n",
       "       stays_in_weekend_nights  stays_in_week_nights  adults  ...  \\\n",
       "23770                        2                     4     0.0  ...   \n",
       "26878                        2                     4     0.0  ...   \n",
       "26879                        2                     4     0.0  ...   \n",
       "31570                        3                     5     0.0  ...   \n",
       "41461                        1                     2     0.0  ...   \n",
       "50744                        2                     4     0.0  ...   \n",
       "54881                        2                     5     0.0  ...   \n",
       "56674                        2                     2     0.0  ...   \n",
       "57390                        0                     4     0.0  ...   \n",
       "58416                        3                     6     0.0  ...   \n",
       "62781                        0                     2     0.0  ...   \n",
       "62783                        1                     3     0.0  ...   \n",
       "63311                        1                     3     0.0  ...   \n",
       "63360                        1                     2     0.0  ...   \n",
       "64980                        0                     3     0.0  ...   \n",
       "\n",
       "       is_repeated_guest  previous_cancellations  \\\n",
       "23770                  0                       0   \n",
       "26878                  0                       0   \n",
       "26879                  0                       0   \n",
       "31570                  0                       0   \n",
       "41461                  1                       0   \n",
       "50744                  0                       0   \n",
       "54881                  0                       0   \n",
       "56674                  0                       0   \n",
       "57390                  0                       0   \n",
       "58416                  0                       0   \n",
       "62781                  0                       0   \n",
       "62783                  0                       0   \n",
       "63311                  0                       0   \n",
       "63360                  0                       0   \n",
       "64980                  0                       0   \n",
       "\n",
       "      previous_bookings_not_canceled reserved_room_type booking_changes  \\\n",
       "23770                              0                  B               2   \n",
       "26878                              0                  E               3   \n",
       "26879                              0                  E               3   \n",
       "31570                              0                  A               1   \n",
       "41461                              1                  A               2   \n",
       "50744                              0                  E               2   \n",
       "54881                              0                  A               0   \n",
       "56674                              0                  A               2   \n",
       "57390                              0                  D               5   \n",
       "58416                              0                  A               2   \n",
       "62781                              0                  A               0   \n",
       "62783                              0                  A               3   \n",
       "63311                              0                  A               1   \n",
       "63360                              0                  A               1   \n",
       "64980                              0                  A               3   \n",
       "\n",
       "       days_in_waiting_list    customer_type  required_car_parking_spaces  \\\n",
       "23770                     0  Transient-Party                            0   \n",
       "26878                     0        Transient                            0   \n",
       "26879                     0        Transient                            0   \n",
       "31570                     0        Transient                            0   \n",
       "41461                     0        Transient                            0   \n",
       "50744                     0  Transient-Party                            0   \n",
       "54881                     0        Transient                            0   \n",
       "56674                     0        Transient                            0   \n",
       "57390                     0        Transient                            0   \n",
       "58416                     0        Transient                            0   \n",
       "62781                     0        Transient                            0   \n",
       "62783                     0        Transient                            0   \n",
       "63311                     0        Transient                            1   \n",
       "63360                     0        Transient                            0   \n",
       "64980                     0        Transient                            0   \n",
       "\n",
       "      total_of_special_requests  total_nights  \n",
       "23770                         0             6  \n",
       "26878                         0             6  \n",
       "26879                         0             6  \n",
       "31570                         0             8  \n",
       "41461                         0             3  \n",
       "50744                         1             6  \n",
       "54881                         0             7  \n",
       "56674                         2             4  \n",
       "57390                         2             4  \n",
       "58416                         2             9  \n",
       "62781                         2             2  \n",
       "62783                         1             4  \n",
       "63311                         1             4  \n",
       "63360                         2             3  \n",
       "64980                         0             3  \n",
       "\n",
       "[15 rows x 25 columns]"
      ]
     },
     "execution_count": 29,
     "metadata": {},
     "output_type": "execute_result"
    }
   ],
   "source": [
    "d1[(d1['adults']==0) & (dd['children']==0)]"
   ]
  },
  {
   "cell_type": "markdown",
   "metadata": {},
   "source": [
    "По свей видимости какая то ошибка в данных, но ни в одной строке нет отказа(значит\n",
    "заплатили) и кол-во ночей в среднем больше 4-х. Думаю удадять не стоит. Остальные \n",
    "строки где всзрослых 0 присутствуют дети."
   ]
  },
  {
   "cell_type": "markdown",
   "metadata": {},
   "source": [
    "<div class=\"alert alert-block alert-danger\">\n",
    "<h2> Комментарий ревьюера <a class=\"tocSkip\"></h2>\n",
    "\n",
    "    \n",
    "<b>На доработку🤔:</b>\n",
    "    \n",
    "Этот график неинформативен, поправь, пожалуйста"
   ]
  },
  {
   "cell_type": "code",
   "execution_count": 30,
   "metadata": {},
   "outputs": [
    {
     "data": {
      "text/plain": [
       "(28831, 25)"
      ]
     },
     "execution_count": 30,
     "metadata": {},
     "output_type": "execute_result"
    }
   ],
   "source": [
    "d1[d1['country']=='PRT'].shape"
   ]
  },
  {
   "cell_type": "markdown",
   "metadata": {},
   "source": [
    "Посмотрим на гистограмы столбцов таблиц d2."
   ]
  },
  {
   "cell_type": "code",
   "execution_count": 31,
   "metadata": {},
   "outputs": [
    {
     "data": {
      "text/plain": [
       "array([[<AxesSubplot:title={'center':'id'}>,\n",
       "        <AxesSubplot:title={'center':'is_canceled'}>,\n",
       "        <AxesSubplot:title={'center':'lead_time'}>,\n",
       "        <AxesSubplot:title={'center':'arrival_date_year'}>],\n",
       "       [<AxesSubplot:title={'center':'arrival_date_week_number'}>,\n",
       "        <AxesSubplot:title={'center':'arrival_date_day_of_month'}>,\n",
       "        <AxesSubplot:title={'center':'stays_in_weekend_nights'}>,\n",
       "        <AxesSubplot:title={'center':'stays_in_week_nights'}>],\n",
       "       [<AxesSubplot:title={'center':'adults'}>,\n",
       "        <AxesSubplot:title={'center':'children'}>,\n",
       "        <AxesSubplot:title={'center':'babies'}>,\n",
       "        <AxesSubplot:title={'center':'is_repeated_guest'}>],\n",
       "       [<AxesSubplot:title={'center':'previous_cancellations'}>,\n",
       "        <AxesSubplot:title={'center':'previous_bookings_not_canceled'}>,\n",
       "        <AxesSubplot:title={'center':'booking_changes'}>,\n",
       "        <AxesSubplot:title={'center':'days_in_waiting_list'}>],\n",
       "       [<AxesSubplot:title={'center':'required_car_parking_spaces'}>,\n",
       "        <AxesSubplot:title={'center':'total_of_special_requests'}>,\n",
       "        <AxesSubplot:title={'center':'total_nights'}>, <AxesSubplot:>]],\n",
       "      dtype=object)"
      ]
     },
     "execution_count": 31,
     "metadata": {},
     "output_type": "execute_result"
    },
    {
     "data": {
      "image/png": "[encoded data removed]",
      "text/plain": [
       "<Figure size 1368x1080 with 20 Axes>"
      ]
     },
     "metadata": {
      "needs_background": "light"
     },
     "output_type": "display_data"
    }
   ],
   "source": [
    "d2.hist(bins =30, figsize =(19,15))"
   ]
  },
  {
   "cell_type": "code",
   "execution_count": 32,
   "metadata": {},
   "outputs": [
    {
     "data": {
      "text/plain": [
       "<AxesSubplot:>"
      ]
     },
     "execution_count": 32,
     "metadata": {},
     "output_type": "execute_result"
    },
    {
     "data": {
      "image/png": "[encoded data removed]",
      "text/plain": [
       "<Figure size 432x288 with 1 Axes>"
      ]
     },
     "metadata": {
      "needs_background": "light"
     },
     "output_type": "display_data"
    }
   ],
   "source": [
    "d2['customer_type'].hist()"
   ]
  },
  {
   "cell_type": "code",
   "execution_count": 33,
   "metadata": {},
   "outputs": [
    {
     "data": {
      "text/plain": [
       "<AxesSubplot:>"
      ]
     },
     "execution_count": 33,
     "metadata": {},
     "output_type": "execute_result"
    },
    {
     "data": {
      "image/png": "[encoded data removed]",
      "text/plain": [
       "<Figure size 432x288 with 1 Axes>"
      ]
     },
     "metadata": {
      "needs_background": "light"
     },
     "output_type": "display_data"
    }
   ],
   "source": [
    "d2['distribution_channel'].hist(bins = 7)"
   ]
  },
  {
   "cell_type": "code",
   "execution_count": 34,
   "metadata": {},
   "outputs": [
    {
     "data": {
      "text/plain": [
       "<AxesSubplot:>"
      ]
     },
     "execution_count": 34,
     "metadata": {},
     "output_type": "execute_result"
    },
    {
     "data": {
      "image/png": "[encoded data removed]",
      "text/plain": [
       "<Figure size 432x288 with 1 Axes>"
      ]
     },
     "metadata": {
      "needs_background": "light"
     },
     "output_type": "display_data"
    }
   ],
   "source": [
    "d2['reserved_room_type'].hist()"
   ]
  },
  {
   "cell_type": "code",
   "execution_count": 35,
   "metadata": {},
   "outputs": [
    {
     "data": {
      "text/plain": [
       "<AxesSubplot:>"
      ]
     },
     "execution_count": 35,
     "metadata": {},
     "output_type": "execute_result"
    },
    {
     "data": {
      "image/png": "[encoded data removed]",
      "text/plain": [
       "<Figure size 432x288 with 1 Axes>"
      ]
     },
     "metadata": {
      "needs_background": "light"
     },
     "output_type": "display_data"
    }
   ],
   "source": [
    "d2['meal'].hist()"
   ]
  },
  {
   "cell_type": "markdown",
   "metadata": {},
   "source": [
    "Столбец гражданство постояльца(country), в нем 143 страны, отобразим на графике первые\n",
    "10 стран по убыванию колличества постояльцев из них."
   ]
  },
  {
   "cell_type": "code",
   "execution_count": 36,
   "metadata": {},
   "outputs": [
    {
     "data": {
      "text/plain": [
       "country\n",
       "PRT    9887\n",
       "GBR    3927\n",
       "FRA    3477\n",
       "DEU    2378\n",
       "ESP    1932\n",
       "       ... \n",
       "SLV       1\n",
       "STP       1\n",
       "IMN       1\n",
       "NCL       1\n",
       "ABW       1\n",
       "Name: country, Length: 143, dtype: int64"
      ]
     },
     "execution_count": 36,
     "metadata": {},
     "output_type": "execute_result"
    }
   ],
   "source": [
    "d2.groupby('country')['country'].count().sort_values(ascending=False)"
   ]
  },
  {
   "cell_type": "code",
   "execution_count": 37,
   "metadata": {},
   "outputs": [
    {
     "data": {
      "text/plain": [
       "<AxesSubplot:xlabel='country'>"
      ]
     },
     "execution_count": 37,
     "metadata": {},
     "output_type": "execute_result"
    },
    {
     "data": {
      "image/png": "[encoded data removed]",
      "text/plain": [
       "<Figure size 1080x360 with 1 Axes>"
      ]
     },
     "metadata": {
      "needs_background": "light"
     },
     "output_type": "display_data"
    }
   ],
   "source": [
    "graf = d2.groupby('country')['country'].count().sort_values(ascending=False)\n",
    "graf1 = graf[:10]\n",
    "graf1.plot( kind='bar', figsize = (15,5))"
   ]
  },
  {
   "cell_type": "markdown",
   "metadata": {},
   "source": [
    "По предварительному осмотру на гистограммах видно что данные без анамалей и выбросов. "
   ]
  },
  {
   "cell_type": "code",
   "execution_count": 38,
   "metadata": {},
   "outputs": [
    {
     "data": {
      "text/plain": [
       "<AxesSubplot:xlabel='country'>"
      ]
     },
     "execution_count": 38,
     "metadata": {},
     "output_type": "execute_result"
    },
    {
     "data": {
      "image/png": "[encoded data removed]",
      "text/plain": [
       "<Figure size 1080x360 with 1 Axes>"
      ]
     },
     "metadata": {
      "needs_background": "light"
     },
     "output_type": "display_data"
    }
   ],
   "source": [
    "graf2 = graf[70:]\n",
    "graf2.plot( kind='bar', figsize = (15,5))"
   ]
  },
  {
   "cell_type": "markdown",
   "metadata": {},
   "source": [
    "Что бы избежать ошибок при кодировании признаков необходимо избавиться от очень\n",
    "маленьких значений сумм кол-ва постояльцев по разным странам, на графике видно, \n",
    "что из некоторых стран мало постояльцев а в поледних 33-х вообще по  одному,\n",
    "объядиним их по признаку частоты уникальных значений и прискоим им значение SSS. "
   ]
  },
  {
   "cell_type": "code",
   "execution_count": 39,
   "metadata": {},
   "outputs": [],
   "source": [
    "sort2 = d2['country'].value_counts(normalize=True)\n",
    "d2.loc[d2['country'].isin(sort2[sort2 < 0.001].index), 'country'] = 'SSS'"
   ]
  },
  {
   "cell_type": "markdown",
   "metadata": {},
   "source": [
    "Исследуем выбросы."
   ]
  },
  {
   "cell_type": "code",
   "execution_count": 40,
   "metadata": {},
   "outputs": [
    {
     "data": {
      "text/html": [
       "<div>\n",
       "<style scoped>\n",
       "    .dataframe tbody tr th:only-of-type {\n",
       "        vertical-align: middle;\n",
       "    }\n",
       "\n",
       "    .dataframe tbody tr th {\n",
       "        vertical-align: top;\n",
       "    }\n",
       "\n",
       "    .dataframe thead th {\n",
       "        text-align: right;\n",
       "    }\n",
       "</style>\n",
       "<table border=\"1\" class=\"dataframe\">\n",
       "  <thead>\n",
       "    <tr style=\"text-align: right;\">\n",
       "      <th></th>\n",
       "      <th>id</th>\n",
       "      <th>is_canceled</th>\n",
       "      <th>lead_time</th>\n",
       "      <th>arrival_date_year</th>\n",
       "      <th>arrival_date_month</th>\n",
       "      <th>arrival_date_week_number</th>\n",
       "      <th>arrival_date_day_of_month</th>\n",
       "      <th>stays_in_weekend_nights</th>\n",
       "      <th>stays_in_week_nights</th>\n",
       "      <th>adults</th>\n",
       "      <th>...</th>\n",
       "      <th>is_repeated_guest</th>\n",
       "      <th>previous_cancellations</th>\n",
       "      <th>previous_bookings_not_canceled</th>\n",
       "      <th>reserved_room_type</th>\n",
       "      <th>booking_changes</th>\n",
       "      <th>days_in_waiting_list</th>\n",
       "      <th>customer_type</th>\n",
       "      <th>required_car_parking_spaces</th>\n",
       "      <th>total_of_special_requests</th>\n",
       "      <th>total_nights</th>\n",
       "    </tr>\n",
       "  </thead>\n",
       "  <tbody>\n",
       "    <tr>\n",
       "      <th>18333</th>\n",
       "      <td>73610</td>\n",
       "      <td>0</td>\n",
       "      <td>55.0</td>\n",
       "      <td>2017</td>\n",
       "      <td>March</td>\n",
       "      <td>10</td>\n",
       "      <td>5</td>\n",
       "      <td>2</td>\n",
       "      <td>0</td>\n",
       "      <td>0.0</td>\n",
       "      <td>...</td>\n",
       "      <td>1</td>\n",
       "      <td>1</td>\n",
       "      <td>9</td>\n",
       "      <td>A</td>\n",
       "      <td>2</td>\n",
       "      <td>0</td>\n",
       "      <td>Transient</td>\n",
       "      <td>1</td>\n",
       "      <td>0</td>\n",
       "      <td>2</td>\n",
       "    </tr>\n",
       "    <tr>\n",
       "      <th>21214</th>\n",
       "      <td>86706</td>\n",
       "      <td>0</td>\n",
       "      <td>50.0</td>\n",
       "      <td>2017</td>\n",
       "      <td>March</td>\n",
       "      <td>9</td>\n",
       "      <td>1</td>\n",
       "      <td>0</td>\n",
       "      <td>3</td>\n",
       "      <td>0.0</td>\n",
       "      <td>...</td>\n",
       "      <td>0</td>\n",
       "      <td>0</td>\n",
       "      <td>0</td>\n",
       "      <td>A</td>\n",
       "      <td>1</td>\n",
       "      <td>0</td>\n",
       "      <td>Transient</td>\n",
       "      <td>0</td>\n",
       "      <td>1</td>\n",
       "      <td>3</td>\n",
       "    </tr>\n",
       "    <tr>\n",
       "      <th>25596</th>\n",
       "      <td>91088</td>\n",
       "      <td>0</td>\n",
       "      <td>33.0</td>\n",
       "      <td>2017</td>\n",
       "      <td>May</td>\n",
       "      <td>19</td>\n",
       "      <td>9</td>\n",
       "      <td>0</td>\n",
       "      <td>1</td>\n",
       "      <td>0.0</td>\n",
       "      <td>...</td>\n",
       "      <td>0</td>\n",
       "      <td>0</td>\n",
       "      <td>0</td>\n",
       "      <td>E</td>\n",
       "      <td>3</td>\n",
       "      <td>0</td>\n",
       "      <td>Transient</td>\n",
       "      <td>0</td>\n",
       "      <td>0</td>\n",
       "      <td>1</td>\n",
       "    </tr>\n",
       "    <tr>\n",
       "      <th>28463</th>\n",
       "      <td>93955</td>\n",
       "      <td>0</td>\n",
       "      <td>26.0</td>\n",
       "      <td>2017</td>\n",
       "      <td>June</td>\n",
       "      <td>25</td>\n",
       "      <td>19</td>\n",
       "      <td>1</td>\n",
       "      <td>4</td>\n",
       "      <td>0.0</td>\n",
       "      <td>...</td>\n",
       "      <td>0</td>\n",
       "      <td>0</td>\n",
       "      <td>0</td>\n",
       "      <td>D</td>\n",
       "      <td>2</td>\n",
       "      <td>0</td>\n",
       "      <td>Transient</td>\n",
       "      <td>0</td>\n",
       "      <td>1</td>\n",
       "      <td>5</td>\n",
       "    </tr>\n",
       "    <tr>\n",
       "      <th>28821</th>\n",
       "      <td>94313</td>\n",
       "      <td>0</td>\n",
       "      <td>107.0</td>\n",
       "      <td>2017</td>\n",
       "      <td>June</td>\n",
       "      <td>26</td>\n",
       "      <td>27</td>\n",
       "      <td>0</td>\n",
       "      <td>3</td>\n",
       "      <td>0.0</td>\n",
       "      <td>...</td>\n",
       "      <td>0</td>\n",
       "      <td>0</td>\n",
       "      <td>0</td>\n",
       "      <td>A</td>\n",
       "      <td>1</td>\n",
       "      <td>0</td>\n",
       "      <td>Transient</td>\n",
       "      <td>0</td>\n",
       "      <td>0</td>\n",
       "      <td>3</td>\n",
       "    </tr>\n",
       "    <tr>\n",
       "      <th>29808</th>\n",
       "      <td>95300</td>\n",
       "      <td>0</td>\n",
       "      <td>44.0</td>\n",
       "      <td>2017</td>\n",
       "      <td>July</td>\n",
       "      <td>28</td>\n",
       "      <td>15</td>\n",
       "      <td>1</td>\n",
       "      <td>1</td>\n",
       "      <td>0.0</td>\n",
       "      <td>...</td>\n",
       "      <td>0</td>\n",
       "      <td>0</td>\n",
       "      <td>0</td>\n",
       "      <td>A</td>\n",
       "      <td>2</td>\n",
       "      <td>0</td>\n",
       "      <td>Transient</td>\n",
       "      <td>0</td>\n",
       "      <td>0</td>\n",
       "      <td>2</td>\n",
       "    </tr>\n",
       "    <tr>\n",
       "      <th>30052</th>\n",
       "      <td>95544</td>\n",
       "      <td>0</td>\n",
       "      <td>2.0</td>\n",
       "      <td>2017</td>\n",
       "      <td>July</td>\n",
       "      <td>28</td>\n",
       "      <td>15</td>\n",
       "      <td>2</td>\n",
       "      <td>5</td>\n",
       "      <td>0.0</td>\n",
       "      <td>...</td>\n",
       "      <td>0</td>\n",
       "      <td>0</td>\n",
       "      <td>0</td>\n",
       "      <td>A</td>\n",
       "      <td>1</td>\n",
       "      <td>0</td>\n",
       "      <td>Transient-Party</td>\n",
       "      <td>0</td>\n",
       "      <td>1</td>\n",
       "      <td>7</td>\n",
       "    </tr>\n",
       "  </tbody>\n",
       "</table>\n",
       "<p>7 rows × 25 columns</p>\n",
       "</div>"
      ],
      "text/plain": [
       "          id  is_canceled  lead_time  arrival_date_year arrival_date_month  \\\n",
       "18333  73610            0       55.0               2017              March   \n",
       "21214  86706            0       50.0               2017              March   \n",
       "25596  91088            0       33.0               2017                May   \n",
       "28463  93955            0       26.0               2017               June   \n",
       "28821  94313            0      107.0               2017               June   \n",
       "29808  95300            0       44.0               2017               July   \n",
       "30052  95544            0        2.0               2017               July   \n",
       "\n",
       "       arrival_date_week_number  arrival_date_day_of_month  \\\n",
       "18333                        10                          5   \n",
       "21214                         9                          1   \n",
       "25596                        19                          9   \n",
       "28463                        25                         19   \n",
       "28821                        26                         27   \n",
       "29808                        28                         15   \n",
       "30052                        28                         15   \n",
       "\n",
       "       stays_in_weekend_nights  stays_in_week_nights  adults  ...  \\\n",
       "18333                        2                     0     0.0  ...   \n",
       "21214                        0                     3     0.0  ...   \n",
       "25596                        0                     1     0.0  ...   \n",
       "28463                        1                     4     0.0  ...   \n",
       "28821                        0                     3     0.0  ...   \n",
       "29808                        1                     1     0.0  ...   \n",
       "30052                        2                     5     0.0  ...   \n",
       "\n",
       "       is_repeated_guest  previous_cancellations  \\\n",
       "18333                  1                       1   \n",
       "21214                  0                       0   \n",
       "25596                  0                       0   \n",
       "28463                  0                       0   \n",
       "28821                  0                       0   \n",
       "29808                  0                       0   \n",
       "30052                  0                       0   \n",
       "\n",
       "      previous_bookings_not_canceled reserved_room_type booking_changes  \\\n",
       "18333                              9                  A               2   \n",
       "21214                              0                  A               1   \n",
       "25596                              0                  E               3   \n",
       "28463                              0                  D               2   \n",
       "28821                              0                  A               1   \n",
       "29808                              0                  A               2   \n",
       "30052                              0                  A               1   \n",
       "\n",
       "       days_in_waiting_list    customer_type  required_car_parking_spaces  \\\n",
       "18333                     0        Transient                            1   \n",
       "21214                     0        Transient                            0   \n",
       "25596                     0        Transient                            0   \n",
       "28463                     0        Transient                            0   \n",
       "28821                     0        Transient                            0   \n",
       "29808                     0        Transient                            0   \n",
       "30052                     0  Transient-Party                            0   \n",
       "\n",
       "      total_of_special_requests  total_nights  \n",
       "18333                         0             2  \n",
       "21214                         1             3  \n",
       "25596                         0             1  \n",
       "28463                         1             5  \n",
       "28821                         0             3  \n",
       "29808                         0             2  \n",
       "30052                         1             7  \n",
       "\n",
       "[7 rows x 25 columns]"
      ]
     },
     "execution_count": 40,
     "metadata": {},
     "output_type": "execute_result"
    }
   ],
   "source": [
    "d2[(d2['adults']==0) & (d2['children']==0)]"
   ]
  },
  {
   "cell_type": "markdown",
   "metadata": {},
   "source": [
    "Тоже самое, что и с первой таблицей, тоже ни одного отказа. Удалять не стоит."
   ]
  },
  {
   "cell_type": "markdown",
   "metadata": {},
   "source": [
    "<div class=\"alert alert-block alert-danger\">\n",
    "<h2> Комментарий ревьюера <a class=\"tocSkip\"></h2>\n",
    "\n",
    "    \n",
    "<b>На доработку🤔:</b>\n",
    "    \n",
    "Также стоит обработать выбросы."
   ]
  },
  {
   "cell_type": "markdown",
   "metadata": {},
   "source": [
    "Создадим функцию для подсчета цены номера."
   ]
  },
  {
   "cell_type": "code",
   "execution_count": 41,
   "metadata": {},
   "outputs": [],
   "source": [
    "def seas(s):\n",
    "    try:\n",
    "        if 'December' == s:\n",
    "            return 1\n",
    "        elif  'January' == s:\n",
    "            return 1\n",
    "        elif 'February' == s:\n",
    "            return 1\n",
    "        elif 'March' == s:\n",
    "            return 1.2\n",
    "        elif  'April' == s:\n",
    "            return 1.2\n",
    "        elif s =='May': \n",
    "            return 1.2\n",
    "        elif 'June' == s: \n",
    "            return 1.4\n",
    "        elif s == 'July':\n",
    "            return 1.4 \n",
    "        elif s == 'August':\n",
    "            return 1.4\n",
    "        elif 'September' == s:\n",
    "            return 1.2\n",
    "        elif s == 'October':\n",
    "            return 1.2\n",
    "        elif s == 'November':\n",
    "            return 1.2\n",
    "        else:\n",
    "            return 0\n",
    "    except:\n",
    "        pass"
   ]
  },
  {
   "cell_type": "markdown",
   "metadata": {},
   "source": [
    "Расчет цены "
   ]
  },
  {
   "cell_type": "code",
   "execution_count": 42,
   "metadata": {},
   "outputs": [],
   "source": [
    "def func(row):\n",
    "    try:\n",
    "        if 'A' in row['reserved_room_type']:\n",
    "            p = (1000*row['stays_in_weekend_nights']+1000*row['stays_in_week_nights'])*seas(row['arrival_date_month'])\n",
    "            return p\n",
    "        elif 'B' in row['reserved_room_type']:\n",
    "            p = (800*row['stays_in_weekend_nights']+800*row['stays_in_week_nights'])*seas(row['arrival_date_month'])\n",
    "            return p\n",
    "        elif 'C' in row['reserved_room_type']:\n",
    "            p = (600*row['stays_in_weekend_nights']+600*row['stays_in_week_nights'])*seas(row['arrival_date_month'])\n",
    "            return p\n",
    "        elif 'D' in row['reserved_room_type']:\n",
    "            p = (550*row['stays_in_weekend_nights']+550*row['stays_in_week_nights'])*seas(row['arrival_date_month'])\n",
    "            return p\n",
    "        if 'E' in row['reserved_room_type']:\n",
    "            p = (500*row['stays_in_weekend_nights']+500*row['stays_in_week_nights'])*seas(row['arrival_date_month'])\n",
    "            return p\n",
    "        elif 'F' in row['reserved_room_type']:\n",
    "            p = (450*row['stays_in_weekend_nights']+450*row['stays_in_week_nights'])*seas(row['arrival_date_month'])\n",
    "            return p \n",
    "        elif 'G' in row['reserved_room_type']:\n",
    "            p = (350*row['stays_in_weekend_nights']+350*row['stays_in_week_nights'])*seas(row['arrival_date_month'])\n",
    "            return p\n",
    "        else:\n",
    "            return 0\n",
    "    except:\n",
    "        pass"
   ]
  },
  {
   "cell_type": "markdown",
   "metadata": {},
   "source": [
    "<div class=\"alert alert-success\">\n",
    "<h2> Комментарий ревьюера <a class=\"tocSkip\"> </h2>\n",
    "\n",
    "<b>Все отлично!👍:</b> \n",
    "    \n",
    "Отлично, что оптимизируешь свой код с помощью пользовательских функций.\n",
    "    \n",
    "Расчет верный."
   ]
  },
  {
   "cell_type": "markdown",
   "metadata": {},
   "source": [
    "Добавим в таблицы столбец с ценой за услуги отеля."
   ]
  },
  {
   "cell_type": "code",
   "execution_count": 43,
   "metadata": {},
   "outputs": [],
   "source": [
    "d1['price'] = d1.apply(func, axis =1)\n",
    "d2['price'] = d2.apply(func, axis =1)"
   ]
  },
  {
   "cell_type": "markdown",
   "metadata": {},
   "source": [
    "Посмотрим на значение средней и медианной цены(столбец price) отеля."
   ]
  },
  {
   "cell_type": "code",
   "execution_count": 44,
   "metadata": {},
   "outputs": [
    {
     "data": {
      "text/plain": [
       "3367.9799534187323"
      ]
     },
     "execution_count": 44,
     "metadata": {},
     "output_type": "execute_result"
    }
   ],
   "source": [
    "d1[d1['is_canceled']==1]['price'].mean()"
   ]
  },
  {
   "cell_type": "code",
   "execution_count": 45,
   "metadata": {},
   "outputs": [
    {
     "data": {
      "text/plain": [
       "3217.1487191938813"
      ]
     },
     "execution_count": 45,
     "metadata": {},
     "output_type": "execute_result"
    }
   ],
   "source": [
    "d1[d1['is_canceled']==0]['price'].mean()"
   ]
  },
  {
   "cell_type": "code",
   "execution_count": 46,
   "metadata": {},
   "outputs": [
    {
     "data": {
      "text/plain": [
       "(2800.0, 2800.0)"
      ]
     },
     "execution_count": 46,
     "metadata": {},
     "output_type": "execute_result"
    }
   ],
   "source": [
    "d1[d1['is_canceled']==1]['price'].median(), d1[d1['is_canceled']==0]['price'].median()"
   ]
  },
  {
   "cell_type": "markdown",
   "metadata": {},
   "source": [
    "Так как разница между среднеми  значениями цены за услуги отеля группы\n",
    "отказавшихся от  отеля и  заехвших в отель, а медианная разница вообще\n",
    "отсутствует, можно  предположить,  что цена  номера не влияет на отказ \n",
    "покумателя от услуг отеля."
   ]
  },
  {
   "cell_type": "markdown",
   "metadata": {},
   "source": [
    "Проверим корреляцию основтого признака с отсльными признаками.\n",
    " "
   ]
  },
  {
   "cell_type": "markdown",
   "metadata": {},
   "source": [
    "Создадим список из столбцов для работы со столбцами таблиц."
   ]
  },
  {
   "cell_type": "code",
   "execution_count": 47,
   "metadata": {},
   "outputs": [],
   "source": [
    "column = list(d1.columns)\n",
    "#column"
   ]
  },
  {
   "cell_type": "markdown",
   "metadata": {},
   "source": [
    "С помощью метода info() выделим  столбцы с категориальными значениями  и\n",
    "колличественными. Создадим два списка:\n",
    "column - колличественные\n",
    "column_category -  категориальные"
   ]
  },
  {
   "cell_type": "code",
   "execution_count": 48,
   "metadata": {},
   "outputs": [
    {
     "name": "stdout",
     "output_type": "stream",
     "text": [
      "<class 'pandas.core.frame.DataFrame'>\n",
      "RangeIndex: 65229 entries, 0 to 65228\n",
      "Data columns (total 26 columns):\n",
      " #   Column                          Non-Null Count  Dtype  \n",
      "---  ------                          --------------  -----  \n",
      " 0   id                              65229 non-null  int64  \n",
      " 1   is_canceled                     65229 non-null  int64  \n",
      " 2   lead_time                       65229 non-null  float64\n",
      " 3   arrival_date_year               65229 non-null  int64  \n",
      " 4   arrival_date_month              65229 non-null  object \n",
      " 5   arrival_date_week_number        65229 non-null  int64  \n",
      " 6   arrival_date_day_of_month       65229 non-null  int64  \n",
      " 7   stays_in_weekend_nights         65229 non-null  int64  \n",
      " 8   stays_in_week_nights            65229 non-null  int64  \n",
      " 9   adults                          65229 non-null  float64\n",
      " 10  children                        65229 non-null  float64\n",
      " 11  babies                          65229 non-null  float64\n",
      " 12  meal                            65229 non-null  object \n",
      " 13  country                         65229 non-null  object \n",
      " 14  distribution_channel            65229 non-null  object \n",
      " 15  is_repeated_guest               65229 non-null  int64  \n",
      " 16  previous_cancellations          65229 non-null  int64  \n",
      " 17  previous_bookings_not_canceled  65229 non-null  int64  \n",
      " 18  reserved_room_type              65229 non-null  object \n",
      " 19  booking_changes                 65229 non-null  int64  \n",
      " 20  days_in_waiting_list            65229 non-null  int64  \n",
      " 21  customer_type                   65229 non-null  object \n",
      " 22  required_car_parking_spaces     65229 non-null  int64  \n",
      " 23  total_of_special_requests       65229 non-null  int64  \n",
      " 24  total_nights                    65229 non-null  int64  \n",
      " 25  price                           65229 non-null  float64\n",
      "dtypes: float64(5), int64(15), object(6)\n",
      "memory usage: 12.9+ MB\n"
     ]
    }
   ],
   "source": [
    "d1.info()"
   ]
  },
  {
   "cell_type": "code",
   "execution_count": 49,
   "metadata": {},
   "outputs": [],
   "source": [
    "column.remove('id')\n",
    "column.remove('is_canceled')\n",
    "column.remove('arrival_date_month')\n",
    "column.remove('reserved_room_type')\n",
    "column.remove('meal')\n",
    "column.remove('country')\n",
    "column.remove('distribution_channel')\n",
    "column.remove('customer_type')\n",
    "column.remove('price')\n",
    "column_category = ['arrival_date_month', 'reserved_room_type', 'meal', 'country', 'distribution_channel', 'customer_type']"
   ]
  },
  {
   "cell_type": "code",
   "execution_count": 50,
   "metadata": {},
   "outputs": [
    {
     "data": {
      "text/plain": [
       "['lead_time',\n",
       " 'arrival_date_year',\n",
       " 'arrival_date_week_number',\n",
       " 'arrival_date_day_of_month',\n",
       " 'stays_in_weekend_nights',\n",
       " 'stays_in_week_nights',\n",
       " 'adults',\n",
       " 'children',\n",
       " 'babies',\n",
       " 'is_repeated_guest',\n",
       " 'previous_cancellations',\n",
       " 'previous_bookings_not_canceled',\n",
       " 'booking_changes',\n",
       " 'days_in_waiting_list',\n",
       " 'required_car_parking_spaces',\n",
       " 'total_of_special_requests',\n",
       " 'total_nights']"
      ]
     },
     "execution_count": 50,
     "metadata": {},
     "output_type": "execute_result"
    }
   ],
   "source": [
    "column"
   ]
  },
  {
   "cell_type": "code",
   "execution_count": 51,
   "metadata": {},
   "outputs": [
    {
     "name": "stdout",
     "output_type": "stream",
     "text": [
      "                    is_canceled  arrival_date_month      part\n",
      "arrival_date_month                                           \n",
      "April                      1886                4804  0.392590\n",
      "August                     2597                6678  0.388889\n",
      "December                   1913                5497  0.348008\n",
      "February                   1182                3358  0.351995\n",
      "January                     487                1892  0.257400\n",
      "July                       2221                5718  0.388423\n",
      "June                       1931                4659  0.414467\n",
      "March                      1277                4148  0.307859\n",
      "May                        1673                4677  0.357708\n",
      "November                   1824                5761  0.316612\n",
      "October                    3566                9255  0.385305\n",
      "September                  3487                8782  0.397062\n",
      "\n",
      "\n",
      "                    is_canceled  reserved_room_type      part\n",
      "reserved_room_type                                           \n",
      "A                         19722               50501  0.390527\n",
      "B                           261                 860  0.303488\n",
      "C                            43                 228  0.188596\n",
      "D                          2871                9387  0.305849\n",
      "E                           608                2448  0.248366\n",
      "F                           348                1213  0.286892\n",
      "G                           191                 592  0.322635\n",
      "\n",
      "\n",
      "      is_canceled   meal      part\n",
      "meal                              \n",
      "BB          18935  51697  0.366269\n",
      "FB            311    451  0.689579\n",
      "HB           2808   7292  0.385080\n",
      "SC           1990   5789  0.343755\n",
      "\n",
      "\n",
      "         is_canceled  country      part\n",
      "country                                \n",
      "AGO               55      140  0.392857\n",
      "ARG               21      107  0.196262\n",
      "AUS               34      168  0.202381\n",
      "AUT               94      716  0.131285\n",
      "BEL              208     1245  0.167068\n",
      "BRA              349     1088  0.320772\n",
      "CHE              161      874  0.184211\n",
      "CHN              234      526  0.444867\n",
      "CN                81      488  0.165984\n",
      "CZE               22      112  0.196429\n",
      "DEU              541     3887  0.139182\n",
      "DNK               35      201  0.174129\n",
      "ESP             1081     4900  0.220612\n",
      "FIN               35      241  0.145228\n",
      "FRA              876     5974  0.146635\n",
      "GBR              938     5109  0.183598\n",
      "GRC               20       81  0.246914\n",
      "HUN               42      121  0.347107\n",
      "IND               19       88  0.215909\n",
      "IRL              313     1445  0.216609\n",
      "ISR               97      375  0.258667\n",
      "ITA              767     2327  0.329609\n",
      "JPN               17      117  0.145299\n",
      "KOR               22       68  0.323529\n",
      "LUX               43      134  0.320896\n",
      "MAR               43      125  0.344000\n",
      "NLD              189     1166  0.162093\n",
      "NOR               53      261  0.203065\n",
      "POL              105      531  0.197740\n",
      "PRT            16604    28831  0.575908\n",
      "ROU               55      249  0.220884\n",
      "RUS               96      296  0.324324\n",
      "SRB                1       81  0.012346\n",
      "SSS              419     1436  0.291783\n",
      "SWE              114      544  0.209559\n",
      "TUR               68      169  0.402367\n",
      "USA              192     1008  0.190476\n",
      "\n",
      "\n",
      "                      is_canceled  distribution_channel      part\n",
      "distribution_channel                                             \n",
      "Corporate                     831                  3823  0.217369\n",
      "Direct                       1188                  6853  0.173355\n",
      "GDS                            19                    99  0.191919\n",
      "TA/TO                       22006                 54454  0.404121\n",
      "\n",
      "\n",
      "                 is_canceled  customer_type      part\n",
      "customer_type                                        \n",
      "Contract                1090           2746  0.396941\n",
      "Group                     24            287  0.083624\n",
      "Transient              18017          45493  0.396039\n",
      "Transient-Party         4913          16703  0.294139\n",
      "\n",
      "\n"
     ]
    }
   ],
   "source": [
    "for i in column_category:    \n",
    "    rr = d1.groupby(i).agg({'is_canceled':'sum', i : 'count'})\n",
    "    rr['part'] = rr['is_canceled']/rr[i]\n",
    "    print(rr)\n",
    "    print()\n",
    "    print()\n"
   ]
  },
  {
   "cell_type": "markdown",
   "metadata": {},
   "source": [
    "Из расчетов видно,  что корреляция между  столбцами  колличество  отказов и \n",
    "количество заказов по категориям в столбцах таблицы везде близко к единици,\n",
    "но в столбцах табцы  - канал заказа(distribution_channel) большая доля\n",
    "отказов от услуг отеля (0,4 от колличества заказов) и гражданство постояльца."
   ]
  },
  {
   "cell_type": "markdown",
   "metadata": {},
   "source": [
    "Изучим столбец country(гражданство постояльца). Посмотрим данные(часть отказов по \n",
    "странам и столбец страна более 500 ед.)"
   ]
  },
  {
   "cell_type": "code",
   "execution_count": 52,
   "metadata": {},
   "outputs": [
    {
     "data": {
      "text/html": [
       "<div>\n",
       "<style scoped>\n",
       "    .dataframe tbody tr th:only-of-type {\n",
       "        vertical-align: middle;\n",
       "    }\n",
       "\n",
       "    .dataframe tbody tr th {\n",
       "        vertical-align: top;\n",
       "    }\n",
       "\n",
       "    .dataframe thead th {\n",
       "        text-align: right;\n",
       "    }\n",
       "</style>\n",
       "<table border=\"1\" class=\"dataframe\">\n",
       "  <thead>\n",
       "    <tr style=\"text-align: right;\">\n",
       "      <th></th>\n",
       "      <th>is_canceled</th>\n",
       "      <th>country</th>\n",
       "      <th>part</th>\n",
       "    </tr>\n",
       "    <tr>\n",
       "      <th>country</th>\n",
       "      <th></th>\n",
       "      <th></th>\n",
       "      <th></th>\n",
       "    </tr>\n",
       "  </thead>\n",
       "  <tbody>\n",
       "    <tr>\n",
       "      <th>AUT</th>\n",
       "      <td>94</td>\n",
       "      <td>716</td>\n",
       "      <td>0.131285</td>\n",
       "    </tr>\n",
       "    <tr>\n",
       "      <th>BEL</th>\n",
       "      <td>208</td>\n",
       "      <td>1245</td>\n",
       "      <td>0.167068</td>\n",
       "    </tr>\n",
       "    <tr>\n",
       "      <th>BRA</th>\n",
       "      <td>349</td>\n",
       "      <td>1088</td>\n",
       "      <td>0.320772</td>\n",
       "    </tr>\n",
       "    <tr>\n",
       "      <th>CHE</th>\n",
       "      <td>161</td>\n",
       "      <td>874</td>\n",
       "      <td>0.184211</td>\n",
       "    </tr>\n",
       "    <tr>\n",
       "      <th>CHN</th>\n",
       "      <td>234</td>\n",
       "      <td>526</td>\n",
       "      <td>0.444867</td>\n",
       "    </tr>\n",
       "    <tr>\n",
       "      <th>DEU</th>\n",
       "      <td>541</td>\n",
       "      <td>3887</td>\n",
       "      <td>0.139182</td>\n",
       "    </tr>\n",
       "    <tr>\n",
       "      <th>ESP</th>\n",
       "      <td>1081</td>\n",
       "      <td>4900</td>\n",
       "      <td>0.220612</td>\n",
       "    </tr>\n",
       "    <tr>\n",
       "      <th>FRA</th>\n",
       "      <td>876</td>\n",
       "      <td>5974</td>\n",
       "      <td>0.146635</td>\n",
       "    </tr>\n",
       "    <tr>\n",
       "      <th>GBR</th>\n",
       "      <td>938</td>\n",
       "      <td>5109</td>\n",
       "      <td>0.183598</td>\n",
       "    </tr>\n",
       "    <tr>\n",
       "      <th>IRL</th>\n",
       "      <td>313</td>\n",
       "      <td>1445</td>\n",
       "      <td>0.216609</td>\n",
       "    </tr>\n",
       "    <tr>\n",
       "      <th>ITA</th>\n",
       "      <td>767</td>\n",
       "      <td>2327</td>\n",
       "      <td>0.329609</td>\n",
       "    </tr>\n",
       "    <tr>\n",
       "      <th>NLD</th>\n",
       "      <td>189</td>\n",
       "      <td>1166</td>\n",
       "      <td>0.162093</td>\n",
       "    </tr>\n",
       "    <tr>\n",
       "      <th>POL</th>\n",
       "      <td>105</td>\n",
       "      <td>531</td>\n",
       "      <td>0.197740</td>\n",
       "    </tr>\n",
       "    <tr>\n",
       "      <th>SSS</th>\n",
       "      <td>419</td>\n",
       "      <td>1436</td>\n",
       "      <td>0.291783</td>\n",
       "    </tr>\n",
       "    <tr>\n",
       "      <th>SWE</th>\n",
       "      <td>114</td>\n",
       "      <td>544</td>\n",
       "      <td>0.209559</td>\n",
       "    </tr>\n",
       "    <tr>\n",
       "      <th>USA</th>\n",
       "      <td>192</td>\n",
       "      <td>1008</td>\n",
       "      <td>0.190476</td>\n",
       "    </tr>\n",
       "  </tbody>\n",
       "</table>\n",
       "</div>"
      ],
      "text/plain": [
       "         is_canceled  country      part\n",
       "country                                \n",
       "AUT               94      716  0.131285\n",
       "BEL              208     1245  0.167068\n",
       "BRA              349     1088  0.320772\n",
       "CHE              161      874  0.184211\n",
       "CHN              234      526  0.444867\n",
       "DEU              541     3887  0.139182\n",
       "ESP             1081     4900  0.220612\n",
       "FRA              876     5974  0.146635\n",
       "GBR              938     5109  0.183598\n",
       "IRL              313     1445  0.216609\n",
       "ITA              767     2327  0.329609\n",
       "NLD              189     1166  0.162093\n",
       "POL              105      531  0.197740\n",
       "SSS              419     1436  0.291783\n",
       "SWE              114      544  0.209559\n",
       "USA              192     1008  0.190476"
      ]
     },
     "execution_count": 52,
     "metadata": {},
     "output_type": "execute_result"
    }
   ],
   "source": [
    "rr = d1.groupby('country').agg({'is_canceled':'sum', 'country' : 'count'})\n",
    "rr['part'] = rr['is_canceled']/rr['country']\n",
    "rr[(rr['part']<0.5) & (rr['country']>500)]"
   ]
  },
  {
   "cell_type": "markdown",
   "metadata": {},
   "source": [
    "Посмотрим на столбец страны, какая страна самая большая по колличеству отказов и \n",
    "отношение их между собой."
   ]
  },
  {
   "cell_type": "code",
   "execution_count": 53,
   "metadata": {},
   "outputs": [
    {
     "data": {
      "text/html": [
       "<div>\n",
       "<style scoped>\n",
       "    .dataframe tbody tr th:only-of-type {\n",
       "        vertical-align: middle;\n",
       "    }\n",
       "\n",
       "    .dataframe tbody tr th {\n",
       "        vertical-align: top;\n",
       "    }\n",
       "\n",
       "    .dataframe thead th {\n",
       "        text-align: right;\n",
       "    }\n",
       "</style>\n",
       "<table border=\"1\" class=\"dataframe\">\n",
       "  <thead>\n",
       "    <tr style=\"text-align: right;\">\n",
       "      <th></th>\n",
       "      <th>is_canceled</th>\n",
       "      <th>country</th>\n",
       "      <th>part</th>\n",
       "    </tr>\n",
       "    <tr>\n",
       "      <th>country</th>\n",
       "      <th></th>\n",
       "      <th></th>\n",
       "      <th></th>\n",
       "    </tr>\n",
       "  </thead>\n",
       "  <tbody>\n",
       "    <tr>\n",
       "      <th>PRT</th>\n",
       "      <td>16604</td>\n",
       "      <td>28831</td>\n",
       "      <td>0.575908</td>\n",
       "    </tr>\n",
       "  </tbody>\n",
       "</table>\n",
       "</div>"
      ],
      "text/plain": [
       "         is_canceled  country      part\n",
       "country                                \n",
       "PRT            16604    28831  0.575908"
      ]
     },
     "execution_count": 53,
     "metadata": {},
     "output_type": "execute_result"
    }
   ],
   "source": [
    "rr = d1.groupby('country').agg({'is_canceled':'sum', 'country': 'count'})#, 'is_canceled':'sum'/'reserved_room_type': 'count'})#.corr()\n",
    "rr['part'] = rr['is_canceled']/rr['country']\n",
    "rr[rr['part']>0.5]"
   ]
  },
  {
   "cell_type": "code",
   "execution_count": 54,
   "metadata": {},
   "outputs": [
    {
     "data": {
      "text/plain": [
       "0.4419966579282221"
      ]
     },
     "execution_count": 54,
     "metadata": {},
     "output_type": "execute_result"
    }
   ],
   "source": [
    "d1[d1['country']=='PRT'].shape[0]/len(d1)"
   ]
  },
  {
   "cell_type": "markdown",
   "metadata": {},
   "source": [
    "Из выявленных данных видно, что более 57% клиентов с гражданством PRT отказваются от\n",
    "услуг отеля при том что доля клиентов  с гражданством PRT по отношению ко всей выборке\n",
    "равна 44%."
   ]
  },
  {
   "cell_type": "markdown",
   "metadata": {},
   "source": [
    "<div class=\"alert alert-success\">\n",
    "    \n",
    "<h2> Комментарий ревьюера <a class=\"tocSkip\"> </h2>\n",
    "\n",
    "<b>Все отлично!👍:</b> \n",
    "    \n",
    "Молодец, что проводишь EDA  с точки зрения отказа от брони"
   ]
  },
  {
   "cell_type": "code",
   "execution_count": 55,
   "metadata": {},
   "outputs": [
    {
     "data": {
      "text/html": [
       "<div>\n",
       "<style scoped>\n",
       "    .dataframe tbody tr th:only-of-type {\n",
       "        vertical-align: middle;\n",
       "    }\n",
       "\n",
       "    .dataframe tbody tr th {\n",
       "        vertical-align: top;\n",
       "    }\n",
       "\n",
       "    .dataframe thead th {\n",
       "        text-align: right;\n",
       "    }\n",
       "</style>\n",
       "<table border=\"1\" class=\"dataframe\">\n",
       "  <thead>\n",
       "    <tr style=\"text-align: right;\">\n",
       "      <th></th>\n",
       "      <th>id</th>\n",
       "      <th>is_canceled</th>\n",
       "      <th>lead_time</th>\n",
       "      <th>arrival_date_year</th>\n",
       "      <th>arrival_date_month</th>\n",
       "      <th>arrival_date_week_number</th>\n",
       "      <th>arrival_date_day_of_month</th>\n",
       "      <th>stays_in_weekend_nights</th>\n",
       "      <th>stays_in_week_nights</th>\n",
       "      <th>adults</th>\n",
       "      <th>...</th>\n",
       "      <th>previous_cancellations</th>\n",
       "      <th>previous_bookings_not_canceled</th>\n",
       "      <th>reserved_room_type</th>\n",
       "      <th>booking_changes</th>\n",
       "      <th>days_in_waiting_list</th>\n",
       "      <th>customer_type</th>\n",
       "      <th>required_car_parking_spaces</th>\n",
       "      <th>total_of_special_requests</th>\n",
       "      <th>total_nights</th>\n",
       "      <th>price</th>\n",
       "    </tr>\n",
       "  </thead>\n",
       "  <tbody>\n",
       "    <tr>\n",
       "      <th>4</th>\n",
       "      <td>4</td>\n",
       "      <td>1</td>\n",
       "      <td>85.0</td>\n",
       "      <td>2015</td>\n",
       "      <td>July</td>\n",
       "      <td>27</td>\n",
       "      <td>1</td>\n",
       "      <td>0</td>\n",
       "      <td>3</td>\n",
       "      <td>2.0</td>\n",
       "      <td>...</td>\n",
       "      <td>0</td>\n",
       "      <td>0</td>\n",
       "      <td>A</td>\n",
       "      <td>0</td>\n",
       "      <td>0</td>\n",
       "      <td>Transient</td>\n",
       "      <td>0</td>\n",
       "      <td>1</td>\n",
       "      <td>3</td>\n",
       "      <td>4200.0</td>\n",
       "    </tr>\n",
       "    <tr>\n",
       "      <th>5</th>\n",
       "      <td>5</td>\n",
       "      <td>1</td>\n",
       "      <td>75.0</td>\n",
       "      <td>2015</td>\n",
       "      <td>July</td>\n",
       "      <td>27</td>\n",
       "      <td>1</td>\n",
       "      <td>0</td>\n",
       "      <td>3</td>\n",
       "      <td>2.0</td>\n",
       "      <td>...</td>\n",
       "      <td>0</td>\n",
       "      <td>0</td>\n",
       "      <td>D</td>\n",
       "      <td>0</td>\n",
       "      <td>0</td>\n",
       "      <td>Transient</td>\n",
       "      <td>0</td>\n",
       "      <td>0</td>\n",
       "      <td>3</td>\n",
       "      <td>2310.0</td>\n",
       "    </tr>\n",
       "    <tr>\n",
       "      <th>6</th>\n",
       "      <td>6</td>\n",
       "      <td>1</td>\n",
       "      <td>23.0</td>\n",
       "      <td>2015</td>\n",
       "      <td>July</td>\n",
       "      <td>27</td>\n",
       "      <td>1</td>\n",
       "      <td>0</td>\n",
       "      <td>4</td>\n",
       "      <td>2.0</td>\n",
       "      <td>...</td>\n",
       "      <td>0</td>\n",
       "      <td>0</td>\n",
       "      <td>E</td>\n",
       "      <td>0</td>\n",
       "      <td>0</td>\n",
       "      <td>Transient</td>\n",
       "      <td>0</td>\n",
       "      <td>0</td>\n",
       "      <td>4</td>\n",
       "      <td>2800.0</td>\n",
       "    </tr>\n",
       "    <tr>\n",
       "      <th>18</th>\n",
       "      <td>18</td>\n",
       "      <td>1</td>\n",
       "      <td>40.0</td>\n",
       "      <td>2015</td>\n",
       "      <td>July</td>\n",
       "      <td>27</td>\n",
       "      <td>2</td>\n",
       "      <td>1</td>\n",
       "      <td>3</td>\n",
       "      <td>3.0</td>\n",
       "      <td>...</td>\n",
       "      <td>0</td>\n",
       "      <td>0</td>\n",
       "      <td>D</td>\n",
       "      <td>0</td>\n",
       "      <td>0</td>\n",
       "      <td>Transient</td>\n",
       "      <td>0</td>\n",
       "      <td>1</td>\n",
       "      <td>4</td>\n",
       "      <td>3080.0</td>\n",
       "    </tr>\n",
       "    <tr>\n",
       "      <th>22</th>\n",
       "      <td>22</td>\n",
       "      <td>1</td>\n",
       "      <td>45.0</td>\n",
       "      <td>2015</td>\n",
       "      <td>July</td>\n",
       "      <td>27</td>\n",
       "      <td>2</td>\n",
       "      <td>2</td>\n",
       "      <td>3</td>\n",
       "      <td>2.0</td>\n",
       "      <td>...</td>\n",
       "      <td>0</td>\n",
       "      <td>0</td>\n",
       "      <td>G</td>\n",
       "      <td>0</td>\n",
       "      <td>0</td>\n",
       "      <td>Transient</td>\n",
       "      <td>0</td>\n",
       "      <td>0</td>\n",
       "      <td>5</td>\n",
       "      <td>2450.0</td>\n",
       "    </tr>\n",
       "    <tr>\n",
       "      <th>...</th>\n",
       "      <td>...</td>\n",
       "      <td>...</td>\n",
       "      <td>...</td>\n",
       "      <td>...</td>\n",
       "      <td>...</td>\n",
       "      <td>...</td>\n",
       "      <td>...</td>\n",
       "      <td>...</td>\n",
       "      <td>...</td>\n",
       "      <td>...</td>\n",
       "      <td>...</td>\n",
       "      <td>...</td>\n",
       "      <td>...</td>\n",
       "      <td>...</td>\n",
       "      <td>...</td>\n",
       "      <td>...</td>\n",
       "      <td>...</td>\n",
       "      <td>...</td>\n",
       "      <td>...</td>\n",
       "      <td>...</td>\n",
       "      <td>...</td>\n",
       "    </tr>\n",
       "    <tr>\n",
       "      <th>56255</th>\n",
       "      <td>74879</td>\n",
       "      <td>1</td>\n",
       "      <td>6.0</td>\n",
       "      <td>2016</td>\n",
       "      <td>November</td>\n",
       "      <td>48</td>\n",
       "      <td>24</td>\n",
       "      <td>0</td>\n",
       "      <td>1</td>\n",
       "      <td>1.0</td>\n",
       "      <td>...</td>\n",
       "      <td>1</td>\n",
       "      <td>3</td>\n",
       "      <td>A</td>\n",
       "      <td>0</td>\n",
       "      <td>0</td>\n",
       "      <td>Transient</td>\n",
       "      <td>0</td>\n",
       "      <td>1</td>\n",
       "      <td>1</td>\n",
       "      <td>1200.0</td>\n",
       "    </tr>\n",
       "    <tr>\n",
       "      <th>56267</th>\n",
       "      <td>74896</td>\n",
       "      <td>1</td>\n",
       "      <td>3.0</td>\n",
       "      <td>2016</td>\n",
       "      <td>September</td>\n",
       "      <td>38</td>\n",
       "      <td>12</td>\n",
       "      <td>1</td>\n",
       "      <td>2</td>\n",
       "      <td>1.0</td>\n",
       "      <td>...</td>\n",
       "      <td>0</td>\n",
       "      <td>1</td>\n",
       "      <td>A</td>\n",
       "      <td>0</td>\n",
       "      <td>0</td>\n",
       "      <td>Transient</td>\n",
       "      <td>0</td>\n",
       "      <td>1</td>\n",
       "      <td>3</td>\n",
       "      <td>3600.0</td>\n",
       "    </tr>\n",
       "    <tr>\n",
       "      <th>57717</th>\n",
       "      <td>76356</td>\n",
       "      <td>1</td>\n",
       "      <td>12.0</td>\n",
       "      <td>2016</td>\n",
       "      <td>October</td>\n",
       "      <td>42</td>\n",
       "      <td>12</td>\n",
       "      <td>0</td>\n",
       "      <td>2</td>\n",
       "      <td>1.0</td>\n",
       "      <td>...</td>\n",
       "      <td>0</td>\n",
       "      <td>4</td>\n",
       "      <td>A</td>\n",
       "      <td>0</td>\n",
       "      <td>0</td>\n",
       "      <td>Transient</td>\n",
       "      <td>0</td>\n",
       "      <td>1</td>\n",
       "      <td>2</td>\n",
       "      <td>2400.0</td>\n",
       "    </tr>\n",
       "    <tr>\n",
       "      <th>59663</th>\n",
       "      <td>78334</td>\n",
       "      <td>1</td>\n",
       "      <td>0.0</td>\n",
       "      <td>2016</td>\n",
       "      <td>October</td>\n",
       "      <td>42</td>\n",
       "      <td>10</td>\n",
       "      <td>1</td>\n",
       "      <td>2</td>\n",
       "      <td>1.0</td>\n",
       "      <td>...</td>\n",
       "      <td>0</td>\n",
       "      <td>1</td>\n",
       "      <td>A</td>\n",
       "      <td>0</td>\n",
       "      <td>0</td>\n",
       "      <td>Transient</td>\n",
       "      <td>0</td>\n",
       "      <td>0</td>\n",
       "      <td>3</td>\n",
       "      <td>3600.0</td>\n",
       "    </tr>\n",
       "    <tr>\n",
       "      <th>60450</th>\n",
       "      <td>79128</td>\n",
       "      <td>1</td>\n",
       "      <td>0.0</td>\n",
       "      <td>2016</td>\n",
       "      <td>December</td>\n",
       "      <td>51</td>\n",
       "      <td>12</td>\n",
       "      <td>1</td>\n",
       "      <td>0</td>\n",
       "      <td>2.0</td>\n",
       "      <td>...</td>\n",
       "      <td>0</td>\n",
       "      <td>1</td>\n",
       "      <td>A</td>\n",
       "      <td>0</td>\n",
       "      <td>0</td>\n",
       "      <td>Transient</td>\n",
       "      <td>0</td>\n",
       "      <td>2</td>\n",
       "      <td>1</td>\n",
       "      <td>1000.0</td>\n",
       "    </tr>\n",
       "  </tbody>\n",
       "</table>\n",
       "<p>16604 rows × 26 columns</p>\n",
       "</div>"
      ],
      "text/plain": [
       "          id  is_canceled  lead_time  arrival_date_year arrival_date_month  \\\n",
       "4          4            1       85.0               2015               July   \n",
       "5          5            1       75.0               2015               July   \n",
       "6          6            1       23.0               2015               July   \n",
       "18        18            1       40.0               2015               July   \n",
       "22        22            1       45.0               2015               July   \n",
       "...      ...          ...        ...                ...                ...   \n",
       "56255  74879            1        6.0               2016           November   \n",
       "56267  74896            1        3.0               2016          September   \n",
       "57717  76356            1       12.0               2016            October   \n",
       "59663  78334            1        0.0               2016            October   \n",
       "60450  79128            1        0.0               2016           December   \n",
       "\n",
       "       arrival_date_week_number  arrival_date_day_of_month  \\\n",
       "4                            27                          1   \n",
       "5                            27                          1   \n",
       "6                            27                          1   \n",
       "18                           27                          2   \n",
       "22                           27                          2   \n",
       "...                         ...                        ...   \n",
       "56255                        48                         24   \n",
       "56267                        38                         12   \n",
       "57717                        42                         12   \n",
       "59663                        42                         10   \n",
       "60450                        51                         12   \n",
       "\n",
       "       stays_in_weekend_nights  stays_in_week_nights  adults  ...  \\\n",
       "4                            0                     3     2.0  ...   \n",
       "5                            0                     3     2.0  ...   \n",
       "6                            0                     4     2.0  ...   \n",
       "18                           1                     3     3.0  ...   \n",
       "22                           2                     3     2.0  ...   \n",
       "...                        ...                   ...     ...  ...   \n",
       "56255                        0                     1     1.0  ...   \n",
       "56267                        1                     2     1.0  ...   \n",
       "57717                        0                     2     1.0  ...   \n",
       "59663                        1                     2     1.0  ...   \n",
       "60450                        1                     0     2.0  ...   \n",
       "\n",
       "       previous_cancellations  previous_bookings_not_canceled  \\\n",
       "4                           0                               0   \n",
       "5                           0                               0   \n",
       "6                           0                               0   \n",
       "18                          0                               0   \n",
       "22                          0                               0   \n",
       "...                       ...                             ...   \n",
       "56255                       1                               3   \n",
       "56267                       0                               1   \n",
       "57717                       0                               4   \n",
       "59663                       0                               1   \n",
       "60450                       0                               1   \n",
       "\n",
       "      reserved_room_type booking_changes days_in_waiting_list  customer_type  \\\n",
       "4                      A               0                    0      Transient   \n",
       "5                      D               0                    0      Transient   \n",
       "6                      E               0                    0      Transient   \n",
       "18                     D               0                    0      Transient   \n",
       "22                     G               0                    0      Transient   \n",
       "...                  ...             ...                  ...            ...   \n",
       "56255                  A               0                    0      Transient   \n",
       "56267                  A               0                    0      Transient   \n",
       "57717                  A               0                    0      Transient   \n",
       "59663                  A               0                    0      Transient   \n",
       "60450                  A               0                    0      Transient   \n",
       "\n",
       "       required_car_parking_spaces  total_of_special_requests total_nights  \\\n",
       "4                                0                          1            3   \n",
       "5                                0                          0            3   \n",
       "6                                0                          0            4   \n",
       "18                               0                          1            4   \n",
       "22                               0                          0            5   \n",
       "...                            ...                        ...          ...   \n",
       "56255                            0                          1            1   \n",
       "56267                            0                          1            3   \n",
       "57717                            0                          1            2   \n",
       "59663                            0                          0            3   \n",
       "60450                            0                          2            1   \n",
       "\n",
       "        price  \n",
       "4      4200.0  \n",
       "5      2310.0  \n",
       "6      2800.0  \n",
       "18     3080.0  \n",
       "22     2450.0  \n",
       "...       ...  \n",
       "56255  1200.0  \n",
       "56267  3600.0  \n",
       "57717  2400.0  \n",
       "59663  3600.0  \n",
       "60450  1000.0  \n",
       "\n",
       "[16604 rows x 26 columns]"
      ]
     },
     "execution_count": 55,
     "metadata": {},
     "output_type": "execute_result"
    }
   ],
   "source": [
    "d1[(d1['country']=='PRT') & (d1['is_canceled']==1)]"
   ]
  },
  {
   "cell_type": "markdown",
   "metadata": {},
   "source": [
    "Посчитаем долю отказов связанных с гражданством постояльца. Прировняем это значение \n",
    "к переменной percent_prt."
   ]
  },
  {
   "cell_type": "code",
   "execution_count": 56,
   "metadata": {},
   "outputs": [
    {
     "data": {
      "text/plain": [
       "0.6905672932956247"
      ]
     },
     "execution_count": 56,
     "metadata": {},
     "output_type": "execute_result"
    }
   ],
   "source": [
    "percent_prt = len(d1[(d1['country']=='PRT') & (d1['is_canceled']==1)])/len(d1[d1['is_canceled']==1])\n",
    "percent_prt"
   ]
  },
  {
   "cell_type": "code",
   "execution_count": 57,
   "metadata": {},
   "outputs": [
    {
     "data": {
      "text/plain": [
       "(22006, 26)"
      ]
     },
     "execution_count": 57,
     "metadata": {},
     "output_type": "execute_result"
    }
   ],
   "source": [
    "refusal_tato = d1[(d1['distribution_channel']=='TA/TO') & (d1['is_canceled']==1)].shape\n",
    "refusal_tato"
   ]
  },
  {
   "cell_type": "code",
   "execution_count": 58,
   "metadata": {},
   "outputs": [
    {
     "data": {
      "text/plain": [
       "(54454, 26)"
      ]
     },
     "execution_count": 58,
     "metadata": {},
     "output_type": "execute_result"
    }
   ],
   "source": [
    "order_tato = d1[d1['distribution_channel']=='TA/TO'].shape\n",
    "order_tato"
   ]
  },
  {
   "cell_type": "markdown",
   "metadata": {},
   "source": [
    "Посчитаем отнощение клиентов воспользовавшихся каналом бронирования TA/TO к \n",
    "общему кол-ву клиентов."
   ]
  },
  {
   "cell_type": "code",
   "execution_count": 59,
   "metadata": {},
   "outputs": [
    {
     "data": {
      "text/plain": [
       "0.8348127366662067"
      ]
     },
     "execution_count": 59,
     "metadata": {},
     "output_type": "execute_result"
    }
   ],
   "source": [
    "order_tato[0]/d1.shape[0]"
   ]
  },
  {
   "cell_type": "markdown",
   "metadata": {},
   "source": [
    "Посчитаем долю  отказа постояльцев от услуг отеля  которые воспользовались TA/TO \n",
    "каналом бронирования  по  отнощению   клиентов   воспользовавшихся  этим каналом\n",
    "бронирования."
   ]
  },
  {
   "cell_type": "code",
   "execution_count": 60,
   "metadata": {},
   "outputs": [
    {
     "data": {
      "text/plain": [
       "0.40412090939141293"
      ]
     },
     "execution_count": 60,
     "metadata": {},
     "output_type": "execute_result"
    }
   ],
   "source": [
    "refusal_tato[0]/order_tato[0]"
   ]
  },
  {
   "cell_type": "markdown",
   "metadata": {},
   "source": [
    "Посчитаем долю отказов связанных с каналом дистрибуции. Прировняем это значение \n",
    "к переменной percent_ta_to."
   ]
  },
  {
   "cell_type": "code",
   "execution_count": 61,
   "metadata": {},
   "outputs": [
    {
     "data": {
      "text/plain": [
       "0.9152387289968391"
      ]
     },
     "execution_count": 61,
     "metadata": {},
     "output_type": "execute_result"
    }
   ],
   "source": [
    "percent_ta_to = len(d1[(d1['distribution_channel']=='TA/TO') & (d1['is_canceled']==1)])/len(d1[d1['is_canceled']==1])\n",
    "percent_ta_to"
   ]
  },
  {
   "cell_type": "code",
   "execution_count": 62,
   "metadata": {},
   "outputs": [
    {
     "data": {
      "text/html": [
       "<div>\n",
       "<style scoped>\n",
       "    .dataframe tbody tr th:only-of-type {\n",
       "        vertical-align: middle;\n",
       "    }\n",
       "\n",
       "    .dataframe tbody tr th {\n",
       "        vertical-align: top;\n",
       "    }\n",
       "\n",
       "    .dataframe thead th {\n",
       "        text-align: right;\n",
       "    }\n",
       "</style>\n",
       "<table border=\"1\" class=\"dataframe\">\n",
       "  <thead>\n",
       "    <tr style=\"text-align: right;\">\n",
       "      <th></th>\n",
       "      <th>id</th>\n",
       "      <th>is_canceled</th>\n",
       "      <th>lead_time</th>\n",
       "      <th>arrival_date_year</th>\n",
       "      <th>arrival_date_month</th>\n",
       "      <th>arrival_date_week_number</th>\n",
       "      <th>arrival_date_day_of_month</th>\n",
       "      <th>stays_in_weekend_nights</th>\n",
       "      <th>stays_in_week_nights</th>\n",
       "      <th>adults</th>\n",
       "      <th>...</th>\n",
       "      <th>previous_cancellations</th>\n",
       "      <th>previous_bookings_not_canceled</th>\n",
       "      <th>reserved_room_type</th>\n",
       "      <th>booking_changes</th>\n",
       "      <th>days_in_waiting_list</th>\n",
       "      <th>customer_type</th>\n",
       "      <th>required_car_parking_spaces</th>\n",
       "      <th>total_of_special_requests</th>\n",
       "      <th>total_nights</th>\n",
       "      <th>price</th>\n",
       "    </tr>\n",
       "  </thead>\n",
       "  <tbody>\n",
       "    <tr>\n",
       "      <th>4</th>\n",
       "      <td>4</td>\n",
       "      <td>1</td>\n",
       "      <td>85.0</td>\n",
       "      <td>2015</td>\n",
       "      <td>July</td>\n",
       "      <td>27</td>\n",
       "      <td>1</td>\n",
       "      <td>0</td>\n",
       "      <td>3</td>\n",
       "      <td>2.0</td>\n",
       "      <td>...</td>\n",
       "      <td>0</td>\n",
       "      <td>0</td>\n",
       "      <td>A</td>\n",
       "      <td>0</td>\n",
       "      <td>0</td>\n",
       "      <td>Transient</td>\n",
       "      <td>0</td>\n",
       "      <td>1</td>\n",
       "      <td>3</td>\n",
       "      <td>4200.0</td>\n",
       "    </tr>\n",
       "    <tr>\n",
       "      <th>5</th>\n",
       "      <td>5</td>\n",
       "      <td>1</td>\n",
       "      <td>75.0</td>\n",
       "      <td>2015</td>\n",
       "      <td>July</td>\n",
       "      <td>27</td>\n",
       "      <td>1</td>\n",
       "      <td>0</td>\n",
       "      <td>3</td>\n",
       "      <td>2.0</td>\n",
       "      <td>...</td>\n",
       "      <td>0</td>\n",
       "      <td>0</td>\n",
       "      <td>D</td>\n",
       "      <td>0</td>\n",
       "      <td>0</td>\n",
       "      <td>Transient</td>\n",
       "      <td>0</td>\n",
       "      <td>0</td>\n",
       "      <td>3</td>\n",
       "      <td>2310.0</td>\n",
       "    </tr>\n",
       "    <tr>\n",
       "      <th>6</th>\n",
       "      <td>6</td>\n",
       "      <td>1</td>\n",
       "      <td>23.0</td>\n",
       "      <td>2015</td>\n",
       "      <td>July</td>\n",
       "      <td>27</td>\n",
       "      <td>1</td>\n",
       "      <td>0</td>\n",
       "      <td>4</td>\n",
       "      <td>2.0</td>\n",
       "      <td>...</td>\n",
       "      <td>0</td>\n",
       "      <td>0</td>\n",
       "      <td>E</td>\n",
       "      <td>0</td>\n",
       "      <td>0</td>\n",
       "      <td>Transient</td>\n",
       "      <td>0</td>\n",
       "      <td>0</td>\n",
       "      <td>4</td>\n",
       "      <td>2800.0</td>\n",
       "    </tr>\n",
       "    <tr>\n",
       "      <th>18</th>\n",
       "      <td>18</td>\n",
       "      <td>1</td>\n",
       "      <td>40.0</td>\n",
       "      <td>2015</td>\n",
       "      <td>July</td>\n",
       "      <td>27</td>\n",
       "      <td>2</td>\n",
       "      <td>1</td>\n",
       "      <td>3</td>\n",
       "      <td>3.0</td>\n",
       "      <td>...</td>\n",
       "      <td>0</td>\n",
       "      <td>0</td>\n",
       "      <td>D</td>\n",
       "      <td>0</td>\n",
       "      <td>0</td>\n",
       "      <td>Transient</td>\n",
       "      <td>0</td>\n",
       "      <td>1</td>\n",
       "      <td>4</td>\n",
       "      <td>3080.0</td>\n",
       "    </tr>\n",
       "    <tr>\n",
       "      <th>22</th>\n",
       "      <td>22</td>\n",
       "      <td>1</td>\n",
       "      <td>45.0</td>\n",
       "      <td>2015</td>\n",
       "      <td>July</td>\n",
       "      <td>27</td>\n",
       "      <td>2</td>\n",
       "      <td>2</td>\n",
       "      <td>3</td>\n",
       "      <td>2.0</td>\n",
       "      <td>...</td>\n",
       "      <td>0</td>\n",
       "      <td>0</td>\n",
       "      <td>G</td>\n",
       "      <td>0</td>\n",
       "      <td>0</td>\n",
       "      <td>Transient</td>\n",
       "      <td>0</td>\n",
       "      <td>0</td>\n",
       "      <td>5</td>\n",
       "      <td>2450.0</td>\n",
       "    </tr>\n",
       "    <tr>\n",
       "      <th>...</th>\n",
       "      <td>...</td>\n",
       "      <td>...</td>\n",
       "      <td>...</td>\n",
       "      <td>...</td>\n",
       "      <td>...</td>\n",
       "      <td>...</td>\n",
       "      <td>...</td>\n",
       "      <td>...</td>\n",
       "      <td>...</td>\n",
       "      <td>...</td>\n",
       "      <td>...</td>\n",
       "      <td>...</td>\n",
       "      <td>...</td>\n",
       "      <td>...</td>\n",
       "      <td>...</td>\n",
       "      <td>...</td>\n",
       "      <td>...</td>\n",
       "      <td>...</td>\n",
       "      <td>...</td>\n",
       "      <td>...</td>\n",
       "      <td>...</td>\n",
       "    </tr>\n",
       "    <tr>\n",
       "      <th>47462</th>\n",
       "      <td>65929</td>\n",
       "      <td>1</td>\n",
       "      <td>44.0</td>\n",
       "      <td>2016</td>\n",
       "      <td>March</td>\n",
       "      <td>11</td>\n",
       "      <td>7</td>\n",
       "      <td>1</td>\n",
       "      <td>0</td>\n",
       "      <td>1.0</td>\n",
       "      <td>...</td>\n",
       "      <td>0</td>\n",
       "      <td>0</td>\n",
       "      <td>A</td>\n",
       "      <td>0</td>\n",
       "      <td>0</td>\n",
       "      <td>Transient-Party</td>\n",
       "      <td>0</td>\n",
       "      <td>0</td>\n",
       "      <td>1</td>\n",
       "      <td>1200.0</td>\n",
       "    </tr>\n",
       "    <tr>\n",
       "      <th>48027</th>\n",
       "      <td>66507</td>\n",
       "      <td>1</td>\n",
       "      <td>4.0</td>\n",
       "      <td>2016</td>\n",
       "      <td>March</td>\n",
       "      <td>12</td>\n",
       "      <td>16</td>\n",
       "      <td>0</td>\n",
       "      <td>1</td>\n",
       "      <td>1.0</td>\n",
       "      <td>...</td>\n",
       "      <td>0</td>\n",
       "      <td>0</td>\n",
       "      <td>A</td>\n",
       "      <td>0</td>\n",
       "      <td>0</td>\n",
       "      <td>Transient</td>\n",
       "      <td>0</td>\n",
       "      <td>0</td>\n",
       "      <td>1</td>\n",
       "      <td>1200.0</td>\n",
       "    </tr>\n",
       "    <tr>\n",
       "      <th>48150</th>\n",
       "      <td>66630</td>\n",
       "      <td>1</td>\n",
       "      <td>91.0</td>\n",
       "      <td>2016</td>\n",
       "      <td>March</td>\n",
       "      <td>12</td>\n",
       "      <td>18</td>\n",
       "      <td>0</td>\n",
       "      <td>1</td>\n",
       "      <td>2.0</td>\n",
       "      <td>...</td>\n",
       "      <td>0</td>\n",
       "      <td>0</td>\n",
       "      <td>D</td>\n",
       "      <td>0</td>\n",
       "      <td>0</td>\n",
       "      <td>Transient</td>\n",
       "      <td>0</td>\n",
       "      <td>0</td>\n",
       "      <td>1</td>\n",
       "      <td>660.0</td>\n",
       "    </tr>\n",
       "    <tr>\n",
       "      <th>51577</th>\n",
       "      <td>70130</td>\n",
       "      <td>1</td>\n",
       "      <td>0.0</td>\n",
       "      <td>2016</td>\n",
       "      <td>December</td>\n",
       "      <td>52</td>\n",
       "      <td>20</td>\n",
       "      <td>0</td>\n",
       "      <td>1</td>\n",
       "      <td>1.0</td>\n",
       "      <td>...</td>\n",
       "      <td>0</td>\n",
       "      <td>6</td>\n",
       "      <td>A</td>\n",
       "      <td>0</td>\n",
       "      <td>0</td>\n",
       "      <td>Transient</td>\n",
       "      <td>0</td>\n",
       "      <td>2</td>\n",
       "      <td>1</td>\n",
       "      <td>1000.0</td>\n",
       "    </tr>\n",
       "    <tr>\n",
       "      <th>51578</th>\n",
       "      <td>70131</td>\n",
       "      <td>1</td>\n",
       "      <td>0.0</td>\n",
       "      <td>2016</td>\n",
       "      <td>December</td>\n",
       "      <td>52</td>\n",
       "      <td>20</td>\n",
       "      <td>0</td>\n",
       "      <td>1</td>\n",
       "      <td>1.0</td>\n",
       "      <td>...</td>\n",
       "      <td>0</td>\n",
       "      <td>6</td>\n",
       "      <td>A</td>\n",
       "      <td>0</td>\n",
       "      <td>0</td>\n",
       "      <td>Transient</td>\n",
       "      <td>0</td>\n",
       "      <td>2</td>\n",
       "      <td>1</td>\n",
       "      <td>1000.0</td>\n",
       "    </tr>\n",
       "  </tbody>\n",
       "</table>\n",
       "<p>15022 rows × 26 columns</p>\n",
       "</div>"
      ],
      "text/plain": [
       "          id  is_canceled  lead_time  arrival_date_year arrival_date_month  \\\n",
       "4          4            1       85.0               2015               July   \n",
       "5          5            1       75.0               2015               July   \n",
       "6          6            1       23.0               2015               July   \n",
       "18        18            1       40.0               2015               July   \n",
       "22        22            1       45.0               2015               July   \n",
       "...      ...          ...        ...                ...                ...   \n",
       "47462  65929            1       44.0               2016              March   \n",
       "48027  66507            1        4.0               2016              March   \n",
       "48150  66630            1       91.0               2016              March   \n",
       "51577  70130            1        0.0               2016           December   \n",
       "51578  70131            1        0.0               2016           December   \n",
       "\n",
       "       arrival_date_week_number  arrival_date_day_of_month  \\\n",
       "4                            27                          1   \n",
       "5                            27                          1   \n",
       "6                            27                          1   \n",
       "18                           27                          2   \n",
       "22                           27                          2   \n",
       "...                         ...                        ...   \n",
       "47462                        11                          7   \n",
       "48027                        12                         16   \n",
       "48150                        12                         18   \n",
       "51577                        52                         20   \n",
       "51578                        52                         20   \n",
       "\n",
       "       stays_in_weekend_nights  stays_in_week_nights  adults  ...  \\\n",
       "4                            0                     3     2.0  ...   \n",
       "5                            0                     3     2.0  ...   \n",
       "6                            0                     4     2.0  ...   \n",
       "18                           1                     3     3.0  ...   \n",
       "22                           2                     3     2.0  ...   \n",
       "...                        ...                   ...     ...  ...   \n",
       "47462                        1                     0     1.0  ...   \n",
       "48027                        0                     1     1.0  ...   \n",
       "48150                        0                     1     2.0  ...   \n",
       "51577                        0                     1     1.0  ...   \n",
       "51578                        0                     1     1.0  ...   \n",
       "\n",
       "       previous_cancellations  previous_bookings_not_canceled  \\\n",
       "4                           0                               0   \n",
       "5                           0                               0   \n",
       "6                           0                               0   \n",
       "18                          0                               0   \n",
       "22                          0                               0   \n",
       "...                       ...                             ...   \n",
       "47462                       0                               0   \n",
       "48027                       0                               0   \n",
       "48150                       0                               0   \n",
       "51577                       0                               6   \n",
       "51578                       0                               6   \n",
       "\n",
       "      reserved_room_type booking_changes days_in_waiting_list  \\\n",
       "4                      A               0                    0   \n",
       "5                      D               0                    0   \n",
       "6                      E               0                    0   \n",
       "18                     D               0                    0   \n",
       "22                     G               0                    0   \n",
       "...                  ...             ...                  ...   \n",
       "47462                  A               0                    0   \n",
       "48027                  A               0                    0   \n",
       "48150                  D               0                    0   \n",
       "51577                  A               0                    0   \n",
       "51578                  A               0                    0   \n",
       "\n",
       "         customer_type  required_car_parking_spaces  \\\n",
       "4            Transient                            0   \n",
       "5            Transient                            0   \n",
       "6            Transient                            0   \n",
       "18           Transient                            0   \n",
       "22           Transient                            0   \n",
       "...                ...                          ...   \n",
       "47462  Transient-Party                            0   \n",
       "48027        Transient                            0   \n",
       "48150        Transient                            0   \n",
       "51577        Transient                            0   \n",
       "51578        Transient                            0   \n",
       "\n",
       "       total_of_special_requests total_nights   price  \n",
       "4                              1            3  4200.0  \n",
       "5                              0            3  2310.0  \n",
       "6                              0            4  2800.0  \n",
       "18                             1            4  3080.0  \n",
       "22                             0            5  2450.0  \n",
       "...                          ...          ...     ...  \n",
       "47462                          0            1  1200.0  \n",
       "48027                          0            1  1200.0  \n",
       "48150                          0            1   660.0  \n",
       "51577                          2            1  1000.0  \n",
       "51578                          2            1  1000.0  \n",
       "\n",
       "[15022 rows x 26 columns]"
      ]
     },
     "execution_count": 62,
     "metadata": {},
     "output_type": "execute_result"
    }
   ],
   "source": [
    "d1[(d1['distribution_channel']=='TA/TO') & (d1['is_canceled']==1) & (d1['country']=='PRT')]"
   ]
  },
  {
   "cell_type": "code",
   "execution_count": 63,
   "metadata": {},
   "outputs": [
    {
     "data": {
      "text/plain": [
       "(24044, 26)"
      ]
     },
     "execution_count": 63,
     "metadata": {},
     "output_type": "execute_result"
    }
   ],
   "source": [
    "d1[d1['is_canceled']==1].shape"
   ]
  },
  {
   "cell_type": "code",
   "execution_count": 64,
   "metadata": {},
   "outputs": [],
   "source": [
    "value3 =['количество дней между датой бронирования и датой прибытия', 'год заезда', 'неделя заезда',\\\n",
    "        'день заезда', 'количество ночей в выходные дни', 'количество ночей в будние дни',\\\n",
    "                             'количество взрослых постояльцев', 'количество детей от 3 до 14 лет', 'количество младенцев',\\\n",
    "                             'признак того, что гость бронирует номер второй раз', 'количество отменённых заказов у клиента',\\\n",
    "                             'количество подтверждённых заказов у клиента', 'количество изменений параметров заказа',\\\n",
    "                             'сколько дней заказ ожидал подтверждения', 'необходимость места для автомобиля', \\\n",
    "                             'количество специальных отметок', 'общее количество ночей']"
   ]
  },
  {
   "cell_type": "code",
   "execution_count": 65,
   "metadata": {},
   "outputs": [
    {
     "data": {
      "text/plain": [
       "17"
      ]
     },
     "execution_count": 65,
     "metadata": {},
     "output_type": "execute_result"
    }
   ],
   "source": [
    "len(value3)"
   ]
  },
  {
   "cell_type": "code",
   "execution_count": 66,
   "metadata": {},
   "outputs": [
    {
     "data": {
      "text/plain": [
       "['lead_time',\n",
       " 'arrival_date_year',\n",
       " 'arrival_date_week_number',\n",
       " 'arrival_date_day_of_month',\n",
       " 'stays_in_weekend_nights',\n",
       " 'stays_in_week_nights',\n",
       " 'adults',\n",
       " 'children',\n",
       " 'babies',\n",
       " 'is_repeated_guest',\n",
       " 'previous_cancellations',\n",
       " 'previous_bookings_not_canceled',\n",
       " 'booking_changes',\n",
       " 'days_in_waiting_list',\n",
       " 'required_car_parking_spaces',\n",
       " 'total_of_special_requests',\n",
       " 'total_nights']"
      ]
     },
     "execution_count": 66,
     "metadata": {},
     "output_type": "execute_result"
    }
   ],
   "source": [
    "column"
   ]
  },
  {
   "cell_type": "code",
   "execution_count": 67,
   "metadata": {},
   "outputs": [
    {
     "data": {
      "text/html": [
       "<div>\n",
       "<style scoped>\n",
       "    .dataframe tbody tr th:only-of-type {\n",
       "        vertical-align: middle;\n",
       "    }\n",
       "\n",
       "    .dataframe tbody tr th {\n",
       "        vertical-align: top;\n",
       "    }\n",
       "\n",
       "    .dataframe thead th {\n",
       "        text-align: right;\n",
       "    }\n",
       "</style>\n",
       "<table border=\"1\" class=\"dataframe\">\n",
       "  <thead>\n",
       "    <tr style=\"text-align: right;\">\n",
       "      <th></th>\n",
       "      <th>Значения столбцов</th>\n",
       "      <th>Корреляция с основным признаком</th>\n",
       "    </tr>\n",
       "  </thead>\n",
       "  <tbody>\n",
       "    <tr>\n",
       "      <th>0</th>\n",
       "      <td>количество дней между датой бронирования и дат...</td>\n",
       "      <td>-0.616536</td>\n",
       "    </tr>\n",
       "    <tr>\n",
       "      <th>1</th>\n",
       "      <td>год заезда</td>\n",
       "      <td>1.000000</td>\n",
       "    </tr>\n",
       "    <tr>\n",
       "      <th>2</th>\n",
       "      <td>неделя заезда</td>\n",
       "      <td>0.600616</td>\n",
       "    </tr>\n",
       "    <tr>\n",
       "      <th>3</th>\n",
       "      <td>день заезда</td>\n",
       "      <td>-0.104696</td>\n",
       "    </tr>\n",
       "    <tr>\n",
       "      <th>4</th>\n",
       "      <td>количество ночей в выходные дни</td>\n",
       "      <td>-0.951344</td>\n",
       "    </tr>\n",
       "    <tr>\n",
       "      <th>5</th>\n",
       "      <td>количество ночей в будние дни</td>\n",
       "      <td>-0.447865</td>\n",
       "    </tr>\n",
       "    <tr>\n",
       "      <th>6</th>\n",
       "      <td>количество взрослых постояльцев</td>\n",
       "      <td>-0.062893</td>\n",
       "    </tr>\n",
       "    <tr>\n",
       "      <th>7</th>\n",
       "      <td>количество детей от 3 до 14 лет</td>\n",
       "      <td>-0.788436</td>\n",
       "    </tr>\n",
       "    <tr>\n",
       "      <th>8</th>\n",
       "      <td>количество младенцев</td>\n",
       "      <td>-0.522687</td>\n",
       "    </tr>\n",
       "    <tr>\n",
       "      <th>9</th>\n",
       "      <td>признак того, что гость бронирует номер второй...</td>\n",
       "      <td>-1.000000</td>\n",
       "    </tr>\n",
       "    <tr>\n",
       "      <th>10</th>\n",
       "      <td>количество отменённых заказов у клиента</td>\n",
       "      <td>-0.420139</td>\n",
       "    </tr>\n",
       "    <tr>\n",
       "      <th>11</th>\n",
       "      <td>количество подтверждённых заказов у клиента</td>\n",
       "      <td>-0.224013</td>\n",
       "    </tr>\n",
       "    <tr>\n",
       "      <th>12</th>\n",
       "      <td>количество изменений параметров заказа</td>\n",
       "      <td>-0.409484</td>\n",
       "    </tr>\n",
       "    <tr>\n",
       "      <th>13</th>\n",
       "      <td>сколько дней заказ ожидал подтверждения</td>\n",
       "      <td>-0.127918</td>\n",
       "    </tr>\n",
       "    <tr>\n",
       "      <th>14</th>\n",
       "      <td>необходимость места для автомобиля</td>\n",
       "      <td>-0.774597</td>\n",
       "    </tr>\n",
       "    <tr>\n",
       "      <th>15</th>\n",
       "      <td>количество специальных отметок</td>\n",
       "      <td>-0.749740</td>\n",
       "    </tr>\n",
       "    <tr>\n",
       "      <th>16</th>\n",
       "      <td>общее количество ночей</td>\n",
       "      <td>-0.808104</td>\n",
       "    </tr>\n",
       "  </tbody>\n",
       "</table>\n",
       "</div>"
      ],
      "text/plain": [
       "                                    Значения столбцов  \\\n",
       "0   количество дней между датой бронирования и дат...   \n",
       "1                                          год заезда   \n",
       "2                                       неделя заезда   \n",
       "3                                         день заезда   \n",
       "4                     количество ночей в выходные дни   \n",
       "5                       количество ночей в будние дни   \n",
       "6                     количество взрослых постояльцев   \n",
       "7                     количество детей от 3 до 14 лет   \n",
       "8                                количество младенцев   \n",
       "9   признак того, что гость бронирует номер второй...   \n",
       "10            количество отменённых заказов у клиента   \n",
       "11        количество подтверждённых заказов у клиента   \n",
       "12             количество изменений параметров заказа   \n",
       "13            сколько дней заказ ожидал подтверждения   \n",
       "14                 необходимость места для автомобиля   \n",
       "15                     количество специальных отметок   \n",
       "16                             общее количество ночей   \n",
       "\n",
       "    Корреляция с основным признаком  \n",
       "0                         -0.616536  \n",
       "1                          1.000000  \n",
       "2                          0.600616  \n",
       "3                         -0.104696  \n",
       "4                         -0.951344  \n",
       "5                         -0.447865  \n",
       "6                         -0.062893  \n",
       "7                         -0.788436  \n",
       "8                         -0.522687  \n",
       "9                         -1.000000  \n",
       "10                        -0.420139  \n",
       "11                        -0.224013  \n",
       "12                        -0.409484  \n",
       "13                        -0.127918  \n",
       "14                        -0.774597  \n",
       "15                        -0.749740  \n",
       "16                        -0.808104  "
      ]
     },
     "execution_count": 67,
     "metadata": {},
     "output_type": "execute_result"
    }
   ],
   "source": [
    "value = []\n",
    "value1 = []\n",
    "for i in column:    \n",
    "    dd = d1.groupby(i)['is_canceled'].sum()\n",
    "    x = dd.index\n",
    "    y = dd\n",
    "    df =  pd.DataFrame({'x': x , 'y': y})\n",
    "    value.append(df['x'].corr(df['y']))\n",
    "    value1.append(i)#print(df['x'].corr(df['y']),'          ', i)\n",
    "    #print()\n",
    "df_ =  pd.DataFrame({'Значения столбцов': value3,  'Корреляция с основным признаком': value})\n",
    "df_\n"
   ]
  },
  {
   "cell_type": "markdown",
   "metadata": {},
   "source": [
    "Из расчетов видно, что корреляция по столбцам с колличественными значениями и \n",
    "колличеством отказов от услуг отеля в оосновном отрицательная. Это значит что\n",
    "количественные значения в обрарно пропорциональны отказам, но два  все  же  с\n",
    "положительной кореляцией, это столбцы год заезда и неделя заезда. Иследуем их\n",
    "посмотрим закономерности."
   ]
  },
  {
   "cell_type": "code",
   "execution_count": 68,
   "metadata": {},
   "outputs": [
    {
     "data": {
      "text/plain": [
       "arrival_date_year\n",
       "2015     7192\n",
       "2016    16852\n",
       "Name: is_canceled, dtype: int64"
      ]
     },
     "execution_count": 68,
     "metadata": {},
     "output_type": "execute_result"
    }
   ],
   "source": [
    "d1.groupby('arrival_date_year')['is_canceled'].sum()"
   ]
  },
  {
   "cell_type": "code",
   "execution_count": 69,
   "metadata": {},
   "outputs": [
    {
     "data": {
      "text/plain": [
       "<AxesSubplot:xlabel='arrival_date_week_number'>"
      ]
     },
     "execution_count": 69,
     "metadata": {},
     "output_type": "execute_result"
    },
    {
     "data": {
      "image/png": "[encoded data removed]",
      "text/plain": [
       "<Figure size 432x288 with 1 Axes>"
      ]
     },
     "metadata": {
      "needs_background": "light"
     },
     "output_type": "display_data"
    }
   ],
   "source": [
    "graf = d1.groupby('arrival_date_week_number')['is_canceled'].sum()\n",
    "graf.plot()"
   ]
  },
  {
   "cell_type": "markdown",
   "metadata": {},
   "source": [
    " На графике показанно как менялось колличество отказов в зависимости от недели заезда.\n",
    " Корреляция между столбцами неделя заезда 0.6"
   ]
  },
  {
   "cell_type": "code",
   "execution_count": 70,
   "metadata": {},
   "outputs": [
    {
     "data": {
      "text/html": [
       "<div>\n",
       "<style scoped>\n",
       "    .dataframe tbody tr th:only-of-type {\n",
       "        vertical-align: middle;\n",
       "    }\n",
       "\n",
       "    .dataframe tbody tr th {\n",
       "        vertical-align: top;\n",
       "    }\n",
       "\n",
       "    .dataframe thead th {\n",
       "        text-align: right;\n",
       "    }\n",
       "</style>\n",
       "<table border=\"1\" class=\"dataframe\">\n",
       "  <thead>\n",
       "    <tr style=\"text-align: right;\">\n",
       "      <th></th>\n",
       "      <th>id</th>\n",
       "      <th>is_canceled</th>\n",
       "      <th>lead_time</th>\n",
       "      <th>arrival_date_year</th>\n",
       "      <th>arrival_date_month</th>\n",
       "      <th>arrival_date_week_number</th>\n",
       "      <th>arrival_date_day_of_month</th>\n",
       "      <th>stays_in_weekend_nights</th>\n",
       "      <th>stays_in_week_nights</th>\n",
       "      <th>adults</th>\n",
       "      <th>...</th>\n",
       "      <th>previous_cancellations</th>\n",
       "      <th>previous_bookings_not_canceled</th>\n",
       "      <th>reserved_room_type</th>\n",
       "      <th>booking_changes</th>\n",
       "      <th>days_in_waiting_list</th>\n",
       "      <th>customer_type</th>\n",
       "      <th>required_car_parking_spaces</th>\n",
       "      <th>total_of_special_requests</th>\n",
       "      <th>total_nights</th>\n",
       "      <th>price</th>\n",
       "    </tr>\n",
       "  </thead>\n",
       "  <tbody>\n",
       "    <tr>\n",
       "      <th>4</th>\n",
       "      <td>4</td>\n",
       "      <td>1</td>\n",
       "      <td>85.0</td>\n",
       "      <td>2015</td>\n",
       "      <td>July</td>\n",
       "      <td>27</td>\n",
       "      <td>1</td>\n",
       "      <td>0</td>\n",
       "      <td>3</td>\n",
       "      <td>2.0</td>\n",
       "      <td>...</td>\n",
       "      <td>0</td>\n",
       "      <td>0</td>\n",
       "      <td>A</td>\n",
       "      <td>0</td>\n",
       "      <td>0</td>\n",
       "      <td>Transient</td>\n",
       "      <td>0</td>\n",
       "      <td>1</td>\n",
       "      <td>3</td>\n",
       "      <td>4200.0</td>\n",
       "    </tr>\n",
       "    <tr>\n",
       "      <th>5</th>\n",
       "      <td>5</td>\n",
       "      <td>1</td>\n",
       "      <td>75.0</td>\n",
       "      <td>2015</td>\n",
       "      <td>July</td>\n",
       "      <td>27</td>\n",
       "      <td>1</td>\n",
       "      <td>0</td>\n",
       "      <td>3</td>\n",
       "      <td>2.0</td>\n",
       "      <td>...</td>\n",
       "      <td>0</td>\n",
       "      <td>0</td>\n",
       "      <td>D</td>\n",
       "      <td>0</td>\n",
       "      <td>0</td>\n",
       "      <td>Transient</td>\n",
       "      <td>0</td>\n",
       "      <td>0</td>\n",
       "      <td>3</td>\n",
       "      <td>2310.0</td>\n",
       "    </tr>\n",
       "    <tr>\n",
       "      <th>6</th>\n",
       "      <td>6</td>\n",
       "      <td>1</td>\n",
       "      <td>23.0</td>\n",
       "      <td>2015</td>\n",
       "      <td>July</td>\n",
       "      <td>27</td>\n",
       "      <td>1</td>\n",
       "      <td>0</td>\n",
       "      <td>4</td>\n",
       "      <td>2.0</td>\n",
       "      <td>...</td>\n",
       "      <td>0</td>\n",
       "      <td>0</td>\n",
       "      <td>E</td>\n",
       "      <td>0</td>\n",
       "      <td>0</td>\n",
       "      <td>Transient</td>\n",
       "      <td>0</td>\n",
       "      <td>0</td>\n",
       "      <td>4</td>\n",
       "      <td>2800.0</td>\n",
       "    </tr>\n",
       "    <tr>\n",
       "      <th>18</th>\n",
       "      <td>18</td>\n",
       "      <td>1</td>\n",
       "      <td>40.0</td>\n",
       "      <td>2015</td>\n",
       "      <td>July</td>\n",
       "      <td>27</td>\n",
       "      <td>2</td>\n",
       "      <td>1</td>\n",
       "      <td>3</td>\n",
       "      <td>3.0</td>\n",
       "      <td>...</td>\n",
       "      <td>0</td>\n",
       "      <td>0</td>\n",
       "      <td>D</td>\n",
       "      <td>0</td>\n",
       "      <td>0</td>\n",
       "      <td>Transient</td>\n",
       "      <td>0</td>\n",
       "      <td>1</td>\n",
       "      <td>4</td>\n",
       "      <td>3080.0</td>\n",
       "    </tr>\n",
       "    <tr>\n",
       "      <th>22</th>\n",
       "      <td>22</td>\n",
       "      <td>1</td>\n",
       "      <td>45.0</td>\n",
       "      <td>2015</td>\n",
       "      <td>July</td>\n",
       "      <td>27</td>\n",
       "      <td>2</td>\n",
       "      <td>2</td>\n",
       "      <td>3</td>\n",
       "      <td>2.0</td>\n",
       "      <td>...</td>\n",
       "      <td>0</td>\n",
       "      <td>0</td>\n",
       "      <td>G</td>\n",
       "      <td>0</td>\n",
       "      <td>0</td>\n",
       "      <td>Transient</td>\n",
       "      <td>0</td>\n",
       "      <td>0</td>\n",
       "      <td>5</td>\n",
       "      <td>2450.0</td>\n",
       "    </tr>\n",
       "    <tr>\n",
       "      <th>...</th>\n",
       "      <td>...</td>\n",
       "      <td>...</td>\n",
       "      <td>...</td>\n",
       "      <td>...</td>\n",
       "      <td>...</td>\n",
       "      <td>...</td>\n",
       "      <td>...</td>\n",
       "      <td>...</td>\n",
       "      <td>...</td>\n",
       "      <td>...</td>\n",
       "      <td>...</td>\n",
       "      <td>...</td>\n",
       "      <td>...</td>\n",
       "      <td>...</td>\n",
       "      <td>...</td>\n",
       "      <td>...</td>\n",
       "      <td>...</td>\n",
       "      <td>...</td>\n",
       "      <td>...</td>\n",
       "      <td>...</td>\n",
       "      <td>...</td>\n",
       "    </tr>\n",
       "    <tr>\n",
       "      <th>47462</th>\n",
       "      <td>65929</td>\n",
       "      <td>1</td>\n",
       "      <td>44.0</td>\n",
       "      <td>2016</td>\n",
       "      <td>March</td>\n",
       "      <td>11</td>\n",
       "      <td>7</td>\n",
       "      <td>1</td>\n",
       "      <td>0</td>\n",
       "      <td>1.0</td>\n",
       "      <td>...</td>\n",
       "      <td>0</td>\n",
       "      <td>0</td>\n",
       "      <td>A</td>\n",
       "      <td>0</td>\n",
       "      <td>0</td>\n",
       "      <td>Transient-Party</td>\n",
       "      <td>0</td>\n",
       "      <td>0</td>\n",
       "      <td>1</td>\n",
       "      <td>1200.0</td>\n",
       "    </tr>\n",
       "    <tr>\n",
       "      <th>48027</th>\n",
       "      <td>66507</td>\n",
       "      <td>1</td>\n",
       "      <td>4.0</td>\n",
       "      <td>2016</td>\n",
       "      <td>March</td>\n",
       "      <td>12</td>\n",
       "      <td>16</td>\n",
       "      <td>0</td>\n",
       "      <td>1</td>\n",
       "      <td>1.0</td>\n",
       "      <td>...</td>\n",
       "      <td>0</td>\n",
       "      <td>0</td>\n",
       "      <td>A</td>\n",
       "      <td>0</td>\n",
       "      <td>0</td>\n",
       "      <td>Transient</td>\n",
       "      <td>0</td>\n",
       "      <td>0</td>\n",
       "      <td>1</td>\n",
       "      <td>1200.0</td>\n",
       "    </tr>\n",
       "    <tr>\n",
       "      <th>48150</th>\n",
       "      <td>66630</td>\n",
       "      <td>1</td>\n",
       "      <td>91.0</td>\n",
       "      <td>2016</td>\n",
       "      <td>March</td>\n",
       "      <td>12</td>\n",
       "      <td>18</td>\n",
       "      <td>0</td>\n",
       "      <td>1</td>\n",
       "      <td>2.0</td>\n",
       "      <td>...</td>\n",
       "      <td>0</td>\n",
       "      <td>0</td>\n",
       "      <td>D</td>\n",
       "      <td>0</td>\n",
       "      <td>0</td>\n",
       "      <td>Transient</td>\n",
       "      <td>0</td>\n",
       "      <td>0</td>\n",
       "      <td>1</td>\n",
       "      <td>660.0</td>\n",
       "    </tr>\n",
       "    <tr>\n",
       "      <th>51577</th>\n",
       "      <td>70130</td>\n",
       "      <td>1</td>\n",
       "      <td>0.0</td>\n",
       "      <td>2016</td>\n",
       "      <td>December</td>\n",
       "      <td>52</td>\n",
       "      <td>20</td>\n",
       "      <td>0</td>\n",
       "      <td>1</td>\n",
       "      <td>1.0</td>\n",
       "      <td>...</td>\n",
       "      <td>0</td>\n",
       "      <td>6</td>\n",
       "      <td>A</td>\n",
       "      <td>0</td>\n",
       "      <td>0</td>\n",
       "      <td>Transient</td>\n",
       "      <td>0</td>\n",
       "      <td>2</td>\n",
       "      <td>1</td>\n",
       "      <td>1000.0</td>\n",
       "    </tr>\n",
       "    <tr>\n",
       "      <th>51578</th>\n",
       "      <td>70131</td>\n",
       "      <td>1</td>\n",
       "      <td>0.0</td>\n",
       "      <td>2016</td>\n",
       "      <td>December</td>\n",
       "      <td>52</td>\n",
       "      <td>20</td>\n",
       "      <td>0</td>\n",
       "      <td>1</td>\n",
       "      <td>1.0</td>\n",
       "      <td>...</td>\n",
       "      <td>0</td>\n",
       "      <td>6</td>\n",
       "      <td>A</td>\n",
       "      <td>0</td>\n",
       "      <td>0</td>\n",
       "      <td>Transient</td>\n",
       "      <td>0</td>\n",
       "      <td>2</td>\n",
       "      <td>1</td>\n",
       "      <td>1000.0</td>\n",
       "    </tr>\n",
       "  </tbody>\n",
       "</table>\n",
       "<p>15022 rows × 26 columns</p>\n",
       "</div>"
      ],
      "text/plain": [
       "          id  is_canceled  lead_time  arrival_date_year arrival_date_month  \\\n",
       "4          4            1       85.0               2015               July   \n",
       "5          5            1       75.0               2015               July   \n",
       "6          6            1       23.0               2015               July   \n",
       "18        18            1       40.0               2015               July   \n",
       "22        22            1       45.0               2015               July   \n",
       "...      ...          ...        ...                ...                ...   \n",
       "47462  65929            1       44.0               2016              March   \n",
       "48027  66507            1        4.0               2016              March   \n",
       "48150  66630            1       91.0               2016              March   \n",
       "51577  70130            1        0.0               2016           December   \n",
       "51578  70131            1        0.0               2016           December   \n",
       "\n",
       "       arrival_date_week_number  arrival_date_day_of_month  \\\n",
       "4                            27                          1   \n",
       "5                            27                          1   \n",
       "6                            27                          1   \n",
       "18                           27                          2   \n",
       "22                           27                          2   \n",
       "...                         ...                        ...   \n",
       "47462                        11                          7   \n",
       "48027                        12                         16   \n",
       "48150                        12                         18   \n",
       "51577                        52                         20   \n",
       "51578                        52                         20   \n",
       "\n",
       "       stays_in_weekend_nights  stays_in_week_nights  adults  ...  \\\n",
       "4                            0                     3     2.0  ...   \n",
       "5                            0                     3     2.0  ...   \n",
       "6                            0                     4     2.0  ...   \n",
       "18                           1                     3     3.0  ...   \n",
       "22                           2                     3     2.0  ...   \n",
       "...                        ...                   ...     ...  ...   \n",
       "47462                        1                     0     1.0  ...   \n",
       "48027                        0                     1     1.0  ...   \n",
       "48150                        0                     1     2.0  ...   \n",
       "51577                        0                     1     1.0  ...   \n",
       "51578                        0                     1     1.0  ...   \n",
       "\n",
       "       previous_cancellations  previous_bookings_not_canceled  \\\n",
       "4                           0                               0   \n",
       "5                           0                               0   \n",
       "6                           0                               0   \n",
       "18                          0                               0   \n",
       "22                          0                               0   \n",
       "...                       ...                             ...   \n",
       "47462                       0                               0   \n",
       "48027                       0                               0   \n",
       "48150                       0                               0   \n",
       "51577                       0                               6   \n",
       "51578                       0                               6   \n",
       "\n",
       "      reserved_room_type booking_changes days_in_waiting_list  \\\n",
       "4                      A               0                    0   \n",
       "5                      D               0                    0   \n",
       "6                      E               0                    0   \n",
       "18                     D               0                    0   \n",
       "22                     G               0                    0   \n",
       "...                  ...             ...                  ...   \n",
       "47462                  A               0                    0   \n",
       "48027                  A               0                    0   \n",
       "48150                  D               0                    0   \n",
       "51577                  A               0                    0   \n",
       "51578                  A               0                    0   \n",
       "\n",
       "         customer_type  required_car_parking_spaces  \\\n",
       "4            Transient                            0   \n",
       "5            Transient                            0   \n",
       "6            Transient                            0   \n",
       "18           Transient                            0   \n",
       "22           Transient                            0   \n",
       "...                ...                          ...   \n",
       "47462  Transient-Party                            0   \n",
       "48027        Transient                            0   \n",
       "48150        Transient                            0   \n",
       "51577        Transient                            0   \n",
       "51578        Transient                            0   \n",
       "\n",
       "       total_of_special_requests total_nights   price  \n",
       "4                              1            3  4200.0  \n",
       "5                              0            3  2310.0  \n",
       "6                              0            4  2800.0  \n",
       "18                             1            4  3080.0  \n",
       "22                             0            5  2450.0  \n",
       "...                          ...          ...     ...  \n",
       "47462                          0            1  1200.0  \n",
       "48027                          0            1  1200.0  \n",
       "48150                          0            1   660.0  \n",
       "51577                          2            1  1000.0  \n",
       "51578                          2            1  1000.0  \n",
       "\n",
       "[15022 rows x 26 columns]"
      ]
     },
     "execution_count": 70,
     "metadata": {},
     "output_type": "execute_result"
    }
   ],
   "source": [
    "d1[(d1['distribution_channel']=='TA/TO') & (d1['is_canceled']==1) & (d1['country']=='PRT') & (d1['arrival_date_year']==2016)|\\\n",
    "  (d1['arrival_date_year']==2015)&(d1['distribution_channel']=='TA/TO') & (d1['is_canceled']==1) & (d1['country']=='PRT')]"
   ]
  },
  {
   "cell_type": "markdown",
   "metadata": {},
   "source": [
    "Посчитаем долю отказов по выявленным признакам по отношению к всем отказам."
   ]
  },
  {
   "cell_type": "code",
   "execution_count": 71,
   "metadata": {},
   "outputs": [
    {
     "data": {
      "text/plain": [
       "(0.9152387289968391, 0.6905672932956247)"
      ]
     },
     "execution_count": 71,
     "metadata": {},
     "output_type": "execute_result"
    }
   ],
   "source": [
    "22006/24044, 16604/24044"
   ]
  },
  {
   "cell_type": "markdown",
   "metadata": {},
   "source": [
    "Вывод:\n",
    "    В результате иследования  переработке  данных было  установлено, что  данные чистые без\n",
    "пропусков и выбросов, но в столбце тип комнаты удалены лишние пробелы.\n",
    "     Из выявленных данных видно, что более 57% клиентов с гражданством PRT  отказваются  от\n",
    "услуг отеля при том  что доля клиентов  с  гражданством PRT по отношению ко   всей  выборке\n",
    "равна 44%.\n",
    "     При узучении столбца канал дистрибуции видно, что более 40% клиентов из всех пришедших\n",
    "через этот  канал отказались от услуг отеля, при  том  что доля  клиентов  пришедших  через \n",
    "канал TA/TO 83% по отношению ко всей выборке.\n",
    "     При исследование влияния цены номера на отказ зависимости не обнаружено.\n"
   ]
  },
  {
   "cell_type": "markdown",
   "metadata": {},
   "source": [
    "#### Расчет прибыли отеля"
   ]
  },
  {
   "cell_type": "markdown",
   "metadata": {},
   "source": [
    "Напишем функцию по расчету дополнительных расходов. Функция принимает \n",
    "два аргумента - стоимость уборки в зависимости от  класса  комнаты  и\n",
    "колличество ночей, причем уборка происходит каждые две  ночи  со  дня\n",
    "заезда.\n",
    "Стоимость номеров отеля:\n",
    "    категория A: за ночь — 1 000, разовое обслуживание — 400;\n",
    "    категория B: за ночь — 800, разовое обслуживание — 350;\n",
    "    категория C: за ночь — 600, разовое обслуживание — 350;\n",
    "    категория D: за ночь — 550, разовое обслуживание — 150;\n",
    "    категория E: за ночь — 500, разовое обслуживание — 150;\n",
    "    категория F: за ночь — 450, разовое обслуживание — 150;\n",
    "    категория G: за ночь — 350, разовое обслуживание — 150."
   ]
  },
  {
   "cell_type": "code",
   "execution_count": 72,
   "metadata": {},
   "outputs": [],
   "source": [
    "def f(t, n):\n",
    "    \n",
    "    try:\n",
    "        if t == 'A': \n",
    "            r = 400 + 400*(int(n/2))\n",
    "            return r\n",
    "        elif t == 'B':\n",
    "            r = 350+ 350*(int(n/2))\n",
    "            return r\n",
    "        elif t == 'C':\n",
    "            r =  350 + 350*(int(n/2))\n",
    "            return r\n",
    "        elif t == 'D':\n",
    "            r = 150 + 150*(int(n/2))\n",
    "            return r\n",
    "        if t == 'E':\n",
    "            r = 150 + 150*(int(n/2))\n",
    "            return r\n",
    "        elif t == 'F':\n",
    "            r = 150 + 150*(int(n/2))\n",
    "            return r \n",
    "        elif t == 'G':\n",
    "            r = 150 + 150*(int(n/2))\n",
    "            return r\n",
    "        \n",
    "    except:\n",
    "        pass\n"
   ]
  },
  {
   "cell_type": "markdown",
   "metadata": {},
   "source": [
    "Напишем функцию возвращающую стоимость номера в зависимости от категории комнаты.\n",
    "Она принимает один аргумент - тип категории."
   ]
  },
  {
   "cell_type": "code",
   "execution_count": 73,
   "metadata": {},
   "outputs": [],
   "source": [
    "def fun_t(t):\n",
    "    try:\n",
    "        if t == 'A': \n",
    "            p = 1000\n",
    "            return p\n",
    "        elif t == 'B':\n",
    "            p = 800\n",
    "            return p\n",
    "        elif t == 'C':\n",
    "            p =  600\n",
    "            return p\n",
    "        elif t == 'D':\n",
    "            p = 550\n",
    "            return p\n",
    "        if t == 'E':\n",
    "            p = 500\n",
    "            return p\n",
    "        elif t == 'F':\n",
    "            p = 450\n",
    "            return p \n",
    "        elif t == 'G':\n",
    "            p = 350\n",
    "            return p\n",
    "        else:\n",
    "            return 0\n",
    "    except:\n",
    "        pass\n",
    "    "
   ]
  },
  {
   "cell_type": "markdown",
   "metadata": {},
   "source": [
    "Функция по расчету прибыли. Принимает мтроку как аргумент, возвращает значение\n",
    "прибыли."
   ]
  },
  {
   "cell_type": "code",
   "execution_count": 74,
   "metadata": {},
   "outputs": [],
   "source": [
    "def profit(row):\n",
    "    try:\n",
    "        if row['is_canceled'] == 0:\n",
    "            n= row['total_nights']; t = row['reserved_room_type']; e = row['price']; e1 = f(t, n)\n",
    "            #print(e1,n,t)\n",
    "            p = e - e1\n",
    "            #print(p)\n",
    "            return p\n",
    "        elif row['is_canceled'] == 1:\n",
    "            p = f(row['reserved_room_type'], 0) + (fun_t(row['reserved_room_type'])*seas(row['arrival_date_month']))\n",
    "            return p*(-1)\n",
    "    except:\n",
    "        pass\n"
   ]
  },
  {
   "cell_type": "markdown",
   "metadata": {},
   "source": [
    "<div class=\"alert alert-success\">\n",
    "    \n",
    "<h2> Комментарий ревьюера <a class=\"tocSkip\"> </h2>\n",
    "\n",
    "<b>Все отлично!👍:</b> \n",
    "    \n",
    "Расчет прибыли верный, молодец."
   ]
  },
  {
   "cell_type": "markdown",
   "metadata": {},
   "source": [
    "Добавим в таблицы  столбец с прибылью. "
   ]
  },
  {
   "cell_type": "code",
   "execution_count": 75,
   "metadata": {},
   "outputs": [],
   "source": [
    "d1['profit'] = d1.apply(profit, axis = 1)\n",
    "d2['profit'] = d2.apply(profit, axis = 1)"
   ]
  },
  {
   "cell_type": "code",
   "execution_count": 76,
   "metadata": {},
   "outputs": [
    {
     "data": {
      "text/html": [
       "<div>\n",
       "<style scoped>\n",
       "    .dataframe tbody tr th:only-of-type {\n",
       "        vertical-align: middle;\n",
       "    }\n",
       "\n",
       "    .dataframe tbody tr th {\n",
       "        vertical-align: top;\n",
       "    }\n",
       "\n",
       "    .dataframe thead th {\n",
       "        text-align: right;\n",
       "    }\n",
       "</style>\n",
       "<table border=\"1\" class=\"dataframe\">\n",
       "  <thead>\n",
       "    <tr style=\"text-align: right;\">\n",
       "      <th></th>\n",
       "      <th>id</th>\n",
       "      <th>is_canceled</th>\n",
       "      <th>lead_time</th>\n",
       "      <th>arrival_date_year</th>\n",
       "      <th>arrival_date_month</th>\n",
       "      <th>arrival_date_week_number</th>\n",
       "      <th>arrival_date_day_of_month</th>\n",
       "      <th>stays_in_weekend_nights</th>\n",
       "      <th>stays_in_week_nights</th>\n",
       "      <th>adults</th>\n",
       "      <th>...</th>\n",
       "      <th>previous_bookings_not_canceled</th>\n",
       "      <th>reserved_room_type</th>\n",
       "      <th>booking_changes</th>\n",
       "      <th>days_in_waiting_list</th>\n",
       "      <th>customer_type</th>\n",
       "      <th>required_car_parking_spaces</th>\n",
       "      <th>total_of_special_requests</th>\n",
       "      <th>total_nights</th>\n",
       "      <th>price</th>\n",
       "      <th>profit</th>\n",
       "    </tr>\n",
       "  </thead>\n",
       "  <tbody>\n",
       "    <tr>\n",
       "      <th>0</th>\n",
       "      <td>0</td>\n",
       "      <td>0</td>\n",
       "      <td>7.0</td>\n",
       "      <td>2015</td>\n",
       "      <td>July</td>\n",
       "      <td>27</td>\n",
       "      <td>1</td>\n",
       "      <td>0</td>\n",
       "      <td>1</td>\n",
       "      <td>1.0</td>\n",
       "      <td>...</td>\n",
       "      <td>0</td>\n",
       "      <td>A</td>\n",
       "      <td>0</td>\n",
       "      <td>0</td>\n",
       "      <td>Transient</td>\n",
       "      <td>0</td>\n",
       "      <td>0</td>\n",
       "      <td>1</td>\n",
       "      <td>1400.0</td>\n",
       "      <td>1000.0</td>\n",
       "    </tr>\n",
       "    <tr>\n",
       "      <th>1</th>\n",
       "      <td>1</td>\n",
       "      <td>0</td>\n",
       "      <td>14.0</td>\n",
       "      <td>2015</td>\n",
       "      <td>July</td>\n",
       "      <td>27</td>\n",
       "      <td>1</td>\n",
       "      <td>0</td>\n",
       "      <td>2</td>\n",
       "      <td>2.0</td>\n",
       "      <td>...</td>\n",
       "      <td>0</td>\n",
       "      <td>A</td>\n",
       "      <td>0</td>\n",
       "      <td>0</td>\n",
       "      <td>Transient</td>\n",
       "      <td>0</td>\n",
       "      <td>1</td>\n",
       "      <td>2</td>\n",
       "      <td>2800.0</td>\n",
       "      <td>2000.0</td>\n",
       "    </tr>\n",
       "    <tr>\n",
       "      <th>2</th>\n",
       "      <td>2</td>\n",
       "      <td>0</td>\n",
       "      <td>0.0</td>\n",
       "      <td>2015</td>\n",
       "      <td>July</td>\n",
       "      <td>27</td>\n",
       "      <td>1</td>\n",
       "      <td>0</td>\n",
       "      <td>2</td>\n",
       "      <td>2.0</td>\n",
       "      <td>...</td>\n",
       "      <td>0</td>\n",
       "      <td>C</td>\n",
       "      <td>0</td>\n",
       "      <td>0</td>\n",
       "      <td>Transient</td>\n",
       "      <td>0</td>\n",
       "      <td>0</td>\n",
       "      <td>2</td>\n",
       "      <td>1680.0</td>\n",
       "      <td>980.0</td>\n",
       "    </tr>\n",
       "    <tr>\n",
       "      <th>3</th>\n",
       "      <td>3</td>\n",
       "      <td>0</td>\n",
       "      <td>9.0</td>\n",
       "      <td>2015</td>\n",
       "      <td>July</td>\n",
       "      <td>27</td>\n",
       "      <td>1</td>\n",
       "      <td>0</td>\n",
       "      <td>2</td>\n",
       "      <td>2.0</td>\n",
       "      <td>...</td>\n",
       "      <td>0</td>\n",
       "      <td>C</td>\n",
       "      <td>0</td>\n",
       "      <td>0</td>\n",
       "      <td>Transient</td>\n",
       "      <td>0</td>\n",
       "      <td>1</td>\n",
       "      <td>2</td>\n",
       "      <td>1680.0</td>\n",
       "      <td>980.0</td>\n",
       "    </tr>\n",
       "    <tr>\n",
       "      <th>4</th>\n",
       "      <td>4</td>\n",
       "      <td>1</td>\n",
       "      <td>85.0</td>\n",
       "      <td>2015</td>\n",
       "      <td>July</td>\n",
       "      <td>27</td>\n",
       "      <td>1</td>\n",
       "      <td>0</td>\n",
       "      <td>3</td>\n",
       "      <td>2.0</td>\n",
       "      <td>...</td>\n",
       "      <td>0</td>\n",
       "      <td>A</td>\n",
       "      <td>0</td>\n",
       "      <td>0</td>\n",
       "      <td>Transient</td>\n",
       "      <td>0</td>\n",
       "      <td>1</td>\n",
       "      <td>3</td>\n",
       "      <td>4200.0</td>\n",
       "      <td>-1800.0</td>\n",
       "    </tr>\n",
       "    <tr>\n",
       "      <th>...</th>\n",
       "      <td>...</td>\n",
       "      <td>...</td>\n",
       "      <td>...</td>\n",
       "      <td>...</td>\n",
       "      <td>...</td>\n",
       "      <td>...</td>\n",
       "      <td>...</td>\n",
       "      <td>...</td>\n",
       "      <td>...</td>\n",
       "      <td>...</td>\n",
       "      <td>...</td>\n",
       "      <td>...</td>\n",
       "      <td>...</td>\n",
       "      <td>...</td>\n",
       "      <td>...</td>\n",
       "      <td>...</td>\n",
       "      <td>...</td>\n",
       "      <td>...</td>\n",
       "      <td>...</td>\n",
       "      <td>...</td>\n",
       "      <td>...</td>\n",
       "    </tr>\n",
       "    <tr>\n",
       "      <th>65224</th>\n",
       "      <td>84057</td>\n",
       "      <td>0</td>\n",
       "      <td>23.0</td>\n",
       "      <td>2016</td>\n",
       "      <td>December</td>\n",
       "      <td>53</td>\n",
       "      <td>30</td>\n",
       "      <td>2</td>\n",
       "      <td>4</td>\n",
       "      <td>2.0</td>\n",
       "      <td>...</td>\n",
       "      <td>0</td>\n",
       "      <td>D</td>\n",
       "      <td>0</td>\n",
       "      <td>0</td>\n",
       "      <td>Transient</td>\n",
       "      <td>0</td>\n",
       "      <td>2</td>\n",
       "      <td>6</td>\n",
       "      <td>3300.0</td>\n",
       "      <td>2700.0</td>\n",
       "    </tr>\n",
       "    <tr>\n",
       "      <th>65225</th>\n",
       "      <td>84063</td>\n",
       "      <td>0</td>\n",
       "      <td>53.0</td>\n",
       "      <td>2016</td>\n",
       "      <td>December</td>\n",
       "      <td>53</td>\n",
       "      <td>31</td>\n",
       "      <td>2</td>\n",
       "      <td>3</td>\n",
       "      <td>2.0</td>\n",
       "      <td>...</td>\n",
       "      <td>0</td>\n",
       "      <td>D</td>\n",
       "      <td>0</td>\n",
       "      <td>0</td>\n",
       "      <td>Transient</td>\n",
       "      <td>0</td>\n",
       "      <td>3</td>\n",
       "      <td>5</td>\n",
       "      <td>2750.0</td>\n",
       "      <td>2300.0</td>\n",
       "    </tr>\n",
       "    <tr>\n",
       "      <th>65226</th>\n",
       "      <td>84094</td>\n",
       "      <td>0</td>\n",
       "      <td>7.0</td>\n",
       "      <td>2016</td>\n",
       "      <td>December</td>\n",
       "      <td>53</td>\n",
       "      <td>31</td>\n",
       "      <td>2</td>\n",
       "      <td>4</td>\n",
       "      <td>2.0</td>\n",
       "      <td>...</td>\n",
       "      <td>0</td>\n",
       "      <td>D</td>\n",
       "      <td>0</td>\n",
       "      <td>0</td>\n",
       "      <td>Transient</td>\n",
       "      <td>0</td>\n",
       "      <td>1</td>\n",
       "      <td>6</td>\n",
       "      <td>3300.0</td>\n",
       "      <td>2700.0</td>\n",
       "    </tr>\n",
       "    <tr>\n",
       "      <th>65227</th>\n",
       "      <td>84117</td>\n",
       "      <td>0</td>\n",
       "      <td>17.0</td>\n",
       "      <td>2016</td>\n",
       "      <td>December</td>\n",
       "      <td>53</td>\n",
       "      <td>30</td>\n",
       "      <td>2</td>\n",
       "      <td>5</td>\n",
       "      <td>2.0</td>\n",
       "      <td>...</td>\n",
       "      <td>0</td>\n",
       "      <td>A</td>\n",
       "      <td>0</td>\n",
       "      <td>0</td>\n",
       "      <td>Transient</td>\n",
       "      <td>0</td>\n",
       "      <td>1</td>\n",
       "      <td>7</td>\n",
       "      <td>7000.0</td>\n",
       "      <td>5400.0</td>\n",
       "    </tr>\n",
       "    <tr>\n",
       "      <th>65228</th>\n",
       "      <td>84121</td>\n",
       "      <td>0</td>\n",
       "      <td>107.0</td>\n",
       "      <td>2016</td>\n",
       "      <td>December</td>\n",
       "      <td>53</td>\n",
       "      <td>31</td>\n",
       "      <td>2</td>\n",
       "      <td>5</td>\n",
       "      <td>2.0</td>\n",
       "      <td>...</td>\n",
       "      <td>0</td>\n",
       "      <td>A</td>\n",
       "      <td>0</td>\n",
       "      <td>0</td>\n",
       "      <td>Transient</td>\n",
       "      <td>0</td>\n",
       "      <td>0</td>\n",
       "      <td>7</td>\n",
       "      <td>7000.0</td>\n",
       "      <td>5400.0</td>\n",
       "    </tr>\n",
       "  </tbody>\n",
       "</table>\n",
       "<p>65229 rows × 27 columns</p>\n",
       "</div>"
      ],
      "text/plain": [
       "          id  is_canceled  lead_time  arrival_date_year arrival_date_month  \\\n",
       "0          0            0        7.0               2015               July   \n",
       "1          1            0       14.0               2015               July   \n",
       "2          2            0        0.0               2015               July   \n",
       "3          3            0        9.0               2015               July   \n",
       "4          4            1       85.0               2015               July   \n",
       "...      ...          ...        ...                ...                ...   \n",
       "65224  84057            0       23.0               2016           December   \n",
       "65225  84063            0       53.0               2016           December   \n",
       "65226  84094            0        7.0               2016           December   \n",
       "65227  84117            0       17.0               2016           December   \n",
       "65228  84121            0      107.0               2016           December   \n",
       "\n",
       "       arrival_date_week_number  arrival_date_day_of_month  \\\n",
       "0                            27                          1   \n",
       "1                            27                          1   \n",
       "2                            27                          1   \n",
       "3                            27                          1   \n",
       "4                            27                          1   \n",
       "...                         ...                        ...   \n",
       "65224                        53                         30   \n",
       "65225                        53                         31   \n",
       "65226                        53                         31   \n",
       "65227                        53                         30   \n",
       "65228                        53                         31   \n",
       "\n",
       "       stays_in_weekend_nights  stays_in_week_nights  adults  ...  \\\n",
       "0                            0                     1     1.0  ...   \n",
       "1                            0                     2     2.0  ...   \n",
       "2                            0                     2     2.0  ...   \n",
       "3                            0                     2     2.0  ...   \n",
       "4                            0                     3     2.0  ...   \n",
       "...                        ...                   ...     ...  ...   \n",
       "65224                        2                     4     2.0  ...   \n",
       "65225                        2                     3     2.0  ...   \n",
       "65226                        2                     4     2.0  ...   \n",
       "65227                        2                     5     2.0  ...   \n",
       "65228                        2                     5     2.0  ...   \n",
       "\n",
       "       previous_bookings_not_canceled  reserved_room_type booking_changes  \\\n",
       "0                                   0                   A               0   \n",
       "1                                   0                   A               0   \n",
       "2                                   0                   C               0   \n",
       "3                                   0                   C               0   \n",
       "4                                   0                   A               0   \n",
       "...                               ...                 ...             ...   \n",
       "65224                               0                   D               0   \n",
       "65225                               0                   D               0   \n",
       "65226                               0                   D               0   \n",
       "65227                               0                   A               0   \n",
       "65228                               0                   A               0   \n",
       "\n",
       "      days_in_waiting_list customer_type  required_car_parking_spaces  \\\n",
       "0                        0     Transient                            0   \n",
       "1                        0     Transient                            0   \n",
       "2                        0     Transient                            0   \n",
       "3                        0     Transient                            0   \n",
       "4                        0     Transient                            0   \n",
       "...                    ...           ...                          ...   \n",
       "65224                    0     Transient                            0   \n",
       "65225                    0     Transient                            0   \n",
       "65226                    0     Transient                            0   \n",
       "65227                    0     Transient                            0   \n",
       "65228                    0     Transient                            0   \n",
       "\n",
       "       total_of_special_requests  total_nights   price  profit  \n",
       "0                              0             1  1400.0  1000.0  \n",
       "1                              1             2  2800.0  2000.0  \n",
       "2                              0             2  1680.0   980.0  \n",
       "3                              1             2  1680.0   980.0  \n",
       "4                              1             3  4200.0 -1800.0  \n",
       "...                          ...           ...     ...     ...  \n",
       "65224                          2             6  3300.0  2700.0  \n",
       "65225                          3             5  2750.0  2300.0  \n",
       "65226                          1             6  3300.0  2700.0  \n",
       "65227                          1             7  7000.0  5400.0  \n",
       "65228                          0             7  7000.0  5400.0  \n",
       "\n",
       "[65229 rows x 27 columns]"
      ]
     },
     "execution_count": 76,
     "metadata": {},
     "output_type": "execute_result"
    }
   ],
   "source": [
    "d1"
   ]
  },
  {
   "cell_type": "markdown",
   "metadata": {},
   "source": [
    "Посчитаем прибыль по данным из первой таблицы."
   ]
  },
  {
   "cell_type": "code",
   "execution_count": 77,
   "metadata": {},
   "outputs": [
    {
     "name": "stdout",
     "output_type": "stream",
     "text": [
      "Прибыль отеля без внедрения системы предсказаений:   66150370.0\n",
      "Прибыль без учета убытков:                          101805920.0\n",
      "Убытки отеля связанные с отказом от услуг:          -35655550.0\n"
     ]
    }
   ],
   "source": [
    "prof = d1['profit'].sum()\n",
    "d_inc = d1[d1['profit']>0]\n",
    "income = d_inc['profit'].sum()\n",
    "d_los = d1[d1['profit']<0]\n",
    "los = d_los['profit'].sum()\n",
    "print('Прибыль отеля без внедрения системы предсказаений:  ', prof)\n",
    "print('Прибыль без учета убытков:                         ', income)\n",
    "print('Убытки отеля связанные с отказом от услуг:         ', los)"
   ]
  },
  {
   "cell_type": "code",
   "execution_count": 78,
   "metadata": {},
   "outputs": [
    {
     "name": "stdout",
     "output_type": "stream",
     "text": [
      "Прибыль отеля без внедрения системы предсказаений:   32582920.0\n",
      "Прибыль без учета убытков:                          50624480.0\n",
      "Убытки отеля связанные с отказом от услуг:          -18041560.0\n"
     ]
    }
   ],
   "source": [
    "prof = d2['profit'].sum()\n",
    "d_inc = d2[d2['profit']>0]\n",
    "income = d_inc['profit'].sum()\n",
    "d_los = d2[d2['profit']<0]\n",
    "los = d_los['profit'].sum()\n",
    "print('Прибыль отеля без внедрения системы предсказаений:  ', prof)\n",
    "print('Прибыль без учета убытков:                         ', income)\n",
    "print('Убытки отеля связанные с отказом от услуг:         ', los)"
   ]
  },
  {
   "cell_type": "markdown",
   "metadata": {},
   "source": [
    "<div class=\"alert alert-warning\">\n",
    "    <h2> Комментарий ревьюера <a class=\"tocSkip\"> </h2>\n",
    "    \n",
    "<b>Некоторые замечания и рекомендации💡:</b> \n",
    "        \n",
    "Можно было сделать расчет только для тестового датасета, так как сравнение мы делаем именно на тестовых данных (до и после внедрения депозита)."
   ]
  },
  {
   "cell_type": "markdown",
   "metadata": {},
   "source": [
    "### Шаг 3. Формулировка ML-задачи на основе бизнес-задачи"
   ]
  },
  {
   "cell_type": "markdown",
   "metadata": {},
   "source": [
    "Формирование задачи машинного обучения для решения бизнес задачи заключается в построении\n",
    "наиболие точной модели, для предсказания поведения клиентов. Чем больше  точность  модели\n",
    "тем меньше убытков для бизнеса.\n",
    "На разработку системы прогнозирования заложен бюджет —400 000. При этом необходимо учесть, \n",
    "что внедрение модели должно окупиться за тестовый период. Затраты  на  разработку  должны\n",
    "быть меньше той  выручки,  которую система принесёт компании."
   ]
  },
  {
   "cell_type": "markdown",
   "metadata": {},
   "source": [
    "Подготовим данные для обучения моделей. Применим к таблицам порядковое кодирование,\n",
    "затем применем маштабирование признаков, затем после подготовки применим маштабирование."
   ]
  },
  {
   "cell_type": "markdown",
   "metadata": {},
   "source": [
    "### Шаг 4. Разработка модели ML"
   ]
  },
  {
   "cell_type": "markdown",
   "metadata": {},
   "source": [
    "Перед обработкой таблиц удалим столбцы:\n",
    "    1) id - индетификационный номер, если его оставить он  будет помехой для значимых признаков \n",
    "    2) profit - прибыль, если оставить этот столбец будет утечка целевого признака"
   ]
  },
  {
   "cell_type": "code",
   "execution_count": 79,
   "metadata": {},
   "outputs": [],
   "source": [
    "d1 = d1.drop(['id', 'profit'], axis =1)\n",
    "d2 = d2.drop(['id', 'profit'], axis =1)"
   ]
  },
  {
   "cell_type": "markdown",
   "metadata": {},
   "source": [
    "Выделим из первой таблицы признаки и целевой признак. "
   ]
  },
  {
   "cell_type": "code",
   "execution_count": 80,
   "metadata": {},
   "outputs": [],
   "source": [
    "features_1 = d1.drop(['is_canceled'], axis = 1)\n",
    "target_1 = d1['is_canceled']"
   ]
  },
  {
   "cell_type": "markdown",
   "metadata": {},
   "source": [
    "Разделим первую таблицу на тренировочную и валидционную выборки."
   ]
  },
  {
   "cell_type": "code",
   "execution_count": 81,
   "metadata": {},
   "outputs": [],
   "source": [
    "features_train, features_valid, target_train, target_valid = train_test_split\\\n",
    "(features_1, target_1,  test_size = 0.25, random_state =12345)\n"
   ]
  },
  {
   "cell_type": "markdown",
   "metadata": {},
   "source": [
    "<div class=\"alert alert-success\">\n",
    "<h2> Комментарий ревьюера <a class=\"tocSkip\"> </h2>\n",
    "\n",
    "    \n",
    "<b>Все отлично!👍:</b> \n",
    "    \n",
    "Молодец, что удаляешь неинформативные для модели признаки."
   ]
  },
  {
   "cell_type": "code",
   "execution_count": 82,
   "metadata": {},
   "outputs": [
    {
     "name": "stdout",
     "output_type": "stream",
     "text": [
      "<class 'pandas.core.frame.DataFrame'>\n",
      "RangeIndex: 65229 entries, 0 to 65228\n",
      "Data columns (total 25 columns):\n",
      " #   Column                          Non-Null Count  Dtype  \n",
      "---  ------                          --------------  -----  \n",
      " 0   is_canceled                     65229 non-null  int64  \n",
      " 1   lead_time                       65229 non-null  float64\n",
      " 2   arrival_date_year               65229 non-null  int64  \n",
      " 3   arrival_date_month              65229 non-null  object \n",
      " 4   arrival_date_week_number        65229 non-null  int64  \n",
      " 5   arrival_date_day_of_month       65229 non-null  int64  \n",
      " 6   stays_in_weekend_nights         65229 non-null  int64  \n",
      " 7   stays_in_week_nights            65229 non-null  int64  \n",
      " 8   adults                          65229 non-null  float64\n",
      " 9   children                        65229 non-null  float64\n",
      " 10  babies                          65229 non-null  float64\n",
      " 11  meal                            65229 non-null  object \n",
      " 12  country                         65229 non-null  object \n",
      " 13  distribution_channel            65229 non-null  object \n",
      " 14  is_repeated_guest               65229 non-null  int64  \n",
      " 15  previous_cancellations          65229 non-null  int64  \n",
      " 16  previous_bookings_not_canceled  65229 non-null  int64  \n",
      " 17  reserved_room_type              65229 non-null  object \n",
      " 18  booking_changes                 65229 non-null  int64  \n",
      " 19  days_in_waiting_list            65229 non-null  int64  \n",
      " 20  customer_type                   65229 non-null  object \n",
      " 21  required_car_parking_spaces     65229 non-null  int64  \n",
      " 22  total_of_special_requests       65229 non-null  int64  \n",
      " 23  total_nights                    65229 non-null  int64  \n",
      " 24  price                           65229 non-null  float64\n",
      "dtypes: float64(5), int64(14), object(6)\n",
      "memory usage: 12.4+ MB\n"
     ]
    }
   ],
   "source": [
    "d1.info()"
   ]
  },
  {
   "cell_type": "markdown",
   "metadata": {},
   "source": [
    "Проведем порядковое кодирование."
   ]
  },
  {
   "cell_type": "markdown",
   "metadata": {},
   "source": [
    "Чтобы провести порядковое кодирование необходимо отделить толбцы с котегориальными\n",
    "значениями от столбцов с колличественными значениями. Затем провести прямое кодирование \n",
    "затем объядинить обратно в ту же таблицу по индексу методом join()."
   ]
  },
  {
   "cell_type": "code",
   "execution_count": 83,
   "metadata": {},
   "outputs": [],
   "source": [
    "d1_enc = features_train[['arrival_date_month', 'meal', 'country', 'distribution_channel',\\\n",
    "                'reserved_room_type', 'customer_type']]"
   ]
  },
  {
   "cell_type": "code",
   "execution_count": 84,
   "metadata": {},
   "outputs": [
    {
     "data": {
      "text/html": [
       "<div>\n",
       "<style scoped>\n",
       "    .dataframe tbody tr th:only-of-type {\n",
       "        vertical-align: middle;\n",
       "    }\n",
       "\n",
       "    .dataframe tbody tr th {\n",
       "        vertical-align: top;\n",
       "    }\n",
       "\n",
       "    .dataframe thead th {\n",
       "        text-align: right;\n",
       "    }\n",
       "</style>\n",
       "<table border=\"1\" class=\"dataframe\">\n",
       "  <thead>\n",
       "    <tr style=\"text-align: right;\">\n",
       "      <th></th>\n",
       "      <th>arrival_date_month</th>\n",
       "      <th>meal</th>\n",
       "      <th>country</th>\n",
       "      <th>distribution_channel</th>\n",
       "      <th>reserved_room_type</th>\n",
       "      <th>customer_type</th>\n",
       "    </tr>\n",
       "  </thead>\n",
       "  <tbody>\n",
       "    <tr>\n",
       "      <th>7918</th>\n",
       "      <td>May</td>\n",
       "      <td>BB</td>\n",
       "      <td>GBR</td>\n",
       "      <td>TA/TO</td>\n",
       "      <td>D</td>\n",
       "      <td>Transient</td>\n",
       "    </tr>\n",
       "    <tr>\n",
       "      <th>18641</th>\n",
       "      <td>August</td>\n",
       "      <td>BB</td>\n",
       "      <td>DEU</td>\n",
       "      <td>TA/TO</td>\n",
       "      <td>A</td>\n",
       "      <td>Transient</td>\n",
       "    </tr>\n",
       "    <tr>\n",
       "      <th>31995</th>\n",
       "      <td>September</td>\n",
       "      <td>SC</td>\n",
       "      <td>ITA</td>\n",
       "      <td>TA/TO</td>\n",
       "      <td>A</td>\n",
       "      <td>Transient</td>\n",
       "    </tr>\n",
       "    <tr>\n",
       "      <th>30742</th>\n",
       "      <td>July</td>\n",
       "      <td>HB</td>\n",
       "      <td>ESP</td>\n",
       "      <td>TA/TO</td>\n",
       "      <td>A</td>\n",
       "      <td>Transient</td>\n",
       "    </tr>\n",
       "    <tr>\n",
       "      <th>26014</th>\n",
       "      <td>April</td>\n",
       "      <td>BB</td>\n",
       "      <td>PRT</td>\n",
       "      <td>TA/TO</td>\n",
       "      <td>A</td>\n",
       "      <td>Transient</td>\n",
       "    </tr>\n",
       "    <tr>\n",
       "      <th>...</th>\n",
       "      <td>...</td>\n",
       "      <td>...</td>\n",
       "      <td>...</td>\n",
       "      <td>...</td>\n",
       "      <td>...</td>\n",
       "      <td>...</td>\n",
       "    </tr>\n",
       "    <tr>\n",
       "      <th>19876</th>\n",
       "      <td>September</td>\n",
       "      <td>HB</td>\n",
       "      <td>PRT</td>\n",
       "      <td>TA/TO</td>\n",
       "      <td>A</td>\n",
       "      <td>Transient-Party</td>\n",
       "    </tr>\n",
       "    <tr>\n",
       "      <th>2177</th>\n",
       "      <td>December</td>\n",
       "      <td>BB</td>\n",
       "      <td>GBR</td>\n",
       "      <td>TA/TO</td>\n",
       "      <td>A</td>\n",
       "      <td>Transient-Party</td>\n",
       "    </tr>\n",
       "    <tr>\n",
       "      <th>64797</th>\n",
       "      <td>December</td>\n",
       "      <td>BB</td>\n",
       "      <td>JPN</td>\n",
       "      <td>TA/TO</td>\n",
       "      <td>A</td>\n",
       "      <td>Transient</td>\n",
       "    </tr>\n",
       "    <tr>\n",
       "      <th>11749</th>\n",
       "      <td>April</td>\n",
       "      <td>HB</td>\n",
       "      <td>ESP</td>\n",
       "      <td>TA/TO</td>\n",
       "      <td>E</td>\n",
       "      <td>Transient</td>\n",
       "    </tr>\n",
       "    <tr>\n",
       "      <th>20962</th>\n",
       "      <td>October</td>\n",
       "      <td>BB</td>\n",
       "      <td>PRT</td>\n",
       "      <td>TA/TO</td>\n",
       "      <td>A</td>\n",
       "      <td>Transient-Party</td>\n",
       "    </tr>\n",
       "  </tbody>\n",
       "</table>\n",
       "<p>48921 rows × 6 columns</p>\n",
       "</div>"
      ],
      "text/plain": [
       "      arrival_date_month meal country distribution_channel reserved_room_type  \\\n",
       "7918                 May   BB     GBR                TA/TO                  D   \n",
       "18641             August   BB     DEU                TA/TO                  A   \n",
       "31995          September   SC     ITA                TA/TO                  A   \n",
       "30742               July   HB     ESP                TA/TO                  A   \n",
       "26014              April   BB     PRT                TA/TO                  A   \n",
       "...                  ...  ...     ...                  ...                ...   \n",
       "19876          September   HB     PRT                TA/TO                  A   \n",
       "2177            December   BB     GBR                TA/TO                  A   \n",
       "64797           December   BB     JPN                TA/TO                  A   \n",
       "11749              April   HB     ESP                TA/TO                  E   \n",
       "20962            October   BB     PRT                TA/TO                  A   \n",
       "\n",
       "         customer_type  \n",
       "7918         Transient  \n",
       "18641        Transient  \n",
       "31995        Transient  \n",
       "30742        Transient  \n",
       "26014        Transient  \n",
       "...                ...  \n",
       "19876  Transient-Party  \n",
       "2177   Transient-Party  \n",
       "64797        Transient  \n",
       "11749        Transient  \n",
       "20962  Transient-Party  \n",
       "\n",
       "[48921 rows x 6 columns]"
      ]
     },
     "execution_count": 84,
     "metadata": {},
     "output_type": "execute_result"
    }
   ],
   "source": [
    "d1_enc"
   ]
  },
  {
   "cell_type": "code",
   "execution_count": 85,
   "metadata": {},
   "outputs": [],
   "source": [
    "encoder = OrdinalEncoder()\n",
    "encoder.fit(d1_enc)\n",
    "data_ordinal_1 = encoder.transform(d1_enc)\n",
    "data_ordinal_1 = pd.DataFrame(encoder.transform(d1_enc), columns=d1_enc.columns, index = d1_enc.index)\n",
    "#data_ordinal = pd.DataFrame(encoder.fit_transform(data), columns=data.columns)\n"
   ]
  },
  {
   "cell_type": "code",
   "execution_count": 86,
   "metadata": {},
   "outputs": [
    {
     "data": {
      "text/html": [
       "<div>\n",
       "<style scoped>\n",
       "    .dataframe tbody tr th:only-of-type {\n",
       "        vertical-align: middle;\n",
       "    }\n",
       "\n",
       "    .dataframe tbody tr th {\n",
       "        vertical-align: top;\n",
       "    }\n",
       "\n",
       "    .dataframe thead th {\n",
       "        text-align: right;\n",
       "    }\n",
       "</style>\n",
       "<table border=\"1\" class=\"dataframe\">\n",
       "  <thead>\n",
       "    <tr style=\"text-align: right;\">\n",
       "      <th></th>\n",
       "      <th>arrival_date_month</th>\n",
       "      <th>meal</th>\n",
       "      <th>country</th>\n",
       "      <th>distribution_channel</th>\n",
       "      <th>reserved_room_type</th>\n",
       "      <th>customer_type</th>\n",
       "    </tr>\n",
       "  </thead>\n",
       "  <tbody>\n",
       "    <tr>\n",
       "      <th>7918</th>\n",
       "      <td>8.0</td>\n",
       "      <td>0.0</td>\n",
       "      <td>15.0</td>\n",
       "      <td>3.0</td>\n",
       "      <td>3.0</td>\n",
       "      <td>2.0</td>\n",
       "    </tr>\n",
       "    <tr>\n",
       "      <th>18641</th>\n",
       "      <td>1.0</td>\n",
       "      <td>0.0</td>\n",
       "      <td>10.0</td>\n",
       "      <td>3.0</td>\n",
       "      <td>0.0</td>\n",
       "      <td>2.0</td>\n",
       "    </tr>\n",
       "    <tr>\n",
       "      <th>31995</th>\n",
       "      <td>11.0</td>\n",
       "      <td>3.0</td>\n",
       "      <td>21.0</td>\n",
       "      <td>3.0</td>\n",
       "      <td>0.0</td>\n",
       "      <td>2.0</td>\n",
       "    </tr>\n",
       "    <tr>\n",
       "      <th>30742</th>\n",
       "      <td>5.0</td>\n",
       "      <td>2.0</td>\n",
       "      <td>12.0</td>\n",
       "      <td>3.0</td>\n",
       "      <td>0.0</td>\n",
       "      <td>2.0</td>\n",
       "    </tr>\n",
       "    <tr>\n",
       "      <th>26014</th>\n",
       "      <td>0.0</td>\n",
       "      <td>0.0</td>\n",
       "      <td>29.0</td>\n",
       "      <td>3.0</td>\n",
       "      <td>0.0</td>\n",
       "      <td>2.0</td>\n",
       "    </tr>\n",
       "    <tr>\n",
       "      <th>...</th>\n",
       "      <td>...</td>\n",
       "      <td>...</td>\n",
       "      <td>...</td>\n",
       "      <td>...</td>\n",
       "      <td>...</td>\n",
       "      <td>...</td>\n",
       "    </tr>\n",
       "    <tr>\n",
       "      <th>19876</th>\n",
       "      <td>11.0</td>\n",
       "      <td>2.0</td>\n",
       "      <td>29.0</td>\n",
       "      <td>3.0</td>\n",
       "      <td>0.0</td>\n",
       "      <td>3.0</td>\n",
       "    </tr>\n",
       "    <tr>\n",
       "      <th>2177</th>\n",
       "      <td>2.0</td>\n",
       "      <td>0.0</td>\n",
       "      <td>15.0</td>\n",
       "      <td>3.0</td>\n",
       "      <td>0.0</td>\n",
       "      <td>3.0</td>\n",
       "    </tr>\n",
       "    <tr>\n",
       "      <th>64797</th>\n",
       "      <td>2.0</td>\n",
       "      <td>0.0</td>\n",
       "      <td>22.0</td>\n",
       "      <td>3.0</td>\n",
       "      <td>0.0</td>\n",
       "      <td>2.0</td>\n",
       "    </tr>\n",
       "    <tr>\n",
       "      <th>11749</th>\n",
       "      <td>0.0</td>\n",
       "      <td>2.0</td>\n",
       "      <td>12.0</td>\n",
       "      <td>3.0</td>\n",
       "      <td>4.0</td>\n",
       "      <td>2.0</td>\n",
       "    </tr>\n",
       "    <tr>\n",
       "      <th>20962</th>\n",
       "      <td>10.0</td>\n",
       "      <td>0.0</td>\n",
       "      <td>29.0</td>\n",
       "      <td>3.0</td>\n",
       "      <td>0.0</td>\n",
       "      <td>3.0</td>\n",
       "    </tr>\n",
       "  </tbody>\n",
       "</table>\n",
       "<p>48921 rows × 6 columns</p>\n",
       "</div>"
      ],
      "text/plain": [
       "       arrival_date_month  meal  country  distribution_channel  \\\n",
       "7918                  8.0   0.0     15.0                   3.0   \n",
       "18641                 1.0   0.0     10.0                   3.0   \n",
       "31995                11.0   3.0     21.0                   3.0   \n",
       "30742                 5.0   2.0     12.0                   3.0   \n",
       "26014                 0.0   0.0     29.0                   3.0   \n",
       "...                   ...   ...      ...                   ...   \n",
       "19876                11.0   2.0     29.0                   3.0   \n",
       "2177                  2.0   0.0     15.0                   3.0   \n",
       "64797                 2.0   0.0     22.0                   3.0   \n",
       "11749                 0.0   2.0     12.0                   3.0   \n",
       "20962                10.0   0.0     29.0                   3.0   \n",
       "\n",
       "       reserved_room_type  customer_type  \n",
       "7918                  3.0            2.0  \n",
       "18641                 0.0            2.0  \n",
       "31995                 0.0            2.0  \n",
       "30742                 0.0            2.0  \n",
       "26014                 0.0            2.0  \n",
       "...                   ...            ...  \n",
       "19876                 0.0            3.0  \n",
       "2177                  0.0            3.0  \n",
       "64797                 0.0            2.0  \n",
       "11749                 4.0            2.0  \n",
       "20962                 0.0            3.0  \n",
       "\n",
       "[48921 rows x 6 columns]"
      ]
     },
     "execution_count": 86,
     "metadata": {},
     "output_type": "execute_result"
    }
   ],
   "source": [
    "data_ordinal_1#.isna().sum()"
   ]
  },
  {
   "cell_type": "code",
   "execution_count": 87,
   "metadata": {},
   "outputs": [
    {
     "data": {
      "text/html": [
       "<div>\n",
       "<style scoped>\n",
       "    .dataframe tbody tr th:only-of-type {\n",
       "        vertical-align: middle;\n",
       "    }\n",
       "\n",
       "    .dataframe tbody tr th {\n",
       "        vertical-align: top;\n",
       "    }\n",
       "\n",
       "    .dataframe thead th {\n",
       "        text-align: right;\n",
       "    }\n",
       "</style>\n",
       "<table border=\"1\" class=\"dataframe\">\n",
       "  <thead>\n",
       "    <tr style=\"text-align: right;\">\n",
       "      <th></th>\n",
       "      <th>lead_time</th>\n",
       "      <th>arrival_date_year</th>\n",
       "      <th>arrival_date_week_number</th>\n",
       "      <th>arrival_date_day_of_month</th>\n",
       "      <th>stays_in_weekend_nights</th>\n",
       "      <th>stays_in_week_nights</th>\n",
       "      <th>adults</th>\n",
       "      <th>children</th>\n",
       "      <th>babies</th>\n",
       "      <th>is_repeated_guest</th>\n",
       "      <th>previous_cancellations</th>\n",
       "      <th>previous_bookings_not_canceled</th>\n",
       "      <th>booking_changes</th>\n",
       "      <th>days_in_waiting_list</th>\n",
       "      <th>required_car_parking_spaces</th>\n",
       "      <th>total_of_special_requests</th>\n",
       "      <th>total_nights</th>\n",
       "      <th>price</th>\n",
       "    </tr>\n",
       "  </thead>\n",
       "  <tbody>\n",
       "    <tr>\n",
       "      <th>7918</th>\n",
       "      <td>201.0</td>\n",
       "      <td>2016</td>\n",
       "      <td>21</td>\n",
       "      <td>16</td>\n",
       "      <td>1</td>\n",
       "      <td>5</td>\n",
       "      <td>2.0</td>\n",
       "      <td>0.0</td>\n",
       "      <td>0.0</td>\n",
       "      <td>1</td>\n",
       "      <td>0</td>\n",
       "      <td>0</td>\n",
       "      <td>3</td>\n",
       "      <td>0</td>\n",
       "      <td>0</td>\n",
       "      <td>2</td>\n",
       "      <td>6</td>\n",
       "      <td>3960.0</td>\n",
       "    </tr>\n",
       "    <tr>\n",
       "      <th>18641</th>\n",
       "      <td>9.0</td>\n",
       "      <td>2015</td>\n",
       "      <td>36</td>\n",
       "      <td>31</td>\n",
       "      <td>1</td>\n",
       "      <td>4</td>\n",
       "      <td>2.0</td>\n",
       "      <td>0.0</td>\n",
       "      <td>0.0</td>\n",
       "      <td>0</td>\n",
       "      <td>0</td>\n",
       "      <td>0</td>\n",
       "      <td>0</td>\n",
       "      <td>0</td>\n",
       "      <td>0</td>\n",
       "      <td>2</td>\n",
       "      <td>5</td>\n",
       "      <td>7000.0</td>\n",
       "    </tr>\n",
       "    <tr>\n",
       "      <th>31995</th>\n",
       "      <td>133.0</td>\n",
       "      <td>2016</td>\n",
       "      <td>36</td>\n",
       "      <td>3</td>\n",
       "      <td>2</td>\n",
       "      <td>1</td>\n",
       "      <td>2.0</td>\n",
       "      <td>0.0</td>\n",
       "      <td>0.0</td>\n",
       "      <td>0</td>\n",
       "      <td>0</td>\n",
       "      <td>0</td>\n",
       "      <td>0</td>\n",
       "      <td>0</td>\n",
       "      <td>0</td>\n",
       "      <td>0</td>\n",
       "      <td>3</td>\n",
       "      <td>3600.0</td>\n",
       "    </tr>\n",
       "    <tr>\n",
       "      <th>30742</th>\n",
       "      <td>129.0</td>\n",
       "      <td>2016</td>\n",
       "      <td>31</td>\n",
       "      <td>25</td>\n",
       "      <td>1</td>\n",
       "      <td>4</td>\n",
       "      <td>2.0</td>\n",
       "      <td>0.0</td>\n",
       "      <td>0.0</td>\n",
       "      <td>0</td>\n",
       "      <td>0</td>\n",
       "      <td>0</td>\n",
       "      <td>0</td>\n",
       "      <td>0</td>\n",
       "      <td>0</td>\n",
       "      <td>0</td>\n",
       "      <td>5</td>\n",
       "      <td>7000.0</td>\n",
       "    </tr>\n",
       "    <tr>\n",
       "      <th>26014</th>\n",
       "      <td>103.0</td>\n",
       "      <td>2016</td>\n",
       "      <td>17</td>\n",
       "      <td>19</td>\n",
       "      <td>0</td>\n",
       "      <td>2</td>\n",
       "      <td>1.0</td>\n",
       "      <td>0.0</td>\n",
       "      <td>0.0</td>\n",
       "      <td>0</td>\n",
       "      <td>0</td>\n",
       "      <td>0</td>\n",
       "      <td>0</td>\n",
       "      <td>0</td>\n",
       "      <td>0</td>\n",
       "      <td>0</td>\n",
       "      <td>2</td>\n",
       "      <td>2400.0</td>\n",
       "    </tr>\n",
       "    <tr>\n",
       "      <th>...</th>\n",
       "      <td>...</td>\n",
       "      <td>...</td>\n",
       "      <td>...</td>\n",
       "      <td>...</td>\n",
       "      <td>...</td>\n",
       "      <td>...</td>\n",
       "      <td>...</td>\n",
       "      <td>...</td>\n",
       "      <td>...</td>\n",
       "      <td>...</td>\n",
       "      <td>...</td>\n",
       "      <td>...</td>\n",
       "      <td>...</td>\n",
       "      <td>...</td>\n",
       "      <td>...</td>\n",
       "      <td>...</td>\n",
       "      <td>...</td>\n",
       "      <td>...</td>\n",
       "    </tr>\n",
       "    <tr>\n",
       "      <th>19876</th>\n",
       "      <td>74.0</td>\n",
       "      <td>2015</td>\n",
       "      <td>38</td>\n",
       "      <td>18</td>\n",
       "      <td>0</td>\n",
       "      <td>2</td>\n",
       "      <td>2.0</td>\n",
       "      <td>0.0</td>\n",
       "      <td>0.0</td>\n",
       "      <td>0</td>\n",
       "      <td>0</td>\n",
       "      <td>0</td>\n",
       "      <td>0</td>\n",
       "      <td>0</td>\n",
       "      <td>0</td>\n",
       "      <td>0</td>\n",
       "      <td>2</td>\n",
       "      <td>2400.0</td>\n",
       "    </tr>\n",
       "    <tr>\n",
       "      <th>2177</th>\n",
       "      <td>29.0</td>\n",
       "      <td>2015</td>\n",
       "      <td>50</td>\n",
       "      <td>10</td>\n",
       "      <td>0</td>\n",
       "      <td>3</td>\n",
       "      <td>2.0</td>\n",
       "      <td>0.0</td>\n",
       "      <td>0.0</td>\n",
       "      <td>0</td>\n",
       "      <td>0</td>\n",
       "      <td>0</td>\n",
       "      <td>0</td>\n",
       "      <td>0</td>\n",
       "      <td>0</td>\n",
       "      <td>1</td>\n",
       "      <td>3</td>\n",
       "      <td>3000.0</td>\n",
       "    </tr>\n",
       "    <tr>\n",
       "      <th>64797</th>\n",
       "      <td>14.0</td>\n",
       "      <td>2016</td>\n",
       "      <td>53</td>\n",
       "      <td>25</td>\n",
       "      <td>2</td>\n",
       "      <td>0</td>\n",
       "      <td>2.0</td>\n",
       "      <td>1.0</td>\n",
       "      <td>0.0</td>\n",
       "      <td>0</td>\n",
       "      <td>0</td>\n",
       "      <td>0</td>\n",
       "      <td>0</td>\n",
       "      <td>0</td>\n",
       "      <td>1</td>\n",
       "      <td>2</td>\n",
       "      <td>2</td>\n",
       "      <td>2000.0</td>\n",
       "    </tr>\n",
       "    <tr>\n",
       "      <th>11749</th>\n",
       "      <td>8.0</td>\n",
       "      <td>2016</td>\n",
       "      <td>16</td>\n",
       "      <td>14</td>\n",
       "      <td>0</td>\n",
       "      <td>3</td>\n",
       "      <td>2.0</td>\n",
       "      <td>1.0</td>\n",
       "      <td>0.0</td>\n",
       "      <td>0</td>\n",
       "      <td>0</td>\n",
       "      <td>0</td>\n",
       "      <td>0</td>\n",
       "      <td>0</td>\n",
       "      <td>0</td>\n",
       "      <td>0</td>\n",
       "      <td>3</td>\n",
       "      <td>1800.0</td>\n",
       "    </tr>\n",
       "    <tr>\n",
       "      <th>20962</th>\n",
       "      <td>92.0</td>\n",
       "      <td>2015</td>\n",
       "      <td>41</td>\n",
       "      <td>7</td>\n",
       "      <td>0</td>\n",
       "      <td>4</td>\n",
       "      <td>2.0</td>\n",
       "      <td>0.0</td>\n",
       "      <td>0.0</td>\n",
       "      <td>0</td>\n",
       "      <td>0</td>\n",
       "      <td>0</td>\n",
       "      <td>0</td>\n",
       "      <td>58</td>\n",
       "      <td>0</td>\n",
       "      <td>0</td>\n",
       "      <td>4</td>\n",
       "      <td>4800.0</td>\n",
       "    </tr>\n",
       "  </tbody>\n",
       "</table>\n",
       "<p>48921 rows × 18 columns</p>\n",
       "</div>"
      ],
      "text/plain": [
       "       lead_time  arrival_date_year  arrival_date_week_number  \\\n",
       "7918       201.0               2016                        21   \n",
       "18641        9.0               2015                        36   \n",
       "31995      133.0               2016                        36   \n",
       "30742      129.0               2016                        31   \n",
       "26014      103.0               2016                        17   \n",
       "...          ...                ...                       ...   \n",
       "19876       74.0               2015                        38   \n",
       "2177        29.0               2015                        50   \n",
       "64797       14.0               2016                        53   \n",
       "11749        8.0               2016                        16   \n",
       "20962       92.0               2015                        41   \n",
       "\n",
       "       arrival_date_day_of_month  stays_in_weekend_nights  \\\n",
       "7918                          16                        1   \n",
       "18641                         31                        1   \n",
       "31995                          3                        2   \n",
       "30742                         25                        1   \n",
       "26014                         19                        0   \n",
       "...                          ...                      ...   \n",
       "19876                         18                        0   \n",
       "2177                          10                        0   \n",
       "64797                         25                        2   \n",
       "11749                         14                        0   \n",
       "20962                          7                        0   \n",
       "\n",
       "       stays_in_week_nights  adults  children  babies  is_repeated_guest  \\\n",
       "7918                      5     2.0       0.0     0.0                  1   \n",
       "18641                     4     2.0       0.0     0.0                  0   \n",
       "31995                     1     2.0       0.0     0.0                  0   \n",
       "30742                     4     2.0       0.0     0.0                  0   \n",
       "26014                     2     1.0       0.0     0.0                  0   \n",
       "...                     ...     ...       ...     ...                ...   \n",
       "19876                     2     2.0       0.0     0.0                  0   \n",
       "2177                      3     2.0       0.0     0.0                  0   \n",
       "64797                     0     2.0       1.0     0.0                  0   \n",
       "11749                     3     2.0       1.0     0.0                  0   \n",
       "20962                     4     2.0       0.0     0.0                  0   \n",
       "\n",
       "       previous_cancellations  previous_bookings_not_canceled  \\\n",
       "7918                        0                               0   \n",
       "18641                       0                               0   \n",
       "31995                       0                               0   \n",
       "30742                       0                               0   \n",
       "26014                       0                               0   \n",
       "...                       ...                             ...   \n",
       "19876                       0                               0   \n",
       "2177                        0                               0   \n",
       "64797                       0                               0   \n",
       "11749                       0                               0   \n",
       "20962                       0                               0   \n",
       "\n",
       "       booking_changes  days_in_waiting_list  required_car_parking_spaces  \\\n",
       "7918                 3                     0                            0   \n",
       "18641                0                     0                            0   \n",
       "31995                0                     0                            0   \n",
       "30742                0                     0                            0   \n",
       "26014                0                     0                            0   \n",
       "...                ...                   ...                          ...   \n",
       "19876                0                     0                            0   \n",
       "2177                 0                     0                            0   \n",
       "64797                0                     0                            1   \n",
       "11749                0                     0                            0   \n",
       "20962                0                    58                            0   \n",
       "\n",
       "       total_of_special_requests  total_nights   price  \n",
       "7918                           2             6  3960.0  \n",
       "18641                          2             5  7000.0  \n",
       "31995                          0             3  3600.0  \n",
       "30742                          0             5  7000.0  \n",
       "26014                          0             2  2400.0  \n",
       "...                          ...           ...     ...  \n",
       "19876                          0             2  2400.0  \n",
       "2177                           1             3  3000.0  \n",
       "64797                          2             2  2000.0  \n",
       "11749                          0             3  1800.0  \n",
       "20962                          0             4  4800.0  \n",
       "\n",
       "[48921 rows x 18 columns]"
      ]
     },
     "execution_count": 87,
     "metadata": {},
     "output_type": "execute_result"
    }
   ],
   "source": [
    "d1_qt = features_train.drop(['arrival_date_month', 'meal', 'distribution_channel',\\\n",
    "                'reserved_room_type', 'customer_type', 'country'], axis = 1)\n",
    "d1_qt"
   ]
  },
  {
   "cell_type": "code",
   "execution_count": 88,
   "metadata": {},
   "outputs": [],
   "source": [
    "features_train = data_ordinal_1.join(d1_qt, how='left')"
   ]
  },
  {
   "cell_type": "code",
   "execution_count": 89,
   "metadata": {},
   "outputs": [
    {
     "data": {
      "text/html": [
       "<div>\n",
       "<style scoped>\n",
       "    .dataframe tbody tr th:only-of-type {\n",
       "        vertical-align: middle;\n",
       "    }\n",
       "\n",
       "    .dataframe tbody tr th {\n",
       "        vertical-align: top;\n",
       "    }\n",
       "\n",
       "    .dataframe thead th {\n",
       "        text-align: right;\n",
       "    }\n",
       "</style>\n",
       "<table border=\"1\" class=\"dataframe\">\n",
       "  <thead>\n",
       "    <tr style=\"text-align: right;\">\n",
       "      <th></th>\n",
       "      <th>arrival_date_month</th>\n",
       "      <th>meal</th>\n",
       "      <th>country</th>\n",
       "      <th>distribution_channel</th>\n",
       "      <th>reserved_room_type</th>\n",
       "      <th>customer_type</th>\n",
       "      <th>lead_time</th>\n",
       "      <th>arrival_date_year</th>\n",
       "      <th>arrival_date_week_number</th>\n",
       "      <th>arrival_date_day_of_month</th>\n",
       "      <th>...</th>\n",
       "      <th>babies</th>\n",
       "      <th>is_repeated_guest</th>\n",
       "      <th>previous_cancellations</th>\n",
       "      <th>previous_bookings_not_canceled</th>\n",
       "      <th>booking_changes</th>\n",
       "      <th>days_in_waiting_list</th>\n",
       "      <th>required_car_parking_spaces</th>\n",
       "      <th>total_of_special_requests</th>\n",
       "      <th>total_nights</th>\n",
       "      <th>price</th>\n",
       "    </tr>\n",
       "  </thead>\n",
       "  <tbody>\n",
       "    <tr>\n",
       "      <th>7918</th>\n",
       "      <td>8.0</td>\n",
       "      <td>0.0</td>\n",
       "      <td>15.0</td>\n",
       "      <td>3.0</td>\n",
       "      <td>3.0</td>\n",
       "      <td>2.0</td>\n",
       "      <td>201.0</td>\n",
       "      <td>2016</td>\n",
       "      <td>21</td>\n",
       "      <td>16</td>\n",
       "      <td>...</td>\n",
       "      <td>0.0</td>\n",
       "      <td>1</td>\n",
       "      <td>0</td>\n",
       "      <td>0</td>\n",
       "      <td>3</td>\n",
       "      <td>0</td>\n",
       "      <td>0</td>\n",
       "      <td>2</td>\n",
       "      <td>6</td>\n",
       "      <td>3960.0</td>\n",
       "    </tr>\n",
       "    <tr>\n",
       "      <th>18641</th>\n",
       "      <td>1.0</td>\n",
       "      <td>0.0</td>\n",
       "      <td>10.0</td>\n",
       "      <td>3.0</td>\n",
       "      <td>0.0</td>\n",
       "      <td>2.0</td>\n",
       "      <td>9.0</td>\n",
       "      <td>2015</td>\n",
       "      <td>36</td>\n",
       "      <td>31</td>\n",
       "      <td>...</td>\n",
       "      <td>0.0</td>\n",
       "      <td>0</td>\n",
       "      <td>0</td>\n",
       "      <td>0</td>\n",
       "      <td>0</td>\n",
       "      <td>0</td>\n",
       "      <td>0</td>\n",
       "      <td>2</td>\n",
       "      <td>5</td>\n",
       "      <td>7000.0</td>\n",
       "    </tr>\n",
       "    <tr>\n",
       "      <th>31995</th>\n",
       "      <td>11.0</td>\n",
       "      <td>3.0</td>\n",
       "      <td>21.0</td>\n",
       "      <td>3.0</td>\n",
       "      <td>0.0</td>\n",
       "      <td>2.0</td>\n",
       "      <td>133.0</td>\n",
       "      <td>2016</td>\n",
       "      <td>36</td>\n",
       "      <td>3</td>\n",
       "      <td>...</td>\n",
       "      <td>0.0</td>\n",
       "      <td>0</td>\n",
       "      <td>0</td>\n",
       "      <td>0</td>\n",
       "      <td>0</td>\n",
       "      <td>0</td>\n",
       "      <td>0</td>\n",
       "      <td>0</td>\n",
       "      <td>3</td>\n",
       "      <td>3600.0</td>\n",
       "    </tr>\n",
       "    <tr>\n",
       "      <th>30742</th>\n",
       "      <td>5.0</td>\n",
       "      <td>2.0</td>\n",
       "      <td>12.0</td>\n",
       "      <td>3.0</td>\n",
       "      <td>0.0</td>\n",
       "      <td>2.0</td>\n",
       "      <td>129.0</td>\n",
       "      <td>2016</td>\n",
       "      <td>31</td>\n",
       "      <td>25</td>\n",
       "      <td>...</td>\n",
       "      <td>0.0</td>\n",
       "      <td>0</td>\n",
       "      <td>0</td>\n",
       "      <td>0</td>\n",
       "      <td>0</td>\n",
       "      <td>0</td>\n",
       "      <td>0</td>\n",
       "      <td>0</td>\n",
       "      <td>5</td>\n",
       "      <td>7000.0</td>\n",
       "    </tr>\n",
       "    <tr>\n",
       "      <th>26014</th>\n",
       "      <td>0.0</td>\n",
       "      <td>0.0</td>\n",
       "      <td>29.0</td>\n",
       "      <td>3.0</td>\n",
       "      <td>0.0</td>\n",
       "      <td>2.0</td>\n",
       "      <td>103.0</td>\n",
       "      <td>2016</td>\n",
       "      <td>17</td>\n",
       "      <td>19</td>\n",
       "      <td>...</td>\n",
       "      <td>0.0</td>\n",
       "      <td>0</td>\n",
       "      <td>0</td>\n",
       "      <td>0</td>\n",
       "      <td>0</td>\n",
       "      <td>0</td>\n",
       "      <td>0</td>\n",
       "      <td>0</td>\n",
       "      <td>2</td>\n",
       "      <td>2400.0</td>\n",
       "    </tr>\n",
       "    <tr>\n",
       "      <th>...</th>\n",
       "      <td>...</td>\n",
       "      <td>...</td>\n",
       "      <td>...</td>\n",
       "      <td>...</td>\n",
       "      <td>...</td>\n",
       "      <td>...</td>\n",
       "      <td>...</td>\n",
       "      <td>...</td>\n",
       "      <td>...</td>\n",
       "      <td>...</td>\n",
       "      <td>...</td>\n",
       "      <td>...</td>\n",
       "      <td>...</td>\n",
       "      <td>...</td>\n",
       "      <td>...</td>\n",
       "      <td>...</td>\n",
       "      <td>...</td>\n",
       "      <td>...</td>\n",
       "      <td>...</td>\n",
       "      <td>...</td>\n",
       "      <td>...</td>\n",
       "    </tr>\n",
       "    <tr>\n",
       "      <th>19876</th>\n",
       "      <td>11.0</td>\n",
       "      <td>2.0</td>\n",
       "      <td>29.0</td>\n",
       "      <td>3.0</td>\n",
       "      <td>0.0</td>\n",
       "      <td>3.0</td>\n",
       "      <td>74.0</td>\n",
       "      <td>2015</td>\n",
       "      <td>38</td>\n",
       "      <td>18</td>\n",
       "      <td>...</td>\n",
       "      <td>0.0</td>\n",
       "      <td>0</td>\n",
       "      <td>0</td>\n",
       "      <td>0</td>\n",
       "      <td>0</td>\n",
       "      <td>0</td>\n",
       "      <td>0</td>\n",
       "      <td>0</td>\n",
       "      <td>2</td>\n",
       "      <td>2400.0</td>\n",
       "    </tr>\n",
       "    <tr>\n",
       "      <th>2177</th>\n",
       "      <td>2.0</td>\n",
       "      <td>0.0</td>\n",
       "      <td>15.0</td>\n",
       "      <td>3.0</td>\n",
       "      <td>0.0</td>\n",
       "      <td>3.0</td>\n",
       "      <td>29.0</td>\n",
       "      <td>2015</td>\n",
       "      <td>50</td>\n",
       "      <td>10</td>\n",
       "      <td>...</td>\n",
       "      <td>0.0</td>\n",
       "      <td>0</td>\n",
       "      <td>0</td>\n",
       "      <td>0</td>\n",
       "      <td>0</td>\n",
       "      <td>0</td>\n",
       "      <td>0</td>\n",
       "      <td>1</td>\n",
       "      <td>3</td>\n",
       "      <td>3000.0</td>\n",
       "    </tr>\n",
       "    <tr>\n",
       "      <th>64797</th>\n",
       "      <td>2.0</td>\n",
       "      <td>0.0</td>\n",
       "      <td>22.0</td>\n",
       "      <td>3.0</td>\n",
       "      <td>0.0</td>\n",
       "      <td>2.0</td>\n",
       "      <td>14.0</td>\n",
       "      <td>2016</td>\n",
       "      <td>53</td>\n",
       "      <td>25</td>\n",
       "      <td>...</td>\n",
       "      <td>0.0</td>\n",
       "      <td>0</td>\n",
       "      <td>0</td>\n",
       "      <td>0</td>\n",
       "      <td>0</td>\n",
       "      <td>0</td>\n",
       "      <td>1</td>\n",
       "      <td>2</td>\n",
       "      <td>2</td>\n",
       "      <td>2000.0</td>\n",
       "    </tr>\n",
       "    <tr>\n",
       "      <th>11749</th>\n",
       "      <td>0.0</td>\n",
       "      <td>2.0</td>\n",
       "      <td>12.0</td>\n",
       "      <td>3.0</td>\n",
       "      <td>4.0</td>\n",
       "      <td>2.0</td>\n",
       "      <td>8.0</td>\n",
       "      <td>2016</td>\n",
       "      <td>16</td>\n",
       "      <td>14</td>\n",
       "      <td>...</td>\n",
       "      <td>0.0</td>\n",
       "      <td>0</td>\n",
       "      <td>0</td>\n",
       "      <td>0</td>\n",
       "      <td>0</td>\n",
       "      <td>0</td>\n",
       "      <td>0</td>\n",
       "      <td>0</td>\n",
       "      <td>3</td>\n",
       "      <td>1800.0</td>\n",
       "    </tr>\n",
       "    <tr>\n",
       "      <th>20962</th>\n",
       "      <td>10.0</td>\n",
       "      <td>0.0</td>\n",
       "      <td>29.0</td>\n",
       "      <td>3.0</td>\n",
       "      <td>0.0</td>\n",
       "      <td>3.0</td>\n",
       "      <td>92.0</td>\n",
       "      <td>2015</td>\n",
       "      <td>41</td>\n",
       "      <td>7</td>\n",
       "      <td>...</td>\n",
       "      <td>0.0</td>\n",
       "      <td>0</td>\n",
       "      <td>0</td>\n",
       "      <td>0</td>\n",
       "      <td>0</td>\n",
       "      <td>58</td>\n",
       "      <td>0</td>\n",
       "      <td>0</td>\n",
       "      <td>4</td>\n",
       "      <td>4800.0</td>\n",
       "    </tr>\n",
       "  </tbody>\n",
       "</table>\n",
       "<p>48921 rows × 24 columns</p>\n",
       "</div>"
      ],
      "text/plain": [
       "       arrival_date_month  meal  country  distribution_channel  \\\n",
       "7918                  8.0   0.0     15.0                   3.0   \n",
       "18641                 1.0   0.0     10.0                   3.0   \n",
       "31995                11.0   3.0     21.0                   3.0   \n",
       "30742                 5.0   2.0     12.0                   3.0   \n",
       "26014                 0.0   0.0     29.0                   3.0   \n",
       "...                   ...   ...      ...                   ...   \n",
       "19876                11.0   2.0     29.0                   3.0   \n",
       "2177                  2.0   0.0     15.0                   3.0   \n",
       "64797                 2.0   0.0     22.0                   3.0   \n",
       "11749                 0.0   2.0     12.0                   3.0   \n",
       "20962                10.0   0.0     29.0                   3.0   \n",
       "\n",
       "       reserved_room_type  customer_type  lead_time  arrival_date_year  \\\n",
       "7918                  3.0            2.0      201.0               2016   \n",
       "18641                 0.0            2.0        9.0               2015   \n",
       "31995                 0.0            2.0      133.0               2016   \n",
       "30742                 0.0            2.0      129.0               2016   \n",
       "26014                 0.0            2.0      103.0               2016   \n",
       "...                   ...            ...        ...                ...   \n",
       "19876                 0.0            3.0       74.0               2015   \n",
       "2177                  0.0            3.0       29.0               2015   \n",
       "64797                 0.0            2.0       14.0               2016   \n",
       "11749                 4.0            2.0        8.0               2016   \n",
       "20962                 0.0            3.0       92.0               2015   \n",
       "\n",
       "       arrival_date_week_number  arrival_date_day_of_month  ...  babies  \\\n",
       "7918                         21                         16  ...     0.0   \n",
       "18641                        36                         31  ...     0.0   \n",
       "31995                        36                          3  ...     0.0   \n",
       "30742                        31                         25  ...     0.0   \n",
       "26014                        17                         19  ...     0.0   \n",
       "...                         ...                        ...  ...     ...   \n",
       "19876                        38                         18  ...     0.0   \n",
       "2177                         50                         10  ...     0.0   \n",
       "64797                        53                         25  ...     0.0   \n",
       "11749                        16                         14  ...     0.0   \n",
       "20962                        41                          7  ...     0.0   \n",
       "\n",
       "       is_repeated_guest  previous_cancellations  \\\n",
       "7918                   1                       0   \n",
       "18641                  0                       0   \n",
       "31995                  0                       0   \n",
       "30742                  0                       0   \n",
       "26014                  0                       0   \n",
       "...                  ...                     ...   \n",
       "19876                  0                       0   \n",
       "2177                   0                       0   \n",
       "64797                  0                       0   \n",
       "11749                  0                       0   \n",
       "20962                  0                       0   \n",
       "\n",
       "       previous_bookings_not_canceled  booking_changes  days_in_waiting_list  \\\n",
       "7918                                0                3                     0   \n",
       "18641                               0                0                     0   \n",
       "31995                               0                0                     0   \n",
       "30742                               0                0                     0   \n",
       "26014                               0                0                     0   \n",
       "...                               ...              ...                   ...   \n",
       "19876                               0                0                     0   \n",
       "2177                                0                0                     0   \n",
       "64797                               0                0                     0   \n",
       "11749                               0                0                     0   \n",
       "20962                               0                0                    58   \n",
       "\n",
       "       required_car_parking_spaces  total_of_special_requests  total_nights  \\\n",
       "7918                             0                          2             6   \n",
       "18641                            0                          2             5   \n",
       "31995                            0                          0             3   \n",
       "30742                            0                          0             5   \n",
       "26014                            0                          0             2   \n",
       "...                            ...                        ...           ...   \n",
       "19876                            0                          0             2   \n",
       "2177                             0                          1             3   \n",
       "64797                            1                          2             2   \n",
       "11749                            0                          0             3   \n",
       "20962                            0                          0             4   \n",
       "\n",
       "        price  \n",
       "7918   3960.0  \n",
       "18641  7000.0  \n",
       "31995  3600.0  \n",
       "30742  7000.0  \n",
       "26014  2400.0  \n",
       "...       ...  \n",
       "19876  2400.0  \n",
       "2177   3000.0  \n",
       "64797  2000.0  \n",
       "11749  1800.0  \n",
       "20962  4800.0  \n",
       "\n",
       "[48921 rows x 24 columns]"
      ]
     },
     "execution_count": 89,
     "metadata": {},
     "output_type": "execute_result"
    }
   ],
   "source": [
    "features_train"
   ]
  },
  {
   "cell_type": "markdown",
   "metadata": {},
   "source": [
    "<div class=\"alert alert-block alert-danger\">\n",
    "<h2> Комментарий ревьюера <a class=\"tocSkip\"></h2>\n",
    "\n",
    "    \n",
    "<b>На доработку🤔:</b>\n",
    "    \n",
    "    \n",
    "Ты молодец, алгоритм кодирования правильный. \n",
    "    \n",
    "Только обрати, пожалуйста, внимание, что в кодер также попадают и кодируются чилсенные признаки. Из-за этого теряются исходные свойства их распределения. Стоит это поправить и проследить, чтобы в кодер попадали только категориальные признаки."
   ]
  },
  {
   "cell_type": "markdown",
   "metadata": {},
   "source": [
    "<div class=\"alert alert-warning\">\n",
    "    <h2> Комментарий ревьюера <a class=\"tocSkip\"> </h2>\n",
    "    \n",
    "<b>Некоторые замечания и рекомендации💡:</b> \n",
    "        \n",
    "У OrdinalEncoder можно задать параметры, которые будут помогать ему справляться с незнакомыми категориями при обработке тестовой выборки.\n",
    "        \n",
    "Документация:\n",
    "        \n",
    "https://scikit-learn.org/stable/modules/generated/sklearn.preprocessing.OrdinalEncoder.html"
   ]
  },
  {
   "cell_type": "markdown",
   "metadata": {},
   "source": []
  },
  {
   "cell_type": "markdown",
   "metadata": {},
   "source": [
    "Проведем маштабирование признаков."
   ]
  },
  {
   "cell_type": "code",
   "execution_count": 90,
   "metadata": {},
   "outputs": [],
   "source": [
    "numeric = features_train.columns"
   ]
  },
  {
   "cell_type": "code",
   "execution_count": 91,
   "metadata": {},
   "outputs": [
    {
     "data": {
      "text/plain": [
       "Index(['arrival_date_month', 'meal', 'country', 'distribution_channel',\n",
       "       'reserved_room_type', 'customer_type', 'lead_time', 'arrival_date_year',\n",
       "       'arrival_date_week_number', 'arrival_date_day_of_month',\n",
       "       'stays_in_weekend_nights', 'stays_in_week_nights', 'adults', 'children',\n",
       "       'babies', 'is_repeated_guest', 'previous_cancellations',\n",
       "       'previous_bookings_not_canceled', 'booking_changes',\n",
       "       'days_in_waiting_list', 'required_car_parking_spaces',\n",
       "       'total_of_special_requests', 'total_nights', 'price'],\n",
       "      dtype='object')"
      ]
     },
     "execution_count": 91,
     "metadata": {},
     "output_type": "execute_result"
    }
   ],
   "source": [
    "numeric"
   ]
  },
  {
   "cell_type": "markdown",
   "metadata": {},
   "source": [
    "Так как среди признаков практически ни где нет нормального распределения используем\n",
    "метод RobustScaler()."
   ]
  },
  {
   "cell_type": "code",
   "execution_count": 92,
   "metadata": {
    "scrolled": true
   },
   "outputs": [
    {
     "data": {
      "text/html": [
       "<div>\n",
       "<style scoped>\n",
       "    .dataframe tbody tr th:only-of-type {\n",
       "        vertical-align: middle;\n",
       "    }\n",
       "\n",
       "    .dataframe tbody tr th {\n",
       "        vertical-align: top;\n",
       "    }\n",
       "\n",
       "    .dataframe thead th {\n",
       "        text-align: right;\n",
       "    }\n",
       "</style>\n",
       "<table border=\"1\" class=\"dataframe\">\n",
       "  <thead>\n",
       "    <tr style=\"text-align: right;\">\n",
       "      <th></th>\n",
       "      <th>arrival_date_month</th>\n",
       "      <th>meal</th>\n",
       "      <th>country</th>\n",
       "      <th>distribution_channel</th>\n",
       "      <th>reserved_room_type</th>\n",
       "      <th>customer_type</th>\n",
       "      <th>lead_time</th>\n",
       "      <th>arrival_date_year</th>\n",
       "      <th>arrival_date_week_number</th>\n",
       "      <th>arrival_date_day_of_month</th>\n",
       "      <th>...</th>\n",
       "      <th>babies</th>\n",
       "      <th>is_repeated_guest</th>\n",
       "      <th>previous_cancellations</th>\n",
       "      <th>previous_bookings_not_canceled</th>\n",
       "      <th>booking_changes</th>\n",
       "      <th>days_in_waiting_list</th>\n",
       "      <th>required_car_parking_spaces</th>\n",
       "      <th>total_of_special_requests</th>\n",
       "      <th>total_nights</th>\n",
       "      <th>price</th>\n",
       "    </tr>\n",
       "  </thead>\n",
       "  <tbody>\n",
       "    <tr>\n",
       "      <th>7918</th>\n",
       "      <td>0.125</td>\n",
       "      <td>0.0</td>\n",
       "      <td>-0.866667</td>\n",
       "      <td>0.0</td>\n",
       "      <td>3.0</td>\n",
       "      <td>0.0</td>\n",
       "      <td>1.022388</td>\n",
       "      <td>0.0</td>\n",
       "      <td>-0.619048</td>\n",
       "      <td>0.0000</td>\n",
       "      <td>...</td>\n",
       "      <td>0.0</td>\n",
       "      <td>1.0</td>\n",
       "      <td>0.0</td>\n",
       "      <td>0.0</td>\n",
       "      <td>3.0</td>\n",
       "      <td>0.0</td>\n",
       "      <td>0.0</td>\n",
       "      <td>2.0</td>\n",
       "      <td>1.5</td>\n",
       "      <td>0.522523</td>\n",
       "    </tr>\n",
       "    <tr>\n",
       "      <th>18641</th>\n",
       "      <td>-0.750</td>\n",
       "      <td>0.0</td>\n",
       "      <td>-1.200000</td>\n",
       "      <td>0.0</td>\n",
       "      <td>0.0</td>\n",
       "      <td>0.0</td>\n",
       "      <td>-0.410448</td>\n",
       "      <td>-1.0</td>\n",
       "      <td>0.095238</td>\n",
       "      <td>0.9375</td>\n",
       "      <td>...</td>\n",
       "      <td>0.0</td>\n",
       "      <td>0.0</td>\n",
       "      <td>0.0</td>\n",
       "      <td>0.0</td>\n",
       "      <td>0.0</td>\n",
       "      <td>0.0</td>\n",
       "      <td>0.0</td>\n",
       "      <td>2.0</td>\n",
       "      <td>1.0</td>\n",
       "      <td>1.891892</td>\n",
       "    </tr>\n",
       "    <tr>\n",
       "      <th>31995</th>\n",
       "      <td>0.500</td>\n",
       "      <td>3.0</td>\n",
       "      <td>-0.466667</td>\n",
       "      <td>0.0</td>\n",
       "      <td>0.0</td>\n",
       "      <td>0.0</td>\n",
       "      <td>0.514925</td>\n",
       "      <td>0.0</td>\n",
       "      <td>0.095238</td>\n",
       "      <td>-0.8125</td>\n",
       "      <td>...</td>\n",
       "      <td>0.0</td>\n",
       "      <td>0.0</td>\n",
       "      <td>0.0</td>\n",
       "      <td>0.0</td>\n",
       "      <td>0.0</td>\n",
       "      <td>0.0</td>\n",
       "      <td>0.0</td>\n",
       "      <td>0.0</td>\n",
       "      <td>0.0</td>\n",
       "      <td>0.360360</td>\n",
       "    </tr>\n",
       "    <tr>\n",
       "      <th>30742</th>\n",
       "      <td>-0.250</td>\n",
       "      <td>2.0</td>\n",
       "      <td>-1.066667</td>\n",
       "      <td>0.0</td>\n",
       "      <td>0.0</td>\n",
       "      <td>0.0</td>\n",
       "      <td>0.485075</td>\n",
       "      <td>0.0</td>\n",
       "      <td>-0.142857</td>\n",
       "      <td>0.5625</td>\n",
       "      <td>...</td>\n",
       "      <td>0.0</td>\n",
       "      <td>0.0</td>\n",
       "      <td>0.0</td>\n",
       "      <td>0.0</td>\n",
       "      <td>0.0</td>\n",
       "      <td>0.0</td>\n",
       "      <td>0.0</td>\n",
       "      <td>0.0</td>\n",
       "      <td>1.0</td>\n",
       "      <td>1.891892</td>\n",
       "    </tr>\n",
       "    <tr>\n",
       "      <th>26014</th>\n",
       "      <td>-0.875</td>\n",
       "      <td>0.0</td>\n",
       "      <td>0.066667</td>\n",
       "      <td>0.0</td>\n",
       "      <td>0.0</td>\n",
       "      <td>0.0</td>\n",
       "      <td>0.291045</td>\n",
       "      <td>0.0</td>\n",
       "      <td>-0.809524</td>\n",
       "      <td>0.1875</td>\n",
       "      <td>...</td>\n",
       "      <td>0.0</td>\n",
       "      <td>0.0</td>\n",
       "      <td>0.0</td>\n",
       "      <td>0.0</td>\n",
       "      <td>0.0</td>\n",
       "      <td>0.0</td>\n",
       "      <td>0.0</td>\n",
       "      <td>0.0</td>\n",
       "      <td>-0.5</td>\n",
       "      <td>-0.180180</td>\n",
       "    </tr>\n",
       "    <tr>\n",
       "      <th>...</th>\n",
       "      <td>...</td>\n",
       "      <td>...</td>\n",
       "      <td>...</td>\n",
       "      <td>...</td>\n",
       "      <td>...</td>\n",
       "      <td>...</td>\n",
       "      <td>...</td>\n",
       "      <td>...</td>\n",
       "      <td>...</td>\n",
       "      <td>...</td>\n",
       "      <td>...</td>\n",
       "      <td>...</td>\n",
       "      <td>...</td>\n",
       "      <td>...</td>\n",
       "      <td>...</td>\n",
       "      <td>...</td>\n",
       "      <td>...</td>\n",
       "      <td>...</td>\n",
       "      <td>...</td>\n",
       "      <td>...</td>\n",
       "      <td>...</td>\n",
       "    </tr>\n",
       "    <tr>\n",
       "      <th>19876</th>\n",
       "      <td>0.500</td>\n",
       "      <td>2.0</td>\n",
       "      <td>0.066667</td>\n",
       "      <td>0.0</td>\n",
       "      <td>0.0</td>\n",
       "      <td>1.0</td>\n",
       "      <td>0.074627</td>\n",
       "      <td>-1.0</td>\n",
       "      <td>0.190476</td>\n",
       "      <td>0.1250</td>\n",
       "      <td>...</td>\n",
       "      <td>0.0</td>\n",
       "      <td>0.0</td>\n",
       "      <td>0.0</td>\n",
       "      <td>0.0</td>\n",
       "      <td>0.0</td>\n",
       "      <td>0.0</td>\n",
       "      <td>0.0</td>\n",
       "      <td>0.0</td>\n",
       "      <td>-0.5</td>\n",
       "      <td>-0.180180</td>\n",
       "    </tr>\n",
       "    <tr>\n",
       "      <th>2177</th>\n",
       "      <td>-0.625</td>\n",
       "      <td>0.0</td>\n",
       "      <td>-0.866667</td>\n",
       "      <td>0.0</td>\n",
       "      <td>0.0</td>\n",
       "      <td>1.0</td>\n",
       "      <td>-0.261194</td>\n",
       "      <td>-1.0</td>\n",
       "      <td>0.761905</td>\n",
       "      <td>-0.3750</td>\n",
       "      <td>...</td>\n",
       "      <td>0.0</td>\n",
       "      <td>0.0</td>\n",
       "      <td>0.0</td>\n",
       "      <td>0.0</td>\n",
       "      <td>0.0</td>\n",
       "      <td>0.0</td>\n",
       "      <td>0.0</td>\n",
       "      <td>1.0</td>\n",
       "      <td>0.0</td>\n",
       "      <td>0.090090</td>\n",
       "    </tr>\n",
       "    <tr>\n",
       "      <th>64797</th>\n",
       "      <td>-0.625</td>\n",
       "      <td>0.0</td>\n",
       "      <td>-0.400000</td>\n",
       "      <td>0.0</td>\n",
       "      <td>0.0</td>\n",
       "      <td>0.0</td>\n",
       "      <td>-0.373134</td>\n",
       "      <td>0.0</td>\n",
       "      <td>0.904762</td>\n",
       "      <td>0.5625</td>\n",
       "      <td>...</td>\n",
       "      <td>0.0</td>\n",
       "      <td>0.0</td>\n",
       "      <td>0.0</td>\n",
       "      <td>0.0</td>\n",
       "      <td>0.0</td>\n",
       "      <td>0.0</td>\n",
       "      <td>1.0</td>\n",
       "      <td>2.0</td>\n",
       "      <td>-0.5</td>\n",
       "      <td>-0.360360</td>\n",
       "    </tr>\n",
       "    <tr>\n",
       "      <th>11749</th>\n",
       "      <td>-0.875</td>\n",
       "      <td>2.0</td>\n",
       "      <td>-1.066667</td>\n",
       "      <td>0.0</td>\n",
       "      <td>4.0</td>\n",
       "      <td>0.0</td>\n",
       "      <td>-0.417910</td>\n",
       "      <td>0.0</td>\n",
       "      <td>-0.857143</td>\n",
       "      <td>-0.1250</td>\n",
       "      <td>...</td>\n",
       "      <td>0.0</td>\n",
       "      <td>0.0</td>\n",
       "      <td>0.0</td>\n",
       "      <td>0.0</td>\n",
       "      <td>0.0</td>\n",
       "      <td>0.0</td>\n",
       "      <td>0.0</td>\n",
       "      <td>0.0</td>\n",
       "      <td>0.0</td>\n",
       "      <td>-0.450450</td>\n",
       "    </tr>\n",
       "    <tr>\n",
       "      <th>20962</th>\n",
       "      <td>0.375</td>\n",
       "      <td>0.0</td>\n",
       "      <td>0.066667</td>\n",
       "      <td>0.0</td>\n",
       "      <td>0.0</td>\n",
       "      <td>1.0</td>\n",
       "      <td>0.208955</td>\n",
       "      <td>-1.0</td>\n",
       "      <td>0.333333</td>\n",
       "      <td>-0.5625</td>\n",
       "      <td>...</td>\n",
       "      <td>0.0</td>\n",
       "      <td>0.0</td>\n",
       "      <td>0.0</td>\n",
       "      <td>0.0</td>\n",
       "      <td>0.0</td>\n",
       "      <td>58.0</td>\n",
       "      <td>0.0</td>\n",
       "      <td>0.0</td>\n",
       "      <td>0.5</td>\n",
       "      <td>0.900901</td>\n",
       "    </tr>\n",
       "  </tbody>\n",
       "</table>\n",
       "<p>48921 rows × 24 columns</p>\n",
       "</div>"
      ],
      "text/plain": [
       "       arrival_date_month  meal   country  distribution_channel  \\\n",
       "7918                0.125   0.0 -0.866667                   0.0   \n",
       "18641              -0.750   0.0 -1.200000                   0.0   \n",
       "31995               0.500   3.0 -0.466667                   0.0   \n",
       "30742              -0.250   2.0 -1.066667                   0.0   \n",
       "26014              -0.875   0.0  0.066667                   0.0   \n",
       "...                   ...   ...       ...                   ...   \n",
       "19876               0.500   2.0  0.066667                   0.0   \n",
       "2177               -0.625   0.0 -0.866667                   0.0   \n",
       "64797              -0.625   0.0 -0.400000                   0.0   \n",
       "11749              -0.875   2.0 -1.066667                   0.0   \n",
       "20962               0.375   0.0  0.066667                   0.0   \n",
       "\n",
       "       reserved_room_type  customer_type  lead_time  arrival_date_year  \\\n",
       "7918                  3.0            0.0   1.022388                0.0   \n",
       "18641                 0.0            0.0  -0.410448               -1.0   \n",
       "31995                 0.0            0.0   0.514925                0.0   \n",
       "30742                 0.0            0.0   0.485075                0.0   \n",
       "26014                 0.0            0.0   0.291045                0.0   \n",
       "...                   ...            ...        ...                ...   \n",
       "19876                 0.0            1.0   0.074627               -1.0   \n",
       "2177                  0.0            1.0  -0.261194               -1.0   \n",
       "64797                 0.0            0.0  -0.373134                0.0   \n",
       "11749                 4.0            0.0  -0.417910                0.0   \n",
       "20962                 0.0            1.0   0.208955               -1.0   \n",
       "\n",
       "       arrival_date_week_number  arrival_date_day_of_month  ...  babies  \\\n",
       "7918                  -0.619048                     0.0000  ...     0.0   \n",
       "18641                  0.095238                     0.9375  ...     0.0   \n",
       "31995                  0.095238                    -0.8125  ...     0.0   \n",
       "30742                 -0.142857                     0.5625  ...     0.0   \n",
       "26014                 -0.809524                     0.1875  ...     0.0   \n",
       "...                         ...                        ...  ...     ...   \n",
       "19876                  0.190476                     0.1250  ...     0.0   \n",
       "2177                   0.761905                    -0.3750  ...     0.0   \n",
       "64797                  0.904762                     0.5625  ...     0.0   \n",
       "11749                 -0.857143                    -0.1250  ...     0.0   \n",
       "20962                  0.333333                    -0.5625  ...     0.0   \n",
       "\n",
       "       is_repeated_guest  previous_cancellations  \\\n",
       "7918                 1.0                     0.0   \n",
       "18641                0.0                     0.0   \n",
       "31995                0.0                     0.0   \n",
       "30742                0.0                     0.0   \n",
       "26014                0.0                     0.0   \n",
       "...                  ...                     ...   \n",
       "19876                0.0                     0.0   \n",
       "2177                 0.0                     0.0   \n",
       "64797                0.0                     0.0   \n",
       "11749                0.0                     0.0   \n",
       "20962                0.0                     0.0   \n",
       "\n",
       "       previous_bookings_not_canceled  booking_changes  days_in_waiting_list  \\\n",
       "7918                              0.0              3.0                   0.0   \n",
       "18641                             0.0              0.0                   0.0   \n",
       "31995                             0.0              0.0                   0.0   \n",
       "30742                             0.0              0.0                   0.0   \n",
       "26014                             0.0              0.0                   0.0   \n",
       "...                               ...              ...                   ...   \n",
       "19876                             0.0              0.0                   0.0   \n",
       "2177                              0.0              0.0                   0.0   \n",
       "64797                             0.0              0.0                   0.0   \n",
       "11749                             0.0              0.0                   0.0   \n",
       "20962                             0.0              0.0                  58.0   \n",
       "\n",
       "       required_car_parking_spaces  total_of_special_requests  total_nights  \\\n",
       "7918                           0.0                        2.0           1.5   \n",
       "18641                          0.0                        2.0           1.0   \n",
       "31995                          0.0                        0.0           0.0   \n",
       "30742                          0.0                        0.0           1.0   \n",
       "26014                          0.0                        0.0          -0.5   \n",
       "...                            ...                        ...           ...   \n",
       "19876                          0.0                        0.0          -0.5   \n",
       "2177                           0.0                        1.0           0.0   \n",
       "64797                          1.0                        2.0          -0.5   \n",
       "11749                          0.0                        0.0           0.0   \n",
       "20962                          0.0                        0.0           0.5   \n",
       "\n",
       "          price  \n",
       "7918   0.522523  \n",
       "18641  1.891892  \n",
       "31995  0.360360  \n",
       "30742  1.891892  \n",
       "26014 -0.180180  \n",
       "...         ...  \n",
       "19876 -0.180180  \n",
       "2177   0.090090  \n",
       "64797 -0.360360  \n",
       "11749 -0.450450  \n",
       "20962  0.900901  \n",
       "\n",
       "[48921 rows x 24 columns]"
      ]
     },
     "execution_count": 92,
     "metadata": {},
     "output_type": "execute_result"
    }
   ],
   "source": [
    "scaler_1 = RobustScaler()\n",
    "features_train[numeric] = scaler_1.fit_transform(features_train[numeric])\n",
    "features_train"
   ]
  },
  {
   "cell_type": "code",
   "execution_count": 93,
   "metadata": {},
   "outputs": [
    {
     "data": {
      "text/plain": [
       "24"
      ]
     },
     "execution_count": 93,
     "metadata": {},
     "output_type": "execute_result"
    }
   ],
   "source": [
    "len(numeric)"
   ]
  },
  {
   "cell_type": "markdown",
   "metadata": {},
   "source": [
    "Трансформируем   валидатационную  выборку с  помощью  кодировщика  и  скейлера, \n",
    "обученных на тренировочных данных. "
   ]
  },
  {
   "cell_type": "code",
   "execution_count": 94,
   "metadata": {},
   "outputs": [
    {
     "data": {
      "text/html": [
       "<div>\n",
       "<style scoped>\n",
       "    .dataframe tbody tr th:only-of-type {\n",
       "        vertical-align: middle;\n",
       "    }\n",
       "\n",
       "    .dataframe tbody tr th {\n",
       "        vertical-align: top;\n",
       "    }\n",
       "\n",
       "    .dataframe thead th {\n",
       "        text-align: right;\n",
       "    }\n",
       "</style>\n",
       "<table border=\"1\" class=\"dataframe\">\n",
       "  <thead>\n",
       "    <tr style=\"text-align: right;\">\n",
       "      <th></th>\n",
       "      <th>arrival_date_month</th>\n",
       "      <th>meal</th>\n",
       "      <th>country</th>\n",
       "      <th>distribution_channel</th>\n",
       "      <th>reserved_room_type</th>\n",
       "      <th>customer_type</th>\n",
       "      <th>lead_time</th>\n",
       "      <th>arrival_date_year</th>\n",
       "      <th>arrival_date_week_number</th>\n",
       "      <th>arrival_date_day_of_month</th>\n",
       "      <th>...</th>\n",
       "      <th>babies</th>\n",
       "      <th>is_repeated_guest</th>\n",
       "      <th>previous_cancellations</th>\n",
       "      <th>previous_bookings_not_canceled</th>\n",
       "      <th>booking_changes</th>\n",
       "      <th>days_in_waiting_list</th>\n",
       "      <th>required_car_parking_spaces</th>\n",
       "      <th>total_of_special_requests</th>\n",
       "      <th>total_nights</th>\n",
       "      <th>price</th>\n",
       "    </tr>\n",
       "  </thead>\n",
       "  <tbody>\n",
       "    <tr>\n",
       "      <th>39312</th>\n",
       "      <td>0.625</td>\n",
       "      <td>2.0</td>\n",
       "      <td>0.000000</td>\n",
       "      <td>0.0</td>\n",
       "      <td>0.0</td>\n",
       "      <td>1.0</td>\n",
       "      <td>1.251852</td>\n",
       "      <td>-1.0</td>\n",
       "      <td>0.190476</td>\n",
       "      <td>0.133333</td>\n",
       "      <td>...</td>\n",
       "      <td>0.0</td>\n",
       "      <td>0.0</td>\n",
       "      <td>1.0</td>\n",
       "      <td>0.0</td>\n",
       "      <td>0.0</td>\n",
       "      <td>0.0</td>\n",
       "      <td>0.0</td>\n",
       "      <td>0.0</td>\n",
       "      <td>-1.0</td>\n",
       "      <td>-0.720721</td>\n",
       "    </tr>\n",
       "    <tr>\n",
       "      <th>28558</th>\n",
       "      <td>0.000</td>\n",
       "      <td>0.0</td>\n",
       "      <td>-1.600000</td>\n",
       "      <td>0.0</td>\n",
       "      <td>3.0</td>\n",
       "      <td>0.0</td>\n",
       "      <td>-0.474074</td>\n",
       "      <td>0.0</td>\n",
       "      <td>-0.476190</td>\n",
       "      <td>-0.600000</td>\n",
       "      <td>...</td>\n",
       "      <td>0.0</td>\n",
       "      <td>0.0</td>\n",
       "      <td>0.0</td>\n",
       "      <td>0.0</td>\n",
       "      <td>0.0</td>\n",
       "      <td>0.0</td>\n",
       "      <td>0.0</td>\n",
       "      <td>0.0</td>\n",
       "      <td>-1.0</td>\n",
       "      <td>-0.914414</td>\n",
       "    </tr>\n",
       "    <tr>\n",
       "      <th>17935</th>\n",
       "      <td>-0.625</td>\n",
       "      <td>2.0</td>\n",
       "      <td>-0.533333</td>\n",
       "      <td>0.0</td>\n",
       "      <td>0.0</td>\n",
       "      <td>1.0</td>\n",
       "      <td>0.496296</td>\n",
       "      <td>-1.0</td>\n",
       "      <td>-0.047619</td>\n",
       "      <td>-0.066667</td>\n",
       "      <td>...</td>\n",
       "      <td>0.0</td>\n",
       "      <td>0.0</td>\n",
       "      <td>0.0</td>\n",
       "      <td>0.0</td>\n",
       "      <td>0.0</td>\n",
       "      <td>0.0</td>\n",
       "      <td>0.0</td>\n",
       "      <td>0.0</td>\n",
       "      <td>0.0</td>\n",
       "      <td>0.630631</td>\n",
       "    </tr>\n",
       "    <tr>\n",
       "      <th>17697</th>\n",
       "      <td>-0.625</td>\n",
       "      <td>0.0</td>\n",
       "      <td>-1.533333</td>\n",
       "      <td>0.0</td>\n",
       "      <td>0.0</td>\n",
       "      <td>0.0</td>\n",
       "      <td>-0.355556</td>\n",
       "      <td>-1.0</td>\n",
       "      <td>-0.047619</td>\n",
       "      <td>-0.200000</td>\n",
       "      <td>...</td>\n",
       "      <td>0.0</td>\n",
       "      <td>0.0</td>\n",
       "      <td>0.0</td>\n",
       "      <td>0.0</td>\n",
       "      <td>0.0</td>\n",
       "      <td>0.0</td>\n",
       "      <td>0.0</td>\n",
       "      <td>0.0</td>\n",
       "      <td>1.0</td>\n",
       "      <td>1.891892</td>\n",
       "    </tr>\n",
       "    <tr>\n",
       "      <th>24642</th>\n",
       "      <td>0.125</td>\n",
       "      <td>0.0</td>\n",
       "      <td>0.000000</td>\n",
       "      <td>0.0</td>\n",
       "      <td>0.0</td>\n",
       "      <td>0.0</td>\n",
       "      <td>1.385185</td>\n",
       "      <td>0.0</td>\n",
       "      <td>-1.000000</td>\n",
       "      <td>0.400000</td>\n",
       "      <td>...</td>\n",
       "      <td>0.0</td>\n",
       "      <td>0.0</td>\n",
       "      <td>0.0</td>\n",
       "      <td>0.0</td>\n",
       "      <td>0.0</td>\n",
       "      <td>93.0</td>\n",
       "      <td>0.0</td>\n",
       "      <td>0.0</td>\n",
       "      <td>0.0</td>\n",
       "      <td>0.360360</td>\n",
       "    </tr>\n",
       "    <tr>\n",
       "      <th>...</th>\n",
       "      <td>...</td>\n",
       "      <td>...</td>\n",
       "      <td>...</td>\n",
       "      <td>...</td>\n",
       "      <td>...</td>\n",
       "      <td>...</td>\n",
       "      <td>...</td>\n",
       "      <td>...</td>\n",
       "      <td>...</td>\n",
       "      <td>...</td>\n",
       "      <td>...</td>\n",
       "      <td>...</td>\n",
       "      <td>...</td>\n",
       "      <td>...</td>\n",
       "      <td>...</td>\n",
       "      <td>...</td>\n",
       "      <td>...</td>\n",
       "      <td>...</td>\n",
       "      <td>...</td>\n",
       "      <td>...</td>\n",
       "      <td>...</td>\n",
       "    </tr>\n",
       "    <tr>\n",
       "      <th>55765</th>\n",
       "      <td>-0.125</td>\n",
       "      <td>0.0</td>\n",
       "      <td>-0.666667</td>\n",
       "      <td>0.0</td>\n",
       "      <td>0.0</td>\n",
       "      <td>0.0</td>\n",
       "      <td>0.711111</td>\n",
       "      <td>0.0</td>\n",
       "      <td>-0.190476</td>\n",
       "      <td>0.133333</td>\n",
       "      <td>...</td>\n",
       "      <td>0.0</td>\n",
       "      <td>0.0</td>\n",
       "      <td>0.0</td>\n",
       "      <td>0.0</td>\n",
       "      <td>1.0</td>\n",
       "      <td>0.0</td>\n",
       "      <td>0.0</td>\n",
       "      <td>1.0</td>\n",
       "      <td>3.0</td>\n",
       "      <td>4.414414</td>\n",
       "    </tr>\n",
       "    <tr>\n",
       "      <th>47018</th>\n",
       "      <td>-0.375</td>\n",
       "      <td>0.0</td>\n",
       "      <td>-0.933333</td>\n",
       "      <td>0.0</td>\n",
       "      <td>0.0</td>\n",
       "      <td>1.0</td>\n",
       "      <td>-0.466667</td>\n",
       "      <td>0.0</td>\n",
       "      <td>-1.190476</td>\n",
       "      <td>0.733333</td>\n",
       "      <td>...</td>\n",
       "      <td>0.0</td>\n",
       "      <td>0.0</td>\n",
       "      <td>0.0</td>\n",
       "      <td>0.0</td>\n",
       "      <td>0.0</td>\n",
       "      <td>0.0</td>\n",
       "      <td>0.0</td>\n",
       "      <td>1.0</td>\n",
       "      <td>-1.0</td>\n",
       "      <td>-0.810811</td>\n",
       "    </tr>\n",
       "    <tr>\n",
       "      <th>33600</th>\n",
       "      <td>0.500</td>\n",
       "      <td>0.0</td>\n",
       "      <td>0.000000</td>\n",
       "      <td>0.0</td>\n",
       "      <td>0.0</td>\n",
       "      <td>1.0</td>\n",
       "      <td>0.088889</td>\n",
       "      <td>0.0</td>\n",
       "      <td>0.380952</td>\n",
       "      <td>-0.400000</td>\n",
       "      <td>...</td>\n",
       "      <td>0.0</td>\n",
       "      <td>0.0</td>\n",
       "      <td>0.0</td>\n",
       "      <td>0.0</td>\n",
       "      <td>0.0</td>\n",
       "      <td>0.0</td>\n",
       "      <td>0.0</td>\n",
       "      <td>0.0</td>\n",
       "      <td>-1.0</td>\n",
       "      <td>-0.720721</td>\n",
       "    </tr>\n",
       "    <tr>\n",
       "      <th>50966</th>\n",
       "      <td>0.250</td>\n",
       "      <td>0.0</td>\n",
       "      <td>-1.266667</td>\n",
       "      <td>0.0</td>\n",
       "      <td>0.0</td>\n",
       "      <td>0.0</td>\n",
       "      <td>0.296296</td>\n",
       "      <td>0.0</td>\n",
       "      <td>-0.714286</td>\n",
       "      <td>-0.733333</td>\n",
       "      <td>...</td>\n",
       "      <td>0.0</td>\n",
       "      <td>0.0</td>\n",
       "      <td>0.0</td>\n",
       "      <td>0.0</td>\n",
       "      <td>0.0</td>\n",
       "      <td>0.0</td>\n",
       "      <td>0.0</td>\n",
       "      <td>0.0</td>\n",
       "      <td>1.0</td>\n",
       "      <td>1.441441</td>\n",
       "    </tr>\n",
       "    <tr>\n",
       "      <th>26554</th>\n",
       "      <td>-0.750</td>\n",
       "      <td>2.0</td>\n",
       "      <td>-0.533333</td>\n",
       "      <td>0.0</td>\n",
       "      <td>0.0</td>\n",
       "      <td>0.0</td>\n",
       "      <td>-0.074074</td>\n",
       "      <td>0.0</td>\n",
       "      <td>-0.761905</td>\n",
       "      <td>0.800000</td>\n",
       "      <td>...</td>\n",
       "      <td>0.0</td>\n",
       "      <td>0.0</td>\n",
       "      <td>0.0</td>\n",
       "      <td>0.0</td>\n",
       "      <td>0.0</td>\n",
       "      <td>0.0</td>\n",
       "      <td>0.0</td>\n",
       "      <td>0.0</td>\n",
       "      <td>0.5</td>\n",
       "      <td>0.900901</td>\n",
       "    </tr>\n",
       "  </tbody>\n",
       "</table>\n",
       "<p>16308 rows × 24 columns</p>\n",
       "</div>"
      ],
      "text/plain": [
       "       arrival_date_month  meal   country  distribution_channel  \\\n",
       "39312               0.625   2.0  0.000000                   0.0   \n",
       "28558               0.000   0.0 -1.600000                   0.0   \n",
       "17935              -0.625   2.0 -0.533333                   0.0   \n",
       "17697              -0.625   0.0 -1.533333                   0.0   \n",
       "24642               0.125   0.0  0.000000                   0.0   \n",
       "...                   ...   ...       ...                   ...   \n",
       "55765              -0.125   0.0 -0.666667                   0.0   \n",
       "47018              -0.375   0.0 -0.933333                   0.0   \n",
       "33600               0.500   0.0  0.000000                   0.0   \n",
       "50966               0.250   0.0 -1.266667                   0.0   \n",
       "26554              -0.750   2.0 -0.533333                   0.0   \n",
       "\n",
       "       reserved_room_type  customer_type  lead_time  arrival_date_year  \\\n",
       "39312                 0.0            1.0   1.251852               -1.0   \n",
       "28558                 3.0            0.0  -0.474074                0.0   \n",
       "17935                 0.0            1.0   0.496296               -1.0   \n",
       "17697                 0.0            0.0  -0.355556               -1.0   \n",
       "24642                 0.0            0.0   1.385185                0.0   \n",
       "...                   ...            ...        ...                ...   \n",
       "55765                 0.0            0.0   0.711111                0.0   \n",
       "47018                 0.0            1.0  -0.466667                0.0   \n",
       "33600                 0.0            1.0   0.088889                0.0   \n",
       "50966                 0.0            0.0   0.296296                0.0   \n",
       "26554                 0.0            0.0  -0.074074                0.0   \n",
       "\n",
       "       arrival_date_week_number  arrival_date_day_of_month  ...  babies  \\\n",
       "39312                  0.190476                   0.133333  ...     0.0   \n",
       "28558                 -0.476190                  -0.600000  ...     0.0   \n",
       "17935                 -0.047619                  -0.066667  ...     0.0   \n",
       "17697                 -0.047619                  -0.200000  ...     0.0   \n",
       "24642                 -1.000000                   0.400000  ...     0.0   \n",
       "...                         ...                        ...  ...     ...   \n",
       "55765                 -0.190476                   0.133333  ...     0.0   \n",
       "47018                 -1.190476                   0.733333  ...     0.0   \n",
       "33600                  0.380952                  -0.400000  ...     0.0   \n",
       "50966                 -0.714286                  -0.733333  ...     0.0   \n",
       "26554                 -0.761905                   0.800000  ...     0.0   \n",
       "\n",
       "       is_repeated_guest  previous_cancellations  \\\n",
       "39312                0.0                     1.0   \n",
       "28558                0.0                     0.0   \n",
       "17935                0.0                     0.0   \n",
       "17697                0.0                     0.0   \n",
       "24642                0.0                     0.0   \n",
       "...                  ...                     ...   \n",
       "55765                0.0                     0.0   \n",
       "47018                0.0                     0.0   \n",
       "33600                0.0                     0.0   \n",
       "50966                0.0                     0.0   \n",
       "26554                0.0                     0.0   \n",
       "\n",
       "       previous_bookings_not_canceled  booking_changes  days_in_waiting_list  \\\n",
       "39312                             0.0              0.0                   0.0   \n",
       "28558                             0.0              0.0                   0.0   \n",
       "17935                             0.0              0.0                   0.0   \n",
       "17697                             0.0              0.0                   0.0   \n",
       "24642                             0.0              0.0                  93.0   \n",
       "...                               ...              ...                   ...   \n",
       "55765                             0.0              1.0                   0.0   \n",
       "47018                             0.0              0.0                   0.0   \n",
       "33600                             0.0              0.0                   0.0   \n",
       "50966                             0.0              0.0                   0.0   \n",
       "26554                             0.0              0.0                   0.0   \n",
       "\n",
       "       required_car_parking_spaces  total_of_special_requests  total_nights  \\\n",
       "39312                          0.0                        0.0          -1.0   \n",
       "28558                          0.0                        0.0          -1.0   \n",
       "17935                          0.0                        0.0           0.0   \n",
       "17697                          0.0                        0.0           1.0   \n",
       "24642                          0.0                        0.0           0.0   \n",
       "...                            ...                        ...           ...   \n",
       "55765                          0.0                        1.0           3.0   \n",
       "47018                          0.0                        1.0          -1.0   \n",
       "33600                          0.0                        0.0          -1.0   \n",
       "50966                          0.0                        0.0           1.0   \n",
       "26554                          0.0                        0.0           0.5   \n",
       "\n",
       "          price  \n",
       "39312 -0.720721  \n",
       "28558 -0.914414  \n",
       "17935  0.630631  \n",
       "17697  1.891892  \n",
       "24642  0.360360  \n",
       "...         ...  \n",
       "55765  4.414414  \n",
       "47018 -0.810811  \n",
       "33600 -0.720721  \n",
       "50966  1.441441  \n",
       "26554  0.900901  \n",
       "\n",
       "[16308 rows x 24 columns]"
      ]
     },
     "execution_count": 94,
     "metadata": {},
     "output_type": "execute_result"
    }
   ],
   "source": [
    "d1_enc_valid = features_valid[['arrival_date_month', 'meal', 'country', 'distribution_channel',\\\n",
    "                'reserved_room_type', 'customer_type']]\n",
    "#encoder.fit(d1_enc_valid)\n",
    "data_ordinal_1_valid = encoder.transform(d1_enc_valid)\n",
    "data_ordinal_1_valid = pd.DataFrame(encoder.transform(d1_enc_valid), columns=d1_enc_valid.columns, index = d1_enc_valid.index)\n",
    "\n",
    "d1_qt_valid = features_valid.drop(['arrival_date_month', 'meal', 'distribution_channel',\\\n",
    "                'reserved_room_type', 'customer_type', 'country'], axis = 1)\n",
    "\n",
    "features_valid = data_ordinal_1_valid.join(d1_qt_valid, how='left')\n",
    "\n",
    "features_valid[numeric] = scaler_1.fit_transform(features_valid[numeric])\n",
    "\n",
    "\n",
    "features_valid"
   ]
  },
  {
   "cell_type": "markdown",
   "metadata": {},
   "source": [
    "Приступим к обучению разных моделей."
   ]
  },
  {
   "cell_type": "markdown",
   "metadata": {},
   "source": [
    "<div class=\"alert alert-success\">\n",
    "<h2> Комментарий ревьюера №2<a class=\"tocSkip\"> </h2>\n",
    "\n",
    "<b>Все отлично!👍</b> "
   ]
  },
  {
   "cell_type": "markdown",
   "metadata": {},
   "source": [
    "<div class=\"alert alert-block alert-danger\">\n",
    "<h2> Комментарий ревьюера <a class=\"tocSkip\"></h2>\n",
    "\n",
    "    \n",
    "<b>На доработку🤔:</b>\n",
    "    \n",
    "Выделение валидационной выборки стоит проводить до препроцессинга данных. И тогда обработка валидационной выборки должна быть аналогична обработке тестовой выборке, то есть кодировщик и скейлер не должны обучаться на тестовых и валидационных данных, эти данные должны быть трансформирована с помощью кодировщика и скейлера, обученных на тренировочных данных."
   ]
  },
  {
   "cell_type": "markdown",
   "metadata": {},
   "source": [
    "Обучим модель дерево решений и найдем наилучшию глубину."
   ]
  },
  {
   "cell_type": "markdown",
   "metadata": {},
   "source": [
    "Так как для бизнеса важна точность предсказания, необходимо использовать precision_score.\n",
    "Если модель будет предсказывать  много положительных ответов,   которые  не  являються на \n",
    "самом  деле  положительными, то это отпугнет  клиентов.  Модель  должна  как можно точнее \n",
    "определить откажется ли клиент от брони."
   ]
  },
  {
   "cell_type": "markdown",
   "metadata": {},
   "source": [
    "<div class=\"alert alert-success\">\n",
    "<h2> Комментарий ревьюера <a class=\"tocSkip\"> </h2>\n",
    "\n",
    "<b>Все отлично!👍:</b> \n",
    "    \n",
    "Отлично, что есть обоснование выбора метрики."
   ]
  },
  {
   "cell_type": "markdown",
   "metadata": {},
   "source": [
    "<div class=\"alert alert-block alert-danger\">\n",
    "<h2> Комментарий ревьюера <a class=\"tocSkip\"></h2>\n",
    "\n",
    "    \n",
    "<b>На доработку🤔:</b>\n",
    "    \n",
    "Также стоит оценить сбалансированность классов в целевом признаке."
   ]
  },
  {
   "cell_type": "markdown",
   "metadata": {},
   "source": [
    "Так как баланс класса не примерно 1:1 то ипользуем гиперпараметр class_weight='balanced'."
   ]
  },
  {
   "cell_type": "code",
   "execution_count": 95,
   "metadata": {},
   "outputs": [
    {
     "data": {
      "text/html": [
       "<div>\n",
       "<style scoped>\n",
       "    .dataframe tbody tr th:only-of-type {\n",
       "        vertical-align: middle;\n",
       "    }\n",
       "\n",
       "    .dataframe tbody tr th {\n",
       "        vertical-align: top;\n",
       "    }\n",
       "\n",
       "    .dataframe thead th {\n",
       "        text-align: right;\n",
       "    }\n",
       "</style>\n",
       "<table border=\"1\" class=\"dataframe\">\n",
       "  <thead>\n",
       "    <tr style=\"text-align: right;\">\n",
       "      <th></th>\n",
       "      <th>arrival_date_month</th>\n",
       "      <th>meal</th>\n",
       "      <th>country</th>\n",
       "      <th>distribution_channel</th>\n",
       "      <th>reserved_room_type</th>\n",
       "      <th>customer_type</th>\n",
       "      <th>lead_time</th>\n",
       "      <th>arrival_date_year</th>\n",
       "      <th>arrival_date_week_number</th>\n",
       "      <th>arrival_date_day_of_month</th>\n",
       "      <th>...</th>\n",
       "      <th>babies</th>\n",
       "      <th>is_repeated_guest</th>\n",
       "      <th>previous_cancellations</th>\n",
       "      <th>previous_bookings_not_canceled</th>\n",
       "      <th>booking_changes</th>\n",
       "      <th>days_in_waiting_list</th>\n",
       "      <th>required_car_parking_spaces</th>\n",
       "      <th>total_of_special_requests</th>\n",
       "      <th>total_nights</th>\n",
       "      <th>price</th>\n",
       "    </tr>\n",
       "  </thead>\n",
       "  <tbody>\n",
       "    <tr>\n",
       "      <th>7918</th>\n",
       "      <td>0.125</td>\n",
       "      <td>0.0</td>\n",
       "      <td>-0.866667</td>\n",
       "      <td>0.0</td>\n",
       "      <td>3.0</td>\n",
       "      <td>0.0</td>\n",
       "      <td>1.022388</td>\n",
       "      <td>0.0</td>\n",
       "      <td>-0.619048</td>\n",
       "      <td>0.0000</td>\n",
       "      <td>...</td>\n",
       "      <td>0.0</td>\n",
       "      <td>1.0</td>\n",
       "      <td>0.0</td>\n",
       "      <td>0.0</td>\n",
       "      <td>3.0</td>\n",
       "      <td>0.0</td>\n",
       "      <td>0.0</td>\n",
       "      <td>2.0</td>\n",
       "      <td>1.5</td>\n",
       "      <td>0.522523</td>\n",
       "    </tr>\n",
       "    <tr>\n",
       "      <th>18641</th>\n",
       "      <td>-0.750</td>\n",
       "      <td>0.0</td>\n",
       "      <td>-1.200000</td>\n",
       "      <td>0.0</td>\n",
       "      <td>0.0</td>\n",
       "      <td>0.0</td>\n",
       "      <td>-0.410448</td>\n",
       "      <td>-1.0</td>\n",
       "      <td>0.095238</td>\n",
       "      <td>0.9375</td>\n",
       "      <td>...</td>\n",
       "      <td>0.0</td>\n",
       "      <td>0.0</td>\n",
       "      <td>0.0</td>\n",
       "      <td>0.0</td>\n",
       "      <td>0.0</td>\n",
       "      <td>0.0</td>\n",
       "      <td>0.0</td>\n",
       "      <td>2.0</td>\n",
       "      <td>1.0</td>\n",
       "      <td>1.891892</td>\n",
       "    </tr>\n",
       "    <tr>\n",
       "      <th>31995</th>\n",
       "      <td>0.500</td>\n",
       "      <td>3.0</td>\n",
       "      <td>-0.466667</td>\n",
       "      <td>0.0</td>\n",
       "      <td>0.0</td>\n",
       "      <td>0.0</td>\n",
       "      <td>0.514925</td>\n",
       "      <td>0.0</td>\n",
       "      <td>0.095238</td>\n",
       "      <td>-0.8125</td>\n",
       "      <td>...</td>\n",
       "      <td>0.0</td>\n",
       "      <td>0.0</td>\n",
       "      <td>0.0</td>\n",
       "      <td>0.0</td>\n",
       "      <td>0.0</td>\n",
       "      <td>0.0</td>\n",
       "      <td>0.0</td>\n",
       "      <td>0.0</td>\n",
       "      <td>0.0</td>\n",
       "      <td>0.360360</td>\n",
       "    </tr>\n",
       "    <tr>\n",
       "      <th>30742</th>\n",
       "      <td>-0.250</td>\n",
       "      <td>2.0</td>\n",
       "      <td>-1.066667</td>\n",
       "      <td>0.0</td>\n",
       "      <td>0.0</td>\n",
       "      <td>0.0</td>\n",
       "      <td>0.485075</td>\n",
       "      <td>0.0</td>\n",
       "      <td>-0.142857</td>\n",
       "      <td>0.5625</td>\n",
       "      <td>...</td>\n",
       "      <td>0.0</td>\n",
       "      <td>0.0</td>\n",
       "      <td>0.0</td>\n",
       "      <td>0.0</td>\n",
       "      <td>0.0</td>\n",
       "      <td>0.0</td>\n",
       "      <td>0.0</td>\n",
       "      <td>0.0</td>\n",
       "      <td>1.0</td>\n",
       "      <td>1.891892</td>\n",
       "    </tr>\n",
       "    <tr>\n",
       "      <th>26014</th>\n",
       "      <td>-0.875</td>\n",
       "      <td>0.0</td>\n",
       "      <td>0.066667</td>\n",
       "      <td>0.0</td>\n",
       "      <td>0.0</td>\n",
       "      <td>0.0</td>\n",
       "      <td>0.291045</td>\n",
       "      <td>0.0</td>\n",
       "      <td>-0.809524</td>\n",
       "      <td>0.1875</td>\n",
       "      <td>...</td>\n",
       "      <td>0.0</td>\n",
       "      <td>0.0</td>\n",
       "      <td>0.0</td>\n",
       "      <td>0.0</td>\n",
       "      <td>0.0</td>\n",
       "      <td>0.0</td>\n",
       "      <td>0.0</td>\n",
       "      <td>0.0</td>\n",
       "      <td>-0.5</td>\n",
       "      <td>-0.180180</td>\n",
       "    </tr>\n",
       "    <tr>\n",
       "      <th>...</th>\n",
       "      <td>...</td>\n",
       "      <td>...</td>\n",
       "      <td>...</td>\n",
       "      <td>...</td>\n",
       "      <td>...</td>\n",
       "      <td>...</td>\n",
       "      <td>...</td>\n",
       "      <td>...</td>\n",
       "      <td>...</td>\n",
       "      <td>...</td>\n",
       "      <td>...</td>\n",
       "      <td>...</td>\n",
       "      <td>...</td>\n",
       "      <td>...</td>\n",
       "      <td>...</td>\n",
       "      <td>...</td>\n",
       "      <td>...</td>\n",
       "      <td>...</td>\n",
       "      <td>...</td>\n",
       "      <td>...</td>\n",
       "      <td>...</td>\n",
       "    </tr>\n",
       "    <tr>\n",
       "      <th>19876</th>\n",
       "      <td>0.500</td>\n",
       "      <td>2.0</td>\n",
       "      <td>0.066667</td>\n",
       "      <td>0.0</td>\n",
       "      <td>0.0</td>\n",
       "      <td>1.0</td>\n",
       "      <td>0.074627</td>\n",
       "      <td>-1.0</td>\n",
       "      <td>0.190476</td>\n",
       "      <td>0.1250</td>\n",
       "      <td>...</td>\n",
       "      <td>0.0</td>\n",
       "      <td>0.0</td>\n",
       "      <td>0.0</td>\n",
       "      <td>0.0</td>\n",
       "      <td>0.0</td>\n",
       "      <td>0.0</td>\n",
       "      <td>0.0</td>\n",
       "      <td>0.0</td>\n",
       "      <td>-0.5</td>\n",
       "      <td>-0.180180</td>\n",
       "    </tr>\n",
       "    <tr>\n",
       "      <th>2177</th>\n",
       "      <td>-0.625</td>\n",
       "      <td>0.0</td>\n",
       "      <td>-0.866667</td>\n",
       "      <td>0.0</td>\n",
       "      <td>0.0</td>\n",
       "      <td>1.0</td>\n",
       "      <td>-0.261194</td>\n",
       "      <td>-1.0</td>\n",
       "      <td>0.761905</td>\n",
       "      <td>-0.3750</td>\n",
       "      <td>...</td>\n",
       "      <td>0.0</td>\n",
       "      <td>0.0</td>\n",
       "      <td>0.0</td>\n",
       "      <td>0.0</td>\n",
       "      <td>0.0</td>\n",
       "      <td>0.0</td>\n",
       "      <td>0.0</td>\n",
       "      <td>1.0</td>\n",
       "      <td>0.0</td>\n",
       "      <td>0.090090</td>\n",
       "    </tr>\n",
       "    <tr>\n",
       "      <th>64797</th>\n",
       "      <td>-0.625</td>\n",
       "      <td>0.0</td>\n",
       "      <td>-0.400000</td>\n",
       "      <td>0.0</td>\n",
       "      <td>0.0</td>\n",
       "      <td>0.0</td>\n",
       "      <td>-0.373134</td>\n",
       "      <td>0.0</td>\n",
       "      <td>0.904762</td>\n",
       "      <td>0.5625</td>\n",
       "      <td>...</td>\n",
       "      <td>0.0</td>\n",
       "      <td>0.0</td>\n",
       "      <td>0.0</td>\n",
       "      <td>0.0</td>\n",
       "      <td>0.0</td>\n",
       "      <td>0.0</td>\n",
       "      <td>1.0</td>\n",
       "      <td>2.0</td>\n",
       "      <td>-0.5</td>\n",
       "      <td>-0.360360</td>\n",
       "    </tr>\n",
       "    <tr>\n",
       "      <th>11749</th>\n",
       "      <td>-0.875</td>\n",
       "      <td>2.0</td>\n",
       "      <td>-1.066667</td>\n",
       "      <td>0.0</td>\n",
       "      <td>4.0</td>\n",
       "      <td>0.0</td>\n",
       "      <td>-0.417910</td>\n",
       "      <td>0.0</td>\n",
       "      <td>-0.857143</td>\n",
       "      <td>-0.1250</td>\n",
       "      <td>...</td>\n",
       "      <td>0.0</td>\n",
       "      <td>0.0</td>\n",
       "      <td>0.0</td>\n",
       "      <td>0.0</td>\n",
       "      <td>0.0</td>\n",
       "      <td>0.0</td>\n",
       "      <td>0.0</td>\n",
       "      <td>0.0</td>\n",
       "      <td>0.0</td>\n",
       "      <td>-0.450450</td>\n",
       "    </tr>\n",
       "    <tr>\n",
       "      <th>20962</th>\n",
       "      <td>0.375</td>\n",
       "      <td>0.0</td>\n",
       "      <td>0.066667</td>\n",
       "      <td>0.0</td>\n",
       "      <td>0.0</td>\n",
       "      <td>1.0</td>\n",
       "      <td>0.208955</td>\n",
       "      <td>-1.0</td>\n",
       "      <td>0.333333</td>\n",
       "      <td>-0.5625</td>\n",
       "      <td>...</td>\n",
       "      <td>0.0</td>\n",
       "      <td>0.0</td>\n",
       "      <td>0.0</td>\n",
       "      <td>0.0</td>\n",
       "      <td>0.0</td>\n",
       "      <td>58.0</td>\n",
       "      <td>0.0</td>\n",
       "      <td>0.0</td>\n",
       "      <td>0.5</td>\n",
       "      <td>0.900901</td>\n",
       "    </tr>\n",
       "  </tbody>\n",
       "</table>\n",
       "<p>48921 rows × 24 columns</p>\n",
       "</div>"
      ],
      "text/plain": [
       "       arrival_date_month  meal   country  distribution_channel  \\\n",
       "7918                0.125   0.0 -0.866667                   0.0   \n",
       "18641              -0.750   0.0 -1.200000                   0.0   \n",
       "31995               0.500   3.0 -0.466667                   0.0   \n",
       "30742              -0.250   2.0 -1.066667                   0.0   \n",
       "26014              -0.875   0.0  0.066667                   0.0   \n",
       "...                   ...   ...       ...                   ...   \n",
       "19876               0.500   2.0  0.066667                   0.0   \n",
       "2177               -0.625   0.0 -0.866667                   0.0   \n",
       "64797              -0.625   0.0 -0.400000                   0.0   \n",
       "11749              -0.875   2.0 -1.066667                   0.0   \n",
       "20962               0.375   0.0  0.066667                   0.0   \n",
       "\n",
       "       reserved_room_type  customer_type  lead_time  arrival_date_year  \\\n",
       "7918                  3.0            0.0   1.022388                0.0   \n",
       "18641                 0.0            0.0  -0.410448               -1.0   \n",
       "31995                 0.0            0.0   0.514925                0.0   \n",
       "30742                 0.0            0.0   0.485075                0.0   \n",
       "26014                 0.0            0.0   0.291045                0.0   \n",
       "...                   ...            ...        ...                ...   \n",
       "19876                 0.0            1.0   0.074627               -1.0   \n",
       "2177                  0.0            1.0  -0.261194               -1.0   \n",
       "64797                 0.0            0.0  -0.373134                0.0   \n",
       "11749                 4.0            0.0  -0.417910                0.0   \n",
       "20962                 0.0            1.0   0.208955               -1.0   \n",
       "\n",
       "       arrival_date_week_number  arrival_date_day_of_month  ...  babies  \\\n",
       "7918                  -0.619048                     0.0000  ...     0.0   \n",
       "18641                  0.095238                     0.9375  ...     0.0   \n",
       "31995                  0.095238                    -0.8125  ...     0.0   \n",
       "30742                 -0.142857                     0.5625  ...     0.0   \n",
       "26014                 -0.809524                     0.1875  ...     0.0   \n",
       "...                         ...                        ...  ...     ...   \n",
       "19876                  0.190476                     0.1250  ...     0.0   \n",
       "2177                   0.761905                    -0.3750  ...     0.0   \n",
       "64797                  0.904762                     0.5625  ...     0.0   \n",
       "11749                 -0.857143                    -0.1250  ...     0.0   \n",
       "20962                  0.333333                    -0.5625  ...     0.0   \n",
       "\n",
       "       is_repeated_guest  previous_cancellations  \\\n",
       "7918                 1.0                     0.0   \n",
       "18641                0.0                     0.0   \n",
       "31995                0.0                     0.0   \n",
       "30742                0.0                     0.0   \n",
       "26014                0.0                     0.0   \n",
       "...                  ...                     ...   \n",
       "19876                0.0                     0.0   \n",
       "2177                 0.0                     0.0   \n",
       "64797                0.0                     0.0   \n",
       "11749                0.0                     0.0   \n",
       "20962                0.0                     0.0   \n",
       "\n",
       "       previous_bookings_not_canceled  booking_changes  days_in_waiting_list  \\\n",
       "7918                              0.0              3.0                   0.0   \n",
       "18641                             0.0              0.0                   0.0   \n",
       "31995                             0.0              0.0                   0.0   \n",
       "30742                             0.0              0.0                   0.0   \n",
       "26014                             0.0              0.0                   0.0   \n",
       "...                               ...              ...                   ...   \n",
       "19876                             0.0              0.0                   0.0   \n",
       "2177                              0.0              0.0                   0.0   \n",
       "64797                             0.0              0.0                   0.0   \n",
       "11749                             0.0              0.0                   0.0   \n",
       "20962                             0.0              0.0                  58.0   \n",
       "\n",
       "       required_car_parking_spaces  total_of_special_requests  total_nights  \\\n",
       "7918                           0.0                        2.0           1.5   \n",
       "18641                          0.0                        2.0           1.0   \n",
       "31995                          0.0                        0.0           0.0   \n",
       "30742                          0.0                        0.0           1.0   \n",
       "26014                          0.0                        0.0          -0.5   \n",
       "...                            ...                        ...           ...   \n",
       "19876                          0.0                        0.0          -0.5   \n",
       "2177                           0.0                        1.0           0.0   \n",
       "64797                          1.0                        2.0          -0.5   \n",
       "11749                          0.0                        0.0           0.0   \n",
       "20962                          0.0                        0.0           0.5   \n",
       "\n",
       "          price  \n",
       "7918   0.522523  \n",
       "18641  1.891892  \n",
       "31995  0.360360  \n",
       "30742  1.891892  \n",
       "26014 -0.180180  \n",
       "...         ...  \n",
       "19876 -0.180180  \n",
       "2177   0.090090  \n",
       "64797 -0.360360  \n",
       "11749 -0.450450  \n",
       "20962  0.900901  \n",
       "\n",
       "[48921 rows x 24 columns]"
      ]
     },
     "execution_count": 95,
     "metadata": {},
     "output_type": "execute_result"
    }
   ],
   "source": [
    "features_train"
   ]
  },
  {
   "cell_type": "code",
   "execution_count": 96,
   "metadata": {},
   "outputs": [
    {
     "name": "stdout",
     "output_type": "stream",
     "text": [
      "precision_score наилучшей модели на валидационной выборке:  0.958904109589041\n",
      "Лучшая функция измерения качества разделения:               entropy\n",
      "Глубина:                                                    1\n"
     ]
    }
   ],
   "source": [
    "best_model_tree = None\n",
    "best_result = 0\n",
    "best_result1 = 0\n",
    "params = ['gini', 'entropy']#, 'log_loss']\n",
    "for j in params:\n",
    "    for i in range(1,21):\n",
    "    \n",
    "        best_model = DecisionTreeClassifier(max_depth = i, random_state=12345, class_weight='balanced',  criterion = j)\n",
    "        best_model.fit(features_train, target_train)\n",
    "        p = best_model.predict(features_valid)\n",
    "        #best_result = f1_score(target_valid, p)\n",
    "        best_result = precision_score(target_valid, p)\n",
    "        if best_result1 < best_result:\n",
    "            best_result1 = best_result\n",
    "            depth1 = i\n",
    "            best_model_tree = best_model\n",
    "            best_params = j\n",
    "print(\"precision_score наилучшей модели на валидационной выборке: \", best_result1)\n",
    "print('Лучшая функция измерения качества разделения:              ', best_params)\n",
    "print('Глубина:                                                   ', depth1)        \n",
    "        \n",
    "#print(best_result1, depth, best_model_tree)"
   ]
  },
  {
   "cell_type": "markdown",
   "metadata": {},
   "source": []
  },
  {
   "cell_type": "markdown",
   "metadata": {},
   "source": [
    "Обучим модель случайный лес."
   ]
  },
  {
   "cell_type": "code",
   "execution_count": 97,
   "metadata": {},
   "outputs": [
    {
     "name": "stdout",
     "output_type": "stream",
     "text": [
      "precision_score наилучшей модели на валидационной выборке:  0.8836032388663968\n",
      "Колличество деревьев:                                     56\n",
      "Глубина:                                                    5\n"
     ]
    }
   ],
   "source": [
    "best_model_forest = None\n",
    "best_result = 0;best_est=0\n",
    "for i in range(1,16):    \n",
    "    for est in range(1, 81):\n",
    "        model = RandomForestClassifier(random_state=12345, max_depth = i,  n_estimators=est, class_weight='balanced') # обучите модель с заданным количеством деревьев\n",
    "        model.fit(features_train, target_train)\n",
    "        predictions_valid = model.predict(features_valid)# обучите модель на тренировочной выборке\n",
    "        result = precision_score(target_valid, predictions_valid)#result = f1_score(target_valid, predictions_valid) # посчитайте качество модели на валидационной выборке\n",
    "        if result > best_result:\n",
    "            best_model_forest  = model# сохраните наилучшую модель\n",
    "            best_result = result#  сохраните наилучшее значение метрики accuracy на валидационных данных\n",
    "            best_est = est\n",
    "            depth = i\n",
    "print(\"precision_score наилучшей модели на валидационной выборке: \", best_result)\n",
    "print('Колличество деревьев:                                    ', best_est)\n",
    "print('Глубина:                                                   ', depth)"
   ]
  },
  {
   "cell_type": "markdown",
   "metadata": {},
   "source": [
    "Обучим модель логистической регресии."
   ]
  },
  {
   "cell_type": "code",
   "execution_count": 98,
   "metadata": {},
   "outputs": [
    {
     "name": "stdout",
     "output_type": "stream",
     "text": [
      "Точность предсказания модели логистическая регрессия:  0.8000946297610598\n"
     ]
    },
    {
     "name": "stderr",
     "output_type": "stream",
     "text": [
      "/opt/conda/lib/python3.9/site-packages/sklearn/linear_model/_logistic.py:444: ConvergenceWarning: lbfgs failed to converge (status=1):\n",
      "STOP: TOTAL NO. of ITERATIONS REACHED LIMIT.\n",
      "\n",
      "Increase the number of iterations (max_iter) or scale the data as shown in:\n",
      "    https://scikit-learn.org/stable/modules/preprocessing.html\n",
      "Please also refer to the documentation for alternative solver options:\n",
      "    https://scikit-learn.org/stable/modules/linear_model.html#logistic-regression\n",
      "  n_iter_i = _check_optimize_result(\n"
     ]
    }
   ],
   "source": [
    "model_log = LogisticRegression(random_state = 12345, solver = 'lbfgs', max_iter =100)\n",
    "model_log.fit(features_train, target_train)\n",
    "predictions_valid_log = model_log.predict(features_valid)\n",
    "print('Точность предсказания модели логистическая регрессия: ',precision_score(target_valid, predictions_valid_log))"
   ]
  },
  {
   "cell_type": "markdown",
   "metadata": {},
   "source": [
    "<div class=\"alert alert-block alert-danger\">\n",
    "<h2> Комментарий ревьюера <a class=\"tocSkip\"></h2>\n",
    "\n",
    "    \n",
    "<b>На доработку🤔:</b>\n",
    "    \n",
    "Как минимум для 2х моделей стоит перебрать как минимум по 2 гиперпараметра. То есть можно добавить подбор еще одного параметра для дерева решений, например.\n",
    "    \n",
    "Документация:\n",
    "    \n",
    "https://scikit-learn.org/stable/modules/generated/sklearn.tree.DecisionTreeClassifier.html#sklearn.tree.DecisionTreeClassifier\n",
    "    \n",
    "Либо подобрать гиперпарамтеры для логистической регрессии."
   ]
  },
  {
   "cell_type": "markdown",
   "metadata": {},
   "source": [
    "Самое высокое качество у модели дерево решений.  \n",
    "precision_score наилучшей модели на валидационной выборке:  0.958904109589041\n",
    "Лучшая функция измерения качества разделения:               entropy\n",
    "Глубина:                                                    1"
   ]
  },
  {
   "cell_type": "markdown",
   "metadata": {},
   "source": [
    "Псчитаем какой суммы убытков удастся избежать при применении модели для предсказания \n",
    "ответов."
   ]
  },
  {
   "cell_type": "markdown",
   "metadata": {},
   "source": [
    "По редсказанию модели определим клиентов которые  могут отказатся  от услуг  отеля.\n",
    "Убытки отеля в  случае  отмены брони номера — это стоимость  одной  уборки и  одной \n",
    "ночи с учётом сезонного коэффициента. "
   ]
  },
  {
   "cell_type": "markdown",
   "metadata": {},
   "source": [
    "Если модель покажет, что бронь будет отменена, то клиенту предлагается внести депозит. \n",
    "Размер депозита — 80% от стоимости номера за одни сутки и затрат на разовую уборку. \n",
    "Деньги будут списаны со счёта клиента, если он всё же отменит бронь."
   ]
  },
  {
   "cell_type": "markdown",
   "metadata": {},
   "source": [
    "Для удобства расчетов добавим во вторую таблицу столбец с предсказаниями модели."
   ]
  },
  {
   "cell_type": "markdown",
   "metadata": {},
   "source": [
    "Приготовим данные для работы модели, получим предсказание, прировняем предсказание\n",
    "к ппеременной predicted_valid."
   ]
  },
  {
   "cell_type": "code",
   "execution_count": 99,
   "metadata": {},
   "outputs": [],
   "source": [
    "country = ['HRV', 'MEX', 'ZAF']\n",
    "for i in country:    \n",
    "    d2.loc[(d2['country']==i), 'country'] = 'SSS'"
   ]
  },
  {
   "cell_type": "code",
   "execution_count": 100,
   "metadata": {},
   "outputs": [],
   "source": [
    "features_test = d2.drop(['is_canceled'], axis = 1)\n",
    "target_test = d2['is_canceled']"
   ]
  },
  {
   "cell_type": "code",
   "execution_count": 101,
   "metadata": {},
   "outputs": [],
   "source": [
    "d2_enc_test = features_test[['arrival_date_month', 'meal', 'country', 'distribution_channel',\\\n",
    "                'reserved_room_type', 'customer_type']]"
   ]
  },
  {
   "cell_type": "code",
   "execution_count": 102,
   "metadata": {},
   "outputs": [
    {
     "data": {
      "text/html": [
       "<div>\n",
       "<style scoped>\n",
       "    .dataframe tbody tr th:only-of-type {\n",
       "        vertical-align: middle;\n",
       "    }\n",
       "\n",
       "    .dataframe tbody tr th {\n",
       "        vertical-align: top;\n",
       "    }\n",
       "\n",
       "    .dataframe thead th {\n",
       "        text-align: right;\n",
       "    }\n",
       "</style>\n",
       "<table border=\"1\" class=\"dataframe\">\n",
       "  <thead>\n",
       "    <tr style=\"text-align: right;\">\n",
       "      <th></th>\n",
       "      <th>arrival_date_month</th>\n",
       "      <th>meal</th>\n",
       "      <th>country</th>\n",
       "      <th>distribution_channel</th>\n",
       "      <th>reserved_room_type</th>\n",
       "      <th>customer_type</th>\n",
       "    </tr>\n",
       "  </thead>\n",
       "  <tbody>\n",
       "    <tr>\n",
       "      <th>0</th>\n",
       "      <td>January</td>\n",
       "      <td>BB</td>\n",
       "      <td>PRT</td>\n",
       "      <td>TA/TO</td>\n",
       "      <td>A</td>\n",
       "      <td>Transient</td>\n",
       "    </tr>\n",
       "    <tr>\n",
       "      <th>1</th>\n",
       "      <td>January</td>\n",
       "      <td>BB</td>\n",
       "      <td>AUT</td>\n",
       "      <td>TA/TO</td>\n",
       "      <td>A</td>\n",
       "      <td>Transient</td>\n",
       "    </tr>\n",
       "    <tr>\n",
       "      <th>2</th>\n",
       "      <td>January</td>\n",
       "      <td>BB</td>\n",
       "      <td>AUT</td>\n",
       "      <td>TA/TO</td>\n",
       "      <td>A</td>\n",
       "      <td>Transient</td>\n",
       "    </tr>\n",
       "    <tr>\n",
       "      <th>3</th>\n",
       "      <td>January</td>\n",
       "      <td>BB</td>\n",
       "      <td>PRT</td>\n",
       "      <td>TA/TO</td>\n",
       "      <td>A</td>\n",
       "      <td>Transient</td>\n",
       "    </tr>\n",
       "    <tr>\n",
       "      <th>4</th>\n",
       "      <td>January</td>\n",
       "      <td>BB</td>\n",
       "      <td>BEL</td>\n",
       "      <td>TA/TO</td>\n",
       "      <td>A</td>\n",
       "      <td>Transient</td>\n",
       "    </tr>\n",
       "    <tr>\n",
       "      <th>...</th>\n",
       "      <td>...</td>\n",
       "      <td>...</td>\n",
       "      <td>...</td>\n",
       "      <td>...</td>\n",
       "      <td>...</td>\n",
       "      <td>...</td>\n",
       "    </tr>\n",
       "    <tr>\n",
       "      <th>32407</th>\n",
       "      <td>August</td>\n",
       "      <td>BB</td>\n",
       "      <td>DEU</td>\n",
       "      <td>TA/TO</td>\n",
       "      <td>A</td>\n",
       "      <td>Transient</td>\n",
       "    </tr>\n",
       "    <tr>\n",
       "      <th>32408</th>\n",
       "      <td>August</td>\n",
       "      <td>BB</td>\n",
       "      <td>BEL</td>\n",
       "      <td>TA/TO</td>\n",
       "      <td>A</td>\n",
       "      <td>Transient</td>\n",
       "    </tr>\n",
       "    <tr>\n",
       "      <th>32409</th>\n",
       "      <td>August</td>\n",
       "      <td>BB</td>\n",
       "      <td>BEL</td>\n",
       "      <td>TA/TO</td>\n",
       "      <td>A</td>\n",
       "      <td>Transient</td>\n",
       "    </tr>\n",
       "    <tr>\n",
       "      <th>32410</th>\n",
       "      <td>August</td>\n",
       "      <td>BB</td>\n",
       "      <td>DEU</td>\n",
       "      <td>TA/TO</td>\n",
       "      <td>D</td>\n",
       "      <td>Transient</td>\n",
       "    </tr>\n",
       "    <tr>\n",
       "      <th>32411</th>\n",
       "      <td>August</td>\n",
       "      <td>BB</td>\n",
       "      <td>GBR</td>\n",
       "      <td>TA/TO</td>\n",
       "      <td>A</td>\n",
       "      <td>Transient</td>\n",
       "    </tr>\n",
       "  </tbody>\n",
       "</table>\n",
       "<p>32412 rows × 6 columns</p>\n",
       "</div>"
      ],
      "text/plain": [
       "      arrival_date_month meal country distribution_channel reserved_room_type  \\\n",
       "0                January   BB     PRT                TA/TO                  A   \n",
       "1                January   BB     AUT                TA/TO                  A   \n",
       "2                January   BB     AUT                TA/TO                  A   \n",
       "3                January   BB     PRT                TA/TO                  A   \n",
       "4                January   BB     BEL                TA/TO                  A   \n",
       "...                  ...  ...     ...                  ...                ...   \n",
       "32407             August   BB     DEU                TA/TO                  A   \n",
       "32408             August   BB     BEL                TA/TO                  A   \n",
       "32409             August   BB     BEL                TA/TO                  A   \n",
       "32410             August   BB     DEU                TA/TO                  D   \n",
       "32411             August   BB     GBR                TA/TO                  A   \n",
       "\n",
       "      customer_type  \n",
       "0         Transient  \n",
       "1         Transient  \n",
       "2         Transient  \n",
       "3         Transient  \n",
       "4         Transient  \n",
       "...             ...  \n",
       "32407     Transient  \n",
       "32408     Transient  \n",
       "32409     Transient  \n",
       "32410     Transient  \n",
       "32411     Transient  \n",
       "\n",
       "[32412 rows x 6 columns]"
      ]
     },
     "execution_count": 102,
     "metadata": {},
     "output_type": "execute_result"
    }
   ],
   "source": [
    "d2_enc_test"
   ]
  },
  {
   "cell_type": "code",
   "execution_count": 103,
   "metadata": {},
   "outputs": [],
   "source": [
    "#encoder.fit(d2_enc_test)\n",
    "data_ordinal_2_test = encoder.transform(d2_enc_test)\n",
    "data_ordinal_2_test = pd.DataFrame(encoder.transform(d2_enc_test), columns=d2_enc_test.columns, index = d2_enc_test.index)"
   ]
  },
  {
   "cell_type": "code",
   "execution_count": 104,
   "metadata": {},
   "outputs": [
    {
     "data": {
      "text/html": [
       "<div>\n",
       "<style scoped>\n",
       "    .dataframe tbody tr th:only-of-type {\n",
       "        vertical-align: middle;\n",
       "    }\n",
       "\n",
       "    .dataframe tbody tr th {\n",
       "        vertical-align: top;\n",
       "    }\n",
       "\n",
       "    .dataframe thead th {\n",
       "        text-align: right;\n",
       "    }\n",
       "</style>\n",
       "<table border=\"1\" class=\"dataframe\">\n",
       "  <thead>\n",
       "    <tr style=\"text-align: right;\">\n",
       "      <th></th>\n",
       "      <th>arrival_date_month</th>\n",
       "      <th>meal</th>\n",
       "      <th>country</th>\n",
       "      <th>distribution_channel</th>\n",
       "      <th>reserved_room_type</th>\n",
       "      <th>customer_type</th>\n",
       "    </tr>\n",
       "  </thead>\n",
       "  <tbody>\n",
       "    <tr>\n",
       "      <th>0</th>\n",
       "      <td>4.0</td>\n",
       "      <td>0.0</td>\n",
       "      <td>29.0</td>\n",
       "      <td>3.0</td>\n",
       "      <td>0.0</td>\n",
       "      <td>2.0</td>\n",
       "    </tr>\n",
       "    <tr>\n",
       "      <th>1</th>\n",
       "      <td>4.0</td>\n",
       "      <td>0.0</td>\n",
       "      <td>3.0</td>\n",
       "      <td>3.0</td>\n",
       "      <td>0.0</td>\n",
       "      <td>2.0</td>\n",
       "    </tr>\n",
       "    <tr>\n",
       "      <th>2</th>\n",
       "      <td>4.0</td>\n",
       "      <td>0.0</td>\n",
       "      <td>3.0</td>\n",
       "      <td>3.0</td>\n",
       "      <td>0.0</td>\n",
       "      <td>2.0</td>\n",
       "    </tr>\n",
       "    <tr>\n",
       "      <th>3</th>\n",
       "      <td>4.0</td>\n",
       "      <td>0.0</td>\n",
       "      <td>29.0</td>\n",
       "      <td>3.0</td>\n",
       "      <td>0.0</td>\n",
       "      <td>2.0</td>\n",
       "    </tr>\n",
       "    <tr>\n",
       "      <th>4</th>\n",
       "      <td>4.0</td>\n",
       "      <td>0.0</td>\n",
       "      <td>4.0</td>\n",
       "      <td>3.0</td>\n",
       "      <td>0.0</td>\n",
       "      <td>2.0</td>\n",
       "    </tr>\n",
       "    <tr>\n",
       "      <th>...</th>\n",
       "      <td>...</td>\n",
       "      <td>...</td>\n",
       "      <td>...</td>\n",
       "      <td>...</td>\n",
       "      <td>...</td>\n",
       "      <td>...</td>\n",
       "    </tr>\n",
       "    <tr>\n",
       "      <th>32407</th>\n",
       "      <td>1.0</td>\n",
       "      <td>0.0</td>\n",
       "      <td>10.0</td>\n",
       "      <td>3.0</td>\n",
       "      <td>0.0</td>\n",
       "      <td>2.0</td>\n",
       "    </tr>\n",
       "    <tr>\n",
       "      <th>32408</th>\n",
       "      <td>1.0</td>\n",
       "      <td>0.0</td>\n",
       "      <td>4.0</td>\n",
       "      <td>3.0</td>\n",
       "      <td>0.0</td>\n",
       "      <td>2.0</td>\n",
       "    </tr>\n",
       "    <tr>\n",
       "      <th>32409</th>\n",
       "      <td>1.0</td>\n",
       "      <td>0.0</td>\n",
       "      <td>4.0</td>\n",
       "      <td>3.0</td>\n",
       "      <td>0.0</td>\n",
       "      <td>2.0</td>\n",
       "    </tr>\n",
       "    <tr>\n",
       "      <th>32410</th>\n",
       "      <td>1.0</td>\n",
       "      <td>0.0</td>\n",
       "      <td>10.0</td>\n",
       "      <td>3.0</td>\n",
       "      <td>3.0</td>\n",
       "      <td>2.0</td>\n",
       "    </tr>\n",
       "    <tr>\n",
       "      <th>32411</th>\n",
       "      <td>1.0</td>\n",
       "      <td>0.0</td>\n",
       "      <td>15.0</td>\n",
       "      <td>3.0</td>\n",
       "      <td>0.0</td>\n",
       "      <td>2.0</td>\n",
       "    </tr>\n",
       "  </tbody>\n",
       "</table>\n",
       "<p>32412 rows × 6 columns</p>\n",
       "</div>"
      ],
      "text/plain": [
       "       arrival_date_month  meal  country  distribution_channel  \\\n",
       "0                     4.0   0.0     29.0                   3.0   \n",
       "1                     4.0   0.0      3.0                   3.0   \n",
       "2                     4.0   0.0      3.0                   3.0   \n",
       "3                     4.0   0.0     29.0                   3.0   \n",
       "4                     4.0   0.0      4.0                   3.0   \n",
       "...                   ...   ...      ...                   ...   \n",
       "32407                 1.0   0.0     10.0                   3.0   \n",
       "32408                 1.0   0.0      4.0                   3.0   \n",
       "32409                 1.0   0.0      4.0                   3.0   \n",
       "32410                 1.0   0.0     10.0                   3.0   \n",
       "32411                 1.0   0.0     15.0                   3.0   \n",
       "\n",
       "       reserved_room_type  customer_type  \n",
       "0                     0.0            2.0  \n",
       "1                     0.0            2.0  \n",
       "2                     0.0            2.0  \n",
       "3                     0.0            2.0  \n",
       "4                     0.0            2.0  \n",
       "...                   ...            ...  \n",
       "32407                 0.0            2.0  \n",
       "32408                 0.0            2.0  \n",
       "32409                 0.0            2.0  \n",
       "32410                 3.0            2.0  \n",
       "32411                 0.0            2.0  \n",
       "\n",
       "[32412 rows x 6 columns]"
      ]
     },
     "execution_count": 104,
     "metadata": {},
     "output_type": "execute_result"
    }
   ],
   "source": [
    "data_ordinal_2_test"
   ]
  },
  {
   "cell_type": "code",
   "execution_count": 105,
   "metadata": {},
   "outputs": [],
   "source": [
    "d2_qt_test = features_test.drop(['arrival_date_month', 'meal', 'distribution_channel',\\\n",
    "                'reserved_room_type', 'customer_type', 'country'], axis = 1)"
   ]
  },
  {
   "cell_type": "code",
   "execution_count": 106,
   "metadata": {},
   "outputs": [
    {
     "data": {
      "text/html": [
       "<div>\n",
       "<style scoped>\n",
       "    .dataframe tbody tr th:only-of-type {\n",
       "        vertical-align: middle;\n",
       "    }\n",
       "\n",
       "    .dataframe tbody tr th {\n",
       "        vertical-align: top;\n",
       "    }\n",
       "\n",
       "    .dataframe thead th {\n",
       "        text-align: right;\n",
       "    }\n",
       "</style>\n",
       "<table border=\"1\" class=\"dataframe\">\n",
       "  <thead>\n",
       "    <tr style=\"text-align: right;\">\n",
       "      <th></th>\n",
       "      <th>lead_time</th>\n",
       "      <th>arrival_date_year</th>\n",
       "      <th>arrival_date_week_number</th>\n",
       "      <th>arrival_date_day_of_month</th>\n",
       "      <th>stays_in_weekend_nights</th>\n",
       "      <th>stays_in_week_nights</th>\n",
       "      <th>adults</th>\n",
       "      <th>children</th>\n",
       "      <th>babies</th>\n",
       "      <th>is_repeated_guest</th>\n",
       "      <th>previous_cancellations</th>\n",
       "      <th>previous_bookings_not_canceled</th>\n",
       "      <th>booking_changes</th>\n",
       "      <th>days_in_waiting_list</th>\n",
       "      <th>required_car_parking_spaces</th>\n",
       "      <th>total_of_special_requests</th>\n",
       "      <th>total_nights</th>\n",
       "      <th>price</th>\n",
       "    </tr>\n",
       "  </thead>\n",
       "  <tbody>\n",
       "    <tr>\n",
       "      <th>0</th>\n",
       "      <td>74.0</td>\n",
       "      <td>2017</td>\n",
       "      <td>1</td>\n",
       "      <td>1</td>\n",
       "      <td>1</td>\n",
       "      <td>0</td>\n",
       "      <td>2.0</td>\n",
       "      <td>0.0</td>\n",
       "      <td>0.0</td>\n",
       "      <td>0</td>\n",
       "      <td>0</td>\n",
       "      <td>0</td>\n",
       "      <td>0</td>\n",
       "      <td>0</td>\n",
       "      <td>0</td>\n",
       "      <td>0</td>\n",
       "      <td>1</td>\n",
       "      <td>1000.0</td>\n",
       "    </tr>\n",
       "    <tr>\n",
       "      <th>1</th>\n",
       "      <td>62.0</td>\n",
       "      <td>2017</td>\n",
       "      <td>1</td>\n",
       "      <td>1</td>\n",
       "      <td>2</td>\n",
       "      <td>2</td>\n",
       "      <td>2.0</td>\n",
       "      <td>0.0</td>\n",
       "      <td>0.0</td>\n",
       "      <td>0</td>\n",
       "      <td>0</td>\n",
       "      <td>0</td>\n",
       "      <td>0</td>\n",
       "      <td>0</td>\n",
       "      <td>0</td>\n",
       "      <td>1</td>\n",
       "      <td>4</td>\n",
       "      <td>4000.0</td>\n",
       "    </tr>\n",
       "    <tr>\n",
       "      <th>2</th>\n",
       "      <td>62.0</td>\n",
       "      <td>2017</td>\n",
       "      <td>1</td>\n",
       "      <td>1</td>\n",
       "      <td>2</td>\n",
       "      <td>2</td>\n",
       "      <td>2.0</td>\n",
       "      <td>0.0</td>\n",
       "      <td>0.0</td>\n",
       "      <td>0</td>\n",
       "      <td>0</td>\n",
       "      <td>0</td>\n",
       "      <td>0</td>\n",
       "      <td>0</td>\n",
       "      <td>0</td>\n",
       "      <td>1</td>\n",
       "      <td>4</td>\n",
       "      <td>4000.0</td>\n",
       "    </tr>\n",
       "    <tr>\n",
       "      <th>3</th>\n",
       "      <td>71.0</td>\n",
       "      <td>2017</td>\n",
       "      <td>1</td>\n",
       "      <td>1</td>\n",
       "      <td>2</td>\n",
       "      <td>2</td>\n",
       "      <td>1.0</td>\n",
       "      <td>0.0</td>\n",
       "      <td>0.0</td>\n",
       "      <td>0</td>\n",
       "      <td>0</td>\n",
       "      <td>0</td>\n",
       "      <td>0</td>\n",
       "      <td>0</td>\n",
       "      <td>0</td>\n",
       "      <td>1</td>\n",
       "      <td>4</td>\n",
       "      <td>4000.0</td>\n",
       "    </tr>\n",
       "    <tr>\n",
       "      <th>4</th>\n",
       "      <td>172.0</td>\n",
       "      <td>2017</td>\n",
       "      <td>1</td>\n",
       "      <td>1</td>\n",
       "      <td>2</td>\n",
       "      <td>5</td>\n",
       "      <td>2.0</td>\n",
       "      <td>0.0</td>\n",
       "      <td>0.0</td>\n",
       "      <td>0</td>\n",
       "      <td>0</td>\n",
       "      <td>0</td>\n",
       "      <td>0</td>\n",
       "      <td>0</td>\n",
       "      <td>0</td>\n",
       "      <td>0</td>\n",
       "      <td>7</td>\n",
       "      <td>7000.0</td>\n",
       "    </tr>\n",
       "    <tr>\n",
       "      <th>...</th>\n",
       "      <td>...</td>\n",
       "      <td>...</td>\n",
       "      <td>...</td>\n",
       "      <td>...</td>\n",
       "      <td>...</td>\n",
       "      <td>...</td>\n",
       "      <td>...</td>\n",
       "      <td>...</td>\n",
       "      <td>...</td>\n",
       "      <td>...</td>\n",
       "      <td>...</td>\n",
       "      <td>...</td>\n",
       "      <td>...</td>\n",
       "      <td>...</td>\n",
       "      <td>...</td>\n",
       "      <td>...</td>\n",
       "      <td>...</td>\n",
       "      <td>...</td>\n",
       "    </tr>\n",
       "    <tr>\n",
       "      <th>32407</th>\n",
       "      <td>164.0</td>\n",
       "      <td>2017</td>\n",
       "      <td>35</td>\n",
       "      <td>31</td>\n",
       "      <td>2</td>\n",
       "      <td>4</td>\n",
       "      <td>2.0</td>\n",
       "      <td>0.0</td>\n",
       "      <td>0.0</td>\n",
       "      <td>0</td>\n",
       "      <td>0</td>\n",
       "      <td>0</td>\n",
       "      <td>0</td>\n",
       "      <td>0</td>\n",
       "      <td>0</td>\n",
       "      <td>0</td>\n",
       "      <td>6</td>\n",
       "      <td>8400.0</td>\n",
       "    </tr>\n",
       "    <tr>\n",
       "      <th>32408</th>\n",
       "      <td>21.0</td>\n",
       "      <td>2017</td>\n",
       "      <td>35</td>\n",
       "      <td>30</td>\n",
       "      <td>2</td>\n",
       "      <td>5</td>\n",
       "      <td>2.0</td>\n",
       "      <td>0.0</td>\n",
       "      <td>0.0</td>\n",
       "      <td>0</td>\n",
       "      <td>0</td>\n",
       "      <td>0</td>\n",
       "      <td>0</td>\n",
       "      <td>0</td>\n",
       "      <td>0</td>\n",
       "      <td>2</td>\n",
       "      <td>7</td>\n",
       "      <td>9800.0</td>\n",
       "    </tr>\n",
       "    <tr>\n",
       "      <th>32409</th>\n",
       "      <td>23.0</td>\n",
       "      <td>2017</td>\n",
       "      <td>35</td>\n",
       "      <td>30</td>\n",
       "      <td>2</td>\n",
       "      <td>5</td>\n",
       "      <td>2.0</td>\n",
       "      <td>0.0</td>\n",
       "      <td>0.0</td>\n",
       "      <td>0</td>\n",
       "      <td>0</td>\n",
       "      <td>0</td>\n",
       "      <td>0</td>\n",
       "      <td>0</td>\n",
       "      <td>0</td>\n",
       "      <td>0</td>\n",
       "      <td>7</td>\n",
       "      <td>9800.0</td>\n",
       "    </tr>\n",
       "    <tr>\n",
       "      <th>32410</th>\n",
       "      <td>34.0</td>\n",
       "      <td>2017</td>\n",
       "      <td>35</td>\n",
       "      <td>31</td>\n",
       "      <td>2</td>\n",
       "      <td>5</td>\n",
       "      <td>2.0</td>\n",
       "      <td>0.0</td>\n",
       "      <td>0.0</td>\n",
       "      <td>0</td>\n",
       "      <td>0</td>\n",
       "      <td>0</td>\n",
       "      <td>0</td>\n",
       "      <td>0</td>\n",
       "      <td>0</td>\n",
       "      <td>4</td>\n",
       "      <td>7</td>\n",
       "      <td>5390.0</td>\n",
       "    </tr>\n",
       "    <tr>\n",
       "      <th>32411</th>\n",
       "      <td>109.0</td>\n",
       "      <td>2017</td>\n",
       "      <td>35</td>\n",
       "      <td>31</td>\n",
       "      <td>2</td>\n",
       "      <td>5</td>\n",
       "      <td>2.0</td>\n",
       "      <td>0.0</td>\n",
       "      <td>0.0</td>\n",
       "      <td>0</td>\n",
       "      <td>0</td>\n",
       "      <td>0</td>\n",
       "      <td>0</td>\n",
       "      <td>0</td>\n",
       "      <td>0</td>\n",
       "      <td>0</td>\n",
       "      <td>7</td>\n",
       "      <td>9800.0</td>\n",
       "    </tr>\n",
       "  </tbody>\n",
       "</table>\n",
       "<p>32412 rows × 18 columns</p>\n",
       "</div>"
      ],
      "text/plain": [
       "       lead_time  arrival_date_year  arrival_date_week_number  \\\n",
       "0           74.0               2017                         1   \n",
       "1           62.0               2017                         1   \n",
       "2           62.0               2017                         1   \n",
       "3           71.0               2017                         1   \n",
       "4          172.0               2017                         1   \n",
       "...          ...                ...                       ...   \n",
       "32407      164.0               2017                        35   \n",
       "32408       21.0               2017                        35   \n",
       "32409       23.0               2017                        35   \n",
       "32410       34.0               2017                        35   \n",
       "32411      109.0               2017                        35   \n",
       "\n",
       "       arrival_date_day_of_month  stays_in_weekend_nights  \\\n",
       "0                              1                        1   \n",
       "1                              1                        2   \n",
       "2                              1                        2   \n",
       "3                              1                        2   \n",
       "4                              1                        2   \n",
       "...                          ...                      ...   \n",
       "32407                         31                        2   \n",
       "32408                         30                        2   \n",
       "32409                         30                        2   \n",
       "32410                         31                        2   \n",
       "32411                         31                        2   \n",
       "\n",
       "       stays_in_week_nights  adults  children  babies  is_repeated_guest  \\\n",
       "0                         0     2.0       0.0     0.0                  0   \n",
       "1                         2     2.0       0.0     0.0                  0   \n",
       "2                         2     2.0       0.0     0.0                  0   \n",
       "3                         2     1.0       0.0     0.0                  0   \n",
       "4                         5     2.0       0.0     0.0                  0   \n",
       "...                     ...     ...       ...     ...                ...   \n",
       "32407                     4     2.0       0.0     0.0                  0   \n",
       "32408                     5     2.0       0.0     0.0                  0   \n",
       "32409                     5     2.0       0.0     0.0                  0   \n",
       "32410                     5     2.0       0.0     0.0                  0   \n",
       "32411                     5     2.0       0.0     0.0                  0   \n",
       "\n",
       "       previous_cancellations  previous_bookings_not_canceled  \\\n",
       "0                           0                               0   \n",
       "1                           0                               0   \n",
       "2                           0                               0   \n",
       "3                           0                               0   \n",
       "4                           0                               0   \n",
       "...                       ...                             ...   \n",
       "32407                       0                               0   \n",
       "32408                       0                               0   \n",
       "32409                       0                               0   \n",
       "32410                       0                               0   \n",
       "32411                       0                               0   \n",
       "\n",
       "       booking_changes  days_in_waiting_list  required_car_parking_spaces  \\\n",
       "0                    0                     0                            0   \n",
       "1                    0                     0                            0   \n",
       "2                    0                     0                            0   \n",
       "3                    0                     0                            0   \n",
       "4                    0                     0                            0   \n",
       "...                ...                   ...                          ...   \n",
       "32407                0                     0                            0   \n",
       "32408                0                     0                            0   \n",
       "32409                0                     0                            0   \n",
       "32410                0                     0                            0   \n",
       "32411                0                     0                            0   \n",
       "\n",
       "       total_of_special_requests  total_nights   price  \n",
       "0                              0             1  1000.0  \n",
       "1                              1             4  4000.0  \n",
       "2                              1             4  4000.0  \n",
       "3                              1             4  4000.0  \n",
       "4                              0             7  7000.0  \n",
       "...                          ...           ...     ...  \n",
       "32407                          0             6  8400.0  \n",
       "32408                          2             7  9800.0  \n",
       "32409                          0             7  9800.0  \n",
       "32410                          4             7  5390.0  \n",
       "32411                          0             7  9800.0  \n",
       "\n",
       "[32412 rows x 18 columns]"
      ]
     },
     "execution_count": 106,
     "metadata": {},
     "output_type": "execute_result"
    }
   ],
   "source": [
    "d2_qt_test"
   ]
  },
  {
   "cell_type": "code",
   "execution_count": 107,
   "metadata": {},
   "outputs": [
    {
     "data": {
      "text/html": [
       "<div>\n",
       "<style scoped>\n",
       "    .dataframe tbody tr th:only-of-type {\n",
       "        vertical-align: middle;\n",
       "    }\n",
       "\n",
       "    .dataframe tbody tr th {\n",
       "        vertical-align: top;\n",
       "    }\n",
       "\n",
       "    .dataframe thead th {\n",
       "        text-align: right;\n",
       "    }\n",
       "</style>\n",
       "<table border=\"1\" class=\"dataframe\">\n",
       "  <thead>\n",
       "    <tr style=\"text-align: right;\">\n",
       "      <th></th>\n",
       "      <th>arrival_date_month</th>\n",
       "      <th>meal</th>\n",
       "      <th>country</th>\n",
       "      <th>distribution_channel</th>\n",
       "      <th>reserved_room_type</th>\n",
       "      <th>customer_type</th>\n",
       "      <th>lead_time</th>\n",
       "      <th>arrival_date_year</th>\n",
       "      <th>arrival_date_week_number</th>\n",
       "      <th>arrival_date_day_of_month</th>\n",
       "      <th>...</th>\n",
       "      <th>babies</th>\n",
       "      <th>is_repeated_guest</th>\n",
       "      <th>previous_cancellations</th>\n",
       "      <th>previous_bookings_not_canceled</th>\n",
       "      <th>booking_changes</th>\n",
       "      <th>days_in_waiting_list</th>\n",
       "      <th>required_car_parking_spaces</th>\n",
       "      <th>total_of_special_requests</th>\n",
       "      <th>total_nights</th>\n",
       "      <th>price</th>\n",
       "    </tr>\n",
       "  </thead>\n",
       "  <tbody>\n",
       "    <tr>\n",
       "      <th>0</th>\n",
       "      <td>-0.25</td>\n",
       "      <td>0.0</td>\n",
       "      <td>0.647059</td>\n",
       "      <td>0.0</td>\n",
       "      <td>0.0</td>\n",
       "      <td>0.0</td>\n",
       "      <td>-0.015152</td>\n",
       "      <td>0.0</td>\n",
       "      <td>-1.133333</td>\n",
       "      <td>-0.966667</td>\n",
       "      <td>...</td>\n",
       "      <td>0.0</td>\n",
       "      <td>0.0</td>\n",
       "      <td>0.0</td>\n",
       "      <td>0.0</td>\n",
       "      <td>0.0</td>\n",
       "      <td>0.0</td>\n",
       "      <td>0.0</td>\n",
       "      <td>0.0</td>\n",
       "      <td>-1.0</td>\n",
       "      <td>-0.900901</td>\n",
       "    </tr>\n",
       "    <tr>\n",
       "      <th>1</th>\n",
       "      <td>-0.25</td>\n",
       "      <td>0.0</td>\n",
       "      <td>-0.882353</td>\n",
       "      <td>0.0</td>\n",
       "      <td>0.0</td>\n",
       "      <td>0.0</td>\n",
       "      <td>-0.106061</td>\n",
       "      <td>0.0</td>\n",
       "      <td>-1.133333</td>\n",
       "      <td>-0.966667</td>\n",
       "      <td>...</td>\n",
       "      <td>0.0</td>\n",
       "      <td>0.0</td>\n",
       "      <td>0.0</td>\n",
       "      <td>0.0</td>\n",
       "      <td>0.0</td>\n",
       "      <td>0.0</td>\n",
       "      <td>0.0</td>\n",
       "      <td>1.0</td>\n",
       "      <td>0.5</td>\n",
       "      <td>0.450450</td>\n",
       "    </tr>\n",
       "    <tr>\n",
       "      <th>2</th>\n",
       "      <td>-0.25</td>\n",
       "      <td>0.0</td>\n",
       "      <td>-0.882353</td>\n",
       "      <td>0.0</td>\n",
       "      <td>0.0</td>\n",
       "      <td>0.0</td>\n",
       "      <td>-0.106061</td>\n",
       "      <td>0.0</td>\n",
       "      <td>-1.133333</td>\n",
       "      <td>-0.966667</td>\n",
       "      <td>...</td>\n",
       "      <td>0.0</td>\n",
       "      <td>0.0</td>\n",
       "      <td>0.0</td>\n",
       "      <td>0.0</td>\n",
       "      <td>0.0</td>\n",
       "      <td>0.0</td>\n",
       "      <td>0.0</td>\n",
       "      <td>1.0</td>\n",
       "      <td>0.5</td>\n",
       "      <td>0.450450</td>\n",
       "    </tr>\n",
       "    <tr>\n",
       "      <th>3</th>\n",
       "      <td>-0.25</td>\n",
       "      <td>0.0</td>\n",
       "      <td>0.647059</td>\n",
       "      <td>0.0</td>\n",
       "      <td>0.0</td>\n",
       "      <td>0.0</td>\n",
       "      <td>-0.037879</td>\n",
       "      <td>0.0</td>\n",
       "      <td>-1.133333</td>\n",
       "      <td>-0.966667</td>\n",
       "      <td>...</td>\n",
       "      <td>0.0</td>\n",
       "      <td>0.0</td>\n",
       "      <td>0.0</td>\n",
       "      <td>0.0</td>\n",
       "      <td>0.0</td>\n",
       "      <td>0.0</td>\n",
       "      <td>0.0</td>\n",
       "      <td>1.0</td>\n",
       "      <td>0.5</td>\n",
       "      <td>0.450450</td>\n",
       "    </tr>\n",
       "    <tr>\n",
       "      <th>4</th>\n",
       "      <td>-0.25</td>\n",
       "      <td>0.0</td>\n",
       "      <td>-0.823529</td>\n",
       "      <td>0.0</td>\n",
       "      <td>0.0</td>\n",
       "      <td>0.0</td>\n",
       "      <td>0.727273</td>\n",
       "      <td>0.0</td>\n",
       "      <td>-1.133333</td>\n",
       "      <td>-0.966667</td>\n",
       "      <td>...</td>\n",
       "      <td>0.0</td>\n",
       "      <td>0.0</td>\n",
       "      <td>0.0</td>\n",
       "      <td>0.0</td>\n",
       "      <td>0.0</td>\n",
       "      <td>0.0</td>\n",
       "      <td>0.0</td>\n",
       "      <td>0.0</td>\n",
       "      <td>2.0</td>\n",
       "      <td>1.801802</td>\n",
       "    </tr>\n",
       "    <tr>\n",
       "      <th>...</th>\n",
       "      <td>...</td>\n",
       "      <td>...</td>\n",
       "      <td>...</td>\n",
       "      <td>...</td>\n",
       "      <td>...</td>\n",
       "      <td>...</td>\n",
       "      <td>...</td>\n",
       "      <td>...</td>\n",
       "      <td>...</td>\n",
       "      <td>...</td>\n",
       "      <td>...</td>\n",
       "      <td>...</td>\n",
       "      <td>...</td>\n",
       "      <td>...</td>\n",
       "      <td>...</td>\n",
       "      <td>...</td>\n",
       "      <td>...</td>\n",
       "      <td>...</td>\n",
       "      <td>...</td>\n",
       "      <td>...</td>\n",
       "      <td>...</td>\n",
       "    </tr>\n",
       "    <tr>\n",
       "      <th>32407</th>\n",
       "      <td>-1.00</td>\n",
       "      <td>0.0</td>\n",
       "      <td>-0.470588</td>\n",
       "      <td>0.0</td>\n",
       "      <td>0.0</td>\n",
       "      <td>0.0</td>\n",
       "      <td>0.666667</td>\n",
       "      <td>0.0</td>\n",
       "      <td>1.133333</td>\n",
       "      <td>1.033333</td>\n",
       "      <td>...</td>\n",
       "      <td>0.0</td>\n",
       "      <td>0.0</td>\n",
       "      <td>0.0</td>\n",
       "      <td>0.0</td>\n",
       "      <td>0.0</td>\n",
       "      <td>0.0</td>\n",
       "      <td>0.0</td>\n",
       "      <td>0.0</td>\n",
       "      <td>1.5</td>\n",
       "      <td>2.432432</td>\n",
       "    </tr>\n",
       "    <tr>\n",
       "      <th>32408</th>\n",
       "      <td>-1.00</td>\n",
       "      <td>0.0</td>\n",
       "      <td>-0.823529</td>\n",
       "      <td>0.0</td>\n",
       "      <td>0.0</td>\n",
       "      <td>0.0</td>\n",
       "      <td>-0.416667</td>\n",
       "      <td>0.0</td>\n",
       "      <td>1.133333</td>\n",
       "      <td>0.966667</td>\n",
       "      <td>...</td>\n",
       "      <td>0.0</td>\n",
       "      <td>0.0</td>\n",
       "      <td>0.0</td>\n",
       "      <td>0.0</td>\n",
       "      <td>0.0</td>\n",
       "      <td>0.0</td>\n",
       "      <td>0.0</td>\n",
       "      <td>2.0</td>\n",
       "      <td>2.0</td>\n",
       "      <td>3.063063</td>\n",
       "    </tr>\n",
       "    <tr>\n",
       "      <th>32409</th>\n",
       "      <td>-1.00</td>\n",
       "      <td>0.0</td>\n",
       "      <td>-0.823529</td>\n",
       "      <td>0.0</td>\n",
       "      <td>0.0</td>\n",
       "      <td>0.0</td>\n",
       "      <td>-0.401515</td>\n",
       "      <td>0.0</td>\n",
       "      <td>1.133333</td>\n",
       "      <td>0.966667</td>\n",
       "      <td>...</td>\n",
       "      <td>0.0</td>\n",
       "      <td>0.0</td>\n",
       "      <td>0.0</td>\n",
       "      <td>0.0</td>\n",
       "      <td>0.0</td>\n",
       "      <td>0.0</td>\n",
       "      <td>0.0</td>\n",
       "      <td>0.0</td>\n",
       "      <td>2.0</td>\n",
       "      <td>3.063063</td>\n",
       "    </tr>\n",
       "    <tr>\n",
       "      <th>32410</th>\n",
       "      <td>-1.00</td>\n",
       "      <td>0.0</td>\n",
       "      <td>-0.470588</td>\n",
       "      <td>0.0</td>\n",
       "      <td>1.0</td>\n",
       "      <td>0.0</td>\n",
       "      <td>-0.318182</td>\n",
       "      <td>0.0</td>\n",
       "      <td>1.133333</td>\n",
       "      <td>1.033333</td>\n",
       "      <td>...</td>\n",
       "      <td>0.0</td>\n",
       "      <td>0.0</td>\n",
       "      <td>0.0</td>\n",
       "      <td>0.0</td>\n",
       "      <td>0.0</td>\n",
       "      <td>0.0</td>\n",
       "      <td>0.0</td>\n",
       "      <td>4.0</td>\n",
       "      <td>2.0</td>\n",
       "      <td>1.076577</td>\n",
       "    </tr>\n",
       "    <tr>\n",
       "      <th>32411</th>\n",
       "      <td>-1.00</td>\n",
       "      <td>0.0</td>\n",
       "      <td>-0.176471</td>\n",
       "      <td>0.0</td>\n",
       "      <td>0.0</td>\n",
       "      <td>0.0</td>\n",
       "      <td>0.250000</td>\n",
       "      <td>0.0</td>\n",
       "      <td>1.133333</td>\n",
       "      <td>1.033333</td>\n",
       "      <td>...</td>\n",
       "      <td>0.0</td>\n",
       "      <td>0.0</td>\n",
       "      <td>0.0</td>\n",
       "      <td>0.0</td>\n",
       "      <td>0.0</td>\n",
       "      <td>0.0</td>\n",
       "      <td>0.0</td>\n",
       "      <td>0.0</td>\n",
       "      <td>2.0</td>\n",
       "      <td>3.063063</td>\n",
       "    </tr>\n",
       "  </tbody>\n",
       "</table>\n",
       "<p>32412 rows × 24 columns</p>\n",
       "</div>"
      ],
      "text/plain": [
       "       arrival_date_month  meal   country  distribution_channel  \\\n",
       "0                   -0.25   0.0  0.647059                   0.0   \n",
       "1                   -0.25   0.0 -0.882353                   0.0   \n",
       "2                   -0.25   0.0 -0.882353                   0.0   \n",
       "3                   -0.25   0.0  0.647059                   0.0   \n",
       "4                   -0.25   0.0 -0.823529                   0.0   \n",
       "...                   ...   ...       ...                   ...   \n",
       "32407               -1.00   0.0 -0.470588                   0.0   \n",
       "32408               -1.00   0.0 -0.823529                   0.0   \n",
       "32409               -1.00   0.0 -0.823529                   0.0   \n",
       "32410               -1.00   0.0 -0.470588                   0.0   \n",
       "32411               -1.00   0.0 -0.176471                   0.0   \n",
       "\n",
       "       reserved_room_type  customer_type  lead_time  arrival_date_year  \\\n",
       "0                     0.0            0.0  -0.015152                0.0   \n",
       "1                     0.0            0.0  -0.106061                0.0   \n",
       "2                     0.0            0.0  -0.106061                0.0   \n",
       "3                     0.0            0.0  -0.037879                0.0   \n",
       "4                     0.0            0.0   0.727273                0.0   \n",
       "...                   ...            ...        ...                ...   \n",
       "32407                 0.0            0.0   0.666667                0.0   \n",
       "32408                 0.0            0.0  -0.416667                0.0   \n",
       "32409                 0.0            0.0  -0.401515                0.0   \n",
       "32410                 1.0            0.0  -0.318182                0.0   \n",
       "32411                 0.0            0.0   0.250000                0.0   \n",
       "\n",
       "       arrival_date_week_number  arrival_date_day_of_month  ...  babies  \\\n",
       "0                     -1.133333                  -0.966667  ...     0.0   \n",
       "1                     -1.133333                  -0.966667  ...     0.0   \n",
       "2                     -1.133333                  -0.966667  ...     0.0   \n",
       "3                     -1.133333                  -0.966667  ...     0.0   \n",
       "4                     -1.133333                  -0.966667  ...     0.0   \n",
       "...                         ...                        ...  ...     ...   \n",
       "32407                  1.133333                   1.033333  ...     0.0   \n",
       "32408                  1.133333                   0.966667  ...     0.0   \n",
       "32409                  1.133333                   0.966667  ...     0.0   \n",
       "32410                  1.133333                   1.033333  ...     0.0   \n",
       "32411                  1.133333                   1.033333  ...     0.0   \n",
       "\n",
       "       is_repeated_guest  previous_cancellations  \\\n",
       "0                    0.0                     0.0   \n",
       "1                    0.0                     0.0   \n",
       "2                    0.0                     0.0   \n",
       "3                    0.0                     0.0   \n",
       "4                    0.0                     0.0   \n",
       "...                  ...                     ...   \n",
       "32407                0.0                     0.0   \n",
       "32408                0.0                     0.0   \n",
       "32409                0.0                     0.0   \n",
       "32410                0.0                     0.0   \n",
       "32411                0.0                     0.0   \n",
       "\n",
       "       previous_bookings_not_canceled  booking_changes  days_in_waiting_list  \\\n",
       "0                                 0.0              0.0                   0.0   \n",
       "1                                 0.0              0.0                   0.0   \n",
       "2                                 0.0              0.0                   0.0   \n",
       "3                                 0.0              0.0                   0.0   \n",
       "4                                 0.0              0.0                   0.0   \n",
       "...                               ...              ...                   ...   \n",
       "32407                             0.0              0.0                   0.0   \n",
       "32408                             0.0              0.0                   0.0   \n",
       "32409                             0.0              0.0                   0.0   \n",
       "32410                             0.0              0.0                   0.0   \n",
       "32411                             0.0              0.0                   0.0   \n",
       "\n",
       "       required_car_parking_spaces  total_of_special_requests  total_nights  \\\n",
       "0                              0.0                        0.0          -1.0   \n",
       "1                              0.0                        1.0           0.5   \n",
       "2                              0.0                        1.0           0.5   \n",
       "3                              0.0                        1.0           0.5   \n",
       "4                              0.0                        0.0           2.0   \n",
       "...                            ...                        ...           ...   \n",
       "32407                          0.0                        0.0           1.5   \n",
       "32408                          0.0                        2.0           2.0   \n",
       "32409                          0.0                        0.0           2.0   \n",
       "32410                          0.0                        4.0           2.0   \n",
       "32411                          0.0                        0.0           2.0   \n",
       "\n",
       "          price  \n",
       "0     -0.900901  \n",
       "1      0.450450  \n",
       "2      0.450450  \n",
       "3      0.450450  \n",
       "4      1.801802  \n",
       "...         ...  \n",
       "32407  2.432432  \n",
       "32408  3.063063  \n",
       "32409  3.063063  \n",
       "32410  1.076577  \n",
       "32411  3.063063  \n",
       "\n",
       "[32412 rows x 24 columns]"
      ]
     },
     "execution_count": 107,
     "metadata": {},
     "output_type": "execute_result"
    }
   ],
   "source": [
    "\n",
    "\n",
    "\n",
    "features_test = data_ordinal_2_test.join(d2_qt_test, how='left')\n",
    "\n",
    "features_test[numeric] = scaler_1.fit_transform(features_test[numeric])\n",
    "\n",
    "\n",
    "features_test\n",
    "\n"
   ]
  },
  {
   "cell_type": "markdown",
   "metadata": {},
   "source": [
    "<div class=\"alert alert-block alert-danger\">\n",
    "<h2> Комментарий ревьюера <a class=\"tocSkip\"></h2>\n",
    "\n",
    "    \n",
    "<b>На доработку🤔:</b>\n",
    "    \n",
    "Тестовый данные стоит трансформировать с помощью OrdinalEncoder, обученного на тренировочных данных и с помощью скейлера, обученного на тренировочных данных.\n",
    "    "
   ]
  },
  {
   "cell_type": "markdown",
   "metadata": {},
   "source": [
    "Получим предсказание, выведем на экран "
   ]
  },
  {
   "cell_type": "code",
   "execution_count": 108,
   "metadata": {},
   "outputs": [],
   "source": [
    "predicted_valid_tree = best_model_tree.predict(features_test)\n",
    "predicted_valid_forest = best_model_forest.predict(features_test)\n",
    "predicted_valid_log = model_log.predict(features_test)"
   ]
  },
  {
   "cell_type": "code",
   "execution_count": 109,
   "metadata": {},
   "outputs": [],
   "source": [
    "d2['predictions_valid_tree'] = pd.Series(predicted_valid_tree)\n",
    "d2['predictions_valid_forest'] = pd.Series(predicted_valid_forest)\n",
    "d2['predictions_valid_log'] = pd.Series(predicted_valid_log)"
   ]
  },
  {
   "cell_type": "markdown",
   "metadata": {},
   "source": [
    "Добавим столбецы с предсказанием в таблицу."
   ]
  },
  {
   "cell_type": "code",
   "execution_count": 110,
   "metadata": {},
   "outputs": [
    {
     "data": {
      "text/html": [
       "<div>\n",
       "<style scoped>\n",
       "    .dataframe tbody tr th:only-of-type {\n",
       "        vertical-align: middle;\n",
       "    }\n",
       "\n",
       "    .dataframe tbody tr th {\n",
       "        vertical-align: top;\n",
       "    }\n",
       "\n",
       "    .dataframe thead th {\n",
       "        text-align: right;\n",
       "    }\n",
       "</style>\n",
       "<table border=\"1\" class=\"dataframe\">\n",
       "  <thead>\n",
       "    <tr style=\"text-align: right;\">\n",
       "      <th></th>\n",
       "      <th>is_canceled</th>\n",
       "      <th>lead_time</th>\n",
       "      <th>arrival_date_year</th>\n",
       "      <th>arrival_date_month</th>\n",
       "      <th>arrival_date_week_number</th>\n",
       "      <th>arrival_date_day_of_month</th>\n",
       "      <th>stays_in_weekend_nights</th>\n",
       "      <th>stays_in_week_nights</th>\n",
       "      <th>adults</th>\n",
       "      <th>children</th>\n",
       "      <th>...</th>\n",
       "      <th>booking_changes</th>\n",
       "      <th>days_in_waiting_list</th>\n",
       "      <th>customer_type</th>\n",
       "      <th>required_car_parking_spaces</th>\n",
       "      <th>total_of_special_requests</th>\n",
       "      <th>total_nights</th>\n",
       "      <th>price</th>\n",
       "      <th>predictions_valid_tree</th>\n",
       "      <th>predictions_valid_forest</th>\n",
       "      <th>predictions_valid_log</th>\n",
       "    </tr>\n",
       "  </thead>\n",
       "  <tbody>\n",
       "    <tr>\n",
       "      <th>0</th>\n",
       "      <td>1</td>\n",
       "      <td>74.0</td>\n",
       "      <td>2017</td>\n",
       "      <td>January</td>\n",
       "      <td>1</td>\n",
       "      <td>1</td>\n",
       "      <td>1</td>\n",
       "      <td>0</td>\n",
       "      <td>2.0</td>\n",
       "      <td>0.0</td>\n",
       "      <td>...</td>\n",
       "      <td>0</td>\n",
       "      <td>0</td>\n",
       "      <td>Transient</td>\n",
       "      <td>0</td>\n",
       "      <td>0</td>\n",
       "      <td>1</td>\n",
       "      <td>1000.0</td>\n",
       "      <td>0</td>\n",
       "      <td>1</td>\n",
       "      <td>1</td>\n",
       "    </tr>\n",
       "    <tr>\n",
       "      <th>1</th>\n",
       "      <td>1</td>\n",
       "      <td>62.0</td>\n",
       "      <td>2017</td>\n",
       "      <td>January</td>\n",
       "      <td>1</td>\n",
       "      <td>1</td>\n",
       "      <td>2</td>\n",
       "      <td>2</td>\n",
       "      <td>2.0</td>\n",
       "      <td>0.0</td>\n",
       "      <td>...</td>\n",
       "      <td>0</td>\n",
       "      <td>0</td>\n",
       "      <td>Transient</td>\n",
       "      <td>0</td>\n",
       "      <td>1</td>\n",
       "      <td>4</td>\n",
       "      <td>4000.0</td>\n",
       "      <td>0</td>\n",
       "      <td>0</td>\n",
       "      <td>0</td>\n",
       "    </tr>\n",
       "    <tr>\n",
       "      <th>2</th>\n",
       "      <td>1</td>\n",
       "      <td>62.0</td>\n",
       "      <td>2017</td>\n",
       "      <td>January</td>\n",
       "      <td>1</td>\n",
       "      <td>1</td>\n",
       "      <td>2</td>\n",
       "      <td>2</td>\n",
       "      <td>2.0</td>\n",
       "      <td>0.0</td>\n",
       "      <td>...</td>\n",
       "      <td>0</td>\n",
       "      <td>0</td>\n",
       "      <td>Transient</td>\n",
       "      <td>0</td>\n",
       "      <td>1</td>\n",
       "      <td>4</td>\n",
       "      <td>4000.0</td>\n",
       "      <td>0</td>\n",
       "      <td>0</td>\n",
       "      <td>0</td>\n",
       "    </tr>\n",
       "    <tr>\n",
       "      <th>3</th>\n",
       "      <td>1</td>\n",
       "      <td>71.0</td>\n",
       "      <td>2017</td>\n",
       "      <td>January</td>\n",
       "      <td>1</td>\n",
       "      <td>1</td>\n",
       "      <td>2</td>\n",
       "      <td>2</td>\n",
       "      <td>1.0</td>\n",
       "      <td>0.0</td>\n",
       "      <td>...</td>\n",
       "      <td>0</td>\n",
       "      <td>0</td>\n",
       "      <td>Transient</td>\n",
       "      <td>0</td>\n",
       "      <td>1</td>\n",
       "      <td>4</td>\n",
       "      <td>4000.0</td>\n",
       "      <td>0</td>\n",
       "      <td>0</td>\n",
       "      <td>0</td>\n",
       "    </tr>\n",
       "    <tr>\n",
       "      <th>4</th>\n",
       "      <td>1</td>\n",
       "      <td>172.0</td>\n",
       "      <td>2017</td>\n",
       "      <td>January</td>\n",
       "      <td>1</td>\n",
       "      <td>1</td>\n",
       "      <td>2</td>\n",
       "      <td>5</td>\n",
       "      <td>2.0</td>\n",
       "      <td>0.0</td>\n",
       "      <td>...</td>\n",
       "      <td>0</td>\n",
       "      <td>0</td>\n",
       "      <td>Transient</td>\n",
       "      <td>0</td>\n",
       "      <td>0</td>\n",
       "      <td>7</td>\n",
       "      <td>7000.0</td>\n",
       "      <td>0</td>\n",
       "      <td>0</td>\n",
       "      <td>0</td>\n",
       "    </tr>\n",
       "  </tbody>\n",
       "</table>\n",
       "<p>5 rows × 28 columns</p>\n",
       "</div>"
      ],
      "text/plain": [
       "   is_canceled  lead_time  arrival_date_year arrival_date_month  \\\n",
       "0            1       74.0               2017            January   \n",
       "1            1       62.0               2017            January   \n",
       "2            1       62.0               2017            January   \n",
       "3            1       71.0               2017            January   \n",
       "4            1      172.0               2017            January   \n",
       "\n",
       "   arrival_date_week_number  arrival_date_day_of_month  \\\n",
       "0                         1                          1   \n",
       "1                         1                          1   \n",
       "2                         1                          1   \n",
       "3                         1                          1   \n",
       "4                         1                          1   \n",
       "\n",
       "   stays_in_weekend_nights  stays_in_week_nights  adults  children  ...  \\\n",
       "0                        1                     0     2.0       0.0  ...   \n",
       "1                        2                     2     2.0       0.0  ...   \n",
       "2                        2                     2     2.0       0.0  ...   \n",
       "3                        2                     2     1.0       0.0  ...   \n",
       "4                        2                     5     2.0       0.0  ...   \n",
       "\n",
       "   booking_changes days_in_waiting_list customer_type  \\\n",
       "0                0                    0     Transient   \n",
       "1                0                    0     Transient   \n",
       "2                0                    0     Transient   \n",
       "3                0                    0     Transient   \n",
       "4                0                    0     Transient   \n",
       "\n",
       "  required_car_parking_spaces  total_of_special_requests  total_nights  \\\n",
       "0                           0                          0             1   \n",
       "1                           0                          1             4   \n",
       "2                           0                          1             4   \n",
       "3                           0                          1             4   \n",
       "4                           0                          0             7   \n",
       "\n",
       "    price predictions_valid_tree  predictions_valid_forest  \\\n",
       "0  1000.0                      0                         1   \n",
       "1  4000.0                      0                         0   \n",
       "2  4000.0                      0                         0   \n",
       "3  4000.0                      0                         0   \n",
       "4  7000.0                      0                         0   \n",
       "\n",
       "   predictions_valid_log  \n",
       "0                      1  \n",
       "1                      0  \n",
       "2                      0  \n",
       "3                      0  \n",
       "4                      0  \n",
       "\n",
       "[5 rows x 28 columns]"
      ]
     },
     "execution_count": 110,
     "metadata": {},
     "output_type": "execute_result"
    }
   ],
   "source": [
    "d2.head()"
   ]
  },
  {
   "cell_type": "markdown",
   "metadata": {},
   "source": [
    "Посчитаем на сколько удалось уменьшить расхоры благодоря предсказаниям модели."
   ]
  },
  {
   "cell_type": "code",
   "execution_count": 111,
   "metadata": {},
   "outputs": [],
   "source": [
    "def count_tree(row):\n",
    "    try:\n",
    "        if row['is_canceled'] == 1 and row['predictions_valid_tree'] == 1:\n",
    "            t = fun_t(row['reserved_room_type'])\n",
    "            count = (t*seas(row['arrival_date_month']))*0.8 + f(row['reserved_room_type'], 0)\n",
    "            return count\n",
    "        else:\n",
    "            return 0\n",
    "    except:\n",
    "        pass\n",
    "\n",
    "def count_forest(row):\n",
    "    try:\n",
    "        if row['is_canceled'] == 1 and row['predictions_valid_forest'] == 1:\n",
    "            t = fun_t(row['reserved_room_type'])\n",
    "            count = (t*seas(row['arrival_date_month']))*0.8 + f(row['reserved_room_type'], 0)\n",
    "            return count\n",
    "        else:\n",
    "            return 0\n",
    "    except:\n",
    "        pass\n",
    "    \n",
    "def count_log(row):\n",
    "    try:\n",
    "        if row['is_canceled'] == 1 and row['predictions_valid_log'] == 1:\n",
    "            t = fun_t(row['reserved_room_type'])\n",
    "            count = (t*seas(row['arrival_date_month']))*0.8 + f(row['reserved_room_type'], 0)*0.8\n",
    "            return count\n",
    "        else:\n",
    "            return 0\n",
    "    except:\n",
    "        pass"
   ]
  },
  {
   "cell_type": "markdown",
   "metadata": {},
   "source": [
    "<div class=\"alert alert-success\">\n",
    "    \n",
    "<h2> Комментарий ревьюера №2<a class=\"tocSkip\"> </h2>\n",
    "\n",
    "<b>Все отлично!👍</b> "
   ]
  },
  {
   "cell_type": "markdown",
   "metadata": {},
   "source": [
    "<div class=\"alert alert-block alert-danger\">\n",
    "<h2> Комментарий ревьюера <a class=\"tocSkip\"></h2>\n",
    "\n",
    "    \n",
    "<b>На доработку🤔:</b>\n",
    "    \n",
    "Здесь в расчете не учетно, что 80% берется такде от стоимости уборки, а не полная стоимость уборки \n",
    "    \n",
    "**Размер депозита — 80% от стоимости номера за одни сутки и затрат на разовую уборку.**\n",
    "    \n",
    "Также стоит учесть, что расходы (убыток в виде 1 сезонной стоимости номера и 1 уборки) сохраняются."
   ]
  },
  {
   "cell_type": "code",
   "execution_count": 112,
   "metadata": {},
   "outputs": [],
   "source": [
    "d2['count_tree']  = d2.apply(count_tree, axis = 1)\n",
    "d2['count_forest']  = d2.apply(count_forest, axis = 1)\n",
    "d2['count_log']  = d2.apply(count_log, axis = 1)"
   ]
  },
  {
   "cell_type": "code",
   "execution_count": 113,
   "metadata": {},
   "outputs": [
    {
     "name": "stdout",
     "output_type": "stream",
     "text": [
      "Потенциальная сумма выручки благодоря приогнозу системы(дерево решений):           42958\n",
      "Потенциальная сумма выручки благодоря приогнозу системы(случайный лес):            8777158\n",
      "Потенциальная сумма выручки благодоря приогнозу системы(логистическая регрессия):  10374552\n"
     ]
    }
   ],
   "source": [
    "print('Потенциальная сумма выручки благодоря приогнозу системы(дерево решений):          ',int(d2['count_tree'].sum()))\n",
    "print('Потенциальная сумма выручки благодоря приогнозу системы(случайный лес):           ',int(d2['count_forest'].sum()))\n",
    "print('Потенциальная сумма выручки благодоря приогнозу системы(логистическая регрессия): ',int(d2['count_log'].sum()))"
   ]
  },
  {
   "cell_type": "markdown",
   "metadata": {},
   "source": [
    "Посмотрим на стоблцы с предсказаниями."
   ]
  },
  {
   "cell_type": "code",
   "execution_count": 114,
   "metadata": {},
   "outputs": [
    {
     "data": {
      "text/html": [
       "<div>\n",
       "<style scoped>\n",
       "    .dataframe tbody tr th:only-of-type {\n",
       "        vertical-align: middle;\n",
       "    }\n",
       "\n",
       "    .dataframe tbody tr th {\n",
       "        vertical-align: top;\n",
       "    }\n",
       "\n",
       "    .dataframe thead th {\n",
       "        text-align: right;\n",
       "    }\n",
       "</style>\n",
       "<table border=\"1\" class=\"dataframe\">\n",
       "  <thead>\n",
       "    <tr style=\"text-align: right;\">\n",
       "      <th></th>\n",
       "      <th>is_canceled</th>\n",
       "      <th>predictions_valid_tree</th>\n",
       "      <th>predictions_valid_forest</th>\n",
       "      <th>predictions_valid_log</th>\n",
       "    </tr>\n",
       "  </thead>\n",
       "  <tbody>\n",
       "    <tr>\n",
       "      <th>0</th>\n",
       "      <td>1</td>\n",
       "      <td>0</td>\n",
       "      <td>1</td>\n",
       "      <td>1</td>\n",
       "    </tr>\n",
       "    <tr>\n",
       "      <th>1</th>\n",
       "      <td>1</td>\n",
       "      <td>0</td>\n",
       "      <td>0</td>\n",
       "      <td>0</td>\n",
       "    </tr>\n",
       "    <tr>\n",
       "      <th>2</th>\n",
       "      <td>1</td>\n",
       "      <td>0</td>\n",
       "      <td>0</td>\n",
       "      <td>0</td>\n",
       "    </tr>\n",
       "    <tr>\n",
       "      <th>3</th>\n",
       "      <td>1</td>\n",
       "      <td>0</td>\n",
       "      <td>0</td>\n",
       "      <td>0</td>\n",
       "    </tr>\n",
       "    <tr>\n",
       "      <th>4</th>\n",
       "      <td>1</td>\n",
       "      <td>0</td>\n",
       "      <td>0</td>\n",
       "      <td>0</td>\n",
       "    </tr>\n",
       "    <tr>\n",
       "      <th>...</th>\n",
       "      <td>...</td>\n",
       "      <td>...</td>\n",
       "      <td>...</td>\n",
       "      <td>...</td>\n",
       "    </tr>\n",
       "    <tr>\n",
       "      <th>32407</th>\n",
       "      <td>0</td>\n",
       "      <td>0</td>\n",
       "      <td>1</td>\n",
       "      <td>1</td>\n",
       "    </tr>\n",
       "    <tr>\n",
       "      <th>32408</th>\n",
       "      <td>0</td>\n",
       "      <td>0</td>\n",
       "      <td>0</td>\n",
       "      <td>0</td>\n",
       "    </tr>\n",
       "    <tr>\n",
       "      <th>32409</th>\n",
       "      <td>0</td>\n",
       "      <td>0</td>\n",
       "      <td>0</td>\n",
       "      <td>0</td>\n",
       "    </tr>\n",
       "    <tr>\n",
       "      <th>32410</th>\n",
       "      <td>0</td>\n",
       "      <td>0</td>\n",
       "      <td>0</td>\n",
       "      <td>0</td>\n",
       "    </tr>\n",
       "    <tr>\n",
       "      <th>32411</th>\n",
       "      <td>0</td>\n",
       "      <td>0</td>\n",
       "      <td>0</td>\n",
       "      <td>1</td>\n",
       "    </tr>\n",
       "  </tbody>\n",
       "</table>\n",
       "<p>32412 rows × 4 columns</p>\n",
       "</div>"
      ],
      "text/plain": [
       "       is_canceled  predictions_valid_tree  predictions_valid_forest  \\\n",
       "0                1                       0                         1   \n",
       "1                1                       0                         0   \n",
       "2                1                       0                         0   \n",
       "3                1                       0                         0   \n",
       "4                1                       0                         0   \n",
       "...            ...                     ...                       ...   \n",
       "32407            0                       0                         1   \n",
       "32408            0                       0                         0   \n",
       "32409            0                       0                         0   \n",
       "32410            0                       0                         0   \n",
       "32411            0                       0                         0   \n",
       "\n",
       "       predictions_valid_log  \n",
       "0                          1  \n",
       "1                          0  \n",
       "2                          0  \n",
       "3                          0  \n",
       "4                          0  \n",
       "...                      ...  \n",
       "32407                      1  \n",
       "32408                      0  \n",
       "32409                      0  \n",
       "32410                      0  \n",
       "32411                      1  \n",
       "\n",
       "[32412 rows x 4 columns]"
      ]
     },
     "execution_count": 114,
     "metadata": {},
     "output_type": "execute_result"
    }
   ],
   "source": [
    "d2[['is_canceled', 'predictions_valid_tree', 'predictions_valid_forest', 'predictions_valid_log' ]]"
   ]
  },
  {
   "cell_type": "code",
   "execution_count": 115,
   "metadata": {},
   "outputs": [
    {
     "name": "stdout",
     "output_type": "stream",
     "text": [
      "Модель дерево решений предсвазала отказ от брони:       191\n",
      "Модель дерево решений предсвазала  правильно:           35\n",
      "\n",
      "Модель случайный лес  предсвазала отказ от брони:       2639\n",
      "Модель случайный лес  предсвазала  правильно:           6968\n",
      "\n",
      "Модель логистическая рег. предсвазала отказ от брони:   5996\n",
      "Модель логистическая рег. предсвазала  правильно:       8870\n"
     ]
    }
   ],
   "source": [
    "print('Модель дерево решений предсвазала отказ от брони:      ', d2[(d2['is_canceled'] ==0) & (d2['predictions_valid_tree']==1)].shape[0])\n",
    "print('Модель дерево решений предсвазала  правильно:          ', d2[(d2['is_canceled'] ==1) & (d2['predictions_valid_tree']==1)].shape[0])\n",
    "print()\n",
    "print('Модель случайный лес  предсвазала отказ от брони:      ', d2[(d2['is_canceled'] ==0) & (d2['predictions_valid_forest']==1)].shape[0])\n",
    "print('Модель случайный лес  предсвазала  правильно:          ', d2[(d2['is_canceled'] ==1) & (d2['predictions_valid_forest']==1)].shape[0])\n",
    "print()\n",
    "print('Модель логистическая рег. предсвазала отказ от брони:  ', d2[(d2['is_canceled'] ==0) & (d2['predictions_valid_log']==1)].shape[0])\n",
    "print('Модель логистическая рег. предсвазала  правильно:      ', d2[(d2['is_canceled'] ==1) & (d2['predictions_valid_log']==1)].shape[0])"
   ]
  },
  {
   "cell_type": "markdown",
   "metadata": {},
   "source": [
    "   Для бизнеса важна  модель которая  предсказала  как можно меньше положительных\n",
    "ответов которые  оказались  отрицательными так  как  бизнес  сознательно идет  на \n",
    "убытки отменяя плату за бронирование отеля.\n",
    "   Предлагая клиентам внести предоплату за отель отпугивает потенциальных клиентов.\n",
    "По расчетам видно:\n",
    "\n",
    "Модель дерево решений  не правильно предсвазала отказ от брони 191 клиентам.\n",
    "Модель случайный лес не правильно предсвазала отказ от брони 2639 клиентам.\n",
    "Модель логистическая рег. не правильно предсвазала отказ от брони 6025 клиентам.\n",
    "\n",
    "Модель случайный лес совершила значительно меньше ошибок чем другие модели.   "
   ]
  },
  {
   "cell_type": "markdown",
   "metadata": {},
   "source": [
    "Псчитаем   колличество отказов в таблице d2. "
   ]
  },
  {
   "cell_type": "code",
   "execution_count": 116,
   "metadata": {},
   "outputs": [
    {
     "data": {
      "text/plain": [
       "12591"
      ]
     },
     "execution_count": 116,
     "metadata": {},
     "output_type": "execute_result"
    }
   ],
   "source": [
    "d2[d2['is_canceled'] ==1].shape[0]"
   ]
  },
  {
   "cell_type": "markdown",
   "metadata": {},
   "source": [
    "Оценим  качество модели и помощью  кросс-валидации."
   ]
  },
  {
   "cell_type": "code",
   "execution_count": 117,
   "metadata": {},
   "outputs": [
    {
     "name": "stdout",
     "output_type": "stream",
     "text": [
      "Средняя оценка качества модели дерево решений: 0.10617371403661728\n"
     ]
    },
    {
     "name": "stderr",
     "output_type": "stream",
     "text": [
      "/opt/conda/lib/python3.9/site-packages/sklearn/metrics/_classification.py:1334: UndefinedMetricWarning: Precision is ill-defined and being set to 0.0 due to no predicted samples. Use `zero_division` parameter to control this behavior.\n",
      "  _warn_prf(average, modifier, msg_start, len(result))\n",
      "/opt/conda/lib/python3.9/site-packages/sklearn/metrics/_classification.py:1334: UndefinedMetricWarning: Precision is ill-defined and being set to 0.0 due to no predicted samples. Use `zero_division` parameter to control this behavior.\n",
      "  _warn_prf(average, modifier, msg_start, len(result))\n",
      "/opt/conda/lib/python3.9/site-packages/sklearn/metrics/_classification.py:1334: UndefinedMetricWarning: Precision is ill-defined and being set to 0.0 due to no predicted samples. Use `zero_division` parameter to control this behavior.\n",
      "  _warn_prf(average, modifier, msg_start, len(result))\n"
     ]
    }
   ],
   "source": [
    "scores = []\n",
    "\n",
    "sample_size = int(len(d2)/6)\n",
    "\n",
    "for i in range(0, len(d2), sample_size):\n",
    "    valid_indexes = d2.iloc[i: i + sample_size].index# < запишите массив из индексов для валидационного блока >\n",
    "    train_indexes = (d2.iloc[:i] + d2.iloc[i+sample_size:]).index\n",
    "    \n",
    "    features_train = features_test.iloc[train_indexes]\n",
    "    target_train = target_test.iloc[train_indexes]\n",
    "    features_valid = features_test.iloc[valid_indexes]\n",
    "    target_valid = target_test.iloc[valid_indexes]\n",
    "    \n",
    "    p = best_model_tree.predict(features_valid)\n",
    "    score = precision_score(target_valid, p)\n",
    "    \n",
    "    scores.append(score)\n",
    "\n",
    "final_score = pd.Series(scores).mean()\n",
    "\n",
    "print('Средняя оценка качества модели дерево решений:', final_score)"
   ]
  },
  {
   "cell_type": "code",
   "execution_count": 118,
   "metadata": {},
   "outputs": [
    {
     "name": "stdout",
     "output_type": "stream",
     "text": [
      "Средняя оценка качества модели случайный лес: 0.5611531911011957\n"
     ]
    }
   ],
   "source": [
    "scores = []\n",
    "\n",
    "sample_size = int(len(d2)/6)\n",
    "\n",
    "for i in range(0, len(d2), sample_size):\n",
    "    valid_indexes = d2.iloc[i: i + sample_size].index# < запишите массив из индексов для валидационного блока >\n",
    "    train_indexes = (d2.iloc[:i] + d2.iloc[i+sample_size:]).index\n",
    "    \n",
    "    features_train = features_test.iloc[train_indexes]\n",
    "    target_train = target_test.iloc[train_indexes]\n",
    "    features_valid = features_test.iloc[valid_indexes]\n",
    "    target_valid = target_test.iloc[valid_indexes]\n",
    "    \n",
    "    p = best_model_forest.predict(features_valid)\n",
    "    score = precision_score(target_valid, p)\n",
    "    \n",
    "    scores.append(score)\n",
    "\n",
    "final_score = pd.Series(scores).mean()\n",
    "\n",
    "print('Средняя оценка качества модели случайный лес:', final_score)"
   ]
  },
  {
   "cell_type": "code",
   "execution_count": 119,
   "metadata": {},
   "outputs": [
    {
     "name": "stdout",
     "output_type": "stream",
     "text": [
      "Средняя оценка качества модели логистическая регрессия:  0.5143193409964942\n"
     ]
    }
   ],
   "source": [
    "scores = []\n",
    "\n",
    "sample_size = int(len(d2)/6)\n",
    "\n",
    "for i in range(0, len(d2), sample_size):\n",
    "    valid_indexes = d2.iloc[i: i + sample_size].index# < запишите массив из индексов для валидационного блока >\n",
    "    train_indexes = (d2.iloc[:i] + d2.iloc[i+sample_size:]).index\n",
    "    \n",
    "    features_train = features_test.iloc[train_indexes]\n",
    "    target_train = target_test.iloc[train_indexes]\n",
    "    features_valid = features_test.iloc[valid_indexes]\n",
    "    target_valid = target_test.iloc[valid_indexes]\n",
    "    \n",
    "    p = model_log.predict(features_valid)\n",
    "    score = precision_score(target_valid, p)\n",
    "    \n",
    "    scores.append(score)\n",
    "\n",
    "final_score = pd.Series(scores).mean()\n",
    "\n",
    "print('Средняя оценка качества модели логистическая регрессия: ', final_score)"
   ]
  },
  {
   "cell_type": "code",
   "execution_count": 120,
   "metadata": {},
   "outputs": [],
   "source": [
    "#scores = cross_validate(best_model_tree, iris.features_test, iris.target_test, scoring=score, cv = 5)\n",
    "#scores = cross_val_score(best_model_tree, features_test, target_test, scoring=make_scorer, cv = 5)# < посчитайте оценки, вызвав функцию cross_value_score с пятью блоками >\n",
    "#final_score = pd.Series(scores).mean()\n",
    "#print('Средняя оценка качества модели:', final_score)"
   ]
  },
  {
   "cell_type": "code",
   "execution_count": 121,
   "metadata": {},
   "outputs": [],
   "source": [
    "#scores = cross_val_score(best_model_forest, features_test, target_test, cv = 5)# < посчитайте оценки, вызвав функцию cross_value_score с пятью блоками >\n",
    "#final_score = pd.Series(scores).mean()\n",
    "#print('Средняя оценка качества модели:', final_score)"
   ]
  },
  {
   "cell_type": "code",
   "execution_count": 122,
   "metadata": {},
   "outputs": [],
   "source": [
    "#scores = cross_val_score(model_log, features_test, target_test, cv = 5)# < посчитайте оценки, вызвав функцию cross_value_score с пятью блоками >\n",
    "#final_score = pd.Series(scores).mean()\n",
    "#print('Средняя оценка качества модели:', final_score)"
   ]
  },
  {
   "cell_type": "markdown",
   "metadata": {},
   "source": [
    "Самая лучшая модель - логистическая регрессия, касечтво 0.69"
   ]
  },
  {
   "cell_type": "markdown",
   "metadata": {},
   "source": [
    "<div class=\"alert alert-block alert-danger\">\n",
    "<h2> Комментарий ревьюера <a class=\"tocSkip\"></h2>\n",
    "\n",
    "    \n",
    "<b>На доработку🤔:</b>\n",
    "    \n",
    "В процессе кросс-валидации стоит указать нужную метрику\n",
    "    \n",
    "    \n",
    "Также для лучшей модели стоит расчитать метрику на тестовой выборке.\n",
    "    "
   ]
  },
  {
   "cell_type": "markdown",
   "metadata": {},
   "source": []
  },
  {
   "cell_type": "markdown",
   "metadata": {},
   "source": []
  },
  {
   "cell_type": "markdown",
   "metadata": {},
   "source": [
    "### Шаг 5. Опишите портрет «ненадёжного» клиента"
   ]
  },
  {
   "cell_type": "markdown",
   "metadata": {},
   "source": [
    "Для описания ненадежного клиента воспользуемся данными получиными в процессе\n",
    "предыдущих исследований."
   ]
  },
  {
   "cell_type": "markdown",
   "metadata": {},
   "source": [
    "Таблица корреляции основного признака с колличественными признаками."
   ]
  },
  {
   "cell_type": "code",
   "execution_count": 123,
   "metadata": {},
   "outputs": [
    {
     "data": {
      "text/html": [
       "<div>\n",
       "<style scoped>\n",
       "    .dataframe tbody tr th:only-of-type {\n",
       "        vertical-align: middle;\n",
       "    }\n",
       "\n",
       "    .dataframe tbody tr th {\n",
       "        vertical-align: top;\n",
       "    }\n",
       "\n",
       "    .dataframe thead th {\n",
       "        text-align: right;\n",
       "    }\n",
       "</style>\n",
       "<table border=\"1\" class=\"dataframe\">\n",
       "  <thead>\n",
       "    <tr style=\"text-align: right;\">\n",
       "      <th></th>\n",
       "      <th>Значения столбцов</th>\n",
       "      <th>Корреляция с основным признаком</th>\n",
       "    </tr>\n",
       "  </thead>\n",
       "  <tbody>\n",
       "    <tr>\n",
       "      <th>0</th>\n",
       "      <td>количество дней между датой бронирования и дат...</td>\n",
       "      <td>-0.616536</td>\n",
       "    </tr>\n",
       "    <tr>\n",
       "      <th>1</th>\n",
       "      <td>год заезда</td>\n",
       "      <td>1.000000</td>\n",
       "    </tr>\n",
       "    <tr>\n",
       "      <th>2</th>\n",
       "      <td>неделя заезда</td>\n",
       "      <td>0.600616</td>\n",
       "    </tr>\n",
       "    <tr>\n",
       "      <th>3</th>\n",
       "      <td>день заезда</td>\n",
       "      <td>-0.104696</td>\n",
       "    </tr>\n",
       "    <tr>\n",
       "      <th>4</th>\n",
       "      <td>количество ночей в выходные дни</td>\n",
       "      <td>-0.951344</td>\n",
       "    </tr>\n",
       "    <tr>\n",
       "      <th>5</th>\n",
       "      <td>количество ночей в будние дни</td>\n",
       "      <td>-0.447865</td>\n",
       "    </tr>\n",
       "    <tr>\n",
       "      <th>6</th>\n",
       "      <td>количество взрослых постояльцев</td>\n",
       "      <td>-0.062893</td>\n",
       "    </tr>\n",
       "    <tr>\n",
       "      <th>7</th>\n",
       "      <td>количество детей от 3 до 14 лет</td>\n",
       "      <td>-0.788436</td>\n",
       "    </tr>\n",
       "    <tr>\n",
       "      <th>8</th>\n",
       "      <td>количество младенцев</td>\n",
       "      <td>-0.522687</td>\n",
       "    </tr>\n",
       "    <tr>\n",
       "      <th>9</th>\n",
       "      <td>признак того, что гость бронирует номер второй...</td>\n",
       "      <td>-1.000000</td>\n",
       "    </tr>\n",
       "    <tr>\n",
       "      <th>10</th>\n",
       "      <td>количество отменённых заказов у клиента</td>\n",
       "      <td>-0.420139</td>\n",
       "    </tr>\n",
       "    <tr>\n",
       "      <th>11</th>\n",
       "      <td>количество подтверждённых заказов у клиента</td>\n",
       "      <td>-0.224013</td>\n",
       "    </tr>\n",
       "    <tr>\n",
       "      <th>12</th>\n",
       "      <td>количество изменений параметров заказа</td>\n",
       "      <td>-0.409484</td>\n",
       "    </tr>\n",
       "    <tr>\n",
       "      <th>13</th>\n",
       "      <td>сколько дней заказ ожидал подтверждения</td>\n",
       "      <td>-0.127918</td>\n",
       "    </tr>\n",
       "    <tr>\n",
       "      <th>14</th>\n",
       "      <td>необходимость места для автомобиля</td>\n",
       "      <td>-0.774597</td>\n",
       "    </tr>\n",
       "    <tr>\n",
       "      <th>15</th>\n",
       "      <td>количество специальных отметок</td>\n",
       "      <td>-0.749740</td>\n",
       "    </tr>\n",
       "    <tr>\n",
       "      <th>16</th>\n",
       "      <td>общее количество ночей</td>\n",
       "      <td>-0.808104</td>\n",
       "    </tr>\n",
       "  </tbody>\n",
       "</table>\n",
       "</div>"
      ],
      "text/plain": [
       "                                    Значения столбцов  \\\n",
       "0   количество дней между датой бронирования и дат...   \n",
       "1                                          год заезда   \n",
       "2                                       неделя заезда   \n",
       "3                                         день заезда   \n",
       "4                     количество ночей в выходные дни   \n",
       "5                       количество ночей в будние дни   \n",
       "6                     количество взрослых постояльцев   \n",
       "7                     количество детей от 3 до 14 лет   \n",
       "8                                количество младенцев   \n",
       "9   признак того, что гость бронирует номер второй...   \n",
       "10            количество отменённых заказов у клиента   \n",
       "11        количество подтверждённых заказов у клиента   \n",
       "12             количество изменений параметров заказа   \n",
       "13            сколько дней заказ ожидал подтверждения   \n",
       "14                 необходимость места для автомобиля   \n",
       "15                     количество специальных отметок   \n",
       "16                             общее количество ночей   \n",
       "\n",
       "    Корреляция с основным признаком  \n",
       "0                         -0.616536  \n",
       "1                          1.000000  \n",
       "2                          0.600616  \n",
       "3                         -0.104696  \n",
       "4                         -0.951344  \n",
       "5                         -0.447865  \n",
       "6                         -0.062893  \n",
       "7                         -0.788436  \n",
       "8                         -0.522687  \n",
       "9                         -1.000000  \n",
       "10                        -0.420139  \n",
       "11                        -0.224013  \n",
       "12                        -0.409484  \n",
       "13                        -0.127918  \n",
       "14                        -0.774597  \n",
       "15                        -0.749740  \n",
       "16                        -0.808104  "
      ]
     },
     "execution_count": 123,
     "metadata": {},
     "output_type": "execute_result"
    }
   ],
   "source": [
    "df_"
   ]
  },
  {
   "cell_type": "markdown",
   "metadata": {},
   "source": [
    "1) Из предыдущих исследований установленно, что более 57% клиентов  с  гражданством  PRT\n",
    "   отказваются от услуг отеля при том что доля клиентов с гражданством  PRT по отношению\n",
    "   ко всей выборке равна 44%.\n",
    "2) Более 40% клиентов из всех пришедших через этот  канал отказались  от услуг отеля, при\n",
    "   том  что доля  клиентов  пришедших  через канал TA/TO 83% по отношению ко всей выборке.\n",
    "3) По таблице с корреляциями видно, что все признаки  за  исключением год заезда и неделя\n",
    "   заезда в какой то степени  обратно пропорцианальны основному признаку.\n",
    "Вывод:\n",
    "Портрет не надежного клиента:\n",
    "    -бронирует первый раз\n",
    "    -не большое колличество дней между датой бронирования и датой заезда\n",
    "    -нет детей\n",
    "    -не нужно место для авто\n",
    "    -канал дистрибьюции TA/TO\n",
    "    -гражданство  PRT\n",
    "\n"
   ]
  },
  {
   "cell_type": "markdown",
   "metadata": {},
   "source": [
    "<div class=\"alert alert-success\">\n",
    "<h2> Комментарий ревьюера <a class=\"tocSkip\"> </h2>\n",
    "\n",
    "<b>Все отлично!👍:</b> \n",
    "    \n",
    "    \n",
    "Отлично, что есть описание портрета клиента, склонного к отмене брони."
   ]
  },
  {
   "cell_type": "markdown",
   "metadata": {},
   "source": [
    "<div class=\"alert alert-warning\">\n",
    "    <h2> Комментарий ревьюера <a class=\"tocSkip\"> </h2>\n",
    "    \n",
    "<b>Некоторые замечания и рекомендации💡:</b> \n",
    "        \n",
    "В этом разделе можно также оценить важность признаков для модели, то есть какие признаки модель сочла важными для формирования портрета клиента, склонного к отмене брони."
   ]
  },
  {
   "cell_type": "markdown",
   "metadata": {},
   "source": [
    "### Шаг 6. Напишите общий вывод"
   ]
  },
  {
   "cell_type": "markdown",
   "metadata": {},
   "source": [
    "Вывод:\n",
    "   Заказчик этого исследования — сеть отелей «Как в гостях». \n",
    "   Чтобы привлечь клиентов, эта сеть отелей добавила на свой сайт возможность забронировать\n",
    "номер без предоплаты. Однако если клиент отменял бронирование, то компания терпела  убытки.\n",
    "    Чтобы предсказать отказ клиента от брони была разработана модель которая предсказывает\n",
    "потенциальных отказников от брони по различным признакам.\n",
    "    В ходе переработки данных и  построения модели ни каких осбенностей и анамалей замечено\n",
    "не было. Били предоставленны данные чистые, без выбросов.\n",
    "    Были построины модели которые предсказывают поведение клиента. Все  построиные  модели \n",
    "справляются с бизнес задачей.  Дали значительно большую выручку,  чем  давалось  в  бизнес\n",
    "задачи.\n",
    "\n",
    "Потенциальная сумма выручки благодоря приогнозу системы(дерево решений):           42958\n",
    "Потенциальная сумма выручки благодоря приогнозу системы(случайный лес):            8777158\n",
    "Потенциальная сумма выручки благодоря приогнозу системы(логистическая регрессия):  11646528.0\n",
    "   \n",
    "   \n",
    "   По  показателям  крос-валидации  модель  логистическая  регрессия самая лучшая,  но  я \n",
    "рекомендую использовать  модель случайный лес т.к. эта модель обладает  наиболее  высокой \n",
    "точностью, покроит затраты на разработку системы, и не отпугнет клиентов которые всеравно\n",
    "бы не отказались от брони.\n"
   ]
  },
  {
   "cell_type": "markdown",
   "metadata": {},
   "source": [
    "<div style=\"border:solid Chocolate 2px; padding: 40px\">\n",
    "    \n",
    "<b>Общий вывод по проекту</b>\n",
    "\n",
    "Сергей, спасибо за работу! Проект хороший, продуманный, структурно выдержанный, аккуратный. Однако стоит внести некоторые исправления, чтобы можно было считать работу завершенной.\n",
    "\n",
    "**Положительные моменты проекта, которые хочу еще раз подчеркнуть:**\n",
    "\n",
    "1. Есть первичный анализ данных \n",
    "2. Есть описание клиента склонного к отмене брони\n",
    "3. Исследовано 3 модели  ML\n",
    "4. Расчет прибыли до внедрения системы депозитов верный\n",
    "\n",
    "\n",
    "\n",
    "**Замечания, на которые стоит обратить внимание при будущей работе:**\n",
    "    \n",
    "\n",
    "    1. Стоит исправить расчет прибыли отеля после внедрения депозитов\n",
    "    2. Как минимум для 2х моделей стоит подобрать как минимум по 2 гиперпараметра\n",
    "    3. Стоит проверить качество лучшей модели на тестовых данных\n",
    "    4. Исправить препроцессинг для валидационной и тестовой выборок\n",
    "    5. Стоит произмести оценку баланса классов целевой переменной\n",
    "    6. В процессе кросс-валидации стоит указать необходимую метрику\n",
    "    7. Стоит отбросить выбросы в данных\n",
    "    8. Стоит проследить, чтобы в кодер не попадали численные признаки\n",
    "    9. Расширить работу со строковыми значениями \n",
    "    10. Исправить графики, добавить больше пояснений\n",
    "\n",
    "\n",
    "\n",
    "Остальные комментарии ты найдешь выше.\n",
    "\n",
    "**Желаю удачи и жду твой проект на повторное ревью!**"
   ]
  },
  {
   "cell_type": "markdown",
   "metadata": {},
   "source": [
    "<div style=\"border:solid Chocolate 2px; padding: 40px\">\n",
    "    \n",
    "<b>Общий вывод по проекту №2</b>\n",
    "\n",
    "Сергей, спасибо за работу,\n",
    "  \n",
    "**все хорошо, проект принимаю, желаю успехов в дальнейшем!**"
   ]
  },
  {
   "cell_type": "code",
   "execution_count": null,
   "metadata": {},
   "outputs": [],
   "source": []
  }
 ],
 "metadata": {
  "ExecuteTimeLog": [
   {
    "duration": 64,
    "start_time": "2023-04-17T17:35:23.898Z"
   },
   {
    "duration": 2475,
    "start_time": "2023-04-17T17:35:27.780Z"
   },
   {
    "duration": 1116,
    "start_time": "2023-04-17T17:35:30.257Z"
   },
   {
    "duration": 82,
    "start_time": "2023-04-17T17:45:00.507Z"
   },
   {
    "duration": 39,
    "start_time": "2023-04-17T17:45:03.073Z"
   },
   {
    "duration": 88,
    "start_time": "2023-04-17T17:46:43.830Z"
   },
   {
    "duration": 83,
    "start_time": "2023-04-17T17:47:08.471Z"
   },
   {
    "duration": 22,
    "start_time": "2023-04-17T17:47:48.895Z"
   },
   {
    "duration": 41,
    "start_time": "2023-04-17T17:48:08.335Z"
   },
   {
    "duration": 99,
    "start_time": "2023-04-17T17:48:45.332Z"
   },
   {
    "duration": 57,
    "start_time": "2023-04-17T17:49:10.238Z"
   },
   {
    "duration": 1478,
    "start_time": "2023-04-18T18:23:58.018Z"
   },
   {
    "duration": 1543,
    "start_time": "2023-04-18T18:23:59.499Z"
   },
   {
    "duration": 30,
    "start_time": "2023-04-18T18:24:01.046Z"
   },
   {
    "duration": 61,
    "start_time": "2023-04-18T18:24:01.078Z"
   },
   {
    "duration": 58,
    "start_time": "2023-04-18T18:24:02.309Z"
   },
   {
    "duration": 34,
    "start_time": "2023-04-18T18:27:41.545Z"
   },
   {
    "duration": 6,
    "start_time": "2023-04-18T18:32:55.119Z"
   },
   {
    "duration": 7,
    "start_time": "2023-04-18T18:33:20.614Z"
   },
   {
    "duration": 34,
    "start_time": "2023-04-18T18:34:13.936Z"
   },
   {
    "duration": 33,
    "start_time": "2023-04-18T18:34:37.542Z"
   },
   {
    "duration": 1418,
    "start_time": "2023-04-20T19:37:17.170Z"
   },
   {
    "duration": 401,
    "start_time": "2023-04-20T19:37:18.590Z"
   },
   {
    "duration": 22,
    "start_time": "2023-04-20T19:37:23.646Z"
   },
   {
    "duration": 15,
    "start_time": "2023-04-20T19:37:24.153Z"
   },
   {
    "duration": 53,
    "start_time": "2023-04-20T19:37:25.386Z"
   },
   {
    "duration": 33,
    "start_time": "2023-04-20T19:37:26.102Z"
   },
   {
    "duration": 5,
    "start_time": "2023-04-20T19:37:26.900Z"
   },
   {
    "duration": 29,
    "start_time": "2023-04-20T19:37:27.685Z"
   },
   {
    "duration": 37,
    "start_time": "2023-04-20T19:37:28.548Z"
   },
   {
    "duration": 18,
    "start_time": "2023-04-20T19:37:29.607Z"
   },
   {
    "duration": 22,
    "start_time": "2023-04-20T19:37:30.641Z"
   },
   {
    "duration": 53,
    "start_time": "2023-04-20T19:37:31.411Z"
   },
   {
    "duration": 29,
    "start_time": "2023-04-20T19:37:32.184Z"
   },
   {
    "duration": 1251,
    "start_time": "2023-04-20T19:38:17.006Z"
   },
   {
    "duration": 1515,
    "start_time": "2023-04-20T19:38:55.636Z"
   },
   {
    "duration": 1658,
    "start_time": "2023-04-20T19:39:29.021Z"
   },
   {
    "duration": 2052,
    "start_time": "2023-04-20T19:39:49.043Z"
   },
   {
    "duration": 2377,
    "start_time": "2023-04-20T19:40:23.505Z"
   },
   {
    "duration": 1543,
    "start_time": "2023-04-23T06:02:34.422Z"
   },
   {
    "duration": 429,
    "start_time": "2023-04-23T06:02:35.966Z"
   },
   {
    "duration": 28,
    "start_time": "2023-04-23T06:02:36.397Z"
   },
   {
    "duration": 17,
    "start_time": "2023-04-23T06:02:36.427Z"
   },
   {
    "duration": 56,
    "start_time": "2023-04-23T06:02:37.093Z"
   },
   {
    "duration": 34,
    "start_time": "2023-04-23T06:02:37.686Z"
   },
   {
    "duration": 7,
    "start_time": "2023-04-23T06:02:38.297Z"
   },
   {
    "duration": 31,
    "start_time": "2023-04-23T06:02:38.909Z"
   },
   {
    "duration": 45,
    "start_time": "2023-04-23T06:02:39.549Z"
   },
   {
    "duration": 27,
    "start_time": "2023-04-23T06:02:40.170Z"
   },
   {
    "duration": 23,
    "start_time": "2023-04-23T06:02:40.837Z"
   },
   {
    "duration": 57,
    "start_time": "2023-04-23T06:02:41.460Z"
   },
   {
    "duration": 30,
    "start_time": "2023-04-23T06:02:42.110Z"
   },
   {
    "duration": 2539,
    "start_time": "2023-04-23T06:02:42.726Z"
   },
   {
    "duration": 2405,
    "start_time": "2023-04-23T06:09:04.466Z"
   },
   {
    "duration": 98,
    "start_time": "2023-04-23T06:23:35.882Z"
   },
   {
    "duration": 9,
    "start_time": "2023-04-23T06:23:50.219Z"
   },
   {
    "duration": 11,
    "start_time": "2023-04-23T06:24:01.065Z"
   },
   {
    "duration": 9,
    "start_time": "2023-04-23T06:24:24.738Z"
   },
   {
    "duration": 9,
    "start_time": "2023-04-23T06:26:38.720Z"
   },
   {
    "duration": 10,
    "start_time": "2023-04-23T06:42:57.764Z"
   },
   {
    "duration": 12,
    "start_time": "2023-04-23T06:43:01.456Z"
   },
   {
    "duration": 9,
    "start_time": "2023-04-23T06:43:02.270Z"
   },
   {
    "duration": 147,
    "start_time": "2023-04-23T06:43:12.530Z"
   },
   {
    "duration": 247,
    "start_time": "2023-04-23T06:43:23.382Z"
   },
   {
    "duration": 1636,
    "start_time": "2023-04-24T08:07:48.781Z"
   },
   {
    "duration": 652,
    "start_time": "2023-04-24T08:07:50.420Z"
   },
   {
    "duration": 31,
    "start_time": "2023-04-24T08:07:51.074Z"
   },
   {
    "duration": 21,
    "start_time": "2023-04-24T08:07:51.664Z"
   },
   {
    "duration": 63,
    "start_time": "2023-04-24T08:07:54.469Z"
   },
   {
    "duration": 37,
    "start_time": "2023-04-24T08:07:58.547Z"
   },
   {
    "duration": 7,
    "start_time": "2023-04-24T08:07:59.729Z"
   },
   {
    "duration": 35,
    "start_time": "2023-04-24T08:08:01.247Z"
   },
   {
    "duration": 11,
    "start_time": "2023-04-24T08:08:11.257Z"
   },
   {
    "duration": 292,
    "start_time": "2023-04-24T08:08:34.740Z"
   },
   {
    "duration": 4,
    "start_time": "2023-04-24T10:00:39.188Z"
   },
   {
    "duration": 249,
    "start_time": "2023-04-24T10:00:40.044Z"
   },
   {
    "duration": 29,
    "start_time": "2023-04-24T10:00:40.918Z"
   },
   {
    "duration": 22,
    "start_time": "2023-04-24T10:00:42.437Z"
   },
   {
    "duration": 46,
    "start_time": "2023-04-24T10:00:43.619Z"
   },
   {
    "duration": 38,
    "start_time": "2023-04-24T10:00:44.504Z"
   },
   {
    "duration": 7,
    "start_time": "2023-04-24T10:00:58.799Z"
   },
   {
    "duration": 42,
    "start_time": "2023-04-24T10:01:00.375Z"
   },
   {
    "duration": 11,
    "start_time": "2023-04-24T10:01:01.270Z"
   },
   {
    "duration": 6,
    "start_time": "2023-04-24T10:03:08.789Z"
   },
   {
    "duration": 8,
    "start_time": "2023-04-24T10:03:38.809Z"
   },
   {
    "duration": 159,
    "start_time": "2023-04-24T10:06:45.188Z"
   },
   {
    "duration": 1419,
    "start_time": "2023-04-25T10:08:18.918Z"
   },
   {
    "duration": 329,
    "start_time": "2023-04-25T10:08:20.339Z"
   },
   {
    "duration": 25,
    "start_time": "2023-04-25T10:08:20.669Z"
   },
   {
    "duration": 18,
    "start_time": "2023-04-25T10:08:21.290Z"
   },
   {
    "duration": 53,
    "start_time": "2023-04-25T10:09:04.441Z"
   },
   {
    "duration": 39,
    "start_time": "2023-04-25T10:09:05.029Z"
   },
   {
    "duration": 7,
    "start_time": "2023-04-25T10:09:06.690Z"
   },
   {
    "duration": 30,
    "start_time": "2023-04-25T10:09:15.947Z"
   },
   {
    "duration": 10,
    "start_time": "2023-04-25T10:09:17.101Z"
   },
   {
    "duration": 110,
    "start_time": "2023-04-25T10:09:19.441Z"
   },
   {
    "duration": 4,
    "start_time": "2023-04-25T10:59:34.360Z"
   },
   {
    "duration": 193,
    "start_time": "2023-04-25T10:59:35.168Z"
   },
   {
    "duration": 26,
    "start_time": "2023-04-25T10:59:35.930Z"
   },
   {
    "duration": 16,
    "start_time": "2023-04-25T10:59:36.725Z"
   },
   {
    "duration": 46,
    "start_time": "2023-04-25T10:59:37.510Z"
   },
   {
    "duration": 35,
    "start_time": "2023-04-25T10:59:38.233Z"
   },
   {
    "duration": 5,
    "start_time": "2023-04-25T10:59:39.231Z"
   },
   {
    "duration": 126,
    "start_time": "2023-04-25T11:00:22.262Z"
   },
   {
    "duration": 2212,
    "start_time": "2023-04-25T11:00:27.727Z"
   },
   {
    "duration": 2381,
    "start_time": "2023-04-25T11:00:44.507Z"
   },
   {
    "duration": 31,
    "start_time": "2023-04-25T11:01:14.424Z"
   },
   {
    "duration": 18,
    "start_time": "2023-04-25T11:01:16.395Z"
   },
   {
    "duration": 18,
    "start_time": "2023-04-25T11:01:17.218Z"
   },
   {
    "duration": 47,
    "start_time": "2023-04-25T11:01:19.454Z"
   },
   {
    "duration": 26,
    "start_time": "2023-04-25T11:01:20.366Z"
   },
   {
    "duration": 2435,
    "start_time": "2023-04-25T11:01:21.338Z"
   },
   {
    "duration": 127,
    "start_time": "2023-04-25T11:01:23.775Z"
   },
   {
    "duration": 2584,
    "start_time": "2023-04-25T11:01:23.904Z"
   },
   {
    "duration": 3,
    "start_time": "2023-04-25T11:01:26.490Z"
   },
   {
    "duration": 14,
    "start_time": "2023-04-25T11:01:26.494Z"
   },
   {
    "duration": 294,
    "start_time": "2023-04-25T11:01:28.465Z"
   },
   {
    "duration": 314,
    "start_time": "2023-04-25T11:01:55.730Z"
   },
   {
    "duration": 37,
    "start_time": "2023-04-25T11:01:56.398Z"
   },
   {
    "duration": 1615,
    "start_time": "2023-04-25T11:05:57.627Z"
   },
   {
    "duration": 2729,
    "start_time": "2023-04-25T11:07:27.227Z"
   },
   {
    "duration": 4,
    "start_time": "2023-04-25T11:09:31.385Z"
   },
   {
    "duration": 12,
    "start_time": "2023-04-25T11:17:28.648Z"
   },
   {
    "duration": 5,
    "start_time": "2023-04-25T11:17:41.754Z"
   },
   {
    "duration": 5,
    "start_time": "2023-04-25T11:18:49.163Z"
   },
   {
    "duration": 4,
    "start_time": "2023-04-25T11:19:23.728Z"
   },
   {
    "duration": 9,
    "start_time": "2023-04-25T11:21:01.935Z"
   },
   {
    "duration": 9,
    "start_time": "2023-04-25T11:44:56.534Z"
   },
   {
    "duration": 3,
    "start_time": "2023-04-25T11:45:01.690Z"
   },
   {
    "duration": 2,
    "start_time": "2023-04-25T11:45:10.306Z"
   },
   {
    "duration": 99,
    "start_time": "2023-04-25T11:45:11.828Z"
   },
   {
    "duration": 1168,
    "start_time": "2023-04-25T11:45:58.923Z"
   },
   {
    "duration": 2588,
    "start_time": "2023-04-25T16:09:07.075Z"
   },
   {
    "duration": 104,
    "start_time": "2023-04-25T18:50:35.013Z"
   },
   {
    "duration": 112,
    "start_time": "2023-04-25T18:51:18.343Z"
   },
   {
    "duration": 40,
    "start_time": "2023-04-25T19:03:26.244Z"
   },
   {
    "duration": 25,
    "start_time": "2023-04-25T19:06:05.552Z"
   },
   {
    "duration": 15,
    "start_time": "2023-04-25T19:07:05.042Z"
   },
   {
    "duration": 12,
    "start_time": "2023-04-25T19:07:15.684Z"
   },
   {
    "duration": 9,
    "start_time": "2023-04-25T19:07:33.645Z"
   },
   {
    "duration": 2113,
    "start_time": "2023-04-26T17:50:22.580Z"
   },
   {
    "duration": 576,
    "start_time": "2023-04-26T17:50:24.696Z"
   },
   {
    "duration": 45,
    "start_time": "2023-04-26T17:50:25.276Z"
   },
   {
    "duration": 32,
    "start_time": "2023-04-26T17:50:26.336Z"
   },
   {
    "duration": 77,
    "start_time": "2023-04-26T17:50:27.419Z"
   },
   {
    "duration": 53,
    "start_time": "2023-04-26T17:50:28.444Z"
   },
   {
    "duration": 9,
    "start_time": "2023-04-26T17:50:29.401Z"
   },
   {
    "duration": 47,
    "start_time": "2023-04-26T17:50:30.528Z"
   },
   {
    "duration": 71,
    "start_time": "2023-04-26T17:50:35.763Z"
   },
   {
    "duration": 32,
    "start_time": "2023-04-26T17:50:37.171Z"
   },
   {
    "duration": 21,
    "start_time": "2023-04-26T17:50:40.969Z"
   },
   {
    "duration": 76,
    "start_time": "2023-04-26T17:50:41.907Z"
   },
   {
    "duration": 46,
    "start_time": "2023-04-26T17:50:42.913Z"
   },
   {
    "duration": 3357,
    "start_time": "2023-04-26T17:50:47.666Z"
   },
   {
    "duration": 168,
    "start_time": "2023-04-26T17:50:51.026Z"
   },
   {
    "duration": 172,
    "start_time": "2023-04-26T17:50:52.377Z"
   },
   {
    "duration": 16,
    "start_time": "2023-04-26T17:50:53.800Z"
   },
   {
    "duration": 40,
    "start_time": "2023-04-26T17:50:54.872Z"
   },
   {
    "duration": 3803,
    "start_time": "2023-04-26T17:50:59.219Z"
   },
   {
    "duration": 5,
    "start_time": "2023-04-26T17:51:05.644Z"
   },
   {
    "duration": 26,
    "start_time": "2023-04-26T17:51:18.338Z"
   },
   {
    "duration": 61,
    "start_time": "2023-04-26T17:51:47.850Z"
   },
   {
    "duration": 4,
    "start_time": "2023-04-26T17:53:41.720Z"
   },
   {
    "duration": 29,
    "start_time": "2023-04-26T17:53:42.433Z"
   },
   {
    "duration": 59,
    "start_time": "2023-04-26T17:53:43.166Z"
   },
   {
    "duration": 4,
    "start_time": "2023-04-26T18:00:54.305Z"
   },
   {
    "duration": 30,
    "start_time": "2023-04-26T18:00:55.936Z"
   },
   {
    "duration": 58,
    "start_time": "2023-04-26T18:00:58.470Z"
   },
   {
    "duration": 5,
    "start_time": "2023-04-26T18:01:34.361Z"
   },
   {
    "duration": 12,
    "start_time": "2023-04-26T18:01:35.276Z"
   },
   {
    "duration": 82,
    "start_time": "2023-04-26T18:01:35.899Z"
   },
   {
    "duration": 4,
    "start_time": "2023-04-26T18:04:03.695Z"
   },
   {
    "duration": 17,
    "start_time": "2023-04-26T18:04:04.989Z"
   },
   {
    "duration": 4,
    "start_time": "2023-04-26T18:04:51.616Z"
   },
   {
    "duration": 178,
    "start_time": "2023-04-26T18:04:53.069Z"
   },
   {
    "duration": 3,
    "start_time": "2023-04-26T18:06:25.304Z"
   },
   {
    "duration": 564,
    "start_time": "2023-04-26T18:06:26.082Z"
   },
   {
    "duration": 64,
    "start_time": "2023-04-26T18:06:38.759Z"
   },
   {
    "duration": 3,
    "start_time": "2023-04-26T18:08:32.006Z"
   },
   {
    "duration": 531,
    "start_time": "2023-04-26T18:08:33.605Z"
   },
   {
    "duration": 4,
    "start_time": "2023-04-26T18:10:35.570Z"
   },
   {
    "duration": 514,
    "start_time": "2023-04-26T18:10:36.495Z"
   },
   {
    "duration": 53,
    "start_time": "2023-04-26T18:10:37.282Z"
   },
   {
    "duration": 3,
    "start_time": "2023-04-26T18:13:51.019Z"
   },
   {
    "duration": 449,
    "start_time": "2023-04-26T18:13:52.027Z"
   },
   {
    "duration": 4,
    "start_time": "2023-04-26T18:16:26.875Z"
   },
   {
    "duration": 4,
    "start_time": "2023-04-26T18:17:16.314Z"
   },
   {
    "duration": 808,
    "start_time": "2023-04-26T18:17:17.098Z"
   },
   {
    "duration": 4,
    "start_time": "2023-04-26T18:17:47.034Z"
   },
   {
    "duration": 462,
    "start_time": "2023-04-26T18:17:47.874Z"
   },
   {
    "duration": 4,
    "start_time": "2023-04-26T18:18:05.503Z"
   },
   {
    "duration": 856,
    "start_time": "2023-04-26T18:18:06.313Z"
   },
   {
    "duration": 5,
    "start_time": "2023-04-26T18:19:57.356Z"
   },
   {
    "duration": 7766,
    "start_time": "2023-04-26T18:20:00.524Z"
   },
   {
    "duration": 4,
    "start_time": "2023-04-26T18:20:23.420Z"
   },
   {
    "duration": 7584,
    "start_time": "2023-04-26T18:20:26.583Z"
   },
   {
    "duration": 59,
    "start_time": "2023-04-26T18:20:34.245Z"
   },
   {
    "duration": 135,
    "start_time": "2023-04-26T18:21:16.393Z"
   },
   {
    "duration": 6,
    "start_time": "2023-04-26T18:22:22.659Z"
   },
   {
    "duration": 31,
    "start_time": "2023-04-26T18:22:23.395Z"
   },
   {
    "duration": 4,
    "start_time": "2023-04-26T19:04:13.778Z"
   },
   {
    "duration": 37,
    "start_time": "2023-04-26T19:04:14.624Z"
   },
   {
    "duration": 6,
    "start_time": "2023-04-26T19:14:28.958Z"
   },
   {
    "duration": 41,
    "start_time": "2023-04-26T19:14:29.744Z"
   },
   {
    "duration": 94,
    "start_time": "2023-04-26T19:14:36.087Z"
   },
   {
    "duration": 7,
    "start_time": "2023-04-26T19:17:15.657Z"
   },
   {
    "duration": 43,
    "start_time": "2023-04-26T19:17:16.620Z"
   },
   {
    "duration": 72,
    "start_time": "2023-04-26T19:17:17.824Z"
   },
   {
    "duration": 6,
    "start_time": "2023-04-26T19:18:39.621Z"
   },
   {
    "duration": 16,
    "start_time": "2023-04-26T19:18:40.633Z"
   },
   {
    "duration": 91,
    "start_time": "2023-04-26T19:18:41.417Z"
   },
   {
    "duration": 5,
    "start_time": "2023-04-26T19:19:37.935Z"
   },
   {
    "duration": 886,
    "start_time": "2023-04-26T19:19:38.553Z"
   },
   {
    "duration": 26,
    "start_time": "2023-04-26T19:19:39.441Z"
   },
   {
    "duration": 6,
    "start_time": "2023-04-26T19:20:33.893Z"
   },
   {
    "duration": 1019,
    "start_time": "2023-04-26T19:20:34.685Z"
   },
   {
    "duration": 7,
    "start_time": "2023-04-26T19:20:35.707Z"
   },
   {
    "duration": 15,
    "start_time": "2023-04-26T19:22:05.564Z"
   },
   {
    "duration": 1401,
    "start_time": "2023-04-26T19:22:06.295Z"
   },
   {
    "duration": 7,
    "start_time": "2023-04-26T19:22:07.726Z"
   },
   {
    "duration": 8,
    "start_time": "2023-04-26T19:24:54.927Z"
   },
   {
    "duration": 1069,
    "start_time": "2023-04-26T19:24:56.094Z"
   },
   {
    "duration": 7,
    "start_time": "2023-04-26T19:24:57.165Z"
   },
   {
    "duration": 9,
    "start_time": "2023-04-26T19:52:08.571Z"
   },
   {
    "duration": 93,
    "start_time": "2023-04-26T20:00:36.719Z"
   },
   {
    "duration": 7,
    "start_time": "2023-04-26T20:01:09.770Z"
   },
   {
    "duration": 1188,
    "start_time": "2023-04-26T20:01:16.306Z"
   },
   {
    "duration": 7,
    "start_time": "2023-04-26T20:01:17.823Z"
   },
   {
    "duration": 22,
    "start_time": "2023-04-26T20:03:07.813Z"
   },
   {
    "duration": 55,
    "start_time": "2023-04-26T20:03:38.109Z"
   },
   {
    "duration": 8,
    "start_time": "2023-04-26T20:11:18.106Z"
   },
   {
    "duration": 10066,
    "start_time": "2023-04-26T20:11:19.331Z"
   },
   {
    "duration": 5,
    "start_time": "2023-04-26T20:21:16.602Z"
   },
   {
    "duration": 8,
    "start_time": "2023-04-26T20:21:22.815Z"
   },
   {
    "duration": 10233,
    "start_time": "2023-04-26T20:21:24.258Z"
   },
   {
    "duration": 7,
    "start_time": "2023-04-26T20:28:13.162Z"
   },
   {
    "duration": 10565,
    "start_time": "2023-04-26T20:28:27.416Z"
   },
   {
    "duration": 55,
    "start_time": "2023-04-26T20:28:51.559Z"
   },
   {
    "duration": 66,
    "start_time": "2023-04-26T20:32:03.960Z"
   },
   {
    "duration": 7,
    "start_time": "2023-04-26T20:33:27.088Z"
   },
   {
    "duration": 8,
    "start_time": "2023-04-26T20:33:29.103Z"
   },
   {
    "duration": 1571,
    "start_time": "2023-04-26T20:33:30.160Z"
   },
   {
    "duration": 5,
    "start_time": "2023-04-26T20:41:28.408Z"
   },
   {
    "duration": 305,
    "start_time": "2023-04-26T20:41:29.208Z"
   },
   {
    "duration": 32,
    "start_time": "2023-04-26T20:41:30.056Z"
   },
   {
    "duration": 24,
    "start_time": "2023-04-26T20:41:30.989Z"
   },
   {
    "duration": 65,
    "start_time": "2023-04-26T20:41:31.907Z"
   },
   {
    "duration": 60,
    "start_time": "2023-04-26T20:41:33.019Z"
   },
   {
    "duration": 9,
    "start_time": "2023-04-26T20:41:34.635Z"
   },
   {
    "duration": 42,
    "start_time": "2023-04-26T20:41:36.286Z"
   },
   {
    "duration": 52,
    "start_time": "2023-04-26T20:41:44.026Z"
   },
   {
    "duration": 28,
    "start_time": "2023-04-26T20:41:44.924Z"
   },
   {
    "duration": 23,
    "start_time": "2023-04-26T20:41:45.760Z"
   },
   {
    "duration": 90,
    "start_time": "2023-04-26T20:41:46.685Z"
   },
   {
    "duration": 33,
    "start_time": "2023-04-26T20:41:47.596Z"
   },
   {
    "duration": 3659,
    "start_time": "2023-04-26T20:41:48.638Z"
   },
   {
    "duration": 203,
    "start_time": "2023-04-26T20:41:52.301Z"
   },
   {
    "duration": 181,
    "start_time": "2023-04-26T20:41:52.506Z"
   },
   {
    "duration": 17,
    "start_time": "2023-04-26T20:41:52.690Z"
   },
   {
    "duration": 57,
    "start_time": "2023-04-26T20:41:53.527Z"
   },
   {
    "duration": 3610,
    "start_time": "2023-04-26T20:41:56.213Z"
   },
   {
    "duration": 9,
    "start_time": "2023-04-26T20:41:59.825Z"
   },
   {
    "duration": 24,
    "start_time": "2023-04-26T20:41:59.843Z"
   },
   {
    "duration": 83,
    "start_time": "2023-04-26T20:42:02.001Z"
   },
   {
    "duration": 5,
    "start_time": "2023-04-26T20:43:13.703Z"
   },
   {
    "duration": 10,
    "start_time": "2023-04-26T20:43:47.608Z"
   },
   {
    "duration": 1265,
    "start_time": "2023-04-26T20:43:49.725Z"
   },
   {
    "duration": 53,
    "start_time": "2023-04-26T20:43:51.428Z"
   },
   {
    "duration": 17,
    "start_time": "2023-04-26T20:45:24.717Z"
   },
   {
    "duration": 47,
    "start_time": "2023-04-26T20:46:10.671Z"
   },
   {
    "duration": 53,
    "start_time": "2023-04-26T20:48:21.754Z"
   },
   {
    "duration": 633,
    "start_time": "2023-04-26T20:48:58.126Z"
   },
   {
    "duration": 654,
    "start_time": "2023-04-26T20:51:10.118Z"
   },
   {
    "duration": 554,
    "start_time": "2023-04-26T20:53:45.256Z"
   },
   {
    "duration": 14,
    "start_time": "2023-04-26T20:53:55.606Z"
   },
   {
    "duration": 14,
    "start_time": "2023-04-26T20:54:05.984Z"
   },
   {
    "duration": 13,
    "start_time": "2023-04-26T20:54:29.826Z"
   },
   {
    "duration": 3,
    "start_time": "2023-04-26T20:54:47.216Z"
   },
   {
    "duration": 25,
    "start_time": "2023-04-26T20:58:15.814Z"
   },
   {
    "duration": 1587,
    "start_time": "2023-04-27T18:04:20.233Z"
   },
   {
    "duration": 545,
    "start_time": "2023-04-27T18:04:21.823Z"
   },
   {
    "duration": 26,
    "start_time": "2023-04-27T18:04:22.369Z"
   },
   {
    "duration": 25,
    "start_time": "2023-04-27T18:04:22.862Z"
   },
   {
    "duration": 63,
    "start_time": "2023-04-27T18:04:23.842Z"
   },
   {
    "duration": 37,
    "start_time": "2023-04-27T18:04:24.898Z"
   },
   {
    "duration": 6,
    "start_time": "2023-04-27T18:04:25.874Z"
   },
   {
    "duration": 34,
    "start_time": "2023-04-27T18:04:26.826Z"
   },
   {
    "duration": 56,
    "start_time": "2023-04-27T18:04:32.832Z"
   },
   {
    "duration": 35,
    "start_time": "2023-04-27T18:04:33.952Z"
   },
   {
    "duration": 34,
    "start_time": "2023-04-27T18:04:35.000Z"
   },
   {
    "duration": 94,
    "start_time": "2023-04-27T18:04:35.925Z"
   },
   {
    "duration": 34,
    "start_time": "2023-04-27T18:04:36.942Z"
   },
   {
    "duration": 2705,
    "start_time": "2023-04-27T18:04:38.151Z"
   },
   {
    "duration": 123,
    "start_time": "2023-04-27T18:04:40.858Z"
   },
   {
    "duration": 123,
    "start_time": "2023-04-27T18:04:41.263Z"
   },
   {
    "duration": 14,
    "start_time": "2023-04-27T18:04:42.381Z"
   },
   {
    "duration": 28,
    "start_time": "2023-04-27T18:04:43.602Z"
   },
   {
    "duration": 2488,
    "start_time": "2023-04-27T18:04:44.746Z"
   },
   {
    "duration": 13,
    "start_time": "2023-04-27T18:04:47.236Z"
   },
   {
    "duration": 5,
    "start_time": "2023-04-27T18:04:49.023Z"
   },
   {
    "duration": 6,
    "start_time": "2023-04-27T18:04:58.803Z"
   },
   {
    "duration": 1114,
    "start_time": "2023-04-27T18:05:00.524Z"
   },
   {
    "duration": 3,
    "start_time": "2023-04-27T18:05:02.141Z"
   },
   {
    "duration": 10,
    "start_time": "2023-04-27T18:05:15.225Z"
   },
   {
    "duration": 10,
    "start_time": "2023-04-27T18:05:16.912Z"
   },
   {
    "duration": 14,
    "start_time": "2023-04-27T18:05:18.402Z"
   },
   {
    "duration": 19,
    "start_time": "2023-04-27T18:08:17.736Z"
   },
   {
    "duration": 113,
    "start_time": "2023-04-27T19:28:35.369Z"
   },
   {
    "duration": 3,
    "start_time": "2023-04-27T19:29:00.362Z"
   },
   {
    "duration": 4,
    "start_time": "2023-04-27T19:30:44.102Z"
   },
   {
    "duration": 4,
    "start_time": "2023-04-27T19:34:33.054Z"
   },
   {
    "duration": 3,
    "start_time": "2023-04-27T19:34:39.010Z"
   },
   {
    "duration": 5,
    "start_time": "2023-04-27T19:34:51.046Z"
   },
   {
    "duration": 3,
    "start_time": "2023-04-27T19:34:56.589Z"
   },
   {
    "duration": 5,
    "start_time": "2023-04-27T19:56:44.747Z"
   },
   {
    "duration": 4,
    "start_time": "2023-04-27T19:56:48.216Z"
   },
   {
    "duration": 3,
    "start_time": "2023-04-27T19:56:54.919Z"
   },
   {
    "duration": 71,
    "start_time": "2023-04-27T19:56:56.727Z"
   },
   {
    "duration": 4,
    "start_time": "2023-04-27T19:57:16.861Z"
   },
   {
    "duration": 1023,
    "start_time": "2023-04-27T19:57:18.277Z"
   },
   {
    "duration": 48,
    "start_time": "2023-04-27T19:57:19.617Z"
   },
   {
    "duration": 4,
    "start_time": "2023-04-27T19:59:10.021Z"
   },
   {
    "duration": 1052,
    "start_time": "2023-04-27T19:59:11.101Z"
   },
   {
    "duration": 42,
    "start_time": "2023-04-27T19:59:12.154Z"
   },
   {
    "duration": 4,
    "start_time": "2023-04-27T20:01:55.402Z"
   },
   {
    "duration": 6723,
    "start_time": "2023-04-27T20:02:01.970Z"
   },
   {
    "duration": 41,
    "start_time": "2023-04-27T20:03:09.416Z"
   },
   {
    "duration": 4,
    "start_time": "2023-04-27T20:06:17.604Z"
   },
   {
    "duration": 16023,
    "start_time": "2023-04-27T20:06:18.959Z"
   },
   {
    "duration": 39,
    "start_time": "2023-04-27T20:06:43.258Z"
   },
   {
    "duration": 4,
    "start_time": "2023-04-27T20:07:51.509Z"
   },
   {
    "duration": 6220,
    "start_time": "2023-04-27T20:07:52.661Z"
   },
   {
    "duration": 4,
    "start_time": "2023-04-27T20:09:13.959Z"
   },
   {
    "duration": 21213,
    "start_time": "2023-04-27T20:09:15.279Z"
   },
   {
    "duration": 5,
    "start_time": "2023-04-27T20:11:34.920Z"
   },
   {
    "duration": 4,
    "start_time": "2023-04-27T20:11:36.213Z"
   },
   {
    "duration": 4,
    "start_time": "2023-04-27T20:11:37.215Z"
   },
   {
    "duration": 4,
    "start_time": "2023-04-27T20:11:40.529Z"
   },
   {
    "duration": 16224,
    "start_time": "2023-04-27T20:11:41.881Z"
   },
   {
    "duration": 5,
    "start_time": "2023-04-27T20:37:29.096Z"
   },
   {
    "duration": 4,
    "start_time": "2023-04-27T20:37:38.610Z"
   },
   {
    "duration": 4,
    "start_time": "2023-04-27T20:37:39.363Z"
   },
   {
    "duration": 4,
    "start_time": "2023-04-27T20:37:40.209Z"
   },
   {
    "duration": 4,
    "start_time": "2023-04-27T20:37:41.725Z"
   },
   {
    "duration": 16306,
    "start_time": "2023-04-27T20:37:43.576Z"
   },
   {
    "duration": 1712,
    "start_time": "2023-04-28T08:40:08.277Z"
   },
   {
    "duration": 1322,
    "start_time": "2023-04-28T08:40:09.991Z"
   },
   {
    "duration": 30,
    "start_time": "2023-04-28T08:40:11.314Z"
   },
   {
    "duration": 30,
    "start_time": "2023-04-28T08:40:11.346Z"
   },
   {
    "duration": 79,
    "start_time": "2023-04-28T08:40:11.378Z"
   },
   {
    "duration": 69,
    "start_time": "2023-04-28T08:40:11.705Z"
   },
   {
    "duration": 6,
    "start_time": "2023-04-28T08:40:12.407Z"
   },
   {
    "duration": 45,
    "start_time": "2023-04-28T08:40:13.077Z"
   },
   {
    "duration": 63,
    "start_time": "2023-04-28T08:40:17.105Z"
   },
   {
    "duration": 21,
    "start_time": "2023-04-28T08:40:18.306Z"
   },
   {
    "duration": 30,
    "start_time": "2023-04-28T08:40:19.260Z"
   },
   {
    "duration": 65,
    "start_time": "2023-04-28T08:40:20.374Z"
   },
   {
    "duration": 44,
    "start_time": "2023-04-28T08:40:21.536Z"
   },
   {
    "duration": 3157,
    "start_time": "2023-04-28T08:40:22.581Z"
   },
   {
    "duration": 147,
    "start_time": "2023-04-28T08:40:25.740Z"
   },
   {
    "duration": 181,
    "start_time": "2023-04-28T08:40:25.889Z"
   },
   {
    "duration": 14,
    "start_time": "2023-04-28T08:40:27.306Z"
   },
   {
    "duration": 36,
    "start_time": "2023-04-28T08:40:28.726Z"
   },
   {
    "duration": 2896,
    "start_time": "2023-04-28T08:40:50.405Z"
   },
   {
    "duration": 9,
    "start_time": "2023-04-28T08:40:53.303Z"
   },
   {
    "duration": 6,
    "start_time": "2023-04-28T08:40:56.422Z"
   },
   {
    "duration": 8,
    "start_time": "2023-04-28T08:41:03.270Z"
   },
   {
    "duration": 1153,
    "start_time": "2023-04-28T08:41:04.979Z"
   },
   {
    "duration": 2,
    "start_time": "2023-04-28T08:41:11.187Z"
   },
   {
    "duration": 12,
    "start_time": "2023-04-28T08:41:14.128Z"
   },
   {
    "duration": 11,
    "start_time": "2023-04-28T08:41:15.176Z"
   },
   {
    "duration": 16,
    "start_time": "2023-04-28T08:41:16.306Z"
   },
   {
    "duration": 22,
    "start_time": "2023-04-28T08:41:18.778Z"
   },
   {
    "duration": 6,
    "start_time": "2023-04-28T08:41:58.569Z"
   },
   {
    "duration": 5,
    "start_time": "2023-04-28T08:42:05.288Z"
   },
   {
    "duration": 4,
    "start_time": "2023-04-28T08:42:06.810Z"
   },
   {
    "duration": 5,
    "start_time": "2023-04-28T08:42:16.453Z"
   },
   {
    "duration": 15629,
    "start_time": "2023-04-28T08:42:20.082Z"
   },
   {
    "duration": 6,
    "start_time": "2023-04-28T08:45:29.482Z"
   },
   {
    "duration": 12,
    "start_time": "2023-04-28T08:45:30.406Z"
   },
   {
    "duration": 4,
    "start_time": "2023-04-28T08:45:31.506Z"
   },
   {
    "duration": 6,
    "start_time": "2023-04-28T08:45:32.648Z"
   },
   {
    "duration": 14991,
    "start_time": "2023-04-28T08:45:33.736Z"
   },
   {
    "duration": 11,
    "start_time": "2023-04-28T08:49:07.281Z"
   },
   {
    "duration": 15442,
    "start_time": "2023-04-28T08:49:10.546Z"
   },
   {
    "duration": 9,
    "start_time": "2023-04-28T08:55:26.390Z"
   },
   {
    "duration": 17182,
    "start_time": "2023-04-28T08:55:36.708Z"
   },
   {
    "duration": 13,
    "start_time": "2023-04-28T08:56:30.096Z"
   },
   {
    "duration": 17626,
    "start_time": "2023-04-28T08:56:30.911Z"
   },
   {
    "duration": 4,
    "start_time": "2023-04-28T09:03:31.142Z"
   },
   {
    "duration": 446,
    "start_time": "2023-04-28T09:03:48.331Z"
   },
   {
    "duration": 61,
    "start_time": "2023-04-28T09:03:50.809Z"
   },
   {
    "duration": 45,
    "start_time": "2023-04-28T09:06:56.030Z"
   },
   {
    "duration": 25,
    "start_time": "2023-04-28T09:11:14.244Z"
   },
   {
    "duration": 154,
    "start_time": "2023-04-28T09:13:35.149Z"
   },
   {
    "duration": 102,
    "start_time": "2023-04-28T09:13:42.219Z"
   },
   {
    "duration": 17,
    "start_time": "2023-04-28T09:15:12.602Z"
   },
   {
    "duration": 39,
    "start_time": "2023-04-28T09:15:41.471Z"
   },
   {
    "duration": 15,
    "start_time": "2023-04-28T09:16:06.010Z"
   },
   {
    "duration": 18,
    "start_time": "2023-04-28T09:16:26.656Z"
   },
   {
    "duration": 12,
    "start_time": "2023-04-28T09:19:19.354Z"
   },
   {
    "duration": 9,
    "start_time": "2023-04-28T09:20:37.903Z"
   },
   {
    "duration": 14,
    "start_time": "2023-04-28T09:21:14.225Z"
   },
   {
    "duration": 12,
    "start_time": "2023-04-28T09:21:19.037Z"
   },
   {
    "duration": 18,
    "start_time": "2023-04-28T09:21:24.067Z"
   },
   {
    "duration": 14,
    "start_time": "2023-04-28T09:21:28.155Z"
   },
   {
    "duration": 22,
    "start_time": "2023-04-28T09:21:53.411Z"
   },
   {
    "duration": 3,
    "start_time": "2023-04-28T09:28:21.845Z"
   },
   {
    "duration": 11,
    "start_time": "2023-04-28T09:28:22.696Z"
   },
   {
    "duration": 15,
    "start_time": "2023-04-28T09:28:46.793Z"
   },
   {
    "duration": 11,
    "start_time": "2023-04-28T09:35:25.438Z"
   },
   {
    "duration": 83,
    "start_time": "2023-04-28T09:35:36.585Z"
   },
   {
    "duration": 129,
    "start_time": "2023-04-28T09:36:13.668Z"
   },
   {
    "duration": 73,
    "start_time": "2023-04-28T09:38:28.362Z"
   },
   {
    "duration": 10,
    "start_time": "2023-04-28T09:38:49.567Z"
   },
   {
    "duration": 1224,
    "start_time": "2023-04-28T09:38:52.382Z"
   },
   {
    "duration": 6,
    "start_time": "2023-04-28T09:39:36.417Z"
   },
   {
    "duration": 6,
    "start_time": "2023-04-28T09:39:48.238Z"
   },
   {
    "duration": 20583,
    "start_time": "2023-04-28T09:40:12.227Z"
   },
   {
    "duration": 5,
    "start_time": "2023-04-28T09:40:39.917Z"
   },
   {
    "duration": 4,
    "start_time": "2023-04-28T09:40:40.725Z"
   },
   {
    "duration": 5,
    "start_time": "2023-04-28T09:41:06.487Z"
   },
   {
    "duration": 4,
    "start_time": "2023-04-28T09:41:06.749Z"
   },
   {
    "duration": 2,
    "start_time": "2023-04-28T09:41:07.894Z"
   },
   {
    "duration": 3,
    "start_time": "2023-04-28T09:41:10.516Z"
   },
   {
    "duration": 2,
    "start_time": "2023-04-28T09:41:11.335Z"
   },
   {
    "duration": 16041,
    "start_time": "2023-04-28T09:41:12.643Z"
   },
   {
    "duration": 5,
    "start_time": "2023-04-28T09:41:38.204Z"
   },
   {
    "duration": 15901,
    "start_time": "2023-04-28T09:41:54.478Z"
   },
   {
    "duration": 7,
    "start_time": "2023-04-28T09:42:27.515Z"
   },
   {
    "duration": 17,
    "start_time": "2023-04-28T09:42:53.266Z"
   },
   {
    "duration": 6,
    "start_time": "2023-04-28T09:43:01.601Z"
   },
   {
    "duration": 4,
    "start_time": "2023-04-28T09:43:12.740Z"
   },
   {
    "duration": 4,
    "start_time": "2023-04-28T09:43:16.857Z"
   },
   {
    "duration": 5,
    "start_time": "2023-04-28T09:43:29.654Z"
   },
   {
    "duration": 3,
    "start_time": "2023-04-28T09:43:38.019Z"
   },
   {
    "duration": 3,
    "start_time": "2023-04-28T09:43:38.515Z"
   },
   {
    "duration": 3,
    "start_time": "2023-04-28T09:43:39.211Z"
   },
   {
    "duration": 17921,
    "start_time": "2023-04-28T09:43:40.010Z"
   },
   {
    "duration": 7,
    "start_time": "2023-04-28T09:44:32.175Z"
   },
   {
    "duration": 4,
    "start_time": "2023-04-28T09:44:32.953Z"
   },
   {
    "duration": 5,
    "start_time": "2023-04-28T09:44:33.521Z"
   },
   {
    "duration": 4,
    "start_time": "2023-04-28T09:44:34.308Z"
   },
   {
    "duration": 2,
    "start_time": "2023-04-28T09:44:35.047Z"
   },
   {
    "duration": 3,
    "start_time": "2023-04-28T09:44:35.711Z"
   },
   {
    "duration": 2,
    "start_time": "2023-04-28T09:44:36.243Z"
   },
   {
    "duration": 20995,
    "start_time": "2023-04-28T09:44:37.304Z"
   },
   {
    "duration": 5,
    "start_time": "2023-04-28T09:45:39.327Z"
   },
   {
    "duration": 5,
    "start_time": "2023-04-28T09:45:47.447Z"
   },
   {
    "duration": 4,
    "start_time": "2023-04-28T09:45:48.875Z"
   },
   {
    "duration": 4,
    "start_time": "2023-04-28T09:45:49.634Z"
   },
   {
    "duration": 6,
    "start_time": "2023-04-28T09:45:50.311Z"
   },
   {
    "duration": 3,
    "start_time": "2023-04-28T09:45:51.969Z"
   },
   {
    "duration": 2,
    "start_time": "2023-04-28T09:45:52.760Z"
   },
   {
    "duration": 3,
    "start_time": "2023-04-28T09:45:53.381Z"
   },
   {
    "duration": 24064,
    "start_time": "2023-04-28T09:45:55.611Z"
   },
   {
    "duration": 54,
    "start_time": "2023-04-28T09:46:19.676Z"
   },
   {
    "duration": 5,
    "start_time": "2023-04-28T09:49:46.812Z"
   },
   {
    "duration": 2,
    "start_time": "2023-04-28T09:49:51.474Z"
   },
   {
    "duration": 2,
    "start_time": "2023-04-28T09:49:52.728Z"
   },
   {
    "duration": 2,
    "start_time": "2023-04-28T09:49:53.877Z"
   },
   {
    "duration": 23921,
    "start_time": "2023-04-28T09:49:54.709Z"
   },
   {
    "duration": 69,
    "start_time": "2023-04-28T09:50:18.632Z"
   },
   {
    "duration": 6,
    "start_time": "2023-04-28T11:03:11.694Z"
   },
   {
    "duration": 1700,
    "start_time": "2023-04-28T11:11:41.323Z"
   },
   {
    "duration": 12,
    "start_time": "2023-04-28T11:13:59.700Z"
   },
   {
    "duration": 11,
    "start_time": "2023-04-28T11:14:05.116Z"
   },
   {
    "duration": 23,
    "start_time": "2023-04-28T11:14:05.954Z"
   },
   {
    "duration": 7,
    "start_time": "2023-04-28T11:14:07.714Z"
   },
   {
    "duration": 179,
    "start_time": "2023-04-28T11:17:01.035Z"
   },
   {
    "duration": 1803,
    "start_time": "2023-04-28T13:21:21.485Z"
   },
   {
    "duration": 1377,
    "start_time": "2023-04-28T13:21:27.120Z"
   },
   {
    "duration": 30,
    "start_time": "2023-04-28T13:21:28.499Z"
   },
   {
    "duration": 25,
    "start_time": "2023-04-28T13:21:29.925Z"
   },
   {
    "duration": 72,
    "start_time": "2023-04-28T13:21:30.962Z"
   },
   {
    "duration": 39,
    "start_time": "2023-04-28T13:21:32.290Z"
   },
   {
    "duration": 7,
    "start_time": "2023-04-28T13:21:33.397Z"
   },
   {
    "duration": 4,
    "start_time": "2023-04-28T14:04:32.396Z"
   },
   {
    "duration": 7,
    "start_time": "2023-04-28T14:07:49.311Z"
   },
   {
    "duration": 72,
    "start_time": "2023-04-28T14:09:33.041Z"
   },
   {
    "duration": 6,
    "start_time": "2023-04-28T14:10:00.740Z"
   },
   {
    "duration": 144,
    "start_time": "2023-04-28T14:10:03.072Z"
   },
   {
    "duration": 122,
    "start_time": "2023-04-28T14:11:47.300Z"
   },
   {
    "duration": 9,
    "start_time": "2023-04-28T14:19:11.620Z"
   },
   {
    "duration": 960,
    "start_time": "2023-04-28T14:21:54.385Z"
   },
   {
    "duration": 6,
    "start_time": "2023-04-28T14:21:59.190Z"
   },
   {
    "duration": 962,
    "start_time": "2023-04-28T14:22:01.375Z"
   },
   {
    "duration": 4,
    "start_time": "2023-04-28T14:22:06.726Z"
   },
   {
    "duration": 135,
    "start_time": "2023-04-28T14:23:16.536Z"
   },
   {
    "duration": 5,
    "start_time": "2023-04-28T14:24:10.872Z"
   },
   {
    "duration": 4,
    "start_time": "2023-04-28T14:24:22.782Z"
   },
   {
    "duration": 4,
    "start_time": "2023-04-28T14:24:30.540Z"
   },
   {
    "duration": 4,
    "start_time": "2023-04-28T14:25:02.225Z"
   },
   {
    "duration": 9,
    "start_time": "2023-04-28T14:31:16.186Z"
   },
   {
    "duration": 726,
    "start_time": "2023-04-28T14:32:01.718Z"
   },
   {
    "duration": 4,
    "start_time": "2023-04-28T14:41:40.099Z"
   },
   {
    "duration": 11,
    "start_time": "2023-04-28T14:44:08.621Z"
   },
   {
    "duration": 5,
    "start_time": "2023-04-28T14:44:25.372Z"
   },
   {
    "duration": 6,
    "start_time": "2023-04-28T14:44:33.476Z"
   },
   {
    "duration": 5,
    "start_time": "2023-04-28T14:44:53.836Z"
   },
   {
    "duration": 136,
    "start_time": "2023-04-28T14:45:47.518Z"
   },
   {
    "duration": 66,
    "start_time": "2023-04-28T14:46:12.446Z"
   },
   {
    "duration": 51,
    "start_time": "2023-04-28T14:47:12.605Z"
   },
   {
    "duration": 2,
    "start_time": "2023-04-28T14:47:58.787Z"
   },
   {
    "duration": 4,
    "start_time": "2023-04-28T14:47:59.515Z"
   },
   {
    "duration": 8,
    "start_time": "2023-04-28T14:48:08.184Z"
   },
   {
    "duration": 11,
    "start_time": "2023-04-28T14:49:09.278Z"
   },
   {
    "duration": 125,
    "start_time": "2023-04-28T14:49:57.889Z"
   },
   {
    "duration": 5227,
    "start_time": "2023-04-28T15:37:20.848Z"
   },
   {
    "duration": 99,
    "start_time": "2023-04-28T15:38:26.159Z"
   },
   {
    "duration": 138,
    "start_time": "2023-04-28T15:38:46.757Z"
   },
   {
    "duration": 4,
    "start_time": "2023-04-28T15:43:03.806Z"
   },
   {
    "duration": 8,
    "start_time": "2023-04-28T15:43:25.285Z"
   },
   {
    "duration": 8,
    "start_time": "2023-04-28T15:43:38.191Z"
   },
   {
    "duration": 4,
    "start_time": "2023-04-28T16:01:34.788Z"
   },
   {
    "duration": 9,
    "start_time": "2023-04-28T16:01:47.297Z"
   },
   {
    "duration": 5,
    "start_time": "2023-04-28T16:02:35.289Z"
   },
   {
    "duration": 8,
    "start_time": "2023-04-28T16:03:28.928Z"
   },
   {
    "duration": 3,
    "start_time": "2023-04-28T16:04:27.816Z"
   },
   {
    "duration": 4,
    "start_time": "2023-04-28T16:05:09.016Z"
   },
   {
    "duration": 3,
    "start_time": "2023-04-28T16:06:34.876Z"
   },
   {
    "duration": 10,
    "start_time": "2023-04-28T16:06:35.680Z"
   },
   {
    "duration": 3,
    "start_time": "2023-04-28T16:06:50.018Z"
   },
   {
    "duration": 9,
    "start_time": "2023-04-28T16:09:24.443Z"
   },
   {
    "duration": 10,
    "start_time": "2023-04-28T16:10:15.784Z"
   },
   {
    "duration": 9,
    "start_time": "2023-04-28T16:10:45.647Z"
   },
   {
    "duration": 9,
    "start_time": "2023-04-28T16:10:55.123Z"
   },
   {
    "duration": 8,
    "start_time": "2023-04-28T16:11:38.741Z"
   },
   {
    "duration": 4,
    "start_time": "2023-04-28T16:12:03.491Z"
   },
   {
    "duration": 16,
    "start_time": "2023-04-28T16:12:10.049Z"
   },
   {
    "duration": 9,
    "start_time": "2023-04-28T16:12:27.385Z"
   },
   {
    "duration": 5,
    "start_time": "2023-04-28T16:12:50.704Z"
   },
   {
    "duration": 3,
    "start_time": "2023-04-28T16:13:06.887Z"
   },
   {
    "duration": 2,
    "start_time": "2023-04-28T16:13:40.213Z"
   },
   {
    "duration": 4,
    "start_time": "2023-04-28T16:13:41.253Z"
   },
   {
    "duration": 4,
    "start_time": "2023-04-28T16:14:13.121Z"
   },
   {
    "duration": 3,
    "start_time": "2023-04-28T16:14:21.235Z"
   },
   {
    "duration": 8,
    "start_time": "2023-04-28T16:14:22.578Z"
   },
   {
    "duration": 54,
    "start_time": "2023-04-28T16:14:32.477Z"
   },
   {
    "duration": 233,
    "start_time": "2023-04-28T16:14:44.085Z"
   },
   {
    "duration": 121,
    "start_time": "2023-04-28T16:15:50.506Z"
   },
   {
    "duration": 5171,
    "start_time": "2023-04-28T16:16:36.545Z"
   },
   {
    "duration": 106,
    "start_time": "2023-04-28T16:19:11.940Z"
   },
   {
    "duration": 124,
    "start_time": "2023-04-28T16:19:54.744Z"
   },
   {
    "duration": 135,
    "start_time": "2023-04-28T16:20:40.315Z"
   },
   {
    "duration": 7,
    "start_time": "2023-04-28T16:21:47.355Z"
   },
   {
    "duration": 7,
    "start_time": "2023-04-28T16:22:06.664Z"
   },
   {
    "duration": 765,
    "start_time": "2023-04-28T16:23:00.173Z"
   },
   {
    "duration": 701,
    "start_time": "2023-04-28T16:23:08.099Z"
   },
   {
    "duration": 4,
    "start_time": "2023-04-28T16:31:33.575Z"
   },
   {
    "duration": 5,
    "start_time": "2023-04-28T16:32:02.065Z"
   },
   {
    "duration": 195,
    "start_time": "2023-04-28T16:33:18.487Z"
   },
   {
    "duration": 11,
    "start_time": "2023-04-28T16:49:39.398Z"
   },
   {
    "duration": 13,
    "start_time": "2023-04-28T16:51:38.221Z"
   },
   {
    "duration": 13,
    "start_time": "2023-04-28T16:53:13.644Z"
   },
   {
    "duration": 17,
    "start_time": "2023-04-28T16:53:27.784Z"
   },
   {
    "duration": 12,
    "start_time": "2023-04-28T16:54:43.590Z"
   },
   {
    "duration": 14,
    "start_time": "2023-04-28T16:54:54.482Z"
   },
   {
    "duration": 12,
    "start_time": "2023-04-28T17:08:45.290Z"
   },
   {
    "duration": 13,
    "start_time": "2023-04-28T17:09:14.195Z"
   },
   {
    "duration": 11,
    "start_time": "2023-04-28T17:10:56.844Z"
   },
   {
    "duration": 7,
    "start_time": "2023-04-28T17:11:13.594Z"
   },
   {
    "duration": 7,
    "start_time": "2023-04-28T17:31:25.496Z"
   },
   {
    "duration": 10,
    "start_time": "2023-04-28T17:31:52.218Z"
   },
   {
    "duration": 11,
    "start_time": "2023-04-28T17:32:16.754Z"
   },
   {
    "duration": 52,
    "start_time": "2023-04-28T17:38:56.335Z"
   },
   {
    "duration": 12,
    "start_time": "2023-04-28T17:39:36.604Z"
   },
   {
    "duration": 11,
    "start_time": "2023-04-28T17:40:04.653Z"
   },
   {
    "duration": 63,
    "start_time": "2023-04-28T17:40:34.741Z"
   },
   {
    "duration": 8,
    "start_time": "2023-04-28T17:40:46.469Z"
   },
   {
    "duration": 14,
    "start_time": "2023-04-28T17:41:34.618Z"
   },
   {
    "duration": 17,
    "start_time": "2023-04-28T17:43:35.619Z"
   },
   {
    "duration": 11,
    "start_time": "2023-04-28T17:45:27.395Z"
   },
   {
    "duration": 9,
    "start_time": "2023-04-28T17:45:32.835Z"
   },
   {
    "duration": 9,
    "start_time": "2023-04-28T17:46:11.540Z"
   },
   {
    "duration": 17,
    "start_time": "2023-04-28T17:46:42.881Z"
   },
   {
    "duration": 23,
    "start_time": "2023-04-28T17:49:31.790Z"
   },
   {
    "duration": 5,
    "start_time": "2023-04-28T17:52:58.264Z"
   },
   {
    "duration": 13,
    "start_time": "2023-04-28T17:53:08.702Z"
   },
   {
    "duration": 5,
    "start_time": "2023-04-28T17:54:04.413Z"
   },
   {
    "duration": 4,
    "start_time": "2023-04-28T17:54:05.881Z"
   },
   {
    "duration": 19,
    "start_time": "2023-04-28T17:57:52.830Z"
   },
   {
    "duration": 27,
    "start_time": "2023-04-28T18:00:57.342Z"
   },
   {
    "duration": 4,
    "start_time": "2023-04-28T18:04:23.817Z"
   },
   {
    "duration": 27,
    "start_time": "2023-04-28T18:04:25.124Z"
   },
   {
    "duration": 3,
    "start_time": "2023-04-28T18:04:27.322Z"
   },
   {
    "duration": 4,
    "start_time": "2023-04-28T18:04:31.129Z"
   },
   {
    "duration": 16,
    "start_time": "2023-04-28T18:05:48.315Z"
   },
   {
    "duration": 17,
    "start_time": "2023-04-28T18:07:18.434Z"
   },
   {
    "duration": 55,
    "start_time": "2023-04-28T18:08:59.862Z"
   },
   {
    "duration": 17,
    "start_time": "2023-04-28T18:09:33.186Z"
   },
   {
    "duration": 23,
    "start_time": "2023-04-28T18:22:17.465Z"
   },
   {
    "duration": 7,
    "start_time": "2023-04-28T18:24:29.751Z"
   },
   {
    "duration": 5,
    "start_time": "2023-04-28T18:24:51.456Z"
   },
   {
    "duration": 19,
    "start_time": "2023-04-28T18:32:24.834Z"
   },
   {
    "duration": 16,
    "start_time": "2023-04-28T18:34:19.926Z"
   },
   {
    "duration": 8,
    "start_time": "2023-04-28T18:34:23.977Z"
   },
   {
    "duration": 21,
    "start_time": "2023-04-28T18:34:57.837Z"
   },
   {
    "duration": 4,
    "start_time": "2023-04-28T18:42:46.981Z"
   },
   {
    "duration": 25,
    "start_time": "2023-04-28T18:42:55.682Z"
   },
   {
    "duration": 4,
    "start_time": "2023-04-28T18:43:07.298Z"
   },
   {
    "duration": 4,
    "start_time": "2023-04-28T18:43:09.277Z"
   },
   {
    "duration": 17,
    "start_time": "2023-04-28T18:43:18.722Z"
   },
   {
    "duration": 73,
    "start_time": "2023-04-28T18:43:24.222Z"
   },
   {
    "duration": 71,
    "start_time": "2023-04-28T18:44:38.399Z"
   },
   {
    "duration": 22,
    "start_time": "2023-04-28T18:48:30.776Z"
   },
   {
    "duration": 47,
    "start_time": "2023-04-28T18:49:59.104Z"
   },
   {
    "duration": 78,
    "start_time": "2023-04-28T18:50:07.538Z"
   },
   {
    "duration": 693,
    "start_time": "2023-04-28T19:08:50.234Z"
   },
   {
    "duration": 26,
    "start_time": "2023-04-28T19:09:01.775Z"
   },
   {
    "duration": 22,
    "start_time": "2023-04-28T19:10:09.784Z"
   },
   {
    "duration": 47,
    "start_time": "2023-04-28T19:17:09.246Z"
   },
   {
    "duration": 38,
    "start_time": "2023-04-28T19:18:37.783Z"
   },
   {
    "duration": 77,
    "start_time": "2023-04-28T19:57:24.698Z"
   },
   {
    "duration": 43,
    "start_time": "2023-04-28T19:58:41.835Z"
   },
   {
    "duration": 41,
    "start_time": "2023-04-28T20:00:05.133Z"
   },
   {
    "duration": 45,
    "start_time": "2023-04-28T20:00:55.517Z"
   },
   {
    "duration": 15,
    "start_time": "2023-04-28T20:01:22.688Z"
   },
   {
    "duration": 8,
    "start_time": "2023-04-28T20:02:05.070Z"
   },
   {
    "duration": 53,
    "start_time": "2023-04-28T20:03:14.901Z"
   },
   {
    "duration": 70,
    "start_time": "2023-04-28T20:04:09.097Z"
   },
   {
    "duration": 99,
    "start_time": "2023-04-28T20:07:04.748Z"
   },
   {
    "duration": 48,
    "start_time": "2023-04-28T20:10:41.786Z"
   },
   {
    "duration": 15,
    "start_time": "2023-04-28T20:11:00.110Z"
   },
   {
    "duration": 14,
    "start_time": "2023-04-28T20:13:52.644Z"
   },
   {
    "duration": 54,
    "start_time": "2023-04-28T20:14:14.448Z"
   },
   {
    "duration": 55,
    "start_time": "2023-04-28T20:15:55.197Z"
   },
   {
    "duration": 54,
    "start_time": "2023-04-28T20:35:00.360Z"
   },
   {
    "duration": 54,
    "start_time": "2023-04-28T20:35:18.227Z"
   },
   {
    "duration": 3,
    "start_time": "2023-04-28T20:36:29.809Z"
   },
   {
    "duration": 59,
    "start_time": "2023-04-28T20:36:30.847Z"
   },
   {
    "duration": 52,
    "start_time": "2023-04-28T20:39:04.022Z"
   },
   {
    "duration": 5,
    "start_time": "2023-04-28T20:39:41.057Z"
   },
   {
    "duration": 5,
    "start_time": "2023-04-28T20:40:13.781Z"
   },
   {
    "duration": 4,
    "start_time": "2023-04-28T20:40:26.151Z"
   },
   {
    "duration": 3,
    "start_time": "2023-04-28T20:44:32.263Z"
   },
   {
    "duration": 4,
    "start_time": "2023-04-28T20:44:38.065Z"
   },
   {
    "duration": 9,
    "start_time": "2023-04-28T20:44:51.023Z"
   },
   {
    "duration": 4,
    "start_time": "2023-04-28T20:45:05.520Z"
   },
   {
    "duration": 65,
    "start_time": "2023-04-28T20:45:10.719Z"
   },
   {
    "duration": 50,
    "start_time": "2023-04-28T20:45:18.380Z"
   },
   {
    "duration": 6,
    "start_time": "2023-04-28T21:01:16.050Z"
   },
   {
    "duration": 8,
    "start_time": "2023-04-28T21:02:27.727Z"
   },
   {
    "duration": 118,
    "start_time": "2023-04-28T21:04:30.168Z"
   },
   {
    "duration": 48,
    "start_time": "2023-04-28T21:10:30.816Z"
   },
   {
    "duration": 48,
    "start_time": "2023-04-28T21:10:53.436Z"
   },
   {
    "duration": 67,
    "start_time": "2023-04-28T21:12:29.916Z"
   },
   {
    "duration": 59,
    "start_time": "2023-04-28T21:14:14.746Z"
   },
   {
    "duration": 4,
    "start_time": "2023-04-28T21:16:07.134Z"
   },
   {
    "duration": 4,
    "start_time": "2023-04-28T21:25:49.051Z"
   },
   {
    "duration": 4,
    "start_time": "2023-04-28T21:29:21.319Z"
   },
   {
    "duration": 4,
    "start_time": "2023-04-28T21:35:14.880Z"
   },
   {
    "duration": 31,
    "start_time": "2023-04-28T21:41:16.877Z"
   },
   {
    "duration": 23,
    "start_time": "2023-04-28T21:41:30.713Z"
   },
   {
    "duration": 14,
    "start_time": "2023-04-28T21:42:03.818Z"
   },
   {
    "duration": 15,
    "start_time": "2023-04-28T21:46:34.199Z"
   },
   {
    "duration": 13,
    "start_time": "2023-04-28T21:50:40.320Z"
   },
   {
    "duration": 15,
    "start_time": "2023-04-28T21:50:55.150Z"
   },
   {
    "duration": 6,
    "start_time": "2023-04-28T21:53:06.873Z"
   },
   {
    "duration": 253,
    "start_time": "2023-04-28T21:53:07.561Z"
   },
   {
    "duration": 27,
    "start_time": "2023-04-28T21:53:08.301Z"
   },
   {
    "duration": 19,
    "start_time": "2023-04-28T21:53:08.961Z"
   },
   {
    "duration": 52,
    "start_time": "2023-04-28T21:53:09.642Z"
   },
   {
    "duration": 36,
    "start_time": "2023-04-28T21:53:10.362Z"
   },
   {
    "duration": 6,
    "start_time": "2023-04-28T21:53:11.102Z"
   },
   {
    "duration": 31,
    "start_time": "2023-04-28T21:53:11.842Z"
   },
   {
    "duration": 2,
    "start_time": "2023-04-28T21:53:13.231Z"
   },
   {
    "duration": 13,
    "start_time": "2023-04-28T21:53:13.921Z"
   },
   {
    "duration": 90,
    "start_time": "2023-04-28T21:53:15.511Z"
   },
   {
    "duration": 38,
    "start_time": "2023-04-28T21:53:16.949Z"
   },
   {
    "duration": 21,
    "start_time": "2023-04-28T21:53:17.641Z"
   },
   {
    "duration": 21,
    "start_time": "2023-04-28T21:53:18.312Z"
   },
   {
    "duration": 57,
    "start_time": "2023-04-28T21:53:18.983Z"
   },
   {
    "duration": 32,
    "start_time": "2023-04-28T21:53:19.734Z"
   },
   {
    "duration": 2737,
    "start_time": "2023-04-28T21:53:20.420Z"
   },
   {
    "duration": 134,
    "start_time": "2023-04-28T21:53:23.159Z"
   },
   {
    "duration": 132,
    "start_time": "2023-04-28T21:53:23.294Z"
   },
   {
    "duration": 149,
    "start_time": "2023-04-28T21:53:23.429Z"
   },
   {
    "duration": 11,
    "start_time": "2023-04-28T21:53:23.580Z"
   },
   {
    "duration": 28,
    "start_time": "2023-04-28T21:53:24.112Z"
   },
   {
    "duration": 2660,
    "start_time": "2023-04-28T21:53:24.806Z"
   },
   {
    "duration": 6,
    "start_time": "2023-04-28T21:53:27.468Z"
   },
   {
    "duration": 17,
    "start_time": "2023-04-28T21:53:27.475Z"
   },
   {
    "duration": 151,
    "start_time": "2023-04-28T21:53:27.828Z"
   },
   {
    "duration": 1593,
    "start_time": "2023-04-28T21:53:29.936Z"
   },
   {
    "duration": 11,
    "start_time": "2023-04-28T21:53:31.639Z"
   },
   {
    "duration": 11,
    "start_time": "2023-04-28T21:53:32.632Z"
   },
   {
    "duration": 19,
    "start_time": "2023-04-28T21:53:33.762Z"
   },
   {
    "duration": 4,
    "start_time": "2023-04-28T21:53:35.361Z"
   },
   {
    "duration": 27,
    "start_time": "2023-04-28T21:53:36.360Z"
   },
   {
    "duration": 4,
    "start_time": "2023-04-28T21:53:37.073Z"
   },
   {
    "duration": 4,
    "start_time": "2023-04-28T21:53:37.871Z"
   },
   {
    "duration": 3,
    "start_time": "2023-04-28T21:53:38.678Z"
   },
   {
    "duration": 71,
    "start_time": "2023-04-28T21:53:39.432Z"
   },
   {
    "duration": 21,
    "start_time": "2023-04-28T21:53:42.223Z"
   },
   {
    "duration": 41,
    "start_time": "2023-04-28T21:53:43.001Z"
   },
   {
    "duration": 15,
    "start_time": "2023-04-28T21:53:44.724Z"
   },
   {
    "duration": 17,
    "start_time": "2023-04-28T21:53:45.564Z"
   },
   {
    "duration": 21,
    "start_time": "2023-04-28T21:53:47.643Z"
   },
   {
    "duration": 49,
    "start_time": "2023-04-28T21:53:48.402Z"
   },
   {
    "duration": 8,
    "start_time": "2023-04-28T21:53:49.144Z"
   },
   {
    "duration": 4,
    "start_time": "2023-04-28T21:53:49.906Z"
   },
   {
    "duration": 4,
    "start_time": "2023-04-28T21:53:50.711Z"
   },
   {
    "duration": 62,
    "start_time": "2023-04-28T21:53:51.572Z"
   },
   {
    "duration": 3,
    "start_time": "2023-04-28T21:54:36.862Z"
   },
   {
    "duration": 4,
    "start_time": "2023-04-28T21:54:37.894Z"
   },
   {
    "duration": 59,
    "start_time": "2023-04-28T21:54:39.440Z"
   },
   {
    "duration": 4,
    "start_time": "2023-04-28T21:55:11.881Z"
   },
   {
    "duration": 5,
    "start_time": "2023-04-28T21:56:55.154Z"
   },
   {
    "duration": 33,
    "start_time": "2023-04-28T21:56:55.882Z"
   },
   {
    "duration": 4,
    "start_time": "2023-04-28T21:56:56.643Z"
   },
   {
    "duration": 4,
    "start_time": "2023-04-28T21:56:57.349Z"
   },
   {
    "duration": 2,
    "start_time": "2023-04-28T21:56:57.964Z"
   },
   {
    "duration": 72,
    "start_time": "2023-04-28T21:56:58.624Z"
   },
   {
    "duration": 21,
    "start_time": "2023-04-28T21:57:01.604Z"
   },
   {
    "duration": 39,
    "start_time": "2023-04-28T21:57:02.464Z"
   },
   {
    "duration": 15,
    "start_time": "2023-04-28T21:57:04.144Z"
   },
   {
    "duration": 12,
    "start_time": "2023-04-28T21:57:05.002Z"
   },
   {
    "duration": 25,
    "start_time": "2023-04-28T21:57:06.606Z"
   },
   {
    "duration": 51,
    "start_time": "2023-04-28T21:57:07.398Z"
   },
   {
    "duration": 8,
    "start_time": "2023-04-28T21:57:08.204Z"
   },
   {
    "duration": 3,
    "start_time": "2023-04-28T21:57:09.041Z"
   },
   {
    "duration": 5,
    "start_time": "2023-04-28T21:57:09.824Z"
   },
   {
    "duration": 5,
    "start_time": "2023-04-28T21:57:10.699Z"
   },
   {
    "duration": 54,
    "start_time": "2023-04-28T21:57:12.752Z"
   },
   {
    "duration": 7,
    "start_time": "2023-04-28T21:57:15.180Z"
   },
   {
    "duration": 115,
    "start_time": "2023-04-28T21:57:15.936Z"
   },
   {
    "duration": 50,
    "start_time": "2023-04-28T21:57:17.119Z"
   },
   {
    "duration": 4,
    "start_time": "2023-04-28T21:57:18.671Z"
   },
   {
    "duration": 5,
    "start_time": "2023-04-28T21:57:21.559Z"
   },
   {
    "duration": 3,
    "start_time": "2023-04-28T21:57:22.514Z"
   },
   {
    "duration": 4,
    "start_time": "2023-04-28T21:57:23.385Z"
   },
   {
    "duration": 4,
    "start_time": "2023-04-28T21:57:24.354Z"
   },
   {
    "duration": 1536,
    "start_time": "2023-04-28T21:57:29.284Z"
   },
   {
    "duration": 56,
    "start_time": "2023-04-28T21:57:32.524Z"
   },
   {
    "duration": 4,
    "start_time": "2023-04-28T21:57:41.223Z"
   },
   {
    "duration": 3,
    "start_time": "2023-04-28T21:57:49.822Z"
   },
   {
    "duration": 3,
    "start_time": "2023-04-28T21:57:50.632Z"
   },
   {
    "duration": 331,
    "start_time": "2023-04-28T21:57:51.882Z"
   },
   {
    "duration": 48,
    "start_time": "2023-04-28T21:57:53.915Z"
   },
   {
    "duration": 3518,
    "start_time": "2023-04-28T21:58:00.872Z"
   },
   {
    "duration": 10,
    "start_time": "2023-04-28T21:58:04.392Z"
   },
   {
    "duration": 2,
    "start_time": "2023-04-28T21:58:04.843Z"
   },
   {
    "duration": 155,
    "start_time": "2023-04-28T21:58:05.713Z"
   },
   {
    "duration": 433,
    "start_time": "2023-04-28T21:58:06.552Z"
   },
   {
    "duration": 1473,
    "start_time": "2023-04-29T06:29:15.902Z"
   },
   {
    "duration": 807,
    "start_time": "2023-04-29T06:29:17.377Z"
   },
   {
    "duration": 23,
    "start_time": "2023-04-29T06:29:18.186Z"
   },
   {
    "duration": 15,
    "start_time": "2023-04-29T06:29:18.351Z"
   },
   {
    "duration": 53,
    "start_time": "2023-04-29T06:29:19.415Z"
   },
   {
    "duration": 37,
    "start_time": "2023-04-29T06:29:21.456Z"
   },
   {
    "duration": 6,
    "start_time": "2023-04-29T06:29:22.859Z"
   },
   {
    "duration": 32,
    "start_time": "2023-04-29T06:29:26.158Z"
   },
   {
    "duration": 2,
    "start_time": "2023-04-29T06:29:28.079Z"
   },
   {
    "duration": 12,
    "start_time": "2023-04-29T06:29:33.179Z"
   },
   {
    "duration": 88,
    "start_time": "2023-04-29T06:29:38.755Z"
   },
   {
    "duration": 41,
    "start_time": "2023-04-29T06:29:40.810Z"
   },
   {
    "duration": 19,
    "start_time": "2023-04-29T06:29:42.391Z"
   },
   {
    "duration": 18,
    "start_time": "2023-04-29T06:29:48.469Z"
   },
   {
    "duration": 55,
    "start_time": "2023-04-29T06:29:49.319Z"
   },
   {
    "duration": 30,
    "start_time": "2023-04-29T06:29:50.283Z"
   },
   {
    "duration": 2528,
    "start_time": "2023-04-29T06:29:56.920Z"
   },
   {
    "duration": 114,
    "start_time": "2023-04-29T06:30:02.200Z"
   },
   {
    "duration": 120,
    "start_time": "2023-04-29T06:30:04.396Z"
   },
   {
    "duration": 215,
    "start_time": "2023-04-29T06:30:10.508Z"
   },
   {
    "duration": 9,
    "start_time": "2023-04-29T06:30:27.355Z"
   },
   {
    "duration": 26,
    "start_time": "2023-04-29T06:30:28.457Z"
   },
   {
    "duration": 2291,
    "start_time": "2023-04-29T06:30:45.509Z"
   },
   {
    "duration": 6,
    "start_time": "2023-04-29T06:30:47.802Z"
   },
   {
    "duration": 4,
    "start_time": "2023-04-29T06:30:47.810Z"
   },
   {
    "duration": 6,
    "start_time": "2023-04-29T06:30:50.622Z"
   },
   {
    "duration": 1419,
    "start_time": "2023-04-29T06:30:55.334Z"
   },
   {
    "duration": 9,
    "start_time": "2023-04-29T06:31:02.084Z"
   },
   {
    "duration": 9,
    "start_time": "2023-04-29T06:31:02.875Z"
   },
   {
    "duration": 14,
    "start_time": "2023-04-29T06:31:03.850Z"
   },
   {
    "duration": 4,
    "start_time": "2023-04-29T06:31:44.926Z"
   },
   {
    "duration": 22,
    "start_time": "2023-04-29T06:31:45.725Z"
   },
   {
    "duration": 4,
    "start_time": "2023-04-29T06:31:46.567Z"
   },
   {
    "duration": 3,
    "start_time": "2023-04-29T06:31:47.416Z"
   },
   {
    "duration": 3,
    "start_time": "2023-04-29T06:31:48.384Z"
   },
   {
    "duration": 67,
    "start_time": "2023-04-29T06:31:49.315Z"
   },
   {
    "duration": 18,
    "start_time": "2023-04-29T06:32:03.363Z"
   },
   {
    "duration": 40,
    "start_time": "2023-04-29T06:32:04.453Z"
   },
   {
    "duration": 13,
    "start_time": "2023-04-29T06:32:11.086Z"
   },
   {
    "duration": 10,
    "start_time": "2023-04-29T06:32:11.955Z"
   },
   {
    "duration": 13,
    "start_time": "2023-04-29T06:32:13.627Z"
   },
   {
    "duration": 42,
    "start_time": "2023-04-29T06:32:14.616Z"
   },
   {
    "duration": 9,
    "start_time": "2023-04-29T06:32:15.524Z"
   },
   {
    "duration": 3,
    "start_time": "2023-04-29T06:32:17.429Z"
   },
   {
    "duration": 4,
    "start_time": "2023-04-29T06:32:18.437Z"
   },
   {
    "duration": 4,
    "start_time": "2023-04-29T06:32:19.607Z"
   },
   {
    "duration": 50,
    "start_time": "2023-04-29T06:32:31.686Z"
   },
   {
    "duration": 8,
    "start_time": "2023-04-29T06:32:38.762Z"
   },
   {
    "duration": 103,
    "start_time": "2023-04-29T06:32:39.726Z"
   },
   {
    "duration": 49,
    "start_time": "2023-04-29T06:33:20.232Z"
   },
   {
    "duration": 52,
    "start_time": "2023-04-29T06:34:34.316Z"
   },
   {
    "duration": 4,
    "start_time": "2023-04-29T06:34:36.005Z"
   },
   {
    "duration": 5,
    "start_time": "2023-04-29T06:34:40.876Z"
   },
   {
    "duration": 5,
    "start_time": "2023-04-29T06:34:41.706Z"
   },
   {
    "duration": 5,
    "start_time": "2023-04-29T06:34:42.477Z"
   },
   {
    "duration": 6,
    "start_time": "2023-04-29T06:34:43.363Z"
   },
   {
    "duration": 1354,
    "start_time": "2023-04-29T06:34:45.405Z"
   },
   {
    "duration": 46,
    "start_time": "2023-04-29T06:34:54.755Z"
   },
   {
    "duration": 4,
    "start_time": "2023-04-29T06:35:03.345Z"
   },
   {
    "duration": 3,
    "start_time": "2023-04-29T06:35:08.834Z"
   },
   {
    "duration": 2,
    "start_time": "2023-04-29T06:35:10.225Z"
   },
   {
    "duration": 20,
    "start_time": "2023-04-29T06:36:10.856Z"
   },
   {
    "duration": 1742,
    "start_time": "2023-04-29T06:38:03.773Z"
   },
   {
    "duration": 45,
    "start_time": "2023-04-29T06:39:56.580Z"
   },
   {
    "duration": 155,
    "start_time": "2023-04-29T09:51:44.149Z"
   },
   {
    "duration": 1695,
    "start_time": "2023-04-29T09:53:04.952Z"
   },
   {
    "duration": 2155,
    "start_time": "2023-04-29T09:54:02.419Z"
   },
   {
    "duration": 1973,
    "start_time": "2023-04-29T09:54:17.892Z"
   },
   {
    "duration": 11,
    "start_time": "2023-04-29T09:58:40.041Z"
   },
   {
    "duration": 11,
    "start_time": "2023-04-29T10:07:14.410Z"
   },
   {
    "duration": 24,
    "start_time": "2023-04-29T10:07:15.596Z"
   },
   {
    "duration": 11,
    "start_time": "2023-04-29T10:18:35.026Z"
   },
   {
    "duration": 123,
    "start_time": "2023-04-29T10:18:55.047Z"
   },
   {
    "duration": 32,
    "start_time": "2023-04-29T10:19:38.008Z"
   },
   {
    "duration": 11,
    "start_time": "2023-04-29T10:20:47.656Z"
   },
   {
    "duration": 12,
    "start_time": "2023-04-29T10:21:27.045Z"
   },
   {
    "duration": 11,
    "start_time": "2023-04-29T10:22:00.080Z"
   },
   {
    "duration": 4,
    "start_time": "2023-04-29T10:22:40.239Z"
   },
   {
    "duration": 15,
    "start_time": "2023-04-29T10:24:21.232Z"
   },
   {
    "duration": 18,
    "start_time": "2023-04-29T10:24:22.279Z"
   },
   {
    "duration": 5,
    "start_time": "2023-04-29T10:24:23.924Z"
   },
   {
    "duration": 4,
    "start_time": "2023-04-29T10:45:46.489Z"
   },
   {
    "duration": 10,
    "start_time": "2023-04-29T10:58:34.978Z"
   },
   {
    "duration": 11,
    "start_time": "2023-04-29T10:58:43.997Z"
   },
   {
    "duration": 12,
    "start_time": "2023-04-29T10:59:02.029Z"
   },
   {
    "duration": 10,
    "start_time": "2023-04-29T11:12:21.633Z"
   },
   {
    "duration": 9,
    "start_time": "2023-04-29T11:16:17.503Z"
   },
   {
    "duration": 8,
    "start_time": "2023-04-29T11:16:57.470Z"
   },
   {
    "duration": 56,
    "start_time": "2023-04-29T11:33:22.515Z"
   },
   {
    "duration": 50,
    "start_time": "2023-04-29T11:33:32.258Z"
   },
   {
    "duration": 28,
    "start_time": "2023-04-29T11:34:53.225Z"
   },
   {
    "duration": 2662,
    "start_time": "2023-04-29T11:36:45.726Z"
   },
   {
    "duration": 47,
    "start_time": "2023-04-29T11:45:23.526Z"
   },
   {
    "duration": 20,
    "start_time": "2023-04-29T11:55:31.749Z"
   },
   {
    "duration": 19,
    "start_time": "2023-04-29T11:55:32.535Z"
   },
   {
    "duration": 61,
    "start_time": "2023-04-29T11:55:37.023Z"
   },
   {
    "duration": 12,
    "start_time": "2023-04-29T11:55:54.338Z"
   },
   {
    "duration": 319,
    "start_time": "2023-04-29T11:58:17.615Z"
   },
   {
    "duration": 107,
    "start_time": "2023-04-29T11:59:19.444Z"
   },
   {
    "duration": 110,
    "start_time": "2023-04-29T11:59:47.827Z"
   },
   {
    "duration": 109,
    "start_time": "2023-04-29T12:00:22.747Z"
   },
   {
    "duration": 1675,
    "start_time": "2023-04-29T12:01:09.367Z"
   },
   {
    "duration": 3,
    "start_time": "2023-04-29T12:16:15.708Z"
   },
   {
    "duration": 4,
    "start_time": "2023-04-29T12:32:08.934Z"
   },
   {
    "duration": 210,
    "start_time": "2023-04-29T12:32:09.722Z"
   },
   {
    "duration": 23,
    "start_time": "2023-04-29T12:32:11.115Z"
   },
   {
    "duration": 16,
    "start_time": "2023-04-29T12:32:11.762Z"
   },
   {
    "duration": 45,
    "start_time": "2023-04-29T12:32:12.486Z"
   },
   {
    "duration": 45,
    "start_time": "2023-04-29T12:32:13.381Z"
   },
   {
    "duration": 6,
    "start_time": "2023-04-29T12:32:13.927Z"
   },
   {
    "duration": 34,
    "start_time": "2023-04-29T12:32:14.641Z"
   },
   {
    "duration": 3,
    "start_time": "2023-04-29T12:32:16.153Z"
   },
   {
    "duration": 13,
    "start_time": "2023-04-29T12:32:17.031Z"
   },
   {
    "duration": 66,
    "start_time": "2023-04-29T12:32:18.361Z"
   },
   {
    "duration": 34,
    "start_time": "2023-04-29T12:32:19.786Z"
   },
   {
    "duration": 17,
    "start_time": "2023-04-29T12:32:20.735Z"
   },
   {
    "duration": 13,
    "start_time": "2023-04-29T12:32:21.187Z"
   },
   {
    "duration": 46,
    "start_time": "2023-04-29T12:32:22.627Z"
   },
   {
    "duration": 26,
    "start_time": "2023-04-29T12:32:23.362Z"
   },
   {
    "duration": 2704,
    "start_time": "2023-04-29T12:32:24.913Z"
   },
   {
    "duration": 132,
    "start_time": "2023-04-29T12:32:27.620Z"
   },
   {
    "duration": 124,
    "start_time": "2023-04-29T12:32:27.753Z"
   },
   {
    "duration": 149,
    "start_time": "2023-04-29T12:32:27.879Z"
   },
   {
    "duration": 121,
    "start_time": "2023-04-29T12:32:28.621Z"
   },
   {
    "duration": 1919,
    "start_time": "2023-04-29T12:32:29.841Z"
   },
   {
    "duration": 11,
    "start_time": "2023-04-29T12:32:31.762Z"
   },
   {
    "duration": 2718,
    "start_time": "2023-04-29T12:32:32.015Z"
   },
   {
    "duration": 122,
    "start_time": "2023-04-29T12:32:34.734Z"
   },
   {
    "duration": 115,
    "start_time": "2023-04-29T12:32:34.858Z"
   },
   {
    "duration": 132,
    "start_time": "2023-04-29T12:32:34.976Z"
   },
   {
    "duration": 115,
    "start_time": "2023-04-29T12:32:36.018Z"
   },
   {
    "duration": 1817,
    "start_time": "2023-04-29T12:32:36.724Z"
   },
   {
    "duration": 5,
    "start_time": "2023-04-29T12:32:39.009Z"
   },
   {
    "duration": 8,
    "start_time": "2023-04-29T12:32:41.444Z"
   },
   {
    "duration": 1607,
    "start_time": "2023-04-29T12:32:43.873Z"
   },
   {
    "duration": 27,
    "start_time": "2023-04-29T12:32:45.482Z"
   },
   {
    "duration": 10,
    "start_time": "2023-04-29T12:32:45.791Z"
   },
   {
    "duration": 15,
    "start_time": "2023-04-29T12:32:49.126Z"
   },
   {
    "duration": 4,
    "start_time": "2023-04-29T12:32:53.100Z"
   },
   {
    "duration": 29,
    "start_time": "2023-04-29T12:32:54.776Z"
   },
   {
    "duration": 3,
    "start_time": "2023-04-29T12:32:55.471Z"
   },
   {
    "duration": 4,
    "start_time": "2023-04-29T12:32:56.432Z"
   },
   {
    "duration": 65,
    "start_time": "2023-04-29T12:32:57.262Z"
   },
   {
    "duration": 740,
    "start_time": "2023-04-29T12:32:58.672Z"
   },
   {
    "duration": 22,
    "start_time": "2023-04-29T12:32:59.506Z"
   },
   {
    "duration": 776,
    "start_time": "2023-04-29T12:35:07.716Z"
   },
   {
    "duration": 18,
    "start_time": "2023-04-29T12:36:26.020Z"
   },
   {
    "duration": 24,
    "start_time": "2023-04-29T12:36:31.642Z"
   },
   {
    "duration": 11,
    "start_time": "2023-04-29T12:36:32.542Z"
   },
   {
    "duration": 37,
    "start_time": "2023-04-29T12:36:40.023Z"
   },
   {
    "duration": 14,
    "start_time": "2023-04-29T12:36:42.576Z"
   },
   {
    "duration": 10,
    "start_time": "2023-04-29T12:36:43.352Z"
   },
   {
    "duration": 14,
    "start_time": "2023-04-29T12:36:44.315Z"
   },
   {
    "duration": 60,
    "start_time": "2023-04-29T12:36:45.161Z"
   },
   {
    "duration": 4,
    "start_time": "2023-04-29T12:36:47.222Z"
   },
   {
    "duration": 4,
    "start_time": "2023-04-29T12:36:55.731Z"
   },
   {
    "duration": 4,
    "start_time": "2023-04-29T12:36:57.228Z"
   },
   {
    "duration": 15,
    "start_time": "2023-04-29T12:36:58.736Z"
   },
   {
    "duration": 46,
    "start_time": "2023-04-29T12:36:59.566Z"
   },
   {
    "duration": 7,
    "start_time": "2023-04-29T12:37:00.242Z"
   },
   {
    "duration": 3,
    "start_time": "2023-04-29T12:37:01.624Z"
   },
   {
    "duration": 4,
    "start_time": "2023-04-29T12:37:02.420Z"
   },
   {
    "duration": 4,
    "start_time": "2023-04-29T12:37:03.542Z"
   },
   {
    "duration": 49,
    "start_time": "2023-04-29T12:37:09.924Z"
   },
   {
    "duration": 8,
    "start_time": "2023-04-29T12:37:12.723Z"
   },
   {
    "duration": 108,
    "start_time": "2023-04-29T12:37:13.724Z"
   },
   {
    "duration": 52,
    "start_time": "2023-04-29T12:37:15.174Z"
   },
   {
    "duration": 4,
    "start_time": "2023-04-29T12:37:17.452Z"
   },
   {
    "duration": 5,
    "start_time": "2023-04-29T12:37:23.416Z"
   },
   {
    "duration": 5,
    "start_time": "2023-04-29T12:37:24.182Z"
   },
   {
    "duration": 4,
    "start_time": "2023-04-29T12:37:35.734Z"
   },
   {
    "duration": 4,
    "start_time": "2023-04-29T12:37:36.572Z"
   },
   {
    "duration": 1485,
    "start_time": "2023-04-29T12:37:38.824Z"
   },
   {
    "duration": 42,
    "start_time": "2023-04-29T12:37:44.925Z"
   },
   {
    "duration": 326,
    "start_time": "2023-04-29T12:39:20.059Z"
   },
   {
    "duration": 4,
    "start_time": "2023-04-29T12:40:48.839Z"
   },
   {
    "duration": 8,
    "start_time": "2023-04-29T12:41:37.624Z"
   },
   {
    "duration": 42,
    "start_time": "2023-04-29T12:43:56.048Z"
   },
   {
    "duration": 12,
    "start_time": "2023-04-29T12:44:23.031Z"
   },
   {
    "duration": 21,
    "start_time": "2023-04-29T13:01:58.986Z"
   },
   {
    "duration": 15,
    "start_time": "2023-04-29T13:02:23.529Z"
   },
   {
    "duration": 17,
    "start_time": "2023-04-29T13:02:31.808Z"
   },
   {
    "duration": 1448,
    "start_time": "2023-04-29T14:21:11.162Z"
   },
   {
    "duration": 53,
    "start_time": "2023-04-29T14:21:14.068Z"
   },
   {
    "duration": 14,
    "start_time": "2023-04-29T14:21:22.543Z"
   },
   {
    "duration": 3,
    "start_time": "2023-04-29T14:21:24.743Z"
   },
   {
    "duration": 2,
    "start_time": "2023-04-29T14:21:25.941Z"
   },
   {
    "duration": 322,
    "start_time": "2023-04-29T14:21:27.026Z"
   },
   {
    "duration": 47,
    "start_time": "2023-04-29T14:21:27.627Z"
   },
   {
    "duration": 3302,
    "start_time": "2023-04-29T14:21:28.715Z"
   },
   {
    "duration": 7,
    "start_time": "2023-04-29T14:21:32.019Z"
   },
   {
    "duration": 8,
    "start_time": "2023-04-29T14:21:32.027Z"
   },
   {
    "duration": 149,
    "start_time": "2023-04-29T14:21:32.515Z"
   },
   {
    "duration": 195,
    "start_time": "2023-04-29T14:21:33.671Z"
   },
   {
    "duration": 55,
    "start_time": "2023-04-29T15:47:07.369Z"
   },
   {
    "duration": 13,
    "start_time": "2023-04-29T17:21:55.804Z"
   },
   {
    "duration": 26,
    "start_time": "2023-04-29T18:20:17.448Z"
   },
   {
    "duration": 17,
    "start_time": "2023-04-29T18:20:29.490Z"
   },
   {
    "duration": 4,
    "start_time": "2023-04-29T18:20:46.650Z"
   },
   {
    "duration": 192,
    "start_time": "2023-04-29T18:20:47.298Z"
   },
   {
    "duration": 24,
    "start_time": "2023-04-29T18:20:48.701Z"
   },
   {
    "duration": 17,
    "start_time": "2023-04-29T18:20:49.331Z"
   },
   {
    "duration": 40,
    "start_time": "2023-04-29T18:20:50.000Z"
   },
   {
    "duration": 31,
    "start_time": "2023-04-29T18:20:50.696Z"
   },
   {
    "duration": 6,
    "start_time": "2023-04-29T18:20:51.435Z"
   },
   {
    "duration": 30,
    "start_time": "2023-04-29T18:20:52.227Z"
   },
   {
    "duration": 3,
    "start_time": "2023-04-29T18:20:53.754Z"
   },
   {
    "duration": 13,
    "start_time": "2023-04-29T18:20:54.478Z"
   },
   {
    "duration": 61,
    "start_time": "2023-04-29T18:20:55.972Z"
   },
   {
    "duration": 32,
    "start_time": "2023-04-29T18:20:57.661Z"
   },
   {
    "duration": 18,
    "start_time": "2023-04-29T18:20:58.336Z"
   },
   {
    "duration": 12,
    "start_time": "2023-04-29T18:20:59.196Z"
   },
   {
    "duration": 46,
    "start_time": "2023-04-29T18:21:00.812Z"
   },
   {
    "duration": 27,
    "start_time": "2023-04-29T18:21:02.175Z"
   },
   {
    "duration": 2113,
    "start_time": "2023-04-29T18:21:04.202Z"
   },
   {
    "duration": 118,
    "start_time": "2023-04-29T18:21:06.317Z"
   },
   {
    "duration": 110,
    "start_time": "2023-04-29T18:21:07.243Z"
   },
   {
    "duration": 114,
    "start_time": "2023-04-29T18:21:08.249Z"
   },
   {
    "duration": 112,
    "start_time": "2023-04-29T18:21:09.084Z"
   },
   {
    "duration": 2101,
    "start_time": "2023-04-29T18:21:09.912Z"
   },
   {
    "duration": 10,
    "start_time": "2023-04-29T18:21:12.015Z"
   },
   {
    "duration": 2220,
    "start_time": "2023-04-29T18:21:12.281Z"
   },
   {
    "duration": 116,
    "start_time": "2023-04-29T18:21:14.503Z"
   },
   {
    "duration": 122,
    "start_time": "2023-04-29T18:21:14.621Z"
   },
   {
    "duration": 109,
    "start_time": "2023-04-29T18:21:15.115Z"
   },
   {
    "duration": 120,
    "start_time": "2023-04-29T18:21:15.993Z"
   },
   {
    "duration": 1711,
    "start_time": "2023-04-29T18:21:16.786Z"
   },
   {
    "duration": 4,
    "start_time": "2023-04-29T18:21:19.292Z"
   },
   {
    "duration": 6,
    "start_time": "2023-04-29T18:21:21.025Z"
   },
   {
    "duration": 1450,
    "start_time": "2023-04-29T18:21:22.683Z"
   },
   {
    "duration": 10,
    "start_time": "2023-04-29T18:21:24.324Z"
   },
   {
    "duration": 11,
    "start_time": "2023-04-29T18:21:25.105Z"
   },
   {
    "duration": 15,
    "start_time": "2023-04-29T18:21:25.921Z"
   },
   {
    "duration": 3,
    "start_time": "2023-04-29T18:21:28.946Z"
   },
   {
    "duration": 22,
    "start_time": "2023-04-29T18:21:30.406Z"
   },
   {
    "duration": 3,
    "start_time": "2023-04-29T18:21:31.277Z"
   },
   {
    "duration": 3,
    "start_time": "2023-04-29T18:21:32.029Z"
   },
   {
    "duration": 59,
    "start_time": "2023-04-29T18:21:32.780Z"
   },
   {
    "duration": 17,
    "start_time": "2023-04-29T18:21:34.310Z"
   },
   {
    "duration": 20,
    "start_time": "2023-04-29T18:21:35.139Z"
   },
   {
    "duration": 11,
    "start_time": "2023-04-29T18:21:35.867Z"
   },
   {
    "duration": 38,
    "start_time": "2023-04-29T18:21:37.347Z"
   },
   {
    "duration": 13,
    "start_time": "2023-04-29T18:21:38.863Z"
   },
   {
    "duration": 11,
    "start_time": "2023-04-29T18:21:39.628Z"
   },
   {
    "duration": 12,
    "start_time": "2023-04-29T18:21:40.311Z"
   },
   {
    "duration": 3,
    "start_time": "2023-04-29T18:21:41.859Z"
   },
   {
    "duration": 4,
    "start_time": "2023-04-29T18:21:43.242Z"
   },
   {
    "duration": 13,
    "start_time": "2023-04-29T18:21:44.659Z"
   },
   {
    "duration": 40,
    "start_time": "2023-04-29T18:21:45.417Z"
   },
   {
    "duration": 7,
    "start_time": "2023-04-29T18:21:46.069Z"
   },
   {
    "duration": 3,
    "start_time": "2023-04-29T18:21:46.876Z"
   },
   {
    "duration": 4,
    "start_time": "2023-04-29T18:21:47.568Z"
   },
   {
    "duration": 4,
    "start_time": "2023-04-29T18:21:48.324Z"
   },
   {
    "duration": 47,
    "start_time": "2023-04-29T18:21:49.031Z"
   },
   {
    "duration": 7,
    "start_time": "2023-04-29T18:21:50.501Z"
   },
   {
    "duration": 112,
    "start_time": "2023-04-29T18:21:51.345Z"
   },
   {
    "duration": 47,
    "start_time": "2023-04-29T18:21:52.708Z"
   },
   {
    "duration": 4,
    "start_time": "2023-04-29T18:21:54.225Z"
   },
   {
    "duration": 5,
    "start_time": "2023-04-29T18:21:56.575Z"
   },
   {
    "duration": 4,
    "start_time": "2023-04-29T18:21:57.256Z"
   },
   {
    "duration": 4,
    "start_time": "2023-04-29T18:21:57.926Z"
   },
   {
    "duration": 1420,
    "start_time": "2023-04-29T18:21:59.335Z"
   },
   {
    "duration": 50,
    "start_time": "2023-04-29T18:22:00.757Z"
   },
   {
    "duration": 15,
    "start_time": "2023-04-29T18:22:02.854Z"
   },
   {
    "duration": 11,
    "start_time": "2023-04-29T18:22:10.154Z"
   },
   {
    "duration": 10,
    "start_time": "2023-04-29T18:22:31.938Z"
   },
   {
    "duration": 247,
    "start_time": "2023-04-29T18:23:07.999Z"
   },
   {
    "duration": 43,
    "start_time": "2023-04-29T18:23:09.228Z"
   },
   {
    "duration": 7,
    "start_time": "2023-04-29T18:25:39.737Z"
   },
   {
    "duration": 3,
    "start_time": "2023-04-29T18:26:17.452Z"
   },
   {
    "duration": 127,
    "start_time": "2023-04-29T18:26:19.016Z"
   },
   {
    "duration": 138,
    "start_time": "2023-04-29T18:29:06.954Z"
   },
   {
    "duration": 1121,
    "start_time": "2023-04-29T18:29:20.315Z"
   },
   {
    "duration": 10,
    "start_time": "2023-04-29T18:40:17.255Z"
   },
   {
    "duration": 8,
    "start_time": "2023-04-29T18:41:53.034Z"
   },
   {
    "duration": 11,
    "start_time": "2023-04-29T18:43:23.439Z"
   },
   {
    "duration": 19057,
    "start_time": "2023-04-29T18:43:35.038Z"
   },
   {
    "duration": 10,
    "start_time": "2023-04-29T18:45:37.048Z"
   },
   {
    "duration": 4,
    "start_time": "2023-04-29T18:46:32.584Z"
   },
   {
    "duration": 23281,
    "start_time": "2023-04-29T18:46:45.322Z"
   },
   {
    "duration": 209,
    "start_time": "2023-04-29T19:05:49.841Z"
   },
   {
    "duration": 32,
    "start_time": "2023-04-29T19:11:42.381Z"
   },
   {
    "duration": 12,
    "start_time": "2023-04-29T19:48:44.757Z"
   },
   {
    "duration": 11,
    "start_time": "2023-04-29T19:50:55.496Z"
   },
   {
    "duration": 1098,
    "start_time": "2023-04-29T19:52:47.590Z"
   },
   {
    "duration": 18561,
    "start_time": "2023-04-29T19:52:53.128Z"
   },
   {
    "duration": 20870,
    "start_time": "2023-04-29T19:53:25.926Z"
   },
   {
    "duration": 203,
    "start_time": "2023-04-29T19:54:37.540Z"
   },
   {
    "duration": 10,
    "start_time": "2023-04-29T19:55:00.523Z"
   },
   {
    "duration": 10,
    "start_time": "2023-04-29T19:56:16.861Z"
   },
   {
    "duration": 13,
    "start_time": "2023-04-29T20:10:23.153Z"
   },
   {
    "duration": 3067,
    "start_time": "2023-04-29T20:10:49.645Z"
   },
   {
    "duration": 3100,
    "start_time": "2023-04-29T20:13:51.783Z"
   },
   {
    "duration": 8,
    "start_time": "2023-04-29T20:14:22.369Z"
   },
   {
    "duration": 5,
    "start_time": "2023-04-29T20:14:40.308Z"
   },
   {
    "duration": 13,
    "start_time": "2023-04-29T20:27:21.073Z"
   },
   {
    "duration": 4,
    "start_time": "2023-04-29T20:27:42.201Z"
   },
   {
    "duration": 26,
    "start_time": "2023-04-29T20:34:12.405Z"
   },
   {
    "duration": 4,
    "start_time": "2023-04-29T20:34:13.915Z"
   },
   {
    "duration": 4,
    "start_time": "2023-04-29T20:34:14.905Z"
   },
   {
    "duration": 5,
    "start_time": "2023-04-29T20:34:16.126Z"
   },
   {
    "duration": 1027975,
    "start_time": "2023-04-29T21:02:37.521Z"
   },
   {
    "duration": 3089,
    "start_time": "2023-04-29T21:19:45.498Z"
   },
   {
    "duration": 3516,
    "start_time": "2023-04-29T21:19:48.588Z"
   },
   {
    "duration": 104,
    "start_time": "2023-04-29T21:19:52.106Z"
   },
   {
    "duration": 1168,
    "start_time": "2023-04-29T22:28:37.851Z"
   },
   {
    "duration": 3510,
    "start_time": "2023-04-29T22:29:02.788Z"
   },
   {
    "duration": 1090,
    "start_time": "2023-04-29T22:29:21.983Z"
   },
   {
    "duration": 7129,
    "start_time": "2023-04-29T22:30:12.421Z"
   },
   {
    "duration": 1093,
    "start_time": "2023-04-29T22:31:14.385Z"
   },
   {
    "duration": 25,
    "start_time": "2023-04-29T22:32:44.838Z"
   },
   {
    "duration": 46,
    "start_time": "2023-04-30T07:45:58.625Z"
   },
   {
    "duration": 313,
    "start_time": "2023-04-30T08:16:15.025Z"
   },
   {
    "duration": 47,
    "start_time": "2023-04-30T08:16:15.833Z"
   },
   {
    "duration": 13,
    "start_time": "2023-04-30T08:16:25.522Z"
   },
   {
    "duration": 4,
    "start_time": "2023-04-30T08:17:02.510Z"
   },
   {
    "duration": 3,
    "start_time": "2023-04-30T08:20:14.827Z"
   },
   {
    "duration": 7,
    "start_time": "2023-04-30T08:20:15.910Z"
   },
   {
    "duration": 6,
    "start_time": "2023-04-30T08:20:34.048Z"
   },
   {
    "duration": 50,
    "start_time": "2023-04-30T08:20:38.805Z"
   },
   {
    "duration": 44,
    "start_time": "2023-04-30T08:28:41.502Z"
   },
   {
    "duration": 5,
    "start_time": "2023-04-30T08:53:27.711Z"
   },
   {
    "duration": 347,
    "start_time": "2023-04-30T08:53:29.041Z"
   },
   {
    "duration": 50,
    "start_time": "2023-04-30T08:53:39.806Z"
   },
   {
    "duration": 4,
    "start_time": "2023-04-30T08:55:47.107Z"
   },
   {
    "duration": 405,
    "start_time": "2023-04-30T08:55:47.906Z"
   },
   {
    "duration": 403,
    "start_time": "2023-04-30T08:56:44.251Z"
   },
   {
    "duration": 5,
    "start_time": "2023-04-30T08:57:08.394Z"
   },
   {
    "duration": 4798,
    "start_time": "2023-04-30T08:57:09.316Z"
   },
   {
    "duration": 5,
    "start_time": "2023-04-30T08:57:23.726Z"
   },
   {
    "duration": 9539,
    "start_time": "2023-04-30T08:57:24.724Z"
   },
   {
    "duration": 4,
    "start_time": "2023-04-30T08:57:43.943Z"
   },
   {
    "duration": 9212,
    "start_time": "2023-04-30T08:57:45.148Z"
   },
   {
    "duration": 6,
    "start_time": "2023-04-30T08:58:56.638Z"
   },
   {
    "duration": 9854,
    "start_time": "2023-04-30T08:58:57.806Z"
   },
   {
    "duration": 5,
    "start_time": "2023-04-30T08:59:51.811Z"
   },
   {
    "duration": 10856,
    "start_time": "2023-04-30T08:59:53.038Z"
   },
   {
    "duration": 5,
    "start_time": "2023-04-30T09:01:02.443Z"
   },
   {
    "duration": 11320,
    "start_time": "2023-04-30T09:01:03.455Z"
   },
   {
    "duration": 74,
    "start_time": "2023-04-30T09:01:24.094Z"
   },
   {
    "duration": 4,
    "start_time": "2023-04-30T09:03:46.806Z"
   },
   {
    "duration": 12692,
    "start_time": "2023-04-30T09:03:48.609Z"
   },
   {
    "duration": 5,
    "start_time": "2023-04-30T09:05:06.503Z"
   },
   {
    "duration": 429,
    "start_time": "2023-04-30T09:05:07.505Z"
   },
   {
    "duration": 47,
    "start_time": "2023-04-30T09:05:09.405Z"
   },
   {
    "duration": 5,
    "start_time": "2023-04-30T09:06:09.101Z"
   },
   {
    "duration": 5,
    "start_time": "2023-04-30T09:44:35.239Z"
   },
   {
    "duration": 211,
    "start_time": "2023-04-30T09:44:35.873Z"
   },
   {
    "duration": 36,
    "start_time": "2023-04-30T09:44:36.964Z"
   },
   {
    "duration": 19,
    "start_time": "2023-04-30T09:44:37.655Z"
   },
   {
    "duration": 46,
    "start_time": "2023-04-30T09:44:38.227Z"
   },
   {
    "duration": 43,
    "start_time": "2023-04-30T09:44:38.866Z"
   },
   {
    "duration": 7,
    "start_time": "2023-04-30T09:44:39.527Z"
   },
   {
    "duration": 48,
    "start_time": "2023-04-30T09:44:40.157Z"
   },
   {
    "duration": 5,
    "start_time": "2023-04-30T09:44:41.517Z"
   },
   {
    "duration": 18,
    "start_time": "2023-04-30T09:44:42.071Z"
   },
   {
    "duration": 87,
    "start_time": "2023-04-30T09:44:43.368Z"
   },
   {
    "duration": 40,
    "start_time": "2023-04-30T09:44:44.666Z"
   },
   {
    "duration": 35,
    "start_time": "2023-04-30T09:44:45.394Z"
   },
   {
    "duration": 17,
    "start_time": "2023-04-30T09:44:46.205Z"
   },
   {
    "duration": 65,
    "start_time": "2023-04-30T09:44:47.449Z"
   },
   {
    "duration": 36,
    "start_time": "2023-04-30T09:44:48.125Z"
   },
   {
    "duration": 3125,
    "start_time": "2023-04-30T09:44:49.466Z"
   },
   {
    "duration": 177,
    "start_time": "2023-04-30T09:44:52.593Z"
   },
   {
    "duration": 144,
    "start_time": "2023-04-30T09:44:52.772Z"
   },
   {
    "duration": 140,
    "start_time": "2023-04-30T09:44:52.918Z"
   },
   {
    "duration": 147,
    "start_time": "2023-04-30T09:44:53.060Z"
   },
   {
    "duration": 2127,
    "start_time": "2023-04-30T09:44:53.992Z"
   },
   {
    "duration": 12,
    "start_time": "2023-04-30T09:44:56.121Z"
   },
   {
    "duration": 2611,
    "start_time": "2023-04-30T09:44:56.134Z"
   },
   {
    "duration": 168,
    "start_time": "2023-04-30T09:44:58.748Z"
   },
   {
    "duration": 158,
    "start_time": "2023-04-30T09:44:58.918Z"
   },
   {
    "duration": 159,
    "start_time": "2023-04-30T09:44:59.078Z"
   },
   {
    "duration": 148,
    "start_time": "2023-04-30T09:44:59.239Z"
   },
   {
    "duration": 2133,
    "start_time": "2023-04-30T09:45:00.531Z"
   },
   {
    "duration": 5,
    "start_time": "2023-04-30T09:45:05.225Z"
   },
   {
    "duration": 9,
    "start_time": "2023-04-30T09:45:06.593Z"
   },
   {
    "duration": 1817,
    "start_time": "2023-04-30T09:45:07.935Z"
   },
   {
    "duration": 10,
    "start_time": "2023-04-30T09:45:09.754Z"
   },
   {
    "duration": 12,
    "start_time": "2023-04-30T09:45:11.041Z"
   },
   {
    "duration": 18,
    "start_time": "2023-04-30T09:45:11.849Z"
   },
   {
    "duration": 3,
    "start_time": "2023-04-30T09:45:14.649Z"
   },
   {
    "duration": 45,
    "start_time": "2023-04-30T09:45:16.570Z"
   },
   {
    "duration": 5,
    "start_time": "2023-04-30T09:45:17.747Z"
   },
   {
    "duration": 5,
    "start_time": "2023-04-30T09:45:18.729Z"
   },
   {
    "duration": 101,
    "start_time": "2023-04-30T09:45:19.561Z"
   },
   {
    "duration": 27,
    "start_time": "2023-04-30T09:45:21.617Z"
   },
   {
    "duration": 26,
    "start_time": "2023-04-30T09:45:23.020Z"
   },
   {
    "duration": 19,
    "start_time": "2023-04-30T09:45:23.702Z"
   },
   {
    "duration": 52,
    "start_time": "2023-04-30T09:45:25.217Z"
   },
   {
    "duration": 26,
    "start_time": "2023-04-30T09:45:26.992Z"
   },
   {
    "duration": 18,
    "start_time": "2023-04-30T09:45:27.764Z"
   },
   {
    "duration": 17,
    "start_time": "2023-04-30T09:45:28.861Z"
   },
   {
    "duration": 5,
    "start_time": "2023-04-30T09:45:30.288Z"
   },
   {
    "duration": 10,
    "start_time": "2023-04-30T09:45:31.823Z"
   },
   {
    "duration": 18,
    "start_time": "2023-04-30T09:45:33.320Z"
   },
   {
    "duration": 86,
    "start_time": "2023-04-30T09:45:34.092Z"
   },
   {
    "duration": 10,
    "start_time": "2023-04-30T09:45:34.815Z"
   },
   {
    "duration": 5,
    "start_time": "2023-04-30T09:45:35.624Z"
   },
   {
    "duration": 6,
    "start_time": "2023-04-30T09:45:36.291Z"
   },
   {
    "duration": 5,
    "start_time": "2023-04-30T09:45:37.063Z"
   },
   {
    "duration": 77,
    "start_time": "2023-04-30T09:45:37.738Z"
   },
   {
    "duration": 8,
    "start_time": "2023-04-30T09:45:39.142Z"
   },
   {
    "duration": 164,
    "start_time": "2023-04-30T09:45:40.048Z"
   },
   {
    "duration": 75,
    "start_time": "2023-04-30T09:45:41.537Z"
   },
   {
    "duration": 5,
    "start_time": "2023-04-30T09:45:43.229Z"
   },
   {
    "duration": 7,
    "start_time": "2023-04-30T09:45:46.622Z"
   },
   {
    "duration": 5,
    "start_time": "2023-04-30T09:45:48.023Z"
   },
   {
    "duration": 10,
    "start_time": "2023-04-30T09:45:49.592Z"
   },
   {
    "duration": 2251,
    "start_time": "2023-04-30T09:45:50.991Z"
   },
   {
    "duration": 63,
    "start_time": "2023-04-30T09:45:53.245Z"
   },
   {
    "duration": 17,
    "start_time": "2023-04-30T09:45:53.318Z"
   },
   {
    "duration": 15,
    "start_time": "2023-04-30T09:45:54.441Z"
   },
   {
    "duration": 13,
    "start_time": "2023-04-30T09:45:59.133Z"
   },
   {
    "duration": 461,
    "start_time": "2023-04-30T09:46:00.712Z"
   },
   {
    "duration": 71,
    "start_time": "2023-04-30T09:46:01.740Z"
   },
   {
    "duration": 9,
    "start_time": "2023-04-30T09:46:03.732Z"
   },
   {
    "duration": 5,
    "start_time": "2023-04-30T09:46:05.397Z"
   },
   {
    "duration": 160,
    "start_time": "2023-04-30T09:46:07.456Z"
   },
   {
    "duration": 17,
    "start_time": "2023-04-30T09:46:17.347Z"
   },
   {
    "duration": 5004,
    "start_time": "2023-04-30T09:46:19.132Z"
   },
   {
    "duration": 3317,
    "start_time": "2023-04-30T10:20:13.408Z"
   },
   {
    "duration": 185,
    "start_time": "2023-04-30T10:26:31.781Z"
   },
   {
    "duration": 5824,
    "start_time": "2023-04-30T10:26:44.071Z"
   },
   {
    "duration": 5522,
    "start_time": "2023-04-30T10:27:40.576Z"
   },
   {
    "duration": 233,
    "start_time": "2023-04-30T10:31:24.449Z"
   },
   {
    "duration": 347,
    "start_time": "2023-04-30T10:32:00.853Z"
   },
   {
    "duration": 5,
    "start_time": "2023-04-30T10:33:20.381Z"
   },
   {
    "duration": 48,
    "start_time": "2023-04-30T10:33:44.291Z"
   },
   {
    "duration": 5,
    "start_time": "2023-04-30T10:42:33.369Z"
   },
   {
    "duration": 9,
    "start_time": "2023-04-30T10:44:06.842Z"
   },
   {
    "duration": 1038,
    "start_time": "2023-04-30T10:44:07.927Z"
   },
   {
    "duration": 6,
    "start_time": "2023-04-30T10:44:10.456Z"
   },
   {
    "duration": 1081071,
    "start_time": "2023-04-30T10:45:24.875Z"
   },
   {
    "duration": 5,
    "start_time": "2023-04-30T11:03:25.948Z"
   },
   {
    "duration": 216,
    "start_time": "2023-04-30T11:24:35.279Z"
   },
   {
    "duration": 5,
    "start_time": "2023-04-30T11:24:37.041Z"
   },
   {
    "duration": 44,
    "start_time": "2023-04-30T11:24:42.968Z"
   },
   {
    "duration": 6,
    "start_time": "2023-04-30T11:25:11.363Z"
   },
   {
    "duration": 1013,
    "start_time": "2023-04-30T11:25:12.566Z"
   },
   {
    "duration": 11,
    "start_time": "2023-04-30T11:25:14.301Z"
   },
   {
    "duration": 4,
    "start_time": "2023-04-30T11:26:07.190Z"
   },
   {
    "duration": 45,
    "start_time": "2023-04-30T11:26:10.136Z"
   },
   {
    "duration": 8,
    "start_time": "2023-04-30T11:26:11.755Z"
   },
   {
    "duration": 1215,
    "start_time": "2023-04-30T11:26:12.521Z"
   },
   {
    "duration": 6,
    "start_time": "2023-04-30T11:26:13.739Z"
   },
   {
    "duration": 15,
    "start_time": "2023-04-30T11:47:52.925Z"
   },
   {
    "duration": 14,
    "start_time": "2023-04-30T11:49:18.800Z"
   },
   {
    "duration": 30,
    "start_time": "2023-04-30T11:55:42.379Z"
   },
   {
    "duration": 6,
    "start_time": "2023-04-30T11:57:23.452Z"
   },
   {
    "duration": 7,
    "start_time": "2023-04-30T11:57:54.600Z"
   },
   {
    "duration": 1164,
    "start_time": "2023-04-30T12:02:24.430Z"
   },
   {
    "duration": 5529,
    "start_time": "2023-04-30T12:02:35.925Z"
   },
   {
    "duration": 1179,
    "start_time": "2023-04-30T12:03:14.164Z"
   },
   {
    "duration": 21436,
    "start_time": "2023-04-30T12:03:44.770Z"
   },
   {
    "duration": 21,
    "start_time": "2023-04-30T12:09:39.907Z"
   },
   {
    "duration": 25,
    "start_time": "2023-04-30T12:13:11.397Z"
   },
   {
    "duration": 22,
    "start_time": "2023-04-30T12:19:38.074Z"
   },
   {
    "duration": 18,
    "start_time": "2023-04-30T12:21:22.959Z"
   },
   {
    "duration": 21,
    "start_time": "2023-04-30T12:56:52.848Z"
   },
   {
    "duration": 5,
    "start_time": "2023-04-30T13:45:49.053Z"
   },
   {
    "duration": 11,
    "start_time": "2023-04-30T13:54:49.272Z"
   },
   {
    "duration": 52,
    "start_time": "2023-04-30T16:50:04.101Z"
   },
   {
    "duration": 7,
    "start_time": "2023-04-30T16:50:04.671Z"
   },
   {
    "duration": 54,
    "start_time": "2023-04-30T17:37:05.683Z"
   },
   {
    "duration": 3691,
    "start_time": "2023-05-01T11:00:34.812Z"
   },
   {
    "duration": 1127,
    "start_time": "2023-05-01T11:00:38.505Z"
   },
   {
    "duration": 25,
    "start_time": "2023-05-01T11:00:39.634Z"
   },
   {
    "duration": 20,
    "start_time": "2023-05-01T11:00:39.661Z"
   },
   {
    "duration": 77,
    "start_time": "2023-05-01T11:00:39.684Z"
   },
   {
    "duration": 43,
    "start_time": "2023-05-01T11:00:39.763Z"
   },
   {
    "duration": 7,
    "start_time": "2023-05-01T11:00:39.807Z"
   },
   {
    "duration": 59,
    "start_time": "2023-05-01T11:00:39.816Z"
   },
   {
    "duration": 2,
    "start_time": "2023-05-01T11:00:39.877Z"
   },
   {
    "duration": 44,
    "start_time": "2023-05-01T11:00:39.881Z"
   },
   {
    "duration": 135,
    "start_time": "2023-05-01T11:00:39.927Z"
   },
   {
    "duration": 60,
    "start_time": "2023-05-01T11:00:40.064Z"
   },
   {
    "duration": 20,
    "start_time": "2023-05-01T11:00:40.126Z"
   },
   {
    "duration": 34,
    "start_time": "2023-05-01T11:00:40.149Z"
   },
   {
    "duration": 89,
    "start_time": "2023-05-01T11:00:40.185Z"
   },
   {
    "duration": 36,
    "start_time": "2023-05-01T11:00:40.276Z"
   },
   {
    "duration": 2915,
    "start_time": "2023-05-01T11:00:40.314Z"
   },
   {
    "duration": 127,
    "start_time": "2023-05-01T11:00:43.231Z"
   },
   {
    "duration": 135,
    "start_time": "2023-05-01T11:00:43.359Z"
   },
   {
    "duration": 262,
    "start_time": "2023-05-01T11:00:43.496Z"
   },
   {
    "duration": 144,
    "start_time": "2023-05-01T11:00:43.760Z"
   },
   {
    "duration": 2048,
    "start_time": "2023-05-01T11:00:43.906Z"
   },
   {
    "duration": 14,
    "start_time": "2023-05-01T11:00:45.956Z"
   },
   {
    "duration": 2738,
    "start_time": "2023-05-01T11:00:45.972Z"
   },
   {
    "duration": 129,
    "start_time": "2023-05-01T11:00:48.712Z"
   },
   {
    "duration": 132,
    "start_time": "2023-05-01T11:00:48.843Z"
   },
   {
    "duration": 325,
    "start_time": "2023-05-01T11:00:48.977Z"
   },
   {
    "duration": 138,
    "start_time": "2023-05-01T11:00:49.304Z"
   },
   {
    "duration": 1879,
    "start_time": "2023-05-01T11:00:49.443Z"
   },
   {
    "duration": 5,
    "start_time": "2023-05-01T11:00:51.323Z"
   },
   {
    "duration": 46,
    "start_time": "2023-05-01T11:00:51.330Z"
   },
   {
    "duration": 1761,
    "start_time": "2023-05-01T11:00:51.378Z"
   },
   {
    "duration": 10,
    "start_time": "2023-05-01T11:00:53.141Z"
   },
   {
    "duration": 11,
    "start_time": "2023-05-01T11:00:53.153Z"
   },
   {
    "duration": 36,
    "start_time": "2023-05-01T11:00:53.166Z"
   },
   {
    "duration": 3,
    "start_time": "2023-05-01T11:00:53.204Z"
   },
   {
    "duration": 48,
    "start_time": "2023-05-01T11:00:53.209Z"
   },
   {
    "duration": 4,
    "start_time": "2023-05-01T11:00:53.258Z"
   },
   {
    "duration": 17,
    "start_time": "2023-05-01T11:00:53.264Z"
   },
   {
    "duration": 84,
    "start_time": "2023-05-01T11:00:53.282Z"
   },
   {
    "duration": 23,
    "start_time": "2023-05-01T11:00:53.371Z"
   },
   {
    "duration": 20,
    "start_time": "2023-05-01T11:00:53.395Z"
   },
   {
    "duration": 12,
    "start_time": "2023-05-01T11:00:53.416Z"
   },
   {
    "duration": 65,
    "start_time": "2023-05-01T11:00:53.429Z"
   },
   {
    "duration": 14,
    "start_time": "2023-05-01T11:00:53.496Z"
   },
   {
    "duration": 25,
    "start_time": "2023-05-01T11:00:53.511Z"
   },
   {
    "duration": 33,
    "start_time": "2023-05-01T11:00:53.538Z"
   },
   {
    "duration": 13,
    "start_time": "2023-05-01T11:00:53.573Z"
   },
   {
    "duration": 12,
    "start_time": "2023-05-01T11:00:53.587Z"
   },
   {
    "duration": 31,
    "start_time": "2023-05-01T11:00:53.600Z"
   },
   {
    "duration": 55,
    "start_time": "2023-05-01T11:00:53.633Z"
   },
   {
    "duration": 8,
    "start_time": "2023-05-01T11:00:53.689Z"
   },
   {
    "duration": 19,
    "start_time": "2023-05-01T11:00:53.698Z"
   },
   {
    "duration": 24,
    "start_time": "2023-05-01T11:00:53.719Z"
   },
   {
    "duration": 19,
    "start_time": "2023-05-01T11:00:53.745Z"
   },
   {
    "duration": 65,
    "start_time": "2023-05-01T11:00:53.765Z"
   },
   {
    "duration": 6,
    "start_time": "2023-05-01T11:00:53.832Z"
   },
   {
    "duration": 135,
    "start_time": "2023-05-01T11:00:53.840Z"
   },
   {
    "duration": 59,
    "start_time": "2023-05-01T11:00:53.976Z"
   },
   {
    "duration": 36,
    "start_time": "2023-05-01T11:00:54.037Z"
   },
   {
    "duration": 28,
    "start_time": "2023-05-01T11:00:54.075Z"
   },
   {
    "duration": 10,
    "start_time": "2023-05-01T11:00:54.105Z"
   },
   {
    "duration": 5,
    "start_time": "2023-05-01T11:00:54.117Z"
   },
   {
    "duration": 1603,
    "start_time": "2023-05-01T11:00:54.124Z"
   },
   {
    "duration": 51,
    "start_time": "2023-05-01T11:00:55.729Z"
   },
   {
    "duration": 25,
    "start_time": "2023-05-01T11:00:55.782Z"
   },
   {
    "duration": 21,
    "start_time": "2023-05-01T11:00:55.809Z"
   },
   {
    "duration": 21,
    "start_time": "2023-05-01T11:00:55.832Z"
   },
   {
    "duration": 313,
    "start_time": "2023-05-01T11:00:55.855Z"
   },
   {
    "duration": 51,
    "start_time": "2023-05-01T11:00:56.170Z"
   },
   {
    "duration": 6,
    "start_time": "2023-05-01T11:00:56.222Z"
   },
   {
    "duration": 26,
    "start_time": "2023-05-01T11:00:56.230Z"
   },
   {
    "duration": 169,
    "start_time": "2023-05-01T11:00:56.258Z"
   },
   {
    "duration": 16,
    "start_time": "2023-05-01T11:00:56.429Z"
   },
   {
    "duration": 3596,
    "start_time": "2023-05-01T11:00:56.447Z"
   },
   {
    "duration": 1368383,
    "start_time": "2023-05-01T11:01:00.045Z"
   },
   {
    "duration": 6204,
    "start_time": "2023-05-01T11:23:48.430Z"
   },
   {
    "duration": 342,
    "start_time": "2023-05-01T11:23:54.637Z"
   },
   {
    "duration": 230,
    "start_time": "2023-05-01T11:23:54.981Z"
   },
   {
    "duration": 82,
    "start_time": "2023-05-01T11:23:55.219Z"
   },
   {
    "duration": 58,
    "start_time": "2023-05-01T11:23:55.309Z"
   },
   {
    "duration": 15,
    "start_time": "2023-05-01T11:23:55.395Z"
   },
   {
    "duration": 1238,
    "start_time": "2023-05-01T11:23:55.420Z"
   },
   {
    "duration": 7,
    "start_time": "2023-05-01T11:23:56.660Z"
   },
   {
    "duration": 43,
    "start_time": "2023-05-01T11:23:56.670Z"
   },
   {
    "duration": 34,
    "start_time": "2023-05-01T11:23:56.715Z"
   },
   {
    "duration": 7,
    "start_time": "2023-05-01T11:23:56.752Z"
   },
   {
    "duration": 1612,
    "start_time": "2023-05-01T11:23:56.761Z"
   },
   {
    "duration": 7377,
    "start_time": "2023-05-01T11:23:58.375Z"
   },
   {
    "duration": 30757,
    "start_time": "2023-05-01T11:24:05.754Z"
   },
   {
    "duration": 79,
    "start_time": "2023-05-01T11:24:36.543Z"
   },
   {
    "duration": 8,
    "start_time": "2023-05-01T16:45:55.553Z"
   },
   {
    "duration": 55,
    "start_time": "2023-05-01T16:45:57.644Z"
   },
   {
    "duration": 1562,
    "start_time": "2023-05-01T16:46:13.974Z"
   },
   {
    "duration": 504,
    "start_time": "2023-05-01T16:46:16.154Z"
   },
   {
    "duration": 31,
    "start_time": "2023-05-01T16:46:19.042Z"
   },
   {
    "duration": 18,
    "start_time": "2023-05-01T16:46:19.874Z"
   },
   {
    "duration": 58,
    "start_time": "2023-05-01T16:46:20.795Z"
   },
   {
    "duration": 39,
    "start_time": "2023-05-01T16:46:25.561Z"
   },
   {
    "duration": 7,
    "start_time": "2023-05-01T16:46:26.917Z"
   },
   {
    "duration": 45,
    "start_time": "2023-05-01T16:46:27.741Z"
   },
   {
    "duration": 3,
    "start_time": "2023-05-01T16:46:31.114Z"
   },
   {
    "duration": 17,
    "start_time": "2023-05-01T16:46:32.574Z"
   },
   {
    "duration": 44,
    "start_time": "2023-05-01T16:47:50.774Z"
   },
   {
    "duration": 19,
    "start_time": "2023-05-01T16:47:51.509Z"
   },
   {
    "duration": 14,
    "start_time": "2023-05-01T16:47:52.421Z"
   },
   {
    "duration": 62,
    "start_time": "2023-05-01T16:47:53.972Z"
   },
   {
    "duration": 34,
    "start_time": "2023-05-01T16:47:54.671Z"
   },
   {
    "duration": 2756,
    "start_time": "2023-05-01T16:47:58.421Z"
   },
   {
    "duration": 133,
    "start_time": "2023-05-01T16:48:01.179Z"
   },
   {
    "duration": 259,
    "start_time": "2023-05-01T16:48:01.933Z"
   },
   {
    "duration": 155,
    "start_time": "2023-05-01T16:48:02.755Z"
   },
   {
    "duration": 128,
    "start_time": "2023-05-01T16:48:03.513Z"
   },
   {
    "duration": 1981,
    "start_time": "2023-05-01T16:48:04.333Z"
   },
   {
    "duration": 113,
    "start_time": "2023-05-01T16:52:39.967Z"
   },
   {
    "duration": 3,
    "start_time": "2023-05-01T16:53:21.317Z"
   },
   {
    "duration": 15,
    "start_time": "2023-05-01T16:53:22.041Z"
   },
   {
    "duration": 155,
    "start_time": "2023-05-01T16:53:31.781Z"
   },
   {
    "duration": 41,
    "start_time": "2023-05-01T16:53:37.673Z"
   },
   {
    "duration": 20,
    "start_time": "2023-05-01T16:53:38.467Z"
   },
   {
    "duration": 13,
    "start_time": "2023-05-01T16:53:39.148Z"
   },
   {
    "duration": 52,
    "start_time": "2023-05-01T16:53:40.784Z"
   },
   {
    "duration": 29,
    "start_time": "2023-05-01T16:53:41.528Z"
   },
   {
    "duration": 2779,
    "start_time": "2023-05-01T16:53:44.468Z"
   },
   {
    "duration": 2280,
    "start_time": "2023-05-01T17:19:50.370Z"
   },
   {
    "duration": 2266,
    "start_time": "2023-05-01T17:21:09.825Z"
   },
   {
    "duration": 2105,
    "start_time": "2023-05-01T17:21:33.330Z"
   },
   {
    "duration": 77,
    "start_time": "2023-05-01T18:22:06.476Z"
   },
   {
    "duration": 31,
    "start_time": "2023-05-01T18:22:15.478Z"
   },
   {
    "duration": 21,
    "start_time": "2023-05-01T18:22:58.048Z"
   },
   {
    "duration": 31,
    "start_time": "2023-05-01T18:25:16.176Z"
   },
   {
    "duration": 30,
    "start_time": "2023-05-01T18:26:09.109Z"
   },
   {
    "duration": 9,
    "start_time": "2023-05-01T18:27:34.989Z"
   },
   {
    "duration": 13,
    "start_time": "2023-05-01T18:36:14.739Z"
   },
   {
    "duration": 9,
    "start_time": "2023-05-01T18:37:46.366Z"
   },
   {
    "duration": 9,
    "start_time": "2023-05-01T18:37:54.617Z"
   },
   {
    "duration": 131,
    "start_time": "2023-05-01T18:38:09.999Z"
   },
   {
    "duration": 157,
    "start_time": "2023-05-01T18:38:31.260Z"
   },
   {
    "duration": 10,
    "start_time": "2023-05-01T18:40:21.277Z"
   },
   {
    "duration": 120,
    "start_time": "2023-05-01T18:41:09.010Z"
   },
   {
    "duration": 480,
    "start_time": "2023-05-01T18:44:37.900Z"
   },
   {
    "duration": 124,
    "start_time": "2023-05-01T18:46:05.148Z"
   },
   {
    "duration": 280,
    "start_time": "2023-05-01T18:46:11.481Z"
   },
   {
    "duration": 331,
    "start_time": "2023-05-01T18:46:22.099Z"
   },
   {
    "duration": 254,
    "start_time": "2023-05-01T18:46:36.759Z"
   },
   {
    "duration": 269,
    "start_time": "2023-05-01T18:46:56.997Z"
   },
   {
    "duration": 222,
    "start_time": "2023-05-01T18:47:06.759Z"
   },
   {
    "duration": 171,
    "start_time": "2023-05-01T18:47:39.170Z"
   },
   {
    "duration": 163,
    "start_time": "2023-05-01T18:47:54.590Z"
   },
   {
    "duration": 9,
    "start_time": "2023-05-01T18:49:18.340Z"
   },
   {
    "duration": 162,
    "start_time": "2023-05-01T18:53:22.304Z"
   },
   {
    "duration": 180,
    "start_time": "2023-05-01T18:53:31.690Z"
   },
   {
    "duration": 106,
    "start_time": "2023-05-01T18:59:09.139Z"
   },
   {
    "duration": 43,
    "start_time": "2023-05-01T18:59:12.678Z"
   },
   {
    "duration": 20,
    "start_time": "2023-05-01T18:59:15.285Z"
   },
   {
    "duration": 13,
    "start_time": "2023-05-01T18:59:15.940Z"
   },
   {
    "duration": 55,
    "start_time": "2023-05-01T18:59:17.249Z"
   },
   {
    "duration": 31,
    "start_time": "2023-05-01T18:59:17.908Z"
   },
   {
    "duration": 2789,
    "start_time": "2023-05-01T18:59:19.959Z"
   },
   {
    "duration": 128,
    "start_time": "2023-05-01T18:59:23.977Z"
   },
   {
    "duration": 122,
    "start_time": "2023-05-01T18:59:25.757Z"
   },
   {
    "duration": 144,
    "start_time": "2023-05-01T18:59:38.229Z"
   },
   {
    "duration": 132,
    "start_time": "2023-05-01T18:59:40.130Z"
   },
   {
    "duration": 168,
    "start_time": "2023-05-01T18:59:43.666Z"
   },
   {
    "duration": 31,
    "start_time": "2023-05-01T19:00:26.336Z"
   },
   {
    "duration": 5,
    "start_time": "2023-05-01T19:02:53.185Z"
   },
   {
    "duration": 17,
    "start_time": "2023-05-01T19:06:29.529Z"
   },
   {
    "duration": 17,
    "start_time": "2023-05-01T19:09:52.619Z"
   },
   {
    "duration": 15,
    "start_time": "2023-05-01T19:11:36.057Z"
   },
   {
    "duration": 37,
    "start_time": "2023-05-01T19:13:04.360Z"
   },
   {
    "duration": 33,
    "start_time": "2023-05-01T19:27:09.556Z"
   },
   {
    "duration": 22,
    "start_time": "2023-05-01T19:27:31.089Z"
   },
   {
    "duration": 23,
    "start_time": "2023-05-01T19:49:43.683Z"
   },
   {
    "duration": 4,
    "start_time": "2023-05-01T19:49:47.638Z"
   },
   {
    "duration": 7,
    "start_time": "2023-05-01T19:49:49.056Z"
   },
   {
    "duration": 1619,
    "start_time": "2023-05-01T19:49:51.160Z"
   },
   {
    "duration": 15,
    "start_time": "2023-05-01T19:49:52.781Z"
   },
   {
    "duration": 11,
    "start_time": "2023-05-01T19:49:53.289Z"
   },
   {
    "duration": 15,
    "start_time": "2023-05-01T19:49:54.090Z"
   },
   {
    "duration": 3,
    "start_time": "2023-05-01T19:49:56.889Z"
   },
   {
    "duration": 30,
    "start_time": "2023-05-01T19:49:58.427Z"
   },
   {
    "duration": 4,
    "start_time": "2023-05-01T19:49:59.226Z"
   },
   {
    "duration": 4,
    "start_time": "2023-05-01T19:50:00.110Z"
   },
   {
    "duration": 75,
    "start_time": "2023-05-01T19:50:00.906Z"
   },
   {
    "duration": 19,
    "start_time": "2023-05-01T19:50:03.242Z"
   },
   {
    "duration": 19,
    "start_time": "2023-05-01T19:50:09.324Z"
   },
   {
    "duration": 12,
    "start_time": "2023-05-01T19:50:10.229Z"
   },
   {
    "duration": 41,
    "start_time": "2023-05-01T19:50:13.046Z"
   },
   {
    "duration": 16,
    "start_time": "2023-05-01T19:50:14.730Z"
   },
   {
    "duration": 12,
    "start_time": "2023-05-01T19:50:15.537Z"
   },
   {
    "duration": 19,
    "start_time": "2023-05-01T19:50:16.427Z"
   },
   {
    "duration": 4,
    "start_time": "2023-05-01T19:50:18.128Z"
   },
   {
    "duration": 4,
    "start_time": "2023-05-01T19:50:19.757Z"
   },
   {
    "duration": 16,
    "start_time": "2023-05-01T19:50:21.430Z"
   },
   {
    "duration": 40,
    "start_time": "2023-05-01T19:50:22.247Z"
   },
   {
    "duration": 8,
    "start_time": "2023-05-01T19:50:23.014Z"
   },
   {
    "duration": 3,
    "start_time": "2023-05-01T19:50:24.128Z"
   },
   {
    "duration": 4,
    "start_time": "2023-05-01T19:50:24.923Z"
   },
   {
    "duration": 5,
    "start_time": "2023-05-01T19:50:25.716Z"
   },
   {
    "duration": 55,
    "start_time": "2023-05-01T19:50:26.549Z"
   },
   {
    "duration": 7,
    "start_time": "2023-05-01T19:50:30.117Z"
   },
   {
    "duration": 115,
    "start_time": "2023-05-01T19:50:31.037Z"
   },
   {
    "duration": 50,
    "start_time": "2023-05-01T19:50:33.352Z"
   },
   {
    "duration": 4,
    "start_time": "2023-05-01T19:50:43.422Z"
   },
   {
    "duration": 5,
    "start_time": "2023-05-01T19:50:47.331Z"
   },
   {
    "duration": 4,
    "start_time": "2023-05-01T19:50:49.336Z"
   },
   {
    "duration": 4,
    "start_time": "2023-05-01T19:50:51.034Z"
   },
   {
    "duration": 1622,
    "start_time": "2023-05-01T19:50:56.421Z"
   },
   {
    "duration": 47,
    "start_time": "2023-05-01T19:51:01.335Z"
   },
   {
    "duration": 15,
    "start_time": "2023-05-01T19:51:03.931Z"
   },
   {
    "duration": 13,
    "start_time": "2023-05-01T19:51:10.622Z"
   },
   {
    "duration": 17,
    "start_time": "2023-05-01T19:51:19.831Z"
   },
   {
    "duration": 285,
    "start_time": "2023-05-01T19:51:29.052Z"
   },
   {
    "duration": 24,
    "start_time": "2023-05-01T19:52:42.514Z"
   },
   {
    "duration": 165,
    "start_time": "2023-05-01T19:57:30.584Z"
   },
   {
    "duration": 16,
    "start_time": "2023-05-01T19:58:23.430Z"
   },
   {
    "duration": 14,
    "start_time": "2023-05-01T20:02:39.532Z"
   },
   {
    "duration": 31,
    "start_time": "2023-05-01T20:05:16.232Z"
   },
   {
    "duration": 4,
    "start_time": "2023-05-01T20:05:47.978Z"
   },
   {
    "duration": 30,
    "start_time": "2023-05-01T20:10:17.652Z"
   },
   {
    "duration": 35,
    "start_time": "2023-05-01T20:10:35.748Z"
   },
   {
    "duration": 33,
    "start_time": "2023-05-01T20:10:52.296Z"
   },
   {
    "duration": 32,
    "start_time": "2023-05-01T20:11:06.897Z"
   },
   {
    "duration": 37,
    "start_time": "2023-05-01T20:12:29.721Z"
   },
   {
    "duration": 14,
    "start_time": "2023-05-01T20:13:57.650Z"
   },
   {
    "duration": 15,
    "start_time": "2023-05-01T20:14:07.998Z"
   },
   {
    "duration": 5,
    "start_time": "2023-05-01T20:15:12.221Z"
   },
   {
    "duration": 6,
    "start_time": "2023-05-01T20:24:05.500Z"
   },
   {
    "duration": 12,
    "start_time": "2023-05-01T20:24:06.192Z"
   },
   {
    "duration": 6,
    "start_time": "2023-05-01T20:27:45.949Z"
   },
   {
    "duration": 13,
    "start_time": "2023-05-01T20:27:46.706Z"
   },
   {
    "duration": 44,
    "start_time": "2023-05-01T20:28:04.910Z"
   },
   {
    "duration": 93,
    "start_time": "2023-05-01T20:28:43.717Z"
   },
   {
    "duration": 148,
    "start_time": "2023-05-01T20:29:14.901Z"
   },
   {
    "duration": 16,
    "start_time": "2023-05-01T20:29:16.017Z"
   },
   {
    "duration": 30,
    "start_time": "2023-05-01T20:33:07.915Z"
   },
   {
    "duration": 15,
    "start_time": "2023-05-01T20:36:56.300Z"
   },
   {
    "duration": 54,
    "start_time": "2023-05-01T20:37:20.186Z"
   },
   {
    "duration": 17,
    "start_time": "2023-05-01T20:37:56.613Z"
   },
   {
    "duration": 6,
    "start_time": "2023-05-01T20:38:20.586Z"
   },
   {
    "duration": 11,
    "start_time": "2023-05-01T20:38:21.406Z"
   },
   {
    "duration": 141,
    "start_time": "2023-05-01T20:38:26.815Z"
   },
   {
    "duration": 35,
    "start_time": "2023-05-01T20:38:27.897Z"
   },
   {
    "duration": 13,
    "start_time": "2023-05-01T20:38:52.601Z"
   },
   {
    "duration": 1643,
    "start_time": "2023-05-03T04:07:09.662Z"
   },
   {
    "duration": 867,
    "start_time": "2023-05-03T04:07:11.609Z"
   },
   {
    "duration": 36,
    "start_time": "2023-05-03T04:07:14.778Z"
   },
   {
    "duration": 20,
    "start_time": "2023-05-03T04:07:16.050Z"
   },
   {
    "duration": 63,
    "start_time": "2023-05-03T04:07:17.310Z"
   },
   {
    "duration": 48,
    "start_time": "2023-05-03T04:07:20.907Z"
   },
   {
    "duration": 7,
    "start_time": "2023-05-03T04:07:21.511Z"
   },
   {
    "duration": 40,
    "start_time": "2023-05-03T04:07:22.417Z"
   },
   {
    "duration": 3,
    "start_time": "2023-05-03T04:07:24.210Z"
   },
   {
    "duration": 24,
    "start_time": "2023-05-03T04:07:24.674Z"
   },
   {
    "duration": 133,
    "start_time": "2023-05-03T04:07:26.558Z"
   },
   {
    "duration": 44,
    "start_time": "2023-05-03T04:07:33.648Z"
   },
   {
    "duration": 23,
    "start_time": "2023-05-03T04:07:34.352Z"
   },
   {
    "duration": 24,
    "start_time": "2023-05-03T04:07:35.634Z"
   },
   {
    "duration": 66,
    "start_time": "2023-05-03T04:07:37.129Z"
   },
   {
    "duration": 37,
    "start_time": "2023-05-03T04:07:37.609Z"
   },
   {
    "duration": 2892,
    "start_time": "2023-05-03T04:07:40.056Z"
   },
   {
    "duration": 6,
    "start_time": "2023-05-03T04:07:42.950Z"
   },
   {
    "duration": 29,
    "start_time": "2023-05-03T04:07:44.155Z"
   },
   {
    "duration": 129,
    "start_time": "2023-05-03T04:07:47.501Z"
   },
   {
    "duration": 234,
    "start_time": "2023-05-03T04:07:49.520Z"
   },
   {
    "duration": 139,
    "start_time": "2023-05-03T04:08:01.761Z"
   },
   {
    "duration": 129,
    "start_time": "2023-05-03T04:08:04.050Z"
   },
   {
    "duration": 171,
    "start_time": "2023-05-03T04:08:09.173Z"
   },
   {
    "duration": 15,
    "start_time": "2023-05-03T04:08:15.072Z"
   },
   {
    "duration": 14,
    "start_time": "2023-05-03T04:08:20.372Z"
   },
   {
    "duration": 35,
    "start_time": "2023-05-03T04:08:22.076Z"
   },
   {
    "duration": 14,
    "start_time": "2023-05-03T04:08:39.948Z"
   },
   {
    "duration": 2633,
    "start_time": "2023-05-03T04:08:40.863Z"
   },
   {
    "duration": 129,
    "start_time": "2023-05-03T04:08:43.498Z"
   },
   {
    "duration": 135,
    "start_time": "2023-05-03T04:08:43.628Z"
   },
   {
    "duration": 127,
    "start_time": "2023-05-03T04:08:43.860Z"
   },
   {
    "duration": 171,
    "start_time": "2023-05-03T04:08:44.669Z"
   },
   {
    "duration": 11,
    "start_time": "2023-05-03T04:08:46.950Z"
   },
   {
    "duration": 382,
    "start_time": "2023-05-03T04:08:48.163Z"
   },
   {
    "duration": 21,
    "start_time": "2023-05-03T04:08:51.599Z"
   },
   {
    "duration": 4,
    "start_time": "2023-05-03T04:08:57.368Z"
   },
   {
    "duration": 7,
    "start_time": "2023-05-03T04:08:58.851Z"
   },
   {
    "duration": 1753,
    "start_time": "2023-05-03T04:09:00.550Z"
   },
   {
    "duration": 11,
    "start_time": "2023-05-03T04:09:02.305Z"
   },
   {
    "duration": 49,
    "start_time": "2023-05-03T04:09:02.319Z"
   },
   {
    "duration": 37,
    "start_time": "2023-05-03T04:09:02.370Z"
   },
   {
    "duration": 3,
    "start_time": "2023-05-03T04:09:05.657Z"
   },
   {
    "duration": 38,
    "start_time": "2023-05-03T04:09:06.688Z"
   },
   {
    "duration": 3,
    "start_time": "2023-05-03T04:09:07.877Z"
   },
   {
    "duration": 6,
    "start_time": "2023-05-03T04:09:08.756Z"
   },
   {
    "duration": 80,
    "start_time": "2023-05-03T04:09:09.377Z"
   },
   {
    "duration": 19,
    "start_time": "2023-05-03T04:09:13.905Z"
   },
   {
    "duration": 21,
    "start_time": "2023-05-03T04:09:17.504Z"
   },
   {
    "duration": 13,
    "start_time": "2023-05-03T04:09:18.358Z"
   },
   {
    "duration": 41,
    "start_time": "2023-05-03T04:09:22.089Z"
   },
   {
    "duration": 14,
    "start_time": "2023-05-03T04:09:23.910Z"
   },
   {
    "duration": 13,
    "start_time": "2023-05-03T04:09:24.477Z"
   },
   {
    "duration": 23,
    "start_time": "2023-05-03T04:09:25.427Z"
   },
   {
    "duration": 5,
    "start_time": "2023-05-03T04:09:26.935Z"
   },
   {
    "duration": 4,
    "start_time": "2023-05-03T04:09:28.830Z"
   },
   {
    "duration": 20,
    "start_time": "2023-05-03T04:09:30.529Z"
   },
   {
    "duration": 52,
    "start_time": "2023-05-03T04:09:31.616Z"
   },
   {
    "duration": 8,
    "start_time": "2023-05-03T04:09:32.852Z"
   },
   {
    "duration": 4,
    "start_time": "2023-05-03T04:09:34.777Z"
   },
   {
    "duration": 4,
    "start_time": "2023-05-03T04:09:35.333Z"
   },
   {
    "duration": 4,
    "start_time": "2023-05-03T04:09:36.120Z"
   },
   {
    "duration": 55,
    "start_time": "2023-05-03T04:09:37.054Z"
   },
   {
    "duration": 7,
    "start_time": "2023-05-03T04:09:38.858Z"
   },
   {
    "duration": 116,
    "start_time": "2023-05-03T04:09:40.321Z"
   },
   {
    "duration": 45,
    "start_time": "2023-05-03T04:09:41.582Z"
   },
   {
    "duration": 4,
    "start_time": "2023-05-03T04:09:45.865Z"
   },
   {
    "duration": 13,
    "start_time": "2023-05-03T04:10:20.737Z"
   },
   {
    "duration": 5,
    "start_time": "2023-05-03T04:10:22.009Z"
   },
   {
    "duration": 5,
    "start_time": "2023-05-03T04:10:23.549Z"
   },
   {
    "duration": 1590,
    "start_time": "2023-05-03T04:10:25.826Z"
   },
   {
    "duration": 54,
    "start_time": "2023-05-03T04:10:27.417Z"
   },
   {
    "duration": 16,
    "start_time": "2023-05-03T04:10:28.482Z"
   },
   {
    "duration": 13,
    "start_time": "2023-05-03T04:10:29.861Z"
   },
   {
    "duration": 14,
    "start_time": "2023-05-03T04:10:35.673Z"
   },
   {
    "duration": 24,
    "start_time": "2023-05-03T04:10:37.675Z"
   },
   {
    "duration": 89,
    "start_time": "2023-05-03T04:10:39.817Z"
   },
   {
    "duration": 7,
    "start_time": "2023-05-03T04:11:03.078Z"
   },
   {
    "duration": 11,
    "start_time": "2023-05-03T04:11:09.371Z"
   },
   {
    "duration": 176,
    "start_time": "2023-05-03T04:11:12.565Z"
   },
   {
    "duration": 34,
    "start_time": "2023-05-03T04:11:14.793Z"
   },
   {
    "duration": 16,
    "start_time": "2023-05-03T04:11:17.273Z"
   },
   {
    "duration": 67,
    "start_time": "2023-05-03T04:11:18.032Z"
   },
   {
    "duration": 6,
    "start_time": "2023-05-03T04:14:15.573Z"
   },
   {
    "duration": 153,
    "start_time": "2023-05-03T04:20:45.209Z"
   },
   {
    "duration": 17,
    "start_time": "2023-05-03T04:23:39.269Z"
   },
   {
    "duration": 10,
    "start_time": "2023-05-03T04:24:15.250Z"
   },
   {
    "duration": 8,
    "start_time": "2023-05-03T04:25:48.557Z"
   },
   {
    "duration": 18,
    "start_time": "2023-05-03T04:26:04.791Z"
   },
   {
    "duration": 7,
    "start_time": "2023-05-03T04:31:25.277Z"
   },
   {
    "duration": 9,
    "start_time": "2023-05-03T04:32:07.925Z"
   },
   {
    "duration": 14,
    "start_time": "2023-05-03T04:32:09.614Z"
   },
   {
    "duration": 9,
    "start_time": "2023-05-03T04:32:34.223Z"
   },
   {
    "duration": 12,
    "start_time": "2023-05-03T04:33:04.039Z"
   },
   {
    "duration": 13,
    "start_time": "2023-05-03T04:35:17.244Z"
   },
   {
    "duration": 1874,
    "start_time": "2023-05-04T10:53:20.951Z"
   },
   {
    "duration": 910,
    "start_time": "2023-05-04T10:53:23.249Z"
   },
   {
    "duration": 38,
    "start_time": "2023-05-04T10:53:27.440Z"
   },
   {
    "duration": 31,
    "start_time": "2023-05-04T10:53:28.811Z"
   },
   {
    "duration": 66,
    "start_time": "2023-05-04T10:53:30.206Z"
   },
   {
    "duration": 42,
    "start_time": "2023-05-04T10:53:33.708Z"
   },
   {
    "duration": 8,
    "start_time": "2023-05-04T10:53:34.868Z"
   },
   {
    "duration": 47,
    "start_time": "2023-05-04T10:53:35.709Z"
   },
   {
    "duration": 3,
    "start_time": "2023-05-04T10:53:38.381Z"
   },
   {
    "duration": 20,
    "start_time": "2023-05-04T10:53:40.847Z"
   },
   {
    "duration": 219,
    "start_time": "2023-05-04T10:53:45.052Z"
   },
   {
    "duration": 54,
    "start_time": "2023-05-04T10:53:56.940Z"
   },
   {
    "duration": 25,
    "start_time": "2023-05-04T10:53:57.933Z"
   },
   {
    "duration": 17,
    "start_time": "2023-05-04T10:53:58.941Z"
   },
   {
    "duration": 77,
    "start_time": "2023-05-04T10:54:01.019Z"
   },
   {
    "duration": 45,
    "start_time": "2023-05-04T10:54:02.411Z"
   },
   {
    "duration": 3291,
    "start_time": "2023-05-04T10:54:12.249Z"
   },
   {
    "duration": 5,
    "start_time": "2023-05-04T10:54:16.239Z"
   },
   {
    "duration": 36,
    "start_time": "2023-05-04T10:54:19.111Z"
   },
   {
    "duration": 169,
    "start_time": "2023-05-04T10:54:22.535Z"
   },
   {
    "duration": 248,
    "start_time": "2023-05-04T10:54:24.451Z"
   },
   {
    "duration": 160,
    "start_time": "2023-05-04T10:54:25.536Z"
   },
   {
    "duration": 156,
    "start_time": "2023-05-04T10:54:27.049Z"
   },
   {
    "duration": 206,
    "start_time": "2023-05-04T10:54:36.738Z"
   },
   {
    "duration": 32,
    "start_time": "2023-05-04T10:54:40.710Z"
   },
   {
    "duration": 17,
    "start_time": "2023-05-04T10:54:41.606Z"
   },
   {
    "duration": 44,
    "start_time": "2023-05-04T10:54:43.627Z"
   },
   {
    "duration": 16,
    "start_time": "2023-05-04T10:54:47.421Z"
   },
   {
    "duration": 2862,
    "start_time": "2023-05-04T10:54:49.330Z"
   },
   {
    "duration": 143,
    "start_time": "2023-05-04T10:54:52.194Z"
   },
   {
    "duration": 125,
    "start_time": "2023-05-04T10:54:52.875Z"
   },
   {
    "duration": 141,
    "start_time": "2023-05-04T10:54:54.008Z"
   },
   {
    "duration": 128,
    "start_time": "2023-05-04T10:54:55.773Z"
   },
   {
    "duration": 11,
    "start_time": "2023-05-04T10:54:57.710Z"
   },
   {
    "duration": 318,
    "start_time": "2023-05-04T10:54:59.258Z"
   },
   {
    "duration": 24,
    "start_time": "2023-05-04T10:55:01.978Z"
   },
   {
    "duration": 5,
    "start_time": "2023-05-04T10:55:13.824Z"
   },
   {
    "duration": 7,
    "start_time": "2023-05-04T10:55:22.971Z"
   },
   {
    "duration": 1800,
    "start_time": "2023-05-04T10:55:29.549Z"
   },
   {
    "duration": 11,
    "start_time": "2023-05-04T10:55:34.480Z"
   },
   {
    "duration": 10,
    "start_time": "2023-05-04T10:55:35.530Z"
   },
   {
    "duration": 16,
    "start_time": "2023-05-04T10:55:36.658Z"
   },
   {
    "duration": 3,
    "start_time": "2023-05-04T10:55:41.575Z"
   },
   {
    "duration": 33,
    "start_time": "2023-05-04T10:56:13.202Z"
   },
   {
    "duration": 4,
    "start_time": "2023-05-04T10:56:14.139Z"
   },
   {
    "duration": 3,
    "start_time": "2023-05-04T10:56:15.108Z"
   },
   {
    "duration": 90,
    "start_time": "2023-05-04T10:56:16.130Z"
   },
   {
    "duration": 22,
    "start_time": "2023-05-04T10:56:19.257Z"
   },
   {
    "duration": 23,
    "start_time": "2023-05-04T10:56:22.330Z"
   },
   {
    "duration": 15,
    "start_time": "2023-05-04T10:56:23.449Z"
   },
   {
    "duration": 43,
    "start_time": "2023-05-04T10:56:26.448Z"
   },
   {
    "duration": 16,
    "start_time": "2023-05-04T10:56:28.584Z"
   },
   {
    "duration": 13,
    "start_time": "2023-05-04T10:56:29.629Z"
   },
   {
    "duration": 18,
    "start_time": "2023-05-04T10:56:30.749Z"
   },
   {
    "duration": 5,
    "start_time": "2023-05-04T10:56:32.647Z"
   },
   {
    "duration": 5,
    "start_time": "2023-05-04T10:56:37.298Z"
   },
   {
    "duration": 17,
    "start_time": "2023-05-04T10:56:45.620Z"
   },
   {
    "duration": 50,
    "start_time": "2023-05-04T10:56:47.130Z"
   },
   {
    "duration": 9,
    "start_time": "2023-05-04T10:56:51.796Z"
   },
   {
    "duration": 4,
    "start_time": "2023-05-04T10:56:53.151Z"
   },
   {
    "duration": 4,
    "start_time": "2023-05-04T10:56:54.017Z"
   },
   {
    "duration": 5,
    "start_time": "2023-05-04T10:56:54.969Z"
   },
   {
    "duration": 57,
    "start_time": "2023-05-04T10:56:55.921Z"
   },
   {
    "duration": 9,
    "start_time": "2023-05-04T10:56:59.478Z"
   },
   {
    "duration": 157,
    "start_time": "2023-05-04T10:57:02.507Z"
   },
   {
    "duration": 56,
    "start_time": "2023-05-04T10:57:05.327Z"
   },
   {
    "duration": 5,
    "start_time": "2023-05-04T10:57:06.739Z"
   },
   {
    "duration": 8,
    "start_time": "2023-05-04T10:57:10.300Z"
   },
   {
    "duration": 6,
    "start_time": "2023-05-04T10:57:11.838Z"
   },
   {
    "duration": 5,
    "start_time": "2023-05-04T10:57:13.398Z"
   },
   {
    "duration": 1639,
    "start_time": "2023-05-04T10:57:15.807Z"
   },
   {
    "duration": 52,
    "start_time": "2023-05-04T10:57:17.448Z"
   },
   {
    "duration": 17,
    "start_time": "2023-05-04T10:57:17.915Z"
   },
   {
    "duration": 14,
    "start_time": "2023-05-04T10:57:18.809Z"
   },
   {
    "duration": 15,
    "start_time": "2023-05-04T10:57:26.781Z"
   },
   {
    "duration": 15,
    "start_time": "2023-05-04T10:57:33.006Z"
   },
   {
    "duration": 28,
    "start_time": "2023-05-04T10:57:38.729Z"
   },
   {
    "duration": 32,
    "start_time": "2023-05-04T10:57:47.820Z"
   },
   {
    "duration": 6,
    "start_time": "2023-05-04T10:58:06.910Z"
   },
   {
    "duration": 14,
    "start_time": "2023-05-04T10:58:09.919Z"
   },
   {
    "duration": 173,
    "start_time": "2023-05-04T10:58:17.541Z"
   },
   {
    "duration": 118,
    "start_time": "2023-05-04T10:58:29.340Z"
   },
   {
    "duration": 30,
    "start_time": "2023-05-04T10:59:19.012Z"
   },
   {
    "duration": 31,
    "start_time": "2023-05-04T10:59:30.982Z"
   },
   {
    "duration": 62,
    "start_time": "2023-05-04T10:59:31.809Z"
   },
   {
    "duration": 20,
    "start_time": "2023-05-04T10:59:59.649Z"
   },
   {
    "duration": 36,
    "start_time": "2023-05-04T11:00:59.478Z"
   },
   {
    "duration": 15,
    "start_time": "2023-05-04T11:01:25.096Z"
   },
   {
    "duration": 167,
    "start_time": "2023-05-04T11:01:49.374Z"
   },
   {
    "duration": 16,
    "start_time": "2023-05-04T11:02:09.747Z"
   },
   {
    "duration": 32,
    "start_time": "2023-05-04T11:02:33.639Z"
   },
   {
    "duration": 25,
    "start_time": "2023-05-04T11:02:39.609Z"
   },
   {
    "duration": 73,
    "start_time": "2023-05-04T11:02:42.600Z"
   },
   {
    "duration": 11,
    "start_time": "2023-05-04T11:05:21.537Z"
   },
   {
    "duration": 8,
    "start_time": "2023-05-04T11:07:14.408Z"
   },
   {
    "duration": 4,
    "start_time": "2023-05-04T11:15:32.708Z"
   },
   {
    "duration": 237,
    "start_time": "2023-05-04T11:15:34.681Z"
   },
   {
    "duration": 31,
    "start_time": "2023-05-04T11:15:36.977Z"
   },
   {
    "duration": 24,
    "start_time": "2023-05-04T11:15:37.674Z"
   },
   {
    "duration": 42,
    "start_time": "2023-05-04T11:15:38.370Z"
   },
   {
    "duration": 38,
    "start_time": "2023-05-04T11:15:41.310Z"
   },
   {
    "duration": 6,
    "start_time": "2023-05-04T11:15:41.877Z"
   },
   {
    "duration": 34,
    "start_time": "2023-05-04T11:15:42.350Z"
   },
   {
    "duration": 4,
    "start_time": "2023-05-04T11:15:43.380Z"
   },
   {
    "duration": 28,
    "start_time": "2023-05-04T11:15:44.209Z"
   },
   {
    "duration": 125,
    "start_time": "2023-05-04T11:15:45.477Z"
   },
   {
    "duration": 40,
    "start_time": "2023-05-04T11:15:48.489Z"
   },
   {
    "duration": 24,
    "start_time": "2023-05-04T11:15:49.427Z"
   },
   {
    "duration": 16,
    "start_time": "2023-05-04T11:15:50.309Z"
   },
   {
    "duration": 56,
    "start_time": "2023-05-04T11:15:51.730Z"
   },
   {
    "duration": 30,
    "start_time": "2023-05-04T11:15:52.873Z"
   },
   {
    "duration": 3010,
    "start_time": "2023-05-04T11:15:54.949Z"
   },
   {
    "duration": 6,
    "start_time": "2023-05-04T11:15:57.961Z"
   },
   {
    "duration": 31,
    "start_time": "2023-05-04T11:16:00.192Z"
   },
   {
    "duration": 134,
    "start_time": "2023-05-04T11:16:02.909Z"
   },
   {
    "duration": 126,
    "start_time": "2023-05-04T11:16:04.627Z"
   },
   {
    "duration": 164,
    "start_time": "2023-05-04T11:16:05.476Z"
   },
   {
    "duration": 149,
    "start_time": "2023-05-04T11:16:06.312Z"
   },
   {
    "duration": 189,
    "start_time": "2023-05-04T11:16:07.980Z"
   },
   {
    "duration": 18,
    "start_time": "2023-05-04T11:16:10.772Z"
   },
   {
    "duration": 16,
    "start_time": "2023-05-04T11:16:11.669Z"
   },
   {
    "duration": 53,
    "start_time": "2023-05-04T11:16:13.519Z"
   },
   {
    "duration": 16,
    "start_time": "2023-05-04T11:16:17.109Z"
   },
   {
    "duration": 3166,
    "start_time": "2023-05-04T11:16:18.546Z"
   },
   {
    "duration": 161,
    "start_time": "2023-05-04T11:16:21.717Z"
   },
   {
    "duration": 160,
    "start_time": "2023-05-04T11:16:21.880Z"
   },
   {
    "duration": 149,
    "start_time": "2023-05-04T11:16:22.043Z"
   },
   {
    "duration": 151,
    "start_time": "2023-05-04T11:16:22.194Z"
   },
   {
    "duration": 11,
    "start_time": "2023-05-04T11:16:23.474Z"
   },
   {
    "duration": 166,
    "start_time": "2023-05-04T11:16:24.884Z"
   },
   {
    "duration": 22,
    "start_time": "2023-05-04T11:16:27.458Z"
   },
   {
    "duration": 6,
    "start_time": "2023-05-04T11:16:30.684Z"
   },
   {
    "duration": 7,
    "start_time": "2023-05-04T11:16:32.234Z"
   },
   {
    "duration": 1723,
    "start_time": "2023-05-04T11:16:34.626Z"
   },
   {
    "duration": 11,
    "start_time": "2023-05-04T11:16:36.609Z"
   },
   {
    "duration": 12,
    "start_time": "2023-05-04T11:16:37.676Z"
   },
   {
    "duration": 18,
    "start_time": "2023-05-04T11:16:38.818Z"
   },
   {
    "duration": 4,
    "start_time": "2023-05-04T11:16:42.636Z"
   },
   {
    "duration": 30,
    "start_time": "2023-05-04T11:16:44.373Z"
   },
   {
    "duration": 4,
    "start_time": "2023-05-04T11:16:45.411Z"
   },
   {
    "duration": 4,
    "start_time": "2023-05-04T11:16:46.410Z"
   },
   {
    "duration": 115,
    "start_time": "2023-05-04T11:16:47.176Z"
   },
   {
    "duration": 21,
    "start_time": "2023-05-04T11:16:50.043Z"
   },
   {
    "duration": 25,
    "start_time": "2023-05-04T11:16:51.820Z"
   },
   {
    "duration": 14,
    "start_time": "2023-05-04T11:16:52.713Z"
   },
   {
    "duration": 42,
    "start_time": "2023-05-04T11:16:54.940Z"
   },
   {
    "duration": 21,
    "start_time": "2023-05-04T11:16:57.379Z"
   },
   {
    "duration": 13,
    "start_time": "2023-05-04T11:16:58.139Z"
   },
   {
    "duration": 15,
    "start_time": "2023-05-04T11:16:58.902Z"
   },
   {
    "duration": 5,
    "start_time": "2023-05-04T11:17:00.474Z"
   },
   {
    "duration": 5,
    "start_time": "2023-05-04T11:17:02.258Z"
   },
   {
    "duration": 18,
    "start_time": "2023-05-04T11:17:04.553Z"
   },
   {
    "duration": 49,
    "start_time": "2023-05-04T11:17:05.526Z"
   },
   {
    "duration": 9,
    "start_time": "2023-05-04T11:17:06.631Z"
   },
   {
    "duration": 3,
    "start_time": "2023-05-04T11:17:07.434Z"
   },
   {
    "duration": 4,
    "start_time": "2023-05-04T11:17:08.254Z"
   },
   {
    "duration": 4,
    "start_time": "2023-05-04T11:17:09.132Z"
   },
   {
    "duration": 59,
    "start_time": "2023-05-04T11:17:09.870Z"
   },
   {
    "duration": 8,
    "start_time": "2023-05-04T11:17:11.479Z"
   },
   {
    "duration": 137,
    "start_time": "2023-05-04T11:17:12.229Z"
   },
   {
    "duration": 54,
    "start_time": "2023-05-04T11:17:13.644Z"
   },
   {
    "duration": 5,
    "start_time": "2023-05-04T11:17:16.426Z"
   },
   {
    "duration": 7,
    "start_time": "2023-05-04T11:17:19.724Z"
   },
   {
    "duration": 7,
    "start_time": "2023-05-04T11:17:21.306Z"
   },
   {
    "duration": 7,
    "start_time": "2023-05-04T11:17:22.798Z"
   },
   {
    "duration": 1676,
    "start_time": "2023-05-04T11:17:25.542Z"
   },
   {
    "duration": 49,
    "start_time": "2023-05-04T11:17:27.324Z"
   },
   {
    "duration": 22,
    "start_time": "2023-05-04T11:17:30.882Z"
   },
   {
    "duration": 15,
    "start_time": "2023-05-04T11:17:31.671Z"
   },
   {
    "duration": 15,
    "start_time": "2023-05-04T11:17:37.047Z"
   },
   {
    "duration": 19,
    "start_time": "2023-05-04T11:17:39.919Z"
   },
   {
    "duration": 42,
    "start_time": "2023-05-04T11:17:41.919Z"
   },
   {
    "duration": 48,
    "start_time": "2023-05-04T11:17:52.490Z"
   },
   {
    "duration": 7,
    "start_time": "2023-05-04T11:17:56.246Z"
   },
   {
    "duration": 14,
    "start_time": "2023-05-04T11:18:05.873Z"
   },
   {
    "duration": 174,
    "start_time": "2023-05-04T11:18:07.395Z"
   },
   {
    "duration": 8,
    "start_time": "2023-05-04T11:18:12.933Z"
   },
   {
    "duration": 28,
    "start_time": "2023-05-04T11:18:23.511Z"
   },
   {
    "duration": 27,
    "start_time": "2023-05-04T11:18:28.677Z"
   },
   {
    "duration": 59,
    "start_time": "2023-05-04T11:18:29.826Z"
   },
   {
    "duration": 20,
    "start_time": "2023-05-04T11:29:12.846Z"
   },
   {
    "duration": 58,
    "start_time": "2023-05-04T11:29:13.897Z"
   },
   {
    "duration": 17,
    "start_time": "2023-05-04T11:33:16.730Z"
   },
   {
    "duration": 182,
    "start_time": "2023-05-04T11:34:10.154Z"
   },
   {
    "duration": 17,
    "start_time": "2023-05-04T11:34:12.154Z"
   },
   {
    "duration": 33,
    "start_time": "2023-05-04T11:34:19.103Z"
   },
   {
    "duration": 7,
    "start_time": "2023-05-04T11:34:20.532Z"
   },
   {
    "duration": 50,
    "start_time": "2023-05-04T11:34:23.196Z"
   },
   {
    "duration": 11,
    "start_time": "2023-05-04T11:34:36.454Z"
   },
   {
    "duration": 3,
    "start_time": "2023-05-04T11:36:46.416Z"
   },
   {
    "duration": 117,
    "start_time": "2023-05-04T11:36:48.221Z"
   },
   {
    "duration": 109,
    "start_time": "2023-05-04T11:37:18.318Z"
   },
   {
    "duration": 2,
    "start_time": "2023-05-04T11:37:24.529Z"
   },
   {
    "duration": 105,
    "start_time": "2023-05-04T11:37:26.573Z"
   },
   {
    "duration": 5,
    "start_time": "2023-05-04T11:37:42.850Z"
   },
   {
    "duration": 16,
    "start_time": "2023-05-04T11:39:23.597Z"
   },
   {
    "duration": 7,
    "start_time": "2023-05-04T11:43:51.192Z"
   },
   {
    "duration": 13,
    "start_time": "2023-05-04T11:43:57.323Z"
   },
   {
    "duration": 190,
    "start_time": "2023-05-04T11:44:08.147Z"
   },
   {
    "duration": 18,
    "start_time": "2023-05-04T11:44:10.453Z"
   },
   {
    "duration": 30,
    "start_time": "2023-05-04T11:44:44.719Z"
   },
   {
    "duration": 8,
    "start_time": "2023-05-04T11:44:51.776Z"
   },
   {
    "duration": 48,
    "start_time": "2023-05-04T11:44:55.991Z"
   },
   {
    "duration": 8,
    "start_time": "2023-05-04T11:45:05.422Z"
   },
   {
    "duration": 9,
    "start_time": "2023-05-04T11:45:48.910Z"
   },
   {
    "duration": 43,
    "start_time": "2023-05-04T11:45:49.888Z"
   },
   {
    "duration": 3,
    "start_time": "2023-05-04T11:46:46.123Z"
   },
   {
    "duration": 303,
    "start_time": "2023-05-04T11:47:27.059Z"
   },
   {
    "duration": 6,
    "start_time": "2023-05-04T16:13:36.437Z"
   },
   {
    "duration": 229,
    "start_time": "2023-05-04T16:13:38.244Z"
   },
   {
    "duration": 24,
    "start_time": "2023-05-04T16:13:40.632Z"
   },
   {
    "duration": 18,
    "start_time": "2023-05-04T16:13:41.228Z"
   },
   {
    "duration": 49,
    "start_time": "2023-05-04T16:13:41.830Z"
   },
   {
    "duration": 34,
    "start_time": "2023-05-04T16:13:44.252Z"
   },
   {
    "duration": 6,
    "start_time": "2023-05-04T16:13:44.852Z"
   },
   {
    "duration": 34,
    "start_time": "2023-05-04T16:13:45.435Z"
   },
   {
    "duration": 4,
    "start_time": "2023-05-04T16:13:46.854Z"
   },
   {
    "duration": 18,
    "start_time": "2023-05-04T16:13:47.271Z"
   },
   {
    "duration": 102,
    "start_time": "2023-05-04T16:13:48.525Z"
   },
   {
    "duration": 46,
    "start_time": "2023-05-04T16:13:51.075Z"
   },
   {
    "duration": 24,
    "start_time": "2023-05-04T16:13:51.715Z"
   },
   {
    "duration": 14,
    "start_time": "2023-05-04T16:13:52.355Z"
   },
   {
    "duration": 52,
    "start_time": "2023-05-04T16:13:53.694Z"
   },
   {
    "duration": 33,
    "start_time": "2023-05-04T16:13:54.332Z"
   },
   {
    "duration": 2407,
    "start_time": "2023-05-04T16:13:56.551Z"
   },
   {
    "duration": 6,
    "start_time": "2023-05-04T16:13:58.960Z"
   },
   {
    "duration": 27,
    "start_time": "2023-05-04T16:13:58.989Z"
   },
   {
    "duration": 127,
    "start_time": "2023-05-04T16:14:00.772Z"
   },
   {
    "duration": 111,
    "start_time": "2023-05-04T16:14:02.011Z"
   },
   {
    "duration": 121,
    "start_time": "2023-05-04T16:14:02.672Z"
   },
   {
    "duration": 127,
    "start_time": "2023-05-04T16:14:03.245Z"
   },
   {
    "duration": 163,
    "start_time": "2023-05-04T16:14:04.614Z"
   },
   {
    "duration": 17,
    "start_time": "2023-05-04T16:14:06.451Z"
   },
   {
    "duration": 17,
    "start_time": "2023-05-04T16:14:07.044Z"
   },
   {
    "duration": 37,
    "start_time": "2023-05-04T16:14:08.484Z"
   },
   {
    "duration": 15,
    "start_time": "2023-05-04T16:14:12.008Z"
   },
   {
    "duration": 2609,
    "start_time": "2023-05-04T16:14:14.253Z"
   },
   {
    "duration": 143,
    "start_time": "2023-05-04T16:14:16.865Z"
   },
   {
    "duration": 130,
    "start_time": "2023-05-04T16:14:17.010Z"
   },
   {
    "duration": 2441,
    "start_time": "2023-05-04T16:14:24.772Z"
   },
   {
    "duration": 123,
    "start_time": "2023-05-04T16:14:27.216Z"
   },
   {
    "duration": 122,
    "start_time": "2023-05-04T16:14:27.341Z"
   },
   {
    "duration": 131,
    "start_time": "2023-05-04T16:14:27.465Z"
   },
   {
    "duration": 109,
    "start_time": "2023-05-04T16:14:28.413Z"
   },
   {
    "duration": 11,
    "start_time": "2023-05-04T16:14:29.862Z"
   },
   {
    "duration": 171,
    "start_time": "2023-05-04T16:14:30.580Z"
   },
   {
    "duration": 20,
    "start_time": "2023-05-04T16:14:32.555Z"
   },
   {
    "duration": 5,
    "start_time": "2023-05-04T16:14:35.311Z"
   },
   {
    "duration": 9,
    "start_time": "2023-05-04T16:14:36.662Z"
   },
   {
    "duration": 1771,
    "start_time": "2023-05-04T16:14:38.665Z"
   },
   {
    "duration": 18,
    "start_time": "2023-05-04T16:14:40.437Z"
   },
   {
    "duration": 10,
    "start_time": "2023-05-04T16:14:40.719Z"
   },
   {
    "duration": 21,
    "start_time": "2023-05-04T16:14:41.355Z"
   },
   {
    "duration": 3,
    "start_time": "2023-05-04T16:14:44.036Z"
   },
   {
    "duration": 25,
    "start_time": "2023-05-04T16:14:45.423Z"
   },
   {
    "duration": 4,
    "start_time": "2023-05-04T16:14:46.115Z"
   },
   {
    "duration": 5,
    "start_time": "2023-05-04T16:14:46.783Z"
   },
   {
    "duration": 78,
    "start_time": "2023-05-04T16:14:47.439Z"
   },
   {
    "duration": 19,
    "start_time": "2023-05-04T16:14:49.511Z"
   },
   {
    "duration": 20,
    "start_time": "2023-05-04T16:14:50.831Z"
   },
   {
    "duration": 13,
    "start_time": "2023-05-04T16:14:51.494Z"
   },
   {
    "duration": 39,
    "start_time": "2023-05-04T16:14:53.429Z"
   },
   {
    "duration": 15,
    "start_time": "2023-05-04T16:14:54.784Z"
   },
   {
    "duration": 13,
    "start_time": "2023-05-04T16:14:55.506Z"
   },
   {
    "duration": 15,
    "start_time": "2023-05-04T16:14:56.141Z"
   },
   {
    "duration": 5,
    "start_time": "2023-05-04T16:14:57.533Z"
   },
   {
    "duration": 4,
    "start_time": "2023-05-04T16:14:58.863Z"
   },
   {
    "duration": 21,
    "start_time": "2023-05-04T16:15:00.113Z"
   },
   {
    "duration": 49,
    "start_time": "2023-05-04T16:15:00.747Z"
   },
   {
    "duration": 8,
    "start_time": "2023-05-04T16:15:01.437Z"
   },
   {
    "duration": 3,
    "start_time": "2023-05-04T16:15:02.143Z"
   },
   {
    "duration": 3,
    "start_time": "2023-05-04T16:15:02.805Z"
   },
   {
    "duration": 4,
    "start_time": "2023-05-04T16:15:03.436Z"
   },
   {
    "duration": 49,
    "start_time": "2023-05-04T16:15:04.103Z"
   },
   {
    "duration": 7,
    "start_time": "2023-05-04T16:15:05.375Z"
   },
   {
    "duration": 130,
    "start_time": "2023-05-04T16:15:06.037Z"
   },
   {
    "duration": 49,
    "start_time": "2023-05-04T16:15:07.345Z"
   },
   {
    "duration": 4,
    "start_time": "2023-05-04T16:15:08.706Z"
   },
   {
    "duration": 4,
    "start_time": "2023-05-04T16:15:12.068Z"
   },
   {
    "duration": 3,
    "start_time": "2023-05-04T16:15:13.351Z"
   },
   {
    "duration": 5,
    "start_time": "2023-05-04T16:15:16.036Z"
   },
   {
    "duration": 1614,
    "start_time": "2023-05-04T16:15:16.474Z"
   },
   {
    "duration": 44,
    "start_time": "2023-05-04T16:15:18.090Z"
   },
   {
    "duration": 16,
    "start_time": "2023-05-04T16:15:18.893Z"
   },
   {
    "duration": 15,
    "start_time": "2023-05-04T16:15:19.508Z"
   },
   {
    "duration": 11,
    "start_time": "2023-05-04T16:15:23.941Z"
   },
   {
    "duration": 13,
    "start_time": "2023-05-04T16:15:53.969Z"
   },
   {
    "duration": 19,
    "start_time": "2023-05-04T16:15:55.630Z"
   },
   {
    "duration": 26,
    "start_time": "2023-05-04T16:15:57.695Z"
   },
   {
    "duration": 7,
    "start_time": "2023-05-04T16:15:59.822Z"
   },
   {
    "duration": 13,
    "start_time": "2023-05-04T16:16:00.494Z"
   },
   {
    "duration": 164,
    "start_time": "2023-05-04T16:16:01.179Z"
   },
   {
    "duration": 15,
    "start_time": "2023-05-04T16:16:01.771Z"
   },
   {
    "duration": 24,
    "start_time": "2023-05-04T16:16:02.372Z"
   },
   {
    "duration": 10,
    "start_time": "2023-05-04T16:16:03.065Z"
   },
   {
    "duration": 39,
    "start_time": "2023-05-04T16:16:03.753Z"
   },
   {
    "duration": 2,
    "start_time": "2023-05-04T16:16:07.173Z"
   },
   {
    "duration": 4,
    "start_time": "2023-05-04T16:16:07.892Z"
   },
   {
    "duration": 172,
    "start_time": "2023-05-04T16:16:09.326Z"
   },
   {
    "duration": 251,
    "start_time": "2023-05-04T16:16:42.331Z"
   },
   {
    "duration": 70,
    "start_time": "2023-05-04T16:17:19.582Z"
   },
   {
    "duration": 32,
    "start_time": "2023-05-04T16:19:03.357Z"
   },
   {
    "duration": 172,
    "start_time": "2023-05-04T16:28:58.020Z"
   },
   {
    "duration": 84,
    "start_time": "2023-05-04T16:32:21.671Z"
   },
   {
    "duration": 33,
    "start_time": "2023-05-04T16:32:36.818Z"
   },
   {
    "duration": 48,
    "start_time": "2023-05-04T16:32:39.278Z"
   },
   {
    "duration": 4,
    "start_time": "2023-05-04T16:35:01.124Z"
   },
   {
    "duration": 4,
    "start_time": "2023-05-04T16:35:39.331Z"
   },
   {
    "duration": 15,
    "start_time": "2023-05-04T16:36:22.021Z"
   },
   {
    "duration": 5,
    "start_time": "2023-05-04T16:36:35.131Z"
   },
   {
    "duration": 210,
    "start_time": "2023-05-04T16:36:36.922Z"
   },
   {
    "duration": 30,
    "start_time": "2023-05-04T16:36:39.028Z"
   },
   {
    "duration": 19,
    "start_time": "2023-05-04T16:36:39.621Z"
   },
   {
    "duration": 41,
    "start_time": "2023-05-04T16:36:40.141Z"
   },
   {
    "duration": 35,
    "start_time": "2023-05-04T16:36:42.576Z"
   },
   {
    "duration": 6,
    "start_time": "2023-05-04T16:36:43.114Z"
   },
   {
    "duration": 31,
    "start_time": "2023-05-04T16:36:43.672Z"
   },
   {
    "duration": 3,
    "start_time": "2023-05-04T16:36:44.884Z"
   },
   {
    "duration": 20,
    "start_time": "2023-05-04T16:36:45.502Z"
   },
   {
    "duration": 100,
    "start_time": "2023-05-04T16:36:46.689Z"
   },
   {
    "duration": 39,
    "start_time": "2023-05-04T16:36:49.215Z"
   },
   {
    "duration": 31,
    "start_time": "2023-05-04T16:36:49.803Z"
   },
   {
    "duration": 13,
    "start_time": "2023-05-04T16:36:50.405Z"
   },
   {
    "duration": 50,
    "start_time": "2023-05-04T16:36:51.678Z"
   },
   {
    "duration": 31,
    "start_time": "2023-05-04T16:36:52.270Z"
   },
   {
    "duration": 2263,
    "start_time": "2023-05-04T16:36:54.106Z"
   },
   {
    "duration": 5,
    "start_time": "2023-05-04T16:36:56.371Z"
   },
   {
    "duration": 27,
    "start_time": "2023-05-04T16:36:56.912Z"
   },
   {
    "duration": 348,
    "start_time": "2023-05-04T16:36:59.024Z"
   },
   {
    "duration": 126,
    "start_time": "2023-05-04T16:37:00.186Z"
   },
   {
    "duration": 125,
    "start_time": "2023-05-04T16:37:01.084Z"
   },
   {
    "duration": 126,
    "start_time": "2023-05-04T16:37:01.211Z"
   },
   {
    "duration": 148,
    "start_time": "2023-05-04T16:37:02.423Z"
   },
   {
    "duration": 18,
    "start_time": "2023-05-04T16:37:04.312Z"
   },
   {
    "duration": 13,
    "start_time": "2023-05-04T16:37:04.973Z"
   },
   {
    "duration": 36,
    "start_time": "2023-05-04T16:37:06.282Z"
   },
   {
    "duration": 11,
    "start_time": "2023-05-04T16:37:08.273Z"
   },
   {
    "duration": 2235,
    "start_time": "2023-05-04T16:37:09.715Z"
   },
   {
    "duration": 118,
    "start_time": "2023-05-04T16:37:11.952Z"
   },
   {
    "duration": 113,
    "start_time": "2023-05-04T16:37:12.072Z"
   },
   {
    "duration": 116,
    "start_time": "2023-05-04T16:37:12.187Z"
   },
   {
    "duration": 102,
    "start_time": "2023-05-04T16:37:12.322Z"
   },
   {
    "duration": 10,
    "start_time": "2023-05-04T16:37:13.524Z"
   },
   {
    "duration": 156,
    "start_time": "2023-05-04T16:37:14.169Z"
   },
   {
    "duration": 23,
    "start_time": "2023-05-04T16:37:16.122Z"
   },
   {
    "duration": 4,
    "start_time": "2023-05-04T16:37:19.178Z"
   },
   {
    "duration": 6,
    "start_time": "2023-05-04T16:37:20.454Z"
   },
   {
    "duration": 1681,
    "start_time": "2023-05-04T16:37:22.314Z"
   },
   {
    "duration": 9,
    "start_time": "2023-05-04T16:37:23.997Z"
   },
   {
    "duration": 10,
    "start_time": "2023-05-04T16:37:24.124Z"
   },
   {
    "duration": 19,
    "start_time": "2023-05-04T16:37:24.833Z"
   },
   {
    "duration": 3,
    "start_time": "2023-05-04T16:37:27.417Z"
   },
   {
    "duration": 24,
    "start_time": "2023-05-04T16:37:28.530Z"
   },
   {
    "duration": 4,
    "start_time": "2023-05-04T16:37:29.178Z"
   },
   {
    "duration": 5,
    "start_time": "2023-05-04T16:37:29.818Z"
   },
   {
    "duration": 77,
    "start_time": "2023-05-04T16:37:30.418Z"
   },
   {
    "duration": 20,
    "start_time": "2023-05-04T16:37:32.318Z"
   },
   {
    "duration": 19,
    "start_time": "2023-05-04T16:37:33.571Z"
   },
   {
    "duration": 15,
    "start_time": "2023-05-04T16:37:34.735Z"
   },
   {
    "duration": 38,
    "start_time": "2023-05-04T16:37:36.580Z"
   },
   {
    "duration": 14,
    "start_time": "2023-05-04T16:37:37.980Z"
   },
   {
    "duration": 13,
    "start_time": "2023-05-04T16:37:38.701Z"
   },
   {
    "duration": 14,
    "start_time": "2023-05-04T16:37:39.418Z"
   },
   {
    "duration": 4,
    "start_time": "2023-05-04T16:37:40.702Z"
   },
   {
    "duration": 5,
    "start_time": "2023-05-04T16:37:41.963Z"
   },
   {
    "duration": 15,
    "start_time": "2023-05-04T16:37:43.228Z"
   },
   {
    "duration": 40,
    "start_time": "2023-05-04T16:37:43.869Z"
   },
   {
    "duration": 10,
    "start_time": "2023-05-04T16:37:44.528Z"
   },
   {
    "duration": 3,
    "start_time": "2023-05-04T16:37:45.308Z"
   },
   {
    "duration": 4,
    "start_time": "2023-05-04T16:37:45.970Z"
   },
   {
    "duration": 5,
    "start_time": "2023-05-04T16:37:46.614Z"
   },
   {
    "duration": 56,
    "start_time": "2023-05-04T16:37:47.227Z"
   },
   {
    "duration": 6,
    "start_time": "2023-05-04T16:37:48.571Z"
   },
   {
    "duration": 112,
    "start_time": "2023-05-04T16:37:49.112Z"
   },
   {
    "duration": 52,
    "start_time": "2023-05-04T16:37:50.338Z"
   },
   {
    "duration": 4,
    "start_time": "2023-05-04T16:37:51.761Z"
   },
   {
    "duration": 5,
    "start_time": "2023-05-04T16:37:54.420Z"
   },
   {
    "duration": 4,
    "start_time": "2023-05-04T16:37:55.762Z"
   },
   {
    "duration": 4,
    "start_time": "2023-05-04T16:37:57.114Z"
   },
   {
    "duration": 1666,
    "start_time": "2023-05-04T16:37:59.211Z"
   },
   {
    "duration": 46,
    "start_time": "2023-05-04T16:38:00.879Z"
   },
   {
    "duration": 17,
    "start_time": "2023-05-04T16:38:01.119Z"
   },
   {
    "duration": 14,
    "start_time": "2023-05-04T16:38:01.614Z"
   },
   {
    "duration": 12,
    "start_time": "2023-05-04T16:38:05.684Z"
   },
   {
    "duration": 23,
    "start_time": "2023-05-04T16:38:14.061Z"
   },
   {
    "duration": 35,
    "start_time": "2023-05-04T16:38:15.407Z"
   },
   {
    "duration": 23,
    "start_time": "2023-05-04T16:38:17.784Z"
   },
   {
    "duration": 10,
    "start_time": "2023-05-04T16:38:19.815Z"
   },
   {
    "duration": 12,
    "start_time": "2023-05-04T16:38:20.524Z"
   },
   {
    "duration": 153,
    "start_time": "2023-05-04T16:38:23.358Z"
   },
   {
    "duration": 16,
    "start_time": "2023-05-04T16:38:24.044Z"
   },
   {
    "duration": 25,
    "start_time": "2023-05-04T16:38:27.361Z"
   },
   {
    "duration": 11,
    "start_time": "2023-05-04T16:38:28.085Z"
   },
   {
    "duration": 40,
    "start_time": "2023-05-04T16:38:28.833Z"
   },
   {
    "duration": 2,
    "start_time": "2023-05-04T16:38:32.561Z"
   },
   {
    "duration": 4,
    "start_time": "2023-05-04T16:38:33.133Z"
   },
   {
    "duration": 252,
    "start_time": "2023-05-04T16:38:34.650Z"
   },
   {
    "duration": 4,
    "start_time": "2023-05-04T16:38:36.642Z"
   },
   {
    "duration": 161,
    "start_time": "2023-05-04T16:38:51.461Z"
   },
   {
    "duration": 37,
    "start_time": "2023-05-04T16:39:02.019Z"
   },
   {
    "duration": 3550,
    "start_time": "2023-05-04T16:39:03.222Z"
   },
   {
    "duration": 3967,
    "start_time": "2023-05-04T16:43:14.015Z"
   },
   {
    "duration": 1183008,
    "start_time": "2023-05-04T17:03:43.810Z"
   },
   {
    "duration": 4,
    "start_time": "2023-05-04T17:23:26.820Z"
   },
   {
    "duration": 237,
    "start_time": "2023-05-04T17:23:26.826Z"
   },
   {
    "duration": 29,
    "start_time": "2023-05-04T17:23:27.066Z"
   },
   {
    "duration": 17,
    "start_time": "2023-05-04T17:23:27.097Z"
   },
   {
    "duration": 64,
    "start_time": "2023-05-04T17:23:27.116Z"
   },
   {
    "duration": 35,
    "start_time": "2023-05-04T17:23:27.181Z"
   },
   {
    "duration": 5,
    "start_time": "2023-05-04T17:23:27.217Z"
   },
   {
    "duration": 47,
    "start_time": "2023-05-04T17:23:27.223Z"
   },
   {
    "duration": 5,
    "start_time": "2023-05-04T17:27:36.520Z"
   },
   {
    "duration": 194,
    "start_time": "2023-05-04T17:27:38.222Z"
   },
   {
    "duration": 24,
    "start_time": "2023-05-04T17:27:40.615Z"
   },
   {
    "duration": 19,
    "start_time": "2023-05-04T17:27:41.167Z"
   },
   {
    "duration": 44,
    "start_time": "2023-05-04T17:27:41.806Z"
   },
   {
    "duration": 52,
    "start_time": "2023-05-04T17:27:44.407Z"
   },
   {
    "duration": 5,
    "start_time": "2023-05-04T17:27:45.179Z"
   },
   {
    "duration": 32,
    "start_time": "2023-05-04T17:27:45.811Z"
   },
   {
    "duration": 2,
    "start_time": "2023-05-04T17:27:47.296Z"
   },
   {
    "duration": 20,
    "start_time": "2023-05-04T17:27:48.022Z"
   },
   {
    "duration": 104,
    "start_time": "2023-05-04T17:27:49.662Z"
   },
   {
    "duration": 37,
    "start_time": "2023-05-04T17:27:53.966Z"
   },
   {
    "duration": 20,
    "start_time": "2023-05-04T17:27:55.141Z"
   },
   {
    "duration": 13,
    "start_time": "2023-05-04T17:27:56.419Z"
   },
   {
    "duration": 47,
    "start_time": "2023-05-04T17:27:57.821Z"
   },
   {
    "duration": 28,
    "start_time": "2023-05-04T17:27:58.499Z"
   },
   {
    "duration": 2595,
    "start_time": "2023-05-04T17:28:01.384Z"
   },
   {
    "duration": 5,
    "start_time": "2023-05-04T17:28:28.999Z"
   },
   {
    "duration": 33,
    "start_time": "2023-05-04T17:28:30.622Z"
   },
   {
    "duration": 126,
    "start_time": "2023-05-04T17:28:32.748Z"
   },
   {
    "duration": 120,
    "start_time": "2023-05-04T17:28:34.028Z"
   },
   {
    "duration": 154,
    "start_time": "2023-05-04T17:28:34.620Z"
   },
   {
    "duration": 139,
    "start_time": "2023-05-04T17:28:35.243Z"
   },
   {
    "duration": 165,
    "start_time": "2023-05-04T17:28:36.441Z"
   },
   {
    "duration": 15,
    "start_time": "2023-05-04T17:28:38.433Z"
   },
   {
    "duration": 17,
    "start_time": "2023-05-04T17:28:39.060Z"
   },
   {
    "duration": 48,
    "start_time": "2023-05-04T17:28:40.429Z"
   },
   {
    "duration": 12,
    "start_time": "2023-05-04T17:28:42.520Z"
   },
   {
    "duration": 2361,
    "start_time": "2023-05-04T17:28:43.833Z"
   },
   {
    "duration": 124,
    "start_time": "2023-05-04T17:28:46.196Z"
   },
   {
    "duration": 131,
    "start_time": "2023-05-04T17:28:46.323Z"
   },
   {
    "duration": 126,
    "start_time": "2023-05-04T17:28:46.456Z"
   },
   {
    "duration": 126,
    "start_time": "2023-05-04T17:28:46.584Z"
   },
   {
    "duration": 12,
    "start_time": "2023-05-04T17:28:47.726Z"
   },
   {
    "duration": 487,
    "start_time": "2023-05-04T17:28:48.384Z"
   },
   {
    "duration": 20,
    "start_time": "2023-05-04T17:28:50.422Z"
   },
   {
    "duration": 4,
    "start_time": "2023-05-04T17:28:53.065Z"
   },
   {
    "duration": 6,
    "start_time": "2023-05-04T17:28:54.465Z"
   },
   {
    "duration": 1634,
    "start_time": "2023-05-04T17:28:56.366Z"
   },
   {
    "duration": 9,
    "start_time": "2023-05-04T17:28:58.003Z"
   },
   {
    "duration": 10,
    "start_time": "2023-05-04T17:28:58.424Z"
   },
   {
    "duration": 16,
    "start_time": "2023-05-04T17:28:59.240Z"
   },
   {
    "duration": 3,
    "start_time": "2023-05-04T17:29:01.881Z"
   },
   {
    "duration": 24,
    "start_time": "2023-05-04T17:29:03.249Z"
   },
   {
    "duration": 3,
    "start_time": "2023-05-04T17:29:04.065Z"
   },
   {
    "duration": 4,
    "start_time": "2023-05-04T17:29:04.752Z"
   },
   {
    "duration": 71,
    "start_time": "2023-05-04T17:29:05.420Z"
   },
   {
    "duration": 20,
    "start_time": "2023-05-04T17:29:07.630Z"
   },
   {
    "duration": 19,
    "start_time": "2023-05-04T17:29:12.760Z"
   },
   {
    "duration": 13,
    "start_time": "2023-05-04T17:29:13.672Z"
   },
   {
    "duration": 45,
    "start_time": "2023-05-04T17:29:16.713Z"
   },
   {
    "duration": 16,
    "start_time": "2023-05-04T17:29:18.095Z"
   },
   {
    "duration": 13,
    "start_time": "2023-05-04T17:29:18.778Z"
   },
   {
    "duration": 14,
    "start_time": "2023-05-04T17:29:20.029Z"
   },
   {
    "duration": 4,
    "start_time": "2023-05-04T17:29:21.330Z"
   },
   {
    "duration": 4,
    "start_time": "2023-05-04T17:29:22.710Z"
   },
   {
    "duration": 15,
    "start_time": "2023-05-04T17:29:23.877Z"
   },
   {
    "duration": 41,
    "start_time": "2023-05-04T17:29:24.591Z"
   },
   {
    "duration": 8,
    "start_time": "2023-05-04T17:29:25.318Z"
   },
   {
    "duration": 4,
    "start_time": "2023-05-04T17:29:25.917Z"
   },
   {
    "duration": 4,
    "start_time": "2023-05-04T17:29:26.549Z"
   },
   {
    "duration": 4,
    "start_time": "2023-05-04T17:29:27.262Z"
   },
   {
    "duration": 52,
    "start_time": "2023-05-04T17:29:27.989Z"
   },
   {
    "duration": 7,
    "start_time": "2023-05-04T17:29:29.548Z"
   },
   {
    "duration": 115,
    "start_time": "2023-05-04T17:29:30.355Z"
   },
   {
    "duration": 47,
    "start_time": "2023-05-04T17:29:32.063Z"
   },
   {
    "duration": 4,
    "start_time": "2023-05-04T17:29:33.681Z"
   },
   {
    "duration": 6,
    "start_time": "2023-05-04T17:29:36.428Z"
   },
   {
    "duration": 5,
    "start_time": "2023-05-04T17:29:37.830Z"
   },
   {
    "duration": 4,
    "start_time": "2023-05-04T17:29:39.185Z"
   },
   {
    "duration": 1566,
    "start_time": "2023-05-04T17:29:41.714Z"
   },
   {
    "duration": 44,
    "start_time": "2023-05-04T17:29:43.282Z"
   },
   {
    "duration": 18,
    "start_time": "2023-05-04T17:29:43.676Z"
   },
   {
    "duration": 17,
    "start_time": "2023-05-04T17:29:44.456Z"
   },
   {
    "duration": 11,
    "start_time": "2023-05-04T17:29:49.188Z"
   },
   {
    "duration": 16,
    "start_time": "2023-05-04T17:29:52.322Z"
   },
   {
    "duration": 17,
    "start_time": "2023-05-04T17:29:54.033Z"
   },
   {
    "duration": 25,
    "start_time": "2023-05-04T17:29:55.446Z"
   },
   {
    "duration": 6,
    "start_time": "2023-05-04T17:29:57.862Z"
   },
   {
    "duration": 11,
    "start_time": "2023-05-04T17:29:58.522Z"
   },
   {
    "duration": 141,
    "start_time": "2023-05-04T17:29:59.377Z"
   },
   {
    "duration": 15,
    "start_time": "2023-05-04T17:30:00.066Z"
   },
   {
    "duration": 24,
    "start_time": "2023-05-04T17:30:00.870Z"
   },
   {
    "duration": 11,
    "start_time": "2023-05-04T17:30:01.680Z"
   },
   {
    "duration": 38,
    "start_time": "2023-05-04T17:30:03.673Z"
   },
   {
    "duration": 4,
    "start_time": "2023-05-04T17:30:08.471Z"
   },
   {
    "duration": 4,
    "start_time": "2023-05-04T17:30:09.481Z"
   },
   {
    "duration": 230,
    "start_time": "2023-05-04T17:30:11.120Z"
   },
   {
    "duration": 4,
    "start_time": "2023-05-04T17:30:17.347Z"
   },
   {
    "duration": 35,
    "start_time": "2023-05-04T17:30:23.904Z"
   },
   {
    "duration": 132,
    "start_time": "2023-05-04T17:34:36.310Z"
   },
   {
    "duration": 159,
    "start_time": "2023-05-04T17:50:16.964Z"
   },
   {
    "duration": 7,
    "start_time": "2023-05-04T17:52:25.322Z"
   },
   {
    "duration": 72,
    "start_time": "2023-05-04T18:00:45.337Z"
   },
   {
    "duration": 43,
    "start_time": "2023-05-04T18:00:53.761Z"
   },
   {
    "duration": 3537,
    "start_time": "2023-05-04T18:00:55.902Z"
   },
   {
    "duration": 196,
    "start_time": "2023-05-04T18:09:22.491Z"
   },
   {
    "duration": 7076,
    "start_time": "2023-05-04T18:09:34.194Z"
   },
   {
    "duration": 7261,
    "start_time": "2023-05-04T18:12:24.438Z"
   },
   {
    "duration": 6959,
    "start_time": "2023-05-04T18:12:49.921Z"
   },
   {
    "duration": 3993,
    "start_time": "2023-05-04T18:14:08.561Z"
   },
   {
    "duration": 89,
    "start_time": "2023-05-04T18:14:45.859Z"
   },
   {
    "duration": 156,
    "start_time": "2023-05-04T18:17:55.981Z"
   },
   {
    "duration": 6,
    "start_time": "2023-05-04T18:20:15.957Z"
   },
   {
    "duration": 115,
    "start_time": "2023-05-04T18:22:10.146Z"
   },
   {
    "duration": 10,
    "start_time": "2023-05-04T18:26:52.849Z"
   },
   {
    "duration": 21,
    "start_time": "2023-05-04T18:26:53.641Z"
   },
   {
    "duration": 147,
    "start_time": "2023-05-04T18:27:45.417Z"
   },
   {
    "duration": 97,
    "start_time": "2023-05-04T18:28:46.868Z"
   },
   {
    "duration": 43,
    "start_time": "2023-05-04T18:28:55.983Z"
   },
   {
    "duration": 58,
    "start_time": "2023-05-04T18:30:01.537Z"
   },
   {
    "duration": 7,
    "start_time": "2023-05-04T18:31:07.366Z"
   },
   {
    "duration": 225,
    "start_time": "2023-05-04T18:31:09.490Z"
   },
   {
    "duration": 27,
    "start_time": "2023-05-04T18:31:12.262Z"
   },
   {
    "duration": 25,
    "start_time": "2023-05-04T18:31:13.001Z"
   },
   {
    "duration": 41,
    "start_time": "2023-05-04T18:31:13.701Z"
   },
   {
    "duration": 42,
    "start_time": "2023-05-04T18:31:16.443Z"
   },
   {
    "duration": 16,
    "start_time": "2023-05-04T18:31:17.150Z"
   },
   {
    "duration": 34,
    "start_time": "2023-05-04T18:31:17.881Z"
   },
   {
    "duration": 3,
    "start_time": "2023-05-04T18:31:19.265Z"
   },
   {
    "duration": 25,
    "start_time": "2023-05-04T18:31:19.942Z"
   },
   {
    "duration": 101,
    "start_time": "2023-05-04T18:31:21.366Z"
   },
   {
    "duration": 40,
    "start_time": "2023-05-04T18:31:24.149Z"
   },
   {
    "duration": 20,
    "start_time": "2023-05-04T18:31:24.901Z"
   },
   {
    "duration": 12,
    "start_time": "2023-05-04T18:31:25.603Z"
   },
   {
    "duration": 58,
    "start_time": "2023-05-04T18:31:27.225Z"
   },
   {
    "duration": 38,
    "start_time": "2023-05-04T18:31:27.822Z"
   },
   {
    "duration": 2573,
    "start_time": "2023-05-04T18:31:29.939Z"
   },
   {
    "duration": 5,
    "start_time": "2023-05-04T18:31:32.514Z"
   },
   {
    "duration": 39,
    "start_time": "2023-05-04T18:31:32.839Z"
   },
   {
    "duration": 140,
    "start_time": "2023-05-04T18:31:35.064Z"
   },
   {
    "duration": 139,
    "start_time": "2023-05-04T18:31:36.530Z"
   },
   {
    "duration": 144,
    "start_time": "2023-05-04T18:31:37.239Z"
   },
   {
    "duration": 139,
    "start_time": "2023-05-04T18:31:37.932Z"
   },
   {
    "duration": 183,
    "start_time": "2023-05-04T18:31:39.348Z"
   },
   {
    "duration": 25,
    "start_time": "2023-05-04T18:31:41.645Z"
   },
   {
    "duration": 14,
    "start_time": "2023-05-04T18:31:42.431Z"
   },
   {
    "duration": 36,
    "start_time": "2023-05-04T18:31:43.871Z"
   },
   {
    "duration": 12,
    "start_time": "2023-05-04T18:31:46.201Z"
   },
   {
    "duration": 2645,
    "start_time": "2023-05-04T18:31:47.733Z"
   },
   {
    "duration": 131,
    "start_time": "2023-05-04T18:31:50.379Z"
   },
   {
    "duration": 150,
    "start_time": "2023-05-04T18:31:50.513Z"
   },
   {
    "duration": 124,
    "start_time": "2023-05-04T18:31:50.676Z"
   },
   {
    "duration": 592,
    "start_time": "2023-05-04T18:31:50.802Z"
   },
   {
    "duration": 19,
    "start_time": "2023-05-04T18:31:52.134Z"
   },
   {
    "duration": 184,
    "start_time": "2023-05-04T18:31:52.799Z"
   },
   {
    "duration": 27,
    "start_time": "2023-05-04T18:31:54.880Z"
   },
   {
    "duration": 6,
    "start_time": "2023-05-04T18:31:57.839Z"
   },
   {
    "duration": 9,
    "start_time": "2023-05-04T18:31:59.303Z"
   },
   {
    "duration": 1914,
    "start_time": "2023-05-04T18:32:01.430Z"
   },
   {
    "duration": 20,
    "start_time": "2023-05-04T18:32:03.346Z"
   },
   {
    "duration": 11,
    "start_time": "2023-05-04T18:32:03.502Z"
   },
   {
    "duration": 17,
    "start_time": "2023-05-04T18:32:04.258Z"
   },
   {
    "duration": 3,
    "start_time": "2023-05-04T18:32:07.071Z"
   },
   {
    "duration": 45,
    "start_time": "2023-05-04T18:32:08.434Z"
   },
   {
    "duration": 3,
    "start_time": "2023-05-04T18:32:09.123Z"
   },
   {
    "duration": 5,
    "start_time": "2023-05-04T18:32:09.886Z"
   },
   {
    "duration": 111,
    "start_time": "2023-05-04T18:32:10.582Z"
   },
   {
    "duration": 22,
    "start_time": "2023-05-04T18:32:12.803Z"
   },
   {
    "duration": 20,
    "start_time": "2023-05-04T18:32:14.196Z"
   },
   {
    "duration": 15,
    "start_time": "2023-05-04T18:32:14.924Z"
   },
   {
    "duration": 58,
    "start_time": "2023-05-04T18:32:17.037Z"
   },
   {
    "duration": 16,
    "start_time": "2023-05-04T18:32:18.533Z"
   },
   {
    "duration": 22,
    "start_time": "2023-05-04T18:32:19.239Z"
   },
   {
    "duration": 30,
    "start_time": "2023-05-04T18:32:19.933Z"
   },
   {
    "duration": 4,
    "start_time": "2023-05-04T18:32:21.325Z"
   },
   {
    "duration": 3,
    "start_time": "2023-05-04T18:32:22.771Z"
   },
   {
    "duration": 14,
    "start_time": "2023-05-04T18:32:24.162Z"
   },
   {
    "duration": 64,
    "start_time": "2023-05-04T18:32:24.836Z"
   },
   {
    "duration": 10,
    "start_time": "2023-05-04T18:32:25.581Z"
   },
   {
    "duration": 4,
    "start_time": "2023-05-04T18:32:26.330Z"
   },
   {
    "duration": 5,
    "start_time": "2023-05-04T18:32:27.078Z"
   },
   {
    "duration": 4,
    "start_time": "2023-05-04T18:32:27.790Z"
   },
   {
    "duration": 46,
    "start_time": "2023-05-04T18:32:28.592Z"
   },
   {
    "duration": 7,
    "start_time": "2023-05-04T18:32:29.949Z"
   },
   {
    "duration": 113,
    "start_time": "2023-05-04T18:32:30.673Z"
   },
   {
    "duration": 50,
    "start_time": "2023-05-04T18:32:32.143Z"
   },
   {
    "duration": 4,
    "start_time": "2023-05-04T18:32:33.603Z"
   },
   {
    "duration": 7,
    "start_time": "2023-05-04T18:32:36.759Z"
   },
   {
    "duration": 4,
    "start_time": "2023-05-04T18:32:42.212Z"
   },
   {
    "duration": 6,
    "start_time": "2023-05-04T18:33:03.953Z"
   },
   {
    "duration": 1641,
    "start_time": "2023-05-04T18:33:16.563Z"
   },
   {
    "duration": 48,
    "start_time": "2023-05-04T18:33:18.207Z"
   },
   {
    "duration": 17,
    "start_time": "2023-05-04T18:33:20.318Z"
   },
   {
    "duration": 14,
    "start_time": "2023-05-04T18:33:21.285Z"
   },
   {
    "duration": 12,
    "start_time": "2023-05-04T18:33:26.242Z"
   },
   {
    "duration": 10,
    "start_time": "2023-05-04T18:33:27.635Z"
   },
   {
    "duration": 17,
    "start_time": "2023-05-04T18:33:29.438Z"
   },
   {
    "duration": 27,
    "start_time": "2023-05-04T18:33:31.555Z"
   },
   {
    "duration": 6,
    "start_time": "2023-05-04T18:33:34.032Z"
   },
   {
    "duration": 14,
    "start_time": "2023-05-04T18:33:34.789Z"
   },
   {
    "duration": 136,
    "start_time": "2023-05-04T18:33:35.617Z"
   },
   {
    "duration": 19,
    "start_time": "2023-05-04T18:33:36.423Z"
   },
   {
    "duration": 25,
    "start_time": "2023-05-04T18:33:37.283Z"
   },
   {
    "duration": 11,
    "start_time": "2023-05-04T18:33:38.119Z"
   },
   {
    "duration": 37,
    "start_time": "2023-05-04T18:33:38.891Z"
   },
   {
    "duration": 3,
    "start_time": "2023-05-04T18:33:42.926Z"
   },
   {
    "duration": 6,
    "start_time": "2023-05-04T18:33:43.668Z"
   },
   {
    "duration": 240,
    "start_time": "2023-05-04T18:33:45.122Z"
   },
   {
    "duration": 5,
    "start_time": "2023-05-04T18:33:45.962Z"
   },
   {
    "duration": 174,
    "start_time": "2023-05-04T18:33:47.593Z"
   },
   {
    "duration": 40,
    "start_time": "2023-05-04T18:34:05.200Z"
   },
   {
    "duration": 7496,
    "start_time": "2023-05-04T18:34:06.042Z"
   },
   {
    "duration": 1194384,
    "start_time": "2023-05-04T18:34:13.540Z"
   },
   {
    "duration": 286,
    "start_time": "2023-05-04T18:57:46.891Z"
   },
   {
    "duration": 170,
    "start_time": "2023-05-04T18:58:15.949Z"
   },
   {
    "duration": 1545,
    "start_time": "2023-05-04T18:58:30.376Z"
   },
   {
    "duration": 199,
    "start_time": "2023-05-04T18:58:59.091Z"
   },
   {
    "duration": 674,
    "start_time": "2023-05-04T18:59:22.068Z"
   },
   {
    "duration": 260,
    "start_time": "2023-05-04T19:00:16.079Z"
   },
   {
    "duration": 832,
    "start_time": "2023-05-04T19:01:13.869Z"
   },
   {
    "duration": 846,
    "start_time": "2023-05-04T19:02:23.474Z"
   },
   {
    "duration": 208,
    "start_time": "2023-05-04T19:02:55.569Z"
   },
   {
    "duration": 410,
    "start_time": "2023-05-04T19:03:20.965Z"
   },
   {
    "duration": 814,
    "start_time": "2023-05-04T19:04:14.425Z"
   },
   {
    "duration": 856,
    "start_time": "2023-05-04T19:04:24.116Z"
   },
   {
    "duration": 149,
    "start_time": "2023-05-04T19:08:00.132Z"
   },
   {
    "duration": 743,
    "start_time": "2023-05-04T19:08:11.075Z"
   },
   {
    "duration": 741,
    "start_time": "2023-05-04T19:08:39.517Z"
   },
   {
    "duration": 850,
    "start_time": "2023-05-04T19:08:52.864Z"
   },
   {
    "duration": 23,
    "start_time": "2023-05-04T19:35:56.349Z"
   },
   {
    "duration": 18,
    "start_time": "2023-05-04T19:36:47.079Z"
   },
   {
    "duration": 27,
    "start_time": "2023-05-04T19:39:39.633Z"
   },
   {
    "duration": 25,
    "start_time": "2023-05-04T19:51:06.856Z"
   },
   {
    "duration": 28,
    "start_time": "2023-05-04T19:51:21.296Z"
   },
   {
    "duration": 25,
    "start_time": "2023-05-04T19:51:59.072Z"
   },
   {
    "duration": 27,
    "start_time": "2023-05-04T19:52:06.028Z"
   },
   {
    "duration": 6,
    "start_time": "2023-05-04T19:52:12.632Z"
   },
   {
    "duration": 17,
    "start_time": "2023-05-04T19:52:14.146Z"
   },
   {
    "duration": 1957,
    "start_time": "2023-05-04T19:52:16.306Z"
   },
   {
    "duration": 12,
    "start_time": "2023-05-04T19:52:18.268Z"
   },
   {
    "duration": 19,
    "start_time": "2023-05-04T19:52:18.336Z"
   },
   {
    "duration": 19,
    "start_time": "2023-05-04T19:52:19.021Z"
   },
   {
    "duration": 2,
    "start_time": "2023-05-04T19:52:21.922Z"
   },
   {
    "duration": 46,
    "start_time": "2023-05-04T19:52:23.417Z"
   },
   {
    "duration": 12,
    "start_time": "2023-05-04T19:52:24.195Z"
   },
   {
    "duration": 10,
    "start_time": "2023-05-04T19:52:25.028Z"
   },
   {
    "duration": 96,
    "start_time": "2023-05-04T19:52:25.745Z"
   },
   {
    "duration": 22,
    "start_time": "2023-05-04T19:52:28.008Z"
   },
   {
    "duration": 26,
    "start_time": "2023-05-04T19:52:29.474Z"
   },
   {
    "duration": 15,
    "start_time": "2023-05-04T19:52:30.192Z"
   },
   {
    "duration": 79,
    "start_time": "2023-05-04T19:52:32.325Z"
   },
   {
    "duration": 24,
    "start_time": "2023-05-04T19:52:33.770Z"
   },
   {
    "duration": 20,
    "start_time": "2023-05-04T19:52:34.442Z"
   },
   {
    "duration": 32,
    "start_time": "2023-05-04T19:52:35.143Z"
   },
   {
    "duration": 5,
    "start_time": "2023-05-04T19:52:36.449Z"
   },
   {
    "duration": 4,
    "start_time": "2023-05-04T19:52:37.832Z"
   },
   {
    "duration": 21,
    "start_time": "2023-05-04T19:52:39.270Z"
   },
   {
    "duration": 44,
    "start_time": "2023-05-04T19:52:39.990Z"
   },
   {
    "duration": 9,
    "start_time": "2023-05-04T19:52:40.674Z"
   },
   {
    "duration": 4,
    "start_time": "2023-05-04T19:52:41.442Z"
   },
   {
    "duration": 5,
    "start_time": "2023-05-04T19:52:42.096Z"
   },
   {
    "duration": 6,
    "start_time": "2023-05-04T19:52:42.722Z"
   },
   {
    "duration": 362,
    "start_time": "2023-05-04T19:52:43.469Z"
   },
   {
    "duration": 13,
    "start_time": "2023-05-04T19:52:45.045Z"
   },
   {
    "duration": 283,
    "start_time": "2023-05-04T19:54:15.728Z"
   },
   {
    "duration": 11,
    "start_time": "2023-05-04T19:54:38.749Z"
   },
   {
    "duration": 208,
    "start_time": "2023-05-04T19:54:41.562Z"
   },
   {
    "duration": 33,
    "start_time": "2023-05-04T19:54:44.137Z"
   },
   {
    "duration": 22,
    "start_time": "2023-05-04T19:54:44.938Z"
   },
   {
    "duration": 43,
    "start_time": "2023-05-04T19:54:45.718Z"
   },
   {
    "duration": 42,
    "start_time": "2023-05-04T19:54:48.761Z"
   },
   {
    "duration": 6,
    "start_time": "2023-05-04T19:54:49.537Z"
   },
   {
    "duration": 33,
    "start_time": "2023-05-04T19:54:50.361Z"
   },
   {
    "duration": 3,
    "start_time": "2023-05-04T19:54:52.429Z"
   },
   {
    "duration": 18,
    "start_time": "2023-05-04T19:54:53.192Z"
   },
   {
    "duration": 117,
    "start_time": "2023-05-04T19:54:54.556Z"
   },
   {
    "duration": 33,
    "start_time": "2023-05-04T19:54:57.361Z"
   },
   {
    "duration": 19,
    "start_time": "2023-05-04T19:54:58.122Z"
   },
   {
    "duration": 13,
    "start_time": "2023-05-04T19:54:58.861Z"
   },
   {
    "duration": 51,
    "start_time": "2023-05-04T19:55:00.361Z"
   },
   {
    "duration": 33,
    "start_time": "2023-05-04T19:55:01.310Z"
   },
   {
    "duration": 2378,
    "start_time": "2023-05-04T19:55:03.636Z"
   },
   {
    "duration": 5,
    "start_time": "2023-05-04T19:55:06.016Z"
   },
   {
    "duration": 31,
    "start_time": "2023-05-04T19:55:06.861Z"
   },
   {
    "duration": 124,
    "start_time": "2023-05-04T19:55:09.625Z"
   },
   {
    "duration": 118,
    "start_time": "2023-05-04T19:55:11.512Z"
   },
   {
    "duration": 130,
    "start_time": "2023-05-04T19:55:12.417Z"
   },
   {
    "duration": 128,
    "start_time": "2023-05-04T19:55:14.408Z"
   },
   {
    "duration": 161,
    "start_time": "2023-05-04T19:55:17.371Z"
   },
   {
    "duration": 1282,
    "start_time": "2023-05-04T19:55:35.721Z"
   },
   {
    "duration": 16,
    "start_time": "2023-05-04T19:55:41.231Z"
   },
   {
    "duration": 13,
    "start_time": "2023-05-04T19:57:22.666Z"
   },
   {
    "duration": 17,
    "start_time": "2023-05-04T19:57:28.781Z"
   },
   {
    "duration": 17,
    "start_time": "2023-05-04T19:57:30.852Z"
   },
   {
    "duration": 36,
    "start_time": "2023-05-04T19:57:31.880Z"
   },
   {
    "duration": 13,
    "start_time": "2023-05-04T19:57:34.896Z"
   },
   {
    "duration": 2184,
    "start_time": "2023-05-04T19:57:36.765Z"
   },
   {
    "duration": 125,
    "start_time": "2023-05-04T19:57:38.951Z"
   },
   {
    "duration": 115,
    "start_time": "2023-05-04T19:57:39.078Z"
   },
   {
    "duration": 115,
    "start_time": "2023-05-04T19:57:39.846Z"
   },
   {
    "duration": 118,
    "start_time": "2023-05-04T19:57:40.348Z"
   },
   {
    "duration": 11,
    "start_time": "2023-05-04T19:57:42.527Z"
   },
   {
    "duration": 145,
    "start_time": "2023-05-04T19:57:44.109Z"
   },
   {
    "duration": 812,
    "start_time": "2023-05-04T19:57:55.179Z"
   },
   {
    "duration": 13,
    "start_time": "2023-05-04T19:59:09.735Z"
   },
   {
    "duration": 19,
    "start_time": "2023-05-04T19:59:12.228Z"
   },
   {
    "duration": 21,
    "start_time": "2023-05-04T19:59:13.042Z"
   },
   {
    "duration": 36,
    "start_time": "2023-05-04T19:59:14.612Z"
   },
   {
    "duration": 14,
    "start_time": "2023-05-04T19:59:16.747Z"
   },
   {
    "duration": 2363,
    "start_time": "2023-05-04T19:59:18.135Z"
   },
   {
    "duration": 119,
    "start_time": "2023-05-04T19:59:20.500Z"
   },
   {
    "duration": 138,
    "start_time": "2023-05-04T19:59:20.620Z"
   },
   {
    "duration": 119,
    "start_time": "2023-05-04T19:59:22.131Z"
   },
   {
    "duration": 128,
    "start_time": "2023-05-04T19:59:23.042Z"
   },
   {
    "duration": 15,
    "start_time": "2023-05-04T19:59:24.185Z"
   },
   {
    "duration": 165,
    "start_time": "2023-05-04T19:59:25.177Z"
   },
   {
    "duration": 855,
    "start_time": "2023-05-04T19:59:26.829Z"
   },
   {
    "duration": 9,
    "start_time": "2023-05-04T19:59:28.787Z"
   },
   {
    "duration": 22,
    "start_time": "2023-05-04T19:59:31.590Z"
   },
   {
    "duration": 5,
    "start_time": "2023-05-04T19:59:34.586Z"
   },
   {
    "duration": 6,
    "start_time": "2023-05-04T19:59:36.039Z"
   },
   {
    "duration": 1765,
    "start_time": "2023-05-04T19:59:37.932Z"
   },
   {
    "duration": 10,
    "start_time": "2023-05-04T19:59:39.699Z"
   },
   {
    "duration": 12,
    "start_time": "2023-05-04T19:59:40.453Z"
   },
   {
    "duration": 16,
    "start_time": "2023-05-04T19:59:40.733Z"
   },
   {
    "duration": 3,
    "start_time": "2023-05-04T19:59:44.045Z"
   },
   {
    "duration": 25,
    "start_time": "2023-05-04T19:59:44.931Z"
   },
   {
    "duration": 3,
    "start_time": "2023-05-04T19:59:45.649Z"
   },
   {
    "duration": 5,
    "start_time": "2023-05-04T19:59:46.658Z"
   },
   {
    "duration": 81,
    "start_time": "2023-05-04T19:59:47.503Z"
   },
   {
    "duration": 20,
    "start_time": "2023-05-04T19:59:50.444Z"
   },
   {
    "duration": 24,
    "start_time": "2023-05-04T19:59:52.453Z"
   },
   {
    "duration": 14,
    "start_time": "2023-05-04T19:59:53.541Z"
   },
   {
    "duration": 37,
    "start_time": "2023-05-04T19:59:56.125Z"
   },
   {
    "duration": 14,
    "start_time": "2023-05-04T19:59:57.728Z"
   },
   {
    "duration": 11,
    "start_time": "2023-05-04T19:59:58.608Z"
   },
   {
    "duration": 13,
    "start_time": "2023-05-04T19:59:59.441Z"
   },
   {
    "duration": 4,
    "start_time": "2023-05-04T20:00:01.089Z"
   },
   {
    "duration": 4,
    "start_time": "2023-05-04T20:00:02.583Z"
   },
   {
    "duration": 15,
    "start_time": "2023-05-04T20:00:04.253Z"
   },
   {
    "duration": 59,
    "start_time": "2023-05-04T20:00:05.016Z"
   },
   {
    "duration": 8,
    "start_time": "2023-05-04T20:00:05.691Z"
   },
   {
    "duration": 4,
    "start_time": "2023-05-04T20:00:06.984Z"
   },
   {
    "duration": 4,
    "start_time": "2023-05-04T20:00:07.667Z"
   },
   {
    "duration": 4,
    "start_time": "2023-05-04T20:00:08.464Z"
   },
   {
    "duration": 50,
    "start_time": "2023-05-04T20:00:11.147Z"
   },
   {
    "duration": 6,
    "start_time": "2023-05-04T20:00:13.366Z"
   },
   {
    "duration": 106,
    "start_time": "2023-05-04T20:00:14.381Z"
   },
   {
    "duration": 53,
    "start_time": "2023-05-04T20:00:15.517Z"
   },
   {
    "duration": 5,
    "start_time": "2023-05-04T20:00:16.956Z"
   },
   {
    "duration": 5,
    "start_time": "2023-05-04T20:00:19.733Z"
   },
   {
    "duration": 5,
    "start_time": "2023-05-04T20:00:21.067Z"
   },
   {
    "duration": 5,
    "start_time": "2023-05-04T20:00:22.620Z"
   },
   {
    "duration": 1552,
    "start_time": "2023-05-04T20:00:26.030Z"
   },
   {
    "duration": 40,
    "start_time": "2023-05-04T20:00:27.584Z"
   },
   {
    "duration": 16,
    "start_time": "2023-05-04T20:00:28.760Z"
   },
   {
    "duration": 16,
    "start_time": "2023-05-04T20:00:29.779Z"
   },
   {
    "duration": 11,
    "start_time": "2023-05-04T20:00:34.568Z"
   },
   {
    "duration": 13,
    "start_time": "2023-05-04T20:00:36.016Z"
   },
   {
    "duration": 17,
    "start_time": "2023-05-04T20:00:37.680Z"
   },
   {
    "duration": 24,
    "start_time": "2023-05-04T20:00:50.371Z"
   },
   {
    "duration": 6,
    "start_time": "2023-05-04T20:00:54.240Z"
   },
   {
    "duration": 13,
    "start_time": "2023-05-04T20:00:55.856Z"
   },
   {
    "duration": 134,
    "start_time": "2023-05-04T20:00:56.774Z"
   },
   {
    "duration": 14,
    "start_time": "2023-05-04T20:00:57.408Z"
   },
   {
    "duration": 24,
    "start_time": "2023-05-04T20:01:02.467Z"
   },
   {
    "duration": 14,
    "start_time": "2023-05-04T20:01:14.628Z"
   },
   {
    "duration": 39,
    "start_time": "2023-05-04T20:01:15.316Z"
   },
   {
    "duration": 2,
    "start_time": "2023-05-04T20:01:27.642Z"
   },
   {
    "duration": 5,
    "start_time": "2023-05-04T20:01:28.296Z"
   },
   {
    "duration": 226,
    "start_time": "2023-05-04T20:01:31.827Z"
   },
   {
    "duration": 4,
    "start_time": "2023-05-04T20:01:32.599Z"
   },
   {
    "duration": 4,
    "start_time": "2023-05-04T20:03:29.123Z"
   },
   {
    "duration": 210,
    "start_time": "2023-05-04T20:03:31.312Z"
   },
   {
    "duration": 24,
    "start_time": "2023-05-04T20:03:33.602Z"
   },
   {
    "duration": 28,
    "start_time": "2023-05-04T20:03:34.350Z"
   },
   {
    "duration": 44,
    "start_time": "2023-05-04T20:03:35.274Z"
   },
   {
    "duration": 35,
    "start_time": "2023-05-04T20:03:37.903Z"
   },
   {
    "duration": 6,
    "start_time": "2023-05-04T20:03:38.580Z"
   },
   {
    "duration": 50,
    "start_time": "2023-05-04T20:03:39.231Z"
   },
   {
    "duration": 2,
    "start_time": "2023-05-04T20:03:40.813Z"
   },
   {
    "duration": 38,
    "start_time": "2023-05-04T20:03:41.550Z"
   },
   {
    "duration": 135,
    "start_time": "2023-05-04T20:03:43.048Z"
   },
   {
    "duration": 38,
    "start_time": "2023-05-04T20:03:45.830Z"
   },
   {
    "duration": 20,
    "start_time": "2023-05-04T20:03:46.604Z"
   },
   {
    "duration": 33,
    "start_time": "2023-05-04T20:03:47.538Z"
   },
   {
    "duration": 55,
    "start_time": "2023-05-04T20:03:48.775Z"
   },
   {
    "duration": 29,
    "start_time": "2023-05-04T20:03:49.485Z"
   },
   {
    "duration": 2492,
    "start_time": "2023-05-04T20:03:51.406Z"
   },
   {
    "duration": 4,
    "start_time": "2023-05-04T20:03:53.900Z"
   },
   {
    "duration": 26,
    "start_time": "2023-05-04T20:03:55.181Z"
   },
   {
    "duration": 756,
    "start_time": "2023-05-04T20:03:57.344Z"
   },
   {
    "duration": 139,
    "start_time": "2023-05-04T20:03:59.105Z"
   },
   {
    "duration": 141,
    "start_time": "2023-05-04T20:03:59.983Z"
   },
   {
    "duration": 134,
    "start_time": "2023-05-04T20:04:00.711Z"
   },
   {
    "duration": 166,
    "start_time": "2023-05-04T20:04:02.580Z"
   },
   {
    "duration": 912,
    "start_time": "2023-05-04T20:04:04.272Z"
   },
   {
    "duration": 23,
    "start_time": "2023-05-04T20:04:06.065Z"
   },
   {
    "duration": 24,
    "start_time": "2023-05-04T20:04:08.354Z"
   },
   {
    "duration": 14,
    "start_time": "2023-05-04T20:04:09.000Z"
   },
   {
    "duration": 38,
    "start_time": "2023-05-04T20:04:10.309Z"
   },
   {
    "duration": 17,
    "start_time": "2023-05-04T20:04:13.029Z"
   },
   {
    "duration": 2569,
    "start_time": "2023-05-04T20:04:14.376Z"
   },
   {
    "duration": 133,
    "start_time": "2023-05-04T20:04:16.947Z"
   },
   {
    "duration": 123,
    "start_time": "2023-05-04T20:04:17.082Z"
   },
   {
    "duration": 124,
    "start_time": "2023-05-04T20:04:17.207Z"
   },
   {
    "duration": 127,
    "start_time": "2023-05-04T20:04:18.261Z"
   },
   {
    "duration": 13,
    "start_time": "2023-05-04T20:04:19.671Z"
   },
   {
    "duration": 158,
    "start_time": "2023-05-04T20:04:20.434Z"
   },
   {
    "duration": 856,
    "start_time": "2023-05-04T20:04:21.861Z"
   },
   {
    "duration": 9,
    "start_time": "2023-05-04T20:04:23.378Z"
   },
   {
    "duration": 24,
    "start_time": "2023-05-04T20:04:25.087Z"
   },
   {
    "duration": 4,
    "start_time": "2023-05-04T20:04:28.028Z"
   },
   {
    "duration": 8,
    "start_time": "2023-05-04T20:04:29.819Z"
   },
   {
    "duration": 1762,
    "start_time": "2023-05-04T20:04:31.901Z"
   },
   {
    "duration": 10,
    "start_time": "2023-05-04T20:04:33.871Z"
   },
   {
    "duration": 12,
    "start_time": "2023-05-04T20:04:34.706Z"
   },
   {
    "duration": 15,
    "start_time": "2023-05-04T20:04:35.521Z"
   },
   {
    "duration": 3,
    "start_time": "2023-05-04T20:04:39.623Z"
   },
   {
    "duration": 26,
    "start_time": "2023-05-04T20:04:41.265Z"
   },
   {
    "duration": 4,
    "start_time": "2023-05-04T20:04:41.970Z"
   },
   {
    "duration": 4,
    "start_time": "2023-05-04T20:04:42.720Z"
   },
   {
    "duration": 77,
    "start_time": "2023-05-04T20:04:43.425Z"
   },
   {
    "duration": 21,
    "start_time": "2023-05-04T20:04:45.708Z"
   },
   {
    "duration": 21,
    "start_time": "2023-05-04T20:04:47.568Z"
   },
   {
    "duration": 18,
    "start_time": "2023-05-04T20:04:48.464Z"
   },
   {
    "duration": 53,
    "start_time": "2023-05-04T20:04:50.506Z"
   },
   {
    "duration": 15,
    "start_time": "2023-05-04T20:04:52.425Z"
   },
   {
    "duration": 11,
    "start_time": "2023-05-04T20:04:53.205Z"
   },
   {
    "duration": 13,
    "start_time": "2023-05-04T20:04:53.908Z"
   },
   {
    "duration": 4,
    "start_time": "2023-05-04T20:04:55.516Z"
   },
   {
    "duration": 3,
    "start_time": "2023-05-04T20:04:56.984Z"
   },
   {
    "duration": 15,
    "start_time": "2023-05-04T20:04:58.620Z"
   },
   {
    "duration": 45,
    "start_time": "2023-05-04T20:04:59.467Z"
   },
   {
    "duration": 8,
    "start_time": "2023-05-04T20:05:00.174Z"
   },
   {
    "duration": 6,
    "start_time": "2023-05-04T20:05:01.720Z"
   },
   {
    "duration": 3,
    "start_time": "2023-05-04T20:05:02.295Z"
   },
   {
    "duration": 4,
    "start_time": "2023-05-04T20:05:02.944Z"
   },
   {
    "duration": 65,
    "start_time": "2023-05-04T20:05:04.102Z"
   },
   {
    "duration": 6,
    "start_time": "2023-05-04T20:05:06.920Z"
   },
   {
    "duration": 124,
    "start_time": "2023-05-04T20:05:07.662Z"
   },
   {
    "duration": 52,
    "start_time": "2023-05-04T20:05:09.117Z"
   },
   {
    "duration": 7,
    "start_time": "2023-05-04T20:05:12.161Z"
   },
   {
    "duration": 7,
    "start_time": "2023-05-04T20:05:14.195Z"
   },
   {
    "duration": 5,
    "start_time": "2023-05-04T20:05:16.370Z"
   },
   {
    "duration": 10,
    "start_time": "2023-05-04T20:05:17.950Z"
   },
   {
    "duration": 1755,
    "start_time": "2023-05-04T20:05:19.429Z"
   },
   {
    "duration": 57,
    "start_time": "2023-05-04T20:05:21.186Z"
   },
   {
    "duration": 17,
    "start_time": "2023-05-04T20:05:22.182Z"
   },
   {
    "duration": 25,
    "start_time": "2023-05-04T20:05:24.137Z"
   },
   {
    "duration": 11,
    "start_time": "2023-05-04T20:05:31.164Z"
   },
   {
    "duration": 16,
    "start_time": "2023-05-04T20:05:34.529Z"
   },
   {
    "duration": 47,
    "start_time": "2023-05-04T20:05:34.548Z"
   },
   {
    "duration": 34,
    "start_time": "2023-05-04T20:05:36.050Z"
   },
   {
    "duration": 6,
    "start_time": "2023-05-04T20:05:44.914Z"
   },
   {
    "duration": 18,
    "start_time": "2023-05-04T20:05:49.090Z"
   },
   {
    "duration": 157,
    "start_time": "2023-05-04T20:05:51.050Z"
   },
   {
    "duration": 14,
    "start_time": "2023-05-04T20:05:52.893Z"
   },
   {
    "duration": 38,
    "start_time": "2023-05-04T20:06:01.738Z"
   },
   {
    "duration": 21,
    "start_time": "2023-05-04T20:06:03.448Z"
   },
   {
    "duration": 50,
    "start_time": "2023-05-04T20:06:07.017Z"
   },
   {
    "duration": 3,
    "start_time": "2023-05-04T20:06:18.709Z"
   },
   {
    "duration": 5,
    "start_time": "2023-05-04T20:06:19.969Z"
   },
   {
    "duration": 241,
    "start_time": "2023-05-04T20:06:29.079Z"
   },
   {
    "duration": 4,
    "start_time": "2023-05-04T20:06:29.646Z"
   },
   {
    "duration": 222,
    "start_time": "2023-05-04T20:06:40.218Z"
   },
   {
    "duration": 46,
    "start_time": "2023-05-04T20:06:53.540Z"
   },
   {
    "duration": 7371,
    "start_time": "2023-05-04T20:06:56.847Z"
   },
   {
    "duration": 1255862,
    "start_time": "2023-05-04T20:07:51.942Z"
   },
   {
    "duration": 4831,
    "start_time": "2023-05-04T20:30:31.232Z"
   },
   {
    "duration": 6,
    "start_time": "2023-05-04T20:32:38.631Z"
   },
   {
    "duration": 6,
    "start_time": "2023-05-04T20:33:07.987Z"
   },
   {
    "duration": 5,
    "start_time": "2023-05-04T20:33:09.124Z"
   },
   {
    "duration": 2,
    "start_time": "2023-05-04T20:33:11.716Z"
   },
   {
    "duration": 39,
    "start_time": "2023-05-04T20:33:15.940Z"
   },
   {
    "duration": 36,
    "start_time": "2023-05-04T20:36:47.900Z"
   },
   {
    "duration": 43,
    "start_time": "2023-05-04T20:37:45.956Z"
   },
   {
    "duration": 1719,
    "start_time": "2023-05-04T20:40:06.301Z"
   },
   {
    "duration": 34,
    "start_time": "2023-05-04T20:40:23.333Z"
   },
   {
    "duration": 15,
    "start_time": "2023-05-04T20:41:27.234Z"
   },
   {
    "duration": 7,
    "start_time": "2023-05-04T20:48:30.932Z"
   },
   {
    "duration": 10,
    "start_time": "2023-05-04T20:50:01.384Z"
   },
   {
    "duration": 10,
    "start_time": "2023-05-04T20:50:13.636Z"
   },
   {
    "duration": 30,
    "start_time": "2023-05-04T20:50:18.828Z"
   },
   {
    "duration": 10,
    "start_time": "2023-05-04T20:51:06.080Z"
   },
   {
    "duration": 7,
    "start_time": "2023-05-04T20:51:07.477Z"
   },
   {
    "duration": 6,
    "start_time": "2023-05-04T20:51:08.825Z"
   },
   {
    "duration": 5,
    "start_time": "2023-05-04T20:51:10.921Z"
   },
   {
    "duration": 1275,
    "start_time": "2023-05-04T20:51:12.106Z"
   },
   {
    "duration": 15,
    "start_time": "2023-05-04T20:51:13.969Z"
   },
   {
    "duration": 74,
    "start_time": "2023-05-04T20:51:16.983Z"
   },
   {
    "duration": 109,
    "start_time": "2023-05-04T20:51:20.303Z"
   },
   {
    "duration": 11,
    "start_time": "2023-05-04T20:54:54.866Z"
   },
   {
    "duration": 85,
    "start_time": "2023-05-04T20:55:09.820Z"
   },
   {
    "duration": 11,
    "start_time": "2023-05-04T20:55:12.500Z"
   },
   {
    "duration": 76,
    "start_time": "2023-05-04T20:55:42.131Z"
   },
   {
    "duration": 11,
    "start_time": "2023-05-04T20:57:24.877Z"
   },
   {
    "duration": 30,
    "start_time": "2023-05-04T20:57:54.545Z"
   },
   {
    "duration": 6,
    "start_time": "2023-05-04T20:58:30.061Z"
   },
   {
    "duration": 6,
    "start_time": "2023-05-04T20:58:32.469Z"
   },
   {
    "duration": 14,
    "start_time": "2023-05-04T20:58:34.473Z"
   },
   {
    "duration": 71,
    "start_time": "2023-05-04T20:58:36.155Z"
   },
   {
    "duration": 15,
    "start_time": "2023-05-04T20:58:37.261Z"
   },
   {
    "duration": 175,
    "start_time": "2023-05-04T20:58:48.590Z"
   },
   {
    "duration": 10,
    "start_time": "2023-05-04T20:59:49.680Z"
   },
   {
    "duration": 31,
    "start_time": "2023-05-04T20:59:50.735Z"
   },
   {
    "duration": 59,
    "start_time": "2023-05-04T21:00:56.965Z"
   },
   {
    "duration": 124,
    "start_time": "2023-05-04T21:01:31.470Z"
   },
   {
    "duration": 6,
    "start_time": "2023-05-04T21:01:53.886Z"
   },
   {
    "duration": 22,
    "start_time": "2023-05-04T21:02:07.428Z"
   },
   {
    "duration": 7,
    "start_time": "2023-05-04T21:02:18.189Z"
   },
   {
    "duration": 902,
    "start_time": "2023-05-04T21:02:21.686Z"
   },
   {
    "duration": 5,
    "start_time": "2023-05-04T21:02:25.096Z"
   },
   {
    "duration": 10,
    "start_time": "2023-05-04T21:02:53.832Z"
   },
   {
    "duration": 19,
    "start_time": "2023-05-04T21:02:55.320Z"
   },
   {
    "duration": 7,
    "start_time": "2023-05-04T21:03:14.257Z"
   },
   {
    "duration": 10,
    "start_time": "2023-05-04T21:03:18.143Z"
   },
   {
    "duration": 7,
    "start_time": "2023-05-04T21:05:26.716Z"
   },
   {
    "duration": 16,
    "start_time": "2023-05-04T21:05:42.786Z"
   },
   {
    "duration": 10,
    "start_time": "2023-05-04T21:08:27.725Z"
   },
   {
    "duration": 13,
    "start_time": "2023-05-04T21:09:35.880Z"
   },
   {
    "duration": 41,
    "start_time": "2023-05-04T21:10:03.953Z"
   },
   {
    "duration": 17,
    "start_time": "2023-05-04T21:10:07.094Z"
   },
   {
    "duration": 11,
    "start_time": "2023-05-04T21:11:30.133Z"
   },
   {
    "duration": 10,
    "start_time": "2023-05-04T21:12:46.088Z"
   },
   {
    "duration": 9,
    "start_time": "2023-05-04T21:12:59.500Z"
   },
   {
    "duration": 15,
    "start_time": "2023-05-04T21:14:54.670Z"
   },
   {
    "duration": 14,
    "start_time": "2023-05-04T21:16:12.173Z"
   },
   {
    "duration": 10,
    "start_time": "2023-05-04T21:16:41.080Z"
   },
   {
    "duration": 42,
    "start_time": "2023-05-04T21:34:12.552Z"
   },
   {
    "duration": 32,
    "start_time": "2023-05-04T21:36:38.300Z"
   },
   {
    "duration": 157,
    "start_time": "2023-05-04T21:38:24.043Z"
   },
   {
    "duration": 33,
    "start_time": "2023-05-04T21:40:13.673Z"
   },
   {
    "duration": 194,
    "start_time": "2023-05-04T21:43:54.515Z"
   },
   {
    "duration": 299,
    "start_time": "2023-05-04T21:45:09.270Z"
   },
   {
    "duration": 859,
    "start_time": "2023-05-04T21:46:29.417Z"
   },
   {
    "duration": 150,
    "start_time": "2023-05-04T21:49:10.648Z"
   },
   {
    "duration": 278,
    "start_time": "2023-05-04T21:49:11.965Z"
   },
   {
    "duration": 993,
    "start_time": "2023-05-04T21:49:15.268Z"
   },
   {
    "duration": 2,
    "start_time": "2023-05-04T21:49:17.698Z"
   },
   {
    "duration": 3,
    "start_time": "2023-05-04T21:49:18.697Z"
   },
   {
    "duration": 2,
    "start_time": "2023-05-04T21:49:19.661Z"
   },
   {
    "duration": 5,
    "start_time": "2023-05-04T21:51:06.066Z"
   },
   {
    "duration": 2206,
    "start_time": "2023-05-05T20:10:23.532Z"
   },
   {
    "duration": 815,
    "start_time": "2023-05-05T20:10:25.741Z"
   },
   {
    "duration": 26,
    "start_time": "2023-05-05T20:10:26.558Z"
   },
   {
    "duration": 26,
    "start_time": "2023-05-05T20:10:26.587Z"
   },
   {
    "duration": 54,
    "start_time": "2023-05-05T20:10:26.615Z"
   },
   {
    "duration": 49,
    "start_time": "2023-05-05T20:10:26.671Z"
   },
   {
    "duration": 6,
    "start_time": "2023-05-05T20:10:26.721Z"
   },
   {
    "duration": 31,
    "start_time": "2023-05-05T20:10:26.728Z"
   },
   {
    "duration": 2,
    "start_time": "2023-05-05T20:10:26.760Z"
   },
   {
    "duration": 23,
    "start_time": "2023-05-05T20:10:26.783Z"
   },
   {
    "duration": 132,
    "start_time": "2023-05-05T20:10:26.808Z"
   },
   {
    "duration": 57,
    "start_time": "2023-05-05T20:10:26.942Z"
   },
   {
    "duration": 22,
    "start_time": "2023-05-05T20:10:27.000Z"
   },
   {
    "duration": 12,
    "start_time": "2023-05-05T20:10:27.024Z"
   },
   {
    "duration": 94,
    "start_time": "2023-05-05T20:10:27.037Z"
   },
   {
    "duration": 52,
    "start_time": "2023-05-05T20:10:27.133Z"
   },
   {
    "duration": 2883,
    "start_time": "2023-05-05T20:10:27.187Z"
   },
   {
    "duration": 14,
    "start_time": "2023-05-05T20:10:30.072Z"
   },
   {
    "duration": 76,
    "start_time": "2023-05-05T20:10:30.088Z"
   },
   {
    "duration": 145,
    "start_time": "2023-05-05T20:10:30.167Z"
   },
   {
    "duration": 141,
    "start_time": "2023-05-05T20:10:30.313Z"
   },
   {
    "duration": 184,
    "start_time": "2023-05-05T20:10:30.455Z"
   },
   {
    "duration": 301,
    "start_time": "2023-05-05T20:10:30.641Z"
   },
   {
    "duration": 190,
    "start_time": "2023-05-05T20:10:30.944Z"
   },
   {
    "duration": 997,
    "start_time": "2023-05-05T20:10:31.136Z"
   },
   {
    "duration": 14,
    "start_time": "2023-05-05T20:10:32.135Z"
   },
   {
    "duration": 59,
    "start_time": "2023-05-05T20:10:32.151Z"
   },
   {
    "duration": 55,
    "start_time": "2023-05-05T20:10:32.214Z"
   },
   {
    "duration": 83,
    "start_time": "2023-05-05T20:10:32.270Z"
   },
   {
    "duration": 14,
    "start_time": "2023-05-05T20:10:32.354Z"
   },
   {
    "duration": 2655,
    "start_time": "2023-05-05T20:10:32.369Z"
   },
   {
    "duration": 123,
    "start_time": "2023-05-05T20:10:35.027Z"
   },
   {
    "duration": 113,
    "start_time": "2023-05-05T20:10:35.151Z"
   },
   {
    "duration": 132,
    "start_time": "2023-05-05T20:10:35.266Z"
   },
   {
    "duration": 288,
    "start_time": "2023-05-05T20:10:35.400Z"
   },
   {
    "duration": 9,
    "start_time": "2023-05-05T20:10:35.690Z"
   },
   {
    "duration": 194,
    "start_time": "2023-05-05T20:10:35.701Z"
   },
   {
    "duration": 941,
    "start_time": "2023-05-05T20:10:35.896Z"
   },
   {
    "duration": 10,
    "start_time": "2023-05-05T20:10:36.838Z"
   },
   {
    "duration": 96,
    "start_time": "2023-05-05T20:10:36.850Z"
   },
   {
    "duration": 28,
    "start_time": "2023-05-05T20:10:36.948Z"
   },
   {
    "duration": 90,
    "start_time": "2023-05-05T20:10:36.979Z"
   },
   {
    "duration": 1656,
    "start_time": "2023-05-05T20:10:37.071Z"
   },
   {
    "duration": 10,
    "start_time": "2023-05-05T20:10:38.729Z"
   },
   {
    "duration": 25,
    "start_time": "2023-05-05T20:10:38.741Z"
   },
   {
    "duration": 27,
    "start_time": "2023-05-05T20:10:38.768Z"
   },
   {
    "duration": 6,
    "start_time": "2023-05-05T20:10:38.796Z"
   },
   {
    "duration": 51,
    "start_time": "2023-05-05T20:10:38.803Z"
   },
   {
    "duration": 3,
    "start_time": "2023-05-05T20:10:38.855Z"
   },
   {
    "duration": 26,
    "start_time": "2023-05-05T20:10:38.860Z"
   },
   {
    "duration": 93,
    "start_time": "2023-05-05T20:10:38.888Z"
   },
   {
    "duration": 18,
    "start_time": "2023-05-05T20:10:38.982Z"
   },
   {
    "duration": 29,
    "start_time": "2023-05-05T20:10:39.002Z"
   },
   {
    "duration": 23,
    "start_time": "2023-05-05T20:10:39.032Z"
   },
   {
    "duration": 55,
    "start_time": "2023-05-05T20:10:39.056Z"
   },
   {
    "duration": 14,
    "start_time": "2023-05-05T20:10:39.113Z"
   },
   {
    "duration": 36,
    "start_time": "2023-05-05T20:10:39.128Z"
   },
   {
    "duration": 24,
    "start_time": "2023-05-05T20:10:39.165Z"
   },
   {
    "duration": 6,
    "start_time": "2023-05-05T20:10:39.191Z"
   },
   {
    "duration": 24,
    "start_time": "2023-05-05T20:10:39.199Z"
   },
   {
    "duration": 26,
    "start_time": "2023-05-05T20:10:39.224Z"
   },
   {
    "duration": 46,
    "start_time": "2023-05-05T20:10:39.252Z"
   },
   {
    "duration": 7,
    "start_time": "2023-05-05T20:10:39.299Z"
   },
   {
    "duration": 4,
    "start_time": "2023-05-05T20:10:39.308Z"
   },
   {
    "duration": 25,
    "start_time": "2023-05-05T20:10:39.313Z"
   },
   {
    "duration": 17,
    "start_time": "2023-05-05T20:10:39.340Z"
   },
   {
    "duration": 71,
    "start_time": "2023-05-05T20:10:39.358Z"
   },
   {
    "duration": 6,
    "start_time": "2023-05-05T20:10:39.430Z"
   },
   {
    "duration": 123,
    "start_time": "2023-05-05T20:10:39.438Z"
   },
   {
    "duration": 62,
    "start_time": "2023-05-05T20:10:39.563Z"
   },
   {
    "duration": 4,
    "start_time": "2023-05-05T20:10:39.627Z"
   },
   {
    "duration": 29,
    "start_time": "2023-05-05T20:10:39.632Z"
   },
   {
    "duration": 26,
    "start_time": "2023-05-05T20:10:39.663Z"
   },
   {
    "duration": 24,
    "start_time": "2023-05-05T20:10:39.691Z"
   },
   {
    "duration": 1569,
    "start_time": "2023-05-05T20:10:39.717Z"
   },
   {
    "duration": 46,
    "start_time": "2023-05-05T20:10:41.288Z"
   },
   {
    "duration": 15,
    "start_time": "2023-05-05T20:10:41.336Z"
   },
   {
    "duration": 48,
    "start_time": "2023-05-05T20:10:41.353Z"
   },
   {
    "duration": 28,
    "start_time": "2023-05-05T20:10:41.403Z"
   },
   {
    "duration": 37,
    "start_time": "2023-05-05T20:10:41.433Z"
   },
   {
    "duration": 65,
    "start_time": "2023-05-05T20:10:41.471Z"
   },
   {
    "duration": 30,
    "start_time": "2023-05-05T20:10:41.543Z"
   },
   {
    "duration": 23,
    "start_time": "2023-05-05T20:10:41.575Z"
   },
   {
    "duration": 48,
    "start_time": "2023-05-05T20:10:41.600Z"
   },
   {
    "duration": 216,
    "start_time": "2023-05-05T20:10:41.650Z"
   },
   {
    "duration": 20,
    "start_time": "2023-05-05T20:10:41.868Z"
   },
   {
    "duration": 61,
    "start_time": "2023-05-05T20:10:41.889Z"
   },
   {
    "duration": 53,
    "start_time": "2023-05-05T20:10:41.952Z"
   },
   {
    "duration": 72,
    "start_time": "2023-05-05T20:10:42.007Z"
   },
   {
    "duration": 9,
    "start_time": "2023-05-05T20:10:42.081Z"
   },
   {
    "duration": 72,
    "start_time": "2023-05-05T20:10:42.092Z"
   },
   {
    "duration": 301,
    "start_time": "2023-05-05T20:10:42.166Z"
   },
   {
    "duration": 4,
    "start_time": "2023-05-05T20:10:42.469Z"
   },
   {
    "duration": 201,
    "start_time": "2023-05-05T20:10:42.474Z"
   },
   {
    "duration": 52,
    "start_time": "2023-05-05T20:10:42.676Z"
   },
   {
    "duration": 6511,
    "start_time": "2023-05-05T20:10:42.730Z"
   },
   {
    "duration": 1132171,
    "start_time": "2023-05-05T20:10:49.242Z"
   },
   {
    "duration": 4970,
    "start_time": "2023-05-05T20:29:41.415Z"
   },
   {
    "duration": 101,
    "start_time": "2023-05-05T20:29:46.387Z"
   },
   {
    "duration": 14,
    "start_time": "2023-05-05T20:29:46.490Z"
   },
   {
    "duration": 9,
    "start_time": "2023-05-05T20:29:46.505Z"
   },
   {
    "duration": 23,
    "start_time": "2023-05-05T20:29:46.516Z"
   },
   {
    "duration": 75,
    "start_time": "2023-05-05T20:29:46.541Z"
   },
   {
    "duration": 14,
    "start_time": "2023-05-05T20:29:46.617Z"
   },
   {
    "duration": 12,
    "start_time": "2023-05-05T20:29:46.633Z"
   },
   {
    "duration": 32,
    "start_time": "2023-05-05T20:29:46.646Z"
   },
   {
    "duration": 182,
    "start_time": "2023-05-05T20:29:46.679Z"
   },
   {
    "duration": 126,
    "start_time": "2023-05-05T20:29:46.863Z"
   },
   {
    "duration": 92,
    "start_time": "2023-05-05T20:29:46.992Z"
   },
   {
    "duration": 112,
    "start_time": "2023-05-05T20:29:47.088Z"
   },
   {
    "duration": 10,
    "start_time": "2023-05-05T20:29:47.202Z"
   },
   {
    "duration": 818,
    "start_time": "2023-05-05T20:29:47.213Z"
   },
   {
    "duration": 6,
    "start_time": "2023-05-05T20:29:48.033Z"
   },
   {
    "duration": 27,
    "start_time": "2023-05-05T20:29:48.040Z"
   },
   {
    "duration": 21,
    "start_time": "2023-05-05T20:29:48.068Z"
   },
   {
    "duration": 6,
    "start_time": "2023-05-05T20:29:48.090Z"
   },
   {
    "duration": 177,
    "start_time": "2023-05-05T20:29:48.097Z"
   },
   {
    "duration": 304,
    "start_time": "2023-05-05T20:29:48.283Z"
   },
   {
    "duration": 1008,
    "start_time": "2023-05-05T20:29:48.589Z"
   },
   {
    "duration": 85,
    "start_time": "2023-05-05T20:29:49.599Z"
   },
   {
    "duration": 112,
    "start_time": "2023-05-05T20:29:49.687Z"
   },
   {
    "duration": 6,
    "start_time": "2023-05-05T20:29:49.801Z"
   },
   {
    "duration": 15,
    "start_time": "2023-05-05T20:29:49.809Z"
   },
   {
    "duration": 717,
    "start_time": "2023-06-04T17:30:20.717Z"
   }
  ],
  "kernelspec": {
   "display_name": "Python 3 (ipykernel)",
   "language": "python",
   "name": "python3"
  },
  "language_info": {
   "codemirror_mode": {
    "name": "ipython",
    "version": 3
   },
   "file_extension": ".py",
   "mimetype": "text/x-python",
   "name": "python",
   "nbconvert_exporter": "python",
   "pygments_lexer": "ipython3",
   "version": "3.10.9"
  },
  "toc": {
   "base_numbering": 1,
   "nav_menu": {},
   "number_sections": true,
   "sideBar": true,
   "skip_h1_title": true,
   "title_cell": "Table of Contents",
   "title_sidebar": "Contents",
   "toc_cell": false,
   "toc_position": {},
   "toc_section_display": true,
   "toc_window_display": false
  }
 },
 "nbformat": 4,
 "nbformat_minor": 2
}
